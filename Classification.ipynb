{
 "cells": [
  {
   "cell_type": "markdown",
   "id": "a55e0fae-2373-42d6-abde-6c0445790f9d",
   "metadata": {},
   "source": [
    "## Classification Problems"
   ]
  },
  {
   "cell_type": "code",
   "execution_count": 1,
   "id": "b9711765-ec3f-48bd-806f-64513db54a68",
   "metadata": {},
   "outputs": [],
   "source": [
    "import numpy as np\n",
    "import pandas as pd \n",
    "import statsmodels.api as sm\n",
    "import statsmodels.formula.api as smf\n",
    "import seaborn as sns\n",
    "from sklearn.preprocessing import scale \n",
    "from sklearn.model_selection import train_test_split, GridSearchCV, cross_val_score\n",
    "from sklearn.metrics import confusion_matrix, accuracy_score, classification_report\n",
    "from sklearn.metrics import roc_auc_score,roc_curve\n",
    "import statsmodels.formula.api as smf\n",
    "import matplotlib.pyplot as plt\n",
    "from sklearn.neighbors import KNeighborsClassifier\n",
    "from sklearn.discriminant_analysis import LinearDiscriminantAnalysis\n",
    "from sklearn.linear_model import LogisticRegression\n",
    "from sklearn.svm import SVC\n",
    "from sklearn.naive_bayes import GaussianNB\n",
    "from sklearn import tree\n",
    "from sklearn.ensemble import RandomForestClassifier\n",
    "from sklearn.ensemble import GradientBoostingClassifier\n",
    "from xgboost import XGBClassifier\n",
    "from lightgbm import LGBMClassifier\n",
    "from catboost import CatBoostClassifier\n",
    "\n",
    "from warnings import filterwarnings\n",
    "filterwarnings('ignore')"
   ]
  },
  {
   "cell_type": "markdown",
   "id": "0321ebba-9cf1-4d76-96d8-1ac78eb1c2e5",
   "metadata": {},
   "source": [
    "# Logistic Regression"
   ]
  },
  {
   "cell_type": "code",
   "execution_count": 3,
   "id": "814f6d8d-4e06-47f3-b52e-52668af85dbe",
   "metadata": {},
   "outputs": [
    {
     "data": {
      "text/html": [
       "<div>\n",
       "<style scoped>\n",
       "    .dataframe tbody tr th:only-of-type {\n",
       "        vertical-align: middle;\n",
       "    }\n",
       "\n",
       "    .dataframe tbody tr th {\n",
       "        vertical-align: top;\n",
       "    }\n",
       "\n",
       "    .dataframe thead th {\n",
       "        text-align: right;\n",
       "    }\n",
       "</style>\n",
       "<table border=\"1\" class=\"dataframe\">\n",
       "  <thead>\n",
       "    <tr style=\"text-align: right;\">\n",
       "      <th></th>\n",
       "      <th>Pregnancies</th>\n",
       "      <th>Glucose</th>\n",
       "      <th>BloodPressure</th>\n",
       "      <th>SkinThickness</th>\n",
       "      <th>Insulin</th>\n",
       "      <th>BMI</th>\n",
       "      <th>DiabetesPedigreeFunction</th>\n",
       "      <th>Age</th>\n",
       "      <th>Outcome</th>\n",
       "    </tr>\n",
       "  </thead>\n",
       "  <tbody>\n",
       "    <tr>\n",
       "      <th>0</th>\n",
       "      <td>6</td>\n",
       "      <td>148</td>\n",
       "      <td>72</td>\n",
       "      <td>35</td>\n",
       "      <td>0</td>\n",
       "      <td>33.6</td>\n",
       "      <td>0.627</td>\n",
       "      <td>50</td>\n",
       "      <td>1</td>\n",
       "    </tr>\n",
       "    <tr>\n",
       "      <th>1</th>\n",
       "      <td>1</td>\n",
       "      <td>85</td>\n",
       "      <td>66</td>\n",
       "      <td>29</td>\n",
       "      <td>0</td>\n",
       "      <td>26.6</td>\n",
       "      <td>0.351</td>\n",
       "      <td>31</td>\n",
       "      <td>0</td>\n",
       "    </tr>\n",
       "    <tr>\n",
       "      <th>2</th>\n",
       "      <td>8</td>\n",
       "      <td>183</td>\n",
       "      <td>64</td>\n",
       "      <td>0</td>\n",
       "      <td>0</td>\n",
       "      <td>23.3</td>\n",
       "      <td>0.672</td>\n",
       "      <td>32</td>\n",
       "      <td>1</td>\n",
       "    </tr>\n",
       "    <tr>\n",
       "      <th>3</th>\n",
       "      <td>1</td>\n",
       "      <td>89</td>\n",
       "      <td>66</td>\n",
       "      <td>23</td>\n",
       "      <td>94</td>\n",
       "      <td>28.1</td>\n",
       "      <td>0.167</td>\n",
       "      <td>21</td>\n",
       "      <td>0</td>\n",
       "    </tr>\n",
       "    <tr>\n",
       "      <th>4</th>\n",
       "      <td>0</td>\n",
       "      <td>137</td>\n",
       "      <td>40</td>\n",
       "      <td>35</td>\n",
       "      <td>168</td>\n",
       "      <td>43.1</td>\n",
       "      <td>2.288</td>\n",
       "      <td>33</td>\n",
       "      <td>1</td>\n",
       "    </tr>\n",
       "  </tbody>\n",
       "</table>\n",
       "</div>"
      ],
      "text/plain": [
       "   Pregnancies  Glucose  BloodPressure  SkinThickness  Insulin   BMI  \\\n",
       "0            6      148             72             35        0  33.6   \n",
       "1            1       85             66             29        0  26.6   \n",
       "2            8      183             64              0        0  23.3   \n",
       "3            1       89             66             23       94  28.1   \n",
       "4            0      137             40             35      168  43.1   \n",
       "\n",
       "   DiabetesPedigreeFunction  Age  Outcome  \n",
       "0                     0.627   50        1  \n",
       "1                     0.351   31        0  \n",
       "2                     0.672   32        1  \n",
       "3                     0.167   21        0  \n",
       "4                     2.288   33        1  "
      ]
     },
     "execution_count": 3,
     "metadata": {},
     "output_type": "execute_result"
    }
   ],
   "source": [
    "diabetes = pd.read_csv(\"diabetes.csv\")\n",
    "df = diabetes.copy()\n",
    "df = df.dropna()\n",
    "df.head()"
   ]
  },
  {
   "cell_type": "code",
   "execution_count": 4,
   "id": "435ecc10-7ba6-41ff-ae8d-24988bfdb5a3",
   "metadata": {},
   "outputs": [
    {
     "name": "stdout",
     "output_type": "stream",
     "text": [
      "<class 'pandas.core.frame.DataFrame'>\n",
      "Int64Index: 768 entries, 0 to 767\n",
      "Data columns (total 9 columns):\n",
      " #   Column                    Non-Null Count  Dtype  \n",
      "---  ------                    --------------  -----  \n",
      " 0   Pregnancies               768 non-null    int64  \n",
      " 1   Glucose                   768 non-null    int64  \n",
      " 2   BloodPressure             768 non-null    int64  \n",
      " 3   SkinThickness             768 non-null    int64  \n",
      " 4   Insulin                   768 non-null    int64  \n",
      " 5   BMI                       768 non-null    float64\n",
      " 6   DiabetesPedigreeFunction  768 non-null    float64\n",
      " 7   Age                       768 non-null    int64  \n",
      " 8   Outcome                   768 non-null    int64  \n",
      "dtypes: float64(2), int64(7)\n",
      "memory usage: 60.0 KB\n"
     ]
    }
   ],
   "source": [
    "df.info()"
   ]
  },
  {
   "cell_type": "code",
   "execution_count": 5,
   "id": "0caedb42-f3a2-43a6-a2aa-94226384494d",
   "metadata": {},
   "outputs": [
    {
     "data": {
      "text/plain": [
       "0    500\n",
       "1    268\n",
       "Name: Outcome, dtype: int64"
      ]
     },
     "execution_count": 5,
     "metadata": {},
     "output_type": "execute_result"
    }
   ],
   "source": [
    "df[\"Outcome\"].value_counts()"
   ]
  },
  {
   "cell_type": "code",
   "execution_count": 6,
   "id": "06eeda5f-67b0-46bb-ac75-4d505b6d0535",
   "metadata": {},
   "outputs": [
    {
     "data": {
      "image/png": "[encoded data removed]",
      "text/plain": [
       "<Figure size 432x288 with 1 Axes>"
      ]
     },
     "metadata": {
      "needs_background": "light"
     },
     "output_type": "display_data"
    }
   ],
   "source": [
    "df[\"Outcome\"].value_counts().plot.barh();"
   ]
  },
  {
   "cell_type": "code",
   "execution_count": 7,
   "id": "77a9bc7e-b048-407d-9d7d-c84f6968ddd9",
   "metadata": {},
   "outputs": [
    {
     "data": {
      "text/html": [
       "<div>\n",
       "<style scoped>\n",
       "    .dataframe tbody tr th:only-of-type {\n",
       "        vertical-align: middle;\n",
       "    }\n",
       "\n",
       "    .dataframe tbody tr th {\n",
       "        vertical-align: top;\n",
       "    }\n",
       "\n",
       "    .dataframe thead th {\n",
       "        text-align: right;\n",
       "    }\n",
       "</style>\n",
       "<table border=\"1\" class=\"dataframe\">\n",
       "  <thead>\n",
       "    <tr style=\"text-align: right;\">\n",
       "      <th></th>\n",
       "      <th>count</th>\n",
       "      <th>mean</th>\n",
       "      <th>std</th>\n",
       "      <th>min</th>\n",
       "      <th>25%</th>\n",
       "      <th>50%</th>\n",
       "      <th>75%</th>\n",
       "      <th>max</th>\n",
       "    </tr>\n",
       "  </thead>\n",
       "  <tbody>\n",
       "    <tr>\n",
       "      <th>Pregnancies</th>\n",
       "      <td>768.0</td>\n",
       "      <td>3.845052</td>\n",
       "      <td>3.369578</td>\n",
       "      <td>0.000</td>\n",
       "      <td>1.00000</td>\n",
       "      <td>3.0000</td>\n",
       "      <td>6.00000</td>\n",
       "      <td>17.00</td>\n",
       "    </tr>\n",
       "    <tr>\n",
       "      <th>Glucose</th>\n",
       "      <td>768.0</td>\n",
       "      <td>120.894531</td>\n",
       "      <td>31.972618</td>\n",
       "      <td>0.000</td>\n",
       "      <td>99.00000</td>\n",
       "      <td>117.0000</td>\n",
       "      <td>140.25000</td>\n",
       "      <td>199.00</td>\n",
       "    </tr>\n",
       "    <tr>\n",
       "      <th>BloodPressure</th>\n",
       "      <td>768.0</td>\n",
       "      <td>69.105469</td>\n",
       "      <td>19.355807</td>\n",
       "      <td>0.000</td>\n",
       "      <td>62.00000</td>\n",
       "      <td>72.0000</td>\n",
       "      <td>80.00000</td>\n",
       "      <td>122.00</td>\n",
       "    </tr>\n",
       "    <tr>\n",
       "      <th>SkinThickness</th>\n",
       "      <td>768.0</td>\n",
       "      <td>20.536458</td>\n",
       "      <td>15.952218</td>\n",
       "      <td>0.000</td>\n",
       "      <td>0.00000</td>\n",
       "      <td>23.0000</td>\n",
       "      <td>32.00000</td>\n",
       "      <td>99.00</td>\n",
       "    </tr>\n",
       "    <tr>\n",
       "      <th>Insulin</th>\n",
       "      <td>768.0</td>\n",
       "      <td>79.799479</td>\n",
       "      <td>115.244002</td>\n",
       "      <td>0.000</td>\n",
       "      <td>0.00000</td>\n",
       "      <td>30.5000</td>\n",
       "      <td>127.25000</td>\n",
       "      <td>846.00</td>\n",
       "    </tr>\n",
       "    <tr>\n",
       "      <th>BMI</th>\n",
       "      <td>768.0</td>\n",
       "      <td>31.992578</td>\n",
       "      <td>7.884160</td>\n",
       "      <td>0.000</td>\n",
       "      <td>27.30000</td>\n",
       "      <td>32.0000</td>\n",
       "      <td>36.60000</td>\n",
       "      <td>67.10</td>\n",
       "    </tr>\n",
       "    <tr>\n",
       "      <th>DiabetesPedigreeFunction</th>\n",
       "      <td>768.0</td>\n",
       "      <td>0.471876</td>\n",
       "      <td>0.331329</td>\n",
       "      <td>0.078</td>\n",
       "      <td>0.24375</td>\n",
       "      <td>0.3725</td>\n",
       "      <td>0.62625</td>\n",
       "      <td>2.42</td>\n",
       "    </tr>\n",
       "    <tr>\n",
       "      <th>Age</th>\n",
       "      <td>768.0</td>\n",
       "      <td>33.240885</td>\n",
       "      <td>11.760232</td>\n",
       "      <td>21.000</td>\n",
       "      <td>24.00000</td>\n",
       "      <td>29.0000</td>\n",
       "      <td>41.00000</td>\n",
       "      <td>81.00</td>\n",
       "    </tr>\n",
       "    <tr>\n",
       "      <th>Outcome</th>\n",
       "      <td>768.0</td>\n",
       "      <td>0.348958</td>\n",
       "      <td>0.476951</td>\n",
       "      <td>0.000</td>\n",
       "      <td>0.00000</td>\n",
       "      <td>0.0000</td>\n",
       "      <td>1.00000</td>\n",
       "      <td>1.00</td>\n",
       "    </tr>\n",
       "  </tbody>\n",
       "</table>\n",
       "</div>"
      ],
      "text/plain": [
       "                          count        mean         std     min       25%  \\\n",
       "Pregnancies               768.0    3.845052    3.369578   0.000   1.00000   \n",
       "Glucose                   768.0  120.894531   31.972618   0.000  99.00000   \n",
       "BloodPressure             768.0   69.105469   19.355807   0.000  62.00000   \n",
       "SkinThickness             768.0   20.536458   15.952218   0.000   0.00000   \n",
       "Insulin                   768.0   79.799479  115.244002   0.000   0.00000   \n",
       "BMI                       768.0   31.992578    7.884160   0.000  27.30000   \n",
       "DiabetesPedigreeFunction  768.0    0.471876    0.331329   0.078   0.24375   \n",
       "Age                       768.0   33.240885   11.760232  21.000  24.00000   \n",
       "Outcome                   768.0    0.348958    0.476951   0.000   0.00000   \n",
       "\n",
       "                               50%        75%     max  \n",
       "Pregnancies                 3.0000    6.00000   17.00  \n",
       "Glucose                   117.0000  140.25000  199.00  \n",
       "BloodPressure              72.0000   80.00000  122.00  \n",
       "SkinThickness              23.0000   32.00000   99.00  \n",
       "Insulin                    30.5000  127.25000  846.00  \n",
       "BMI                        32.0000   36.60000   67.10  \n",
       "DiabetesPedigreeFunction    0.3725    0.62625    2.42  \n",
       "Age                        29.0000   41.00000   81.00  \n",
       "Outcome                     0.0000    1.00000    1.00  "
      ]
     },
     "execution_count": 7,
     "metadata": {},
     "output_type": "execute_result"
    }
   ],
   "source": [
    "df.describe().T"
   ]
  },
  {
   "cell_type": "code",
   "execution_count": 8,
   "id": "71c25e69-3e07-460f-946c-0367dcba5da5",
   "metadata": {},
   "outputs": [],
   "source": [
    "y = df[\"Outcome\"]\n",
    "X = df.drop([\"Outcome\"], axis=1)"
   ]
  },
  {
   "cell_type": "code",
   "execution_count": null,
   "id": "ad850552-bdf6-40c5-8d40-528292fa6f1c",
   "metadata": {},
   "outputs": [],
   "source": [
    "#statsmodels"
   ]
  },
  {
   "cell_type": "code",
   "execution_count": 9,
   "id": "d28181c2-e797-4282-9b93-9944095cba0b",
   "metadata": {},
   "outputs": [
    {
     "name": "stdout",
     "output_type": "stream",
     "text": [
      "Optimization terminated successfully.\n",
      "         Current function value: 0.608498\n",
      "         Iterations 5\n"
     ]
    },
    {
     "data": {
      "text/html": [
       "<table class=\"simpletable\">\n",
       "<caption>Logit Regression Results</caption>\n",
       "<tr>\n",
       "  <th>Dep. Variable:</th>        <td>Outcome</td>     <th>  No. Observations:  </th>  <td>   768</td>  \n",
       "</tr>\n",
       "<tr>\n",
       "  <th>Model:</th>                 <td>Logit</td>      <th>  Df Residuals:      </th>  <td>   760</td>  \n",
       "</tr>\n",
       "<tr>\n",
       "  <th>Method:</th>                 <td>MLE</td>       <th>  Df Model:          </th>  <td>     7</td>  \n",
       "</tr>\n",
       "<tr>\n",
       "  <th>Date:</th>            <td>Wed, 11 Aug 2021</td> <th>  Pseudo R-squ.:     </th>  <td>0.05922</td> \n",
       "</tr>\n",
       "<tr>\n",
       "  <th>Time:</th>                <td>11:31:35</td>     <th>  Log-Likelihood:    </th> <td> -467.33</td> \n",
       "</tr>\n",
       "<tr>\n",
       "  <th>converged:</th>             <td>True</td>       <th>  LL-Null:           </th> <td> -496.74</td> \n",
       "</tr>\n",
       "<tr>\n",
       "  <th>Covariance Type:</th>     <td>nonrobust</td>    <th>  LLR p-value:       </th> <td>2.583e-10</td>\n",
       "</tr>\n",
       "</table>\n",
       "<table class=\"simpletable\">\n",
       "<tr>\n",
       "              <td></td>                <th>coef</th>     <th>std err</th>      <th>z</th>      <th>P>|z|</th>  <th>[0.025</th>    <th>0.975]</th>  \n",
       "</tr>\n",
       "<tr>\n",
       "  <th>Pregnancies</th>              <td>    0.1284</td> <td>    0.029</td> <td>    4.484</td> <td> 0.000</td> <td>    0.072</td> <td>    0.185</td>\n",
       "</tr>\n",
       "<tr>\n",
       "  <th>Glucose</th>                  <td>    0.0129</td> <td>    0.003</td> <td>    4.757</td> <td> 0.000</td> <td>    0.008</td> <td>    0.018</td>\n",
       "</tr>\n",
       "<tr>\n",
       "  <th>BloodPressure</th>            <td>   -0.0303</td> <td>    0.005</td> <td>   -6.481</td> <td> 0.000</td> <td>   -0.039</td> <td>   -0.021</td>\n",
       "</tr>\n",
       "<tr>\n",
       "  <th>SkinThickness</th>            <td>    0.0002</td> <td>    0.006</td> <td>    0.032</td> <td> 0.974</td> <td>   -0.012</td> <td>    0.012</td>\n",
       "</tr>\n",
       "<tr>\n",
       "  <th>Insulin</th>                  <td>    0.0007</td> <td>    0.001</td> <td>    0.942</td> <td> 0.346</td> <td>   -0.001</td> <td>    0.002</td>\n",
       "</tr>\n",
       "<tr>\n",
       "  <th>BMI</th>                      <td>   -0.0048</td> <td>    0.011</td> <td>   -0.449</td> <td> 0.653</td> <td>   -0.026</td> <td>    0.016</td>\n",
       "</tr>\n",
       "<tr>\n",
       "  <th>DiabetesPedigreeFunction</th> <td>    0.3203</td> <td>    0.240</td> <td>    1.335</td> <td> 0.182</td> <td>   -0.150</td> <td>    0.790</td>\n",
       "</tr>\n",
       "<tr>\n",
       "  <th>Age</th>                      <td>   -0.0156</td> <td>    0.008</td> <td>   -1.852</td> <td> 0.064</td> <td>   -0.032</td> <td>    0.001</td>\n",
       "</tr>\n",
       "</table>"
      ],
      "text/plain": [
       "<class 'statsmodels.iolib.summary.Summary'>\n",
       "\"\"\"\n",
       "                           Logit Regression Results                           \n",
       "==============================================================================\n",
       "Dep. Variable:                Outcome   No. Observations:                  768\n",
       "Model:                          Logit   Df Residuals:                      760\n",
       "Method:                           MLE   Df Model:                            7\n",
       "Date:                Wed, 11 Aug 2021   Pseudo R-squ.:                 0.05922\n",
       "Time:                        11:31:35   Log-Likelihood:                -467.33\n",
       "converged:                       True   LL-Null:                       -496.74\n",
       "Covariance Type:            nonrobust   LLR p-value:                 2.583e-10\n",
       "============================================================================================\n",
       "                               coef    std err          z      P>|z|      [0.025      0.975]\n",
       "--------------------------------------------------------------------------------------------\n",
       "Pregnancies                  0.1284      0.029      4.484      0.000       0.072       0.185\n",
       "Glucose                      0.0129      0.003      4.757      0.000       0.008       0.018\n",
       "BloodPressure               -0.0303      0.005     -6.481      0.000      -0.039      -0.021\n",
       "SkinThickness                0.0002      0.006      0.032      0.974      -0.012       0.012\n",
       "Insulin                      0.0007      0.001      0.942      0.346      -0.001       0.002\n",
       "BMI                         -0.0048      0.011     -0.449      0.653      -0.026       0.016\n",
       "DiabetesPedigreeFunction     0.3203      0.240      1.335      0.182      -0.150       0.790\n",
       "Age                         -0.0156      0.008     -1.852      0.064      -0.032       0.001\n",
       "============================================================================================\n",
       "\"\"\""
      ]
     },
     "execution_count": 9,
     "metadata": {},
     "output_type": "execute_result"
    }
   ],
   "source": [
    "loj = sm.Logit(y, X)\n",
    "loj_model= loj.fit()\n",
    "loj_model.summary()"
   ]
  },
  {
   "cell_type": "code",
   "execution_count": null,
   "id": "2c968e64-24dc-4b70-86ce-b6ce40314052",
   "metadata": {},
   "outputs": [],
   "source": [
    "#scikit-learn"
   ]
  },
  {
   "cell_type": "code",
   "execution_count": 10,
   "id": "258bb9a6-9d17-4da0-8154-4f37e492e974",
   "metadata": {},
   "outputs": [
    {
     "data": {
      "text/plain": [
       "LogisticRegression(solver='liblinear')"
      ]
     },
     "execution_count": 10,
     "metadata": {},
     "output_type": "execute_result"
    }
   ],
   "source": [
    "from sklearn.linear_model import LogisticRegression\n",
    "loj = LogisticRegression(solver = \"liblinear\")\n",
    "loj_model = loj.fit(X,y)\n",
    "loj_model"
   ]
  },
  {
   "cell_type": "code",
   "execution_count": 11,
   "id": "5dcee77f-47e7-4874-9111-f495050df80a",
   "metadata": {},
   "outputs": [
    {
     "data": {
      "text/plain": [
       "array([-5.88679617])"
      ]
     },
     "execution_count": 11,
     "metadata": {},
     "output_type": "execute_result"
    }
   ],
   "source": [
    "loj_model.intercept_"
   ]
  },
  {
   "cell_type": "code",
   "execution_count": 12,
   "id": "a8dee96b-1625-4c25-815c-36d8c184bd6c",
   "metadata": {},
   "outputs": [
    {
     "data": {
      "text/plain": [
       "array([[ 1.16994476e-01,  2.83733435e-02, -1.68981359e-02,\n",
       "         7.55145090e-04, -6.41407258e-04,  5.97201268e-02,\n",
       "         6.76128123e-01,  7.23498971e-03]])"
      ]
     },
     "execution_count": 12,
     "metadata": {},
     "output_type": "execute_result"
    }
   ],
   "source": [
    "loj_model.coef_"
   ]
  },
  {
   "cell_type": "markdown",
   "id": "33ed3e1c-26af-410e-b169-b456937f5d46",
   "metadata": {},
   "source": [
    "## Predict & Model Tuning"
   ]
  },
  {
   "cell_type": "code",
   "execution_count": 13,
   "id": "ead2d67e-7308-4a07-908b-676ee458d441",
   "metadata": {},
   "outputs": [],
   "source": [
    "y_pred = loj_model.predict(X)"
   ]
  },
  {
   "cell_type": "code",
   "execution_count": 14,
   "id": "9d5e7347-1130-4ec1-bcc3-ce4d1fce7cf0",
   "metadata": {},
   "outputs": [
    {
     "data": {
      "text/plain": [
       "array([[448,  52],\n",
       "       [121, 147]], dtype=int64)"
      ]
     },
     "execution_count": 14,
     "metadata": {},
     "output_type": "execute_result"
    }
   ],
   "source": [
    "confusion_matrix(y, y_pred)"
   ]
  },
  {
   "cell_type": "code",
   "execution_count": 15,
   "id": "18c9eb64-848f-4951-a7f0-cf26565246af",
   "metadata": {},
   "outputs": [
    {
     "data": {
      "text/plain": [
       "0.7747395833333334"
      ]
     },
     "execution_count": 15,
     "metadata": {},
     "output_type": "execute_result"
    }
   ],
   "source": [
    "accuracy_score(y, y_pred)"
   ]
  },
  {
   "cell_type": "code",
   "execution_count": 16,
   "id": "d020f038-8067-4700-aca5-664363df61bd",
   "metadata": {},
   "outputs": [
    {
     "name": "stdout",
     "output_type": "stream",
     "text": [
      "              precision    recall  f1-score   support\n",
      "\n",
      "           0       0.79      0.90      0.84       500\n",
      "           1       0.74      0.55      0.63       268\n",
      "\n",
      "    accuracy                           0.77       768\n",
      "   macro avg       0.76      0.72      0.73       768\n",
      "weighted avg       0.77      0.77      0.77       768\n",
      "\n"
     ]
    }
   ],
   "source": [
    "print(classification_report(y, y_pred))"
   ]
  },
  {
   "cell_type": "code",
   "execution_count": 17,
   "id": "f6b4cb0f-f447-4ad0-871c-711fba2a5c45",
   "metadata": {},
   "outputs": [
    {
     "data": {
      "text/plain": [
       "array([1, 0, 1, 0, 1, 0, 0, 1, 1, 0], dtype=int64)"
      ]
     },
     "execution_count": 17,
     "metadata": {},
     "output_type": "execute_result"
    }
   ],
   "source": [
    "loj_model.predict(X)[0:10]"
   ]
  },
  {
   "cell_type": "code",
   "execution_count": 18,
   "id": "11d0ed34-ebbc-47eb-ae95-6d9fa7c5d194",
   "metadata": {},
   "outputs": [
    {
     "data": {
      "text/plain": [
       "array([[0.3505852 , 0.6494148 ],\n",
       "       [0.91692518, 0.08307482],\n",
       "       [0.22489628, 0.77510372],\n",
       "       [0.92127453, 0.07872547],\n",
       "       [0.16759435, 0.83240565],\n",
       "       [0.79886109, 0.20113891],\n",
       "       [0.8800353 , 0.1199647 ],\n",
       "       [0.27795677, 0.72204323],\n",
       "       [0.32053464, 0.67946536],\n",
       "       [0.92264521, 0.07735479]])"
      ]
     },
     "execution_count": 18,
     "metadata": {},
     "output_type": "execute_result"
    }
   ],
   "source": [
    "loj_model.predict_proba(X)[0:10][:,0:2]"
   ]
  },
  {
   "cell_type": "code",
   "execution_count": 19,
   "id": "4b053e48-5858-4fb0-90f1-a518f2a1201b",
   "metadata": {},
   "outputs": [
    {
     "data": {
      "text/plain": [
       "0    1\n",
       "1    0\n",
       "2    1\n",
       "3    0\n",
       "4    1\n",
       "5    0\n",
       "6    1\n",
       "7    0\n",
       "8    1\n",
       "9    1\n",
       "Name: Outcome, dtype: int64"
      ]
     },
     "execution_count": 19,
     "metadata": {},
     "output_type": "execute_result"
    }
   ],
   "source": [
    "y[0:10]"
   ]
  },
  {
   "cell_type": "code",
   "execution_count": 20,
   "id": "3d713a47-5cfd-4502-8025-d52e3a6a0350",
   "metadata": {},
   "outputs": [],
   "source": [
    "y_probs = loj_model.predict_proba(X)\n",
    "y_probs = y_probs[:,1]"
   ]
  },
  {
   "cell_type": "code",
   "execution_count": 21,
   "id": "0a4ed563-80e2-4959-9988-ab339adbfcec",
   "metadata": {},
   "outputs": [
    {
     "data": {
      "text/plain": [
       "array([0.6494148 , 0.08307482, 0.77510372, 0.07872547, 0.83240565,\n",
       "       0.20113891, 0.1199647 , 0.72204323, 0.67946536, 0.07735479])"
      ]
     },
     "execution_count": 21,
     "metadata": {},
     "output_type": "execute_result"
    }
   ],
   "source": [
    "y_probs[0:10]"
   ]
  },
  {
   "cell_type": "code",
   "execution_count": 22,
   "id": "acedd7c3-6131-40e8-b9f7-c9ffb33f115f",
   "metadata": {},
   "outputs": [],
   "source": [
    "y_pred = [1 if i > 0.5 else 0 for i in y_probs]"
   ]
  },
  {
   "cell_type": "code",
   "execution_count": 23,
   "id": "759f280f-67ce-48c8-92ef-d6b55e53be11",
   "metadata": {},
   "outputs": [
    {
     "data": {
      "text/plain": [
       "[1, 0, 1, 0, 1, 0, 0, 1, 1, 0]"
      ]
     },
     "execution_count": 23,
     "metadata": {},
     "output_type": "execute_result"
    }
   ],
   "source": [
    "y_pred[0:10]"
   ]
  },
  {
   "cell_type": "code",
   "execution_count": 24,
   "id": "853ca901-d5a9-4881-a38b-80f4a002c0ac",
   "metadata": {},
   "outputs": [
    {
     "data": {
      "text/plain": [
       "array([[448,  52],\n",
       "       [121, 147]], dtype=int64)"
      ]
     },
     "execution_count": 24,
     "metadata": {},
     "output_type": "execute_result"
    }
   ],
   "source": [
    "confusion_matrix(y, y_pred)"
   ]
  },
  {
   "cell_type": "code",
   "execution_count": 25,
   "id": "df624a64-6da6-460c-910e-4fb8adb24681",
   "metadata": {},
   "outputs": [
    {
     "data": {
      "text/plain": [
       "0.7747395833333334"
      ]
     },
     "execution_count": 25,
     "metadata": {},
     "output_type": "execute_result"
    }
   ],
   "source": [
    "accuracy_score(y, y_pred)"
   ]
  },
  {
   "cell_type": "code",
   "execution_count": 26,
   "id": "594c8e5a-8e56-440a-9247-a1ca5e813232",
   "metadata": {},
   "outputs": [
    {
     "name": "stdout",
     "output_type": "stream",
     "text": [
      "              precision    recall  f1-score   support\n",
      "\n",
      "           0       0.79      0.90      0.84       500\n",
      "           1       0.74      0.55      0.63       268\n",
      "\n",
      "    accuracy                           0.77       768\n",
      "   macro avg       0.76      0.72      0.73       768\n",
      "weighted avg       0.77      0.77      0.77       768\n",
      "\n"
     ]
    }
   ],
   "source": [
    "print(classification_report(y, y_pred))"
   ]
  },
  {
   "cell_type": "code",
   "execution_count": 27,
   "id": "ccd16bb5-90ee-47a5-b637-360420d7b83f",
   "metadata": {},
   "outputs": [
    {
     "data": {
      "text/plain": [
       "array([0.6494148 , 0.08307482, 0.77510372, 0.07872547, 0.83240565])"
      ]
     },
     "execution_count": 27,
     "metadata": {},
     "output_type": "execute_result"
    }
   ],
   "source": [
    "loj_model.predict_proba(X)[:,1][0:5]b "
   ]
  },
  {
   "cell_type": "code",
   "execution_count": 33,
   "id": "120a40af-e26c-410a-a9bd-778a61018a03",
   "metadata": {},
   "outputs": [
    {
     "data": {
      "image/png": "[encoded data removed]",
      "text/plain": [
       "<Figure size 432x288 with 1 Axes>"
      ]
     },
     "metadata": {
      "needs_background": "light"
     },
     "output_type": "display_data"
    }
   ],
   "source": [
    "logit_roc_auc = roc_auc_score(y, loj_model.predict(X))\n",
    "\n",
    "fpr, tpr, thresholds = roc_curve(y, loj_model.predict_proba(X)[:,1])\n",
    "plt.figure()\n",
    "plt.plot(fpr, tpr, label='AUC (area = %0.2f)' % logit_roc_auc)\n",
    "plt.plot([0, 1], [0, 1],'r--')\n",
    "plt.xlim([0.0, 1.0])\n",
    "plt.ylim([0.0, 1.05])\n",
    "plt.xlabel('False Positive Oranı')\n",
    "plt.ylabel('True Positive Oranı')\n",
    "plt.title('ROC')\n",
    "plt.show()"
   ]
  },
  {
   "cell_type": "code",
   "execution_count": 43,
   "id": "083e4cd5-b4b0-4b9b-b3d7-debea985d59f",
   "metadata": {},
   "outputs": [],
   "source": [
    "X_train, X_test, y_train, y_test = train_test_split(X, y, \n",
    "                                                    test_size = 0.25, \n",
    "                                                    random_state = 42)\n"
   ]
  },
  {
   "cell_type": "code",
   "execution_count": 44,
   "id": "480162f6-12bd-4747-8d1d-2062b814e403",
   "metadata": {},
   "outputs": [
    {
     "data": {
      "text/plain": [
       "LogisticRegression(solver='liblinear')"
      ]
     },
     "execution_count": 44,
     "metadata": {},
     "output_type": "execute_result"
    }
   ],
   "source": [
    "loj = LogisticRegression(solver = \"liblinear\")\n",
    "loj_model = loj.fit(X_train,y_train)\n",
    "loj_model"
   ]
  },
  {
   "cell_type": "code",
   "execution_count": 45,
   "id": "1f70b7b0-e17a-494c-88b1-b5cc6f152e82",
   "metadata": {},
   "outputs": [
    {
     "data": {
      "text/plain": [
       "0.7447916666666666"
      ]
     },
     "execution_count": 45,
     "metadata": {},
     "output_type": "execute_result"
    }
   ],
   "source": [
    "accuracy_score(y_test, loj_model.predict(X_test))"
   ]
  },
  {
   "cell_type": "code",
   "execution_count": 46,
   "id": "3f100ecd-fde7-49e9-8715-ea6de9074de0",
   "metadata": {},
   "outputs": [
    {
     "data": {
      "text/plain": [
       "0.7397368421052632"
      ]
     },
     "execution_count": 46,
     "metadata": {},
     "output_type": "execute_result"
    }
   ],
   "source": [
    "cross_val_score(loj_model, X_test, y_test, cv = 10).mean()"
   ]
  },
  {
   "cell_type": "markdown",
   "id": "46e13b4f-f8cb-46c7-a16a-5e0d622c6ca7",
   "metadata": {},
   "source": [
    "# Gaussian Naive Bayes"
   ]
  },
  {
   "cell_type": "code",
   "execution_count": 47,
   "id": "e4f43522-afa8-4008-a4e8-84bd9012f86c",
   "metadata": {},
   "outputs": [],
   "source": [
    "df = diabetes.copy()\n",
    "df = df.dropna()\n",
    "y = df[\"Outcome\"]\n",
    "X = df.drop(['Outcome'], axis=1)\n",
    "X_train, X_test, y_train, y_test = train_test_split(X, y, \n",
    "                                                    test_size=0.30, \n",
    "                                                    random_state=42)\n",
    "\n"
   ]
  },
  {
   "cell_type": "code",
   "execution_count": 48,
   "id": "f4fd2ef6-8014-4427-984f-d9b3e777559e",
   "metadata": {},
   "outputs": [],
   "source": [
    "from sklearn.naive_bayes import GaussianNB"
   ]
  },
  {
   "cell_type": "code",
   "execution_count": 49,
   "id": "9c2a1306-4286-483d-953d-85199435ef5e",
   "metadata": {},
   "outputs": [
    {
     "data": {
      "text/plain": [
       "GaussianNB()"
      ]
     },
     "execution_count": 49,
     "metadata": {},
     "output_type": "execute_result"
    }
   ],
   "source": [
    "nb = GaussianNB()\n",
    "nb_model = nb.fit(X_train, y_train)\n",
    "nb_model"
   ]
  },
  {
   "cell_type": "code",
   "execution_count": 50,
   "id": "9dbe0b84-b76d-4e91-9650-d86f92b25e9e",
   "metadata": {},
   "outputs": [
    {
     "data": {
      "text/plain": [
       "array([0, 0, 0, 0, 1, 1, 0, 0, 0, 1], dtype=int64)"
      ]
     },
     "execution_count": 50,
     "metadata": {},
     "output_type": "execute_result"
    }
   ],
   "source": [
    "nb_model.predict(X_test)[0:10]"
   ]
  },
  {
   "cell_type": "code",
   "execution_count": 51,
   "id": "9fab8968-15a5-4c26-a317-4c91d9434ac7",
   "metadata": {},
   "outputs": [
    {
     "data": {
      "text/plain": [
       "array([[0.73815858, 0.26184142],\n",
       "       [0.94027894, 0.05972106],\n",
       "       [0.97242831, 0.02757169],\n",
       "       [0.82840069, 0.17159931],\n",
       "       [0.47153473, 0.52846527],\n",
       "       [0.47274458, 0.52725542],\n",
       "       [0.99607705, 0.00392295],\n",
       "       [0.69925055, 0.30074945],\n",
       "       [0.53838117, 0.46161883],\n",
       "       [0.25004536, 0.74995464]])"
      ]
     },
     "execution_count": 51,
     "metadata": {},
     "output_type": "execute_result"
    }
   ],
   "source": [
    "nb_model.predict_proba(X_test)[0:10]"
   ]
  },
  {
   "cell_type": "code",
   "execution_count": 52,
   "id": "5675bdd2-7ed3-45a8-a1d8-9fbf30eac49c",
   "metadata": {},
   "outputs": [],
   "source": [
    "y_pred = nb_model.predict(X_test)"
   ]
  },
  {
   "cell_type": "code",
   "execution_count": 53,
   "id": "058fedd1-f5f0-45d0-9d7a-e9358ac32988",
   "metadata": {},
   "outputs": [
    {
     "data": {
      "text/plain": [
       "0.7445887445887446"
      ]
     },
     "execution_count": 53,
     "metadata": {},
     "output_type": "execute_result"
    }
   ],
   "source": [
    "accuracy_score(y_test, y_pred)"
   ]
  },
  {
   "cell_type": "code",
   "execution_count": 54,
   "id": "1a30dde1-8508-4feb-9774-69531347d33b",
   "metadata": {},
   "outputs": [
    {
     "data": {
      "text/plain": [
       "0.775"
      ]
     },
     "execution_count": 54,
     "metadata": {},
     "output_type": "execute_result"
    }
   ],
   "source": [
    "cross_val_score(nb_model, X_test, y_test, cv = 10).mean()"
   ]
  },
  {
   "cell_type": "markdown",
   "id": "c42b5034-960a-4683-ab3d-bf9f95bf8375",
   "metadata": {},
   "source": [
    "# KNN"
   ]
  },
  {
   "cell_type": "markdown",
   "id": "0f91f085-78e9-4150-b5c9-6a6258b1ba05",
   "metadata": {},
   "source": [
    "## Model & Tahmin"
   ]
  },
  {
   "cell_type": "code",
   "execution_count": 56,
   "id": "72299ff0-41c7-4994-9838-d7627ab9f4c4",
   "metadata": {},
   "outputs": [],
   "source": [
    "df = diabetes.copy()\n",
    "df = df.dropna()\n",
    "y = df[\"Outcome\"]\n",
    "X = df.drop(['Outcome'], axis=1)\n",
    "X_train, X_test, y_train, y_test = train_test_split(X, y, \n",
    "                                                    test_size=0.30, \n",
    "                                                    random_state=42)"
   ]
  },
  {
   "cell_type": "code",
   "execution_count": 57,
   "id": "9cea8280-be9c-409e-95d3-0fc40268080e",
   "metadata": {},
   "outputs": [
    {
     "data": {
      "text/plain": [
       "KNeighborsClassifier()"
      ]
     },
     "execution_count": 57,
     "metadata": {},
     "output_type": "execute_result"
    }
   ],
   "source": [
    "knn = KNeighborsClassifier()\n",
    "knn_model = knn.fit(X_train, y_train)\n",
    "knn_model"
   ]
  },
  {
   "cell_type": "code",
   "execution_count": 58,
   "id": "d7cecf58-4af3-46dd-8e7d-093d4e3fd9ca",
   "metadata": {},
   "outputs": [],
   "source": [
    "y_pred = knn_model.predict(X_test)"
   ]
  },
  {
   "cell_type": "code",
   "execution_count": 59,
   "id": "737941f1-4ab2-4369-b0a9-9725d65dec5a",
   "metadata": {},
   "outputs": [
    {
     "data": {
      "text/plain": [
       "0.6883116883116883"
      ]
     },
     "execution_count": 59,
     "metadata": {},
     "output_type": "execute_result"
    }
   ],
   "source": [
    "accuracy_score(y_test, y_pred)"
   ]
  },
  {
   "cell_type": "code",
   "execution_count": 60,
   "id": "3a9647ac-e63e-413f-ab33-3ebbbbfe7ae6",
   "metadata": {},
   "outputs": [
    {
     "name": "stdout",
     "output_type": "stream",
     "text": [
      "              precision    recall  f1-score   support\n",
      "\n",
      "           0       0.77      0.75      0.76       151\n",
      "           1       0.55      0.56      0.56        80\n",
      "\n",
      "    accuracy                           0.69       231\n",
      "   macro avg       0.66      0.66      0.66       231\n",
      "weighted avg       0.69      0.69      0.69       231\n",
      "\n"
     ]
    }
   ],
   "source": [
    "print(classification_report(y_test, y_pred))"
   ]
  },
  {
   "cell_type": "markdown",
   "id": "848c27a5-bcc9-4157-9d55-12d0b7837490",
   "metadata": {},
   "source": [
    "## Model Tuning"
   ]
  },
  {
   "cell_type": "code",
   "execution_count": 61,
   "id": "e70d7326-20ad-4003-97ee-a78a10813fc1",
   "metadata": {},
   "outputs": [],
   "source": [
    "knn_params = {\"n_neighbors\": np.arange(1,50)}"
   ]
  },
  {
   "cell_type": "code",
   "execution_count": 62,
   "id": "0ecc63f3-879c-49e0-aa0a-f91d92d2749d",
   "metadata": {},
   "outputs": [
    {
     "data": {
      "text/plain": [
       "GridSearchCV(cv=10, estimator=KNeighborsClassifier(),\n",
       "             param_grid={'n_neighbors': array([ 1,  2,  3,  4,  5,  6,  7,  8,  9, 10, 11, 12, 13, 14, 15, 16, 17,\n",
       "       18, 19, 20, 21, 22, 23, 24, 25, 26, 27, 28, 29, 30, 31, 32, 33, 34,\n",
       "       35, 36, 37, 38, 39, 40, 41, 42, 43, 44, 45, 46, 47, 48, 49])})"
      ]
     },
     "execution_count": 62,
     "metadata": {},
     "output_type": "execute_result"
    }
   ],
   "source": [
    "knn = KNeighborsClassifier()\n",
    "knn_cv = GridSearchCV(knn, knn_params, cv=10)\n",
    "knn_cv.fit(X_train, y_train)"
   ]
  },
  {
   "cell_type": "code",
   "execution_count": 63,
   "id": "7d5a0f8d-5918-4213-a3a1-9944155b29bd",
   "metadata": {},
   "outputs": [
    {
     "name": "stdout",
     "output_type": "stream",
     "text": [
      "En iyi skor:0.748637316561845\n",
      "En iyi parametreler: {'n_neighbors': 11}\n"
     ]
    }
   ],
   "source": [
    "print(\"En iyi skor:\" + str(knn_cv.best_score_))\n",
    "print(\"En iyi parametreler: \" + str(knn_cv.best_params_))"
   ]
  },
  {
   "cell_type": "code",
   "execution_count": 64,
   "id": "64ef2a5f-e75f-4f90-9df3-2e5c28058e21",
   "metadata": {},
   "outputs": [],
   "source": [
    "knn = KNeighborsClassifier(11)\n",
    "knn_tuned = knn.fit(X_train, y_train)"
   ]
  },
  {
   "cell_type": "code",
   "execution_count": 65,
   "id": "22c4a968-0c35-4ddc-b8fc-a9301de6db75",
   "metadata": {},
   "outputs": [
    {
     "data": {
      "text/plain": [
       "0.7316017316017316"
      ]
     },
     "execution_count": 65,
     "metadata": {},
     "output_type": "execute_result"
    }
   ],
   "source": [
    "knn_tuned.score(X_test, y_test)"
   ]
  },
  {
   "cell_type": "code",
   "execution_count": 66,
   "id": "1c263550-2624-4074-bf94-4a05f350ce43",
   "metadata": {},
   "outputs": [],
   "source": [
    "y_pred = knn_tuned.predict(X_test)"
   ]
  },
  {
   "cell_type": "code",
   "execution_count": 67,
   "id": "c6bdab7d-06c6-48ba-89df-00e52faa88b9",
   "metadata": {},
   "outputs": [
    {
     "data": {
      "text/plain": [
       "0.7316017316017316"
      ]
     },
     "execution_count": 67,
     "metadata": {},
     "output_type": "execute_result"
    }
   ],
   "source": [
    "accuracy_score(y_test, y_pred)"
   ]
  },
  {
   "cell_type": "markdown",
   "id": "c50be34e-6376-450c-99af-12a7bde7efbf",
   "metadata": {},
   "source": [
    "# SVC"
   ]
  },
  {
   "cell_type": "markdown",
   "id": "3232b79f-e916-427c-a002-dd9d06969444",
   "metadata": {},
   "source": [
    "## Model & Predict"
   ]
  },
  {
   "cell_type": "code",
   "execution_count": 68,
   "id": "74f78604-aca6-4c9a-9616-a54967b5b22b",
   "metadata": {},
   "outputs": [],
   "source": [
    "df = diabetes.copy()\n",
    "df = df.dropna()\n",
    "y = df[\"Outcome\"]\n",
    "X = df.drop(['Outcome'], axis=1)\n",
    "X_train, X_test, y_train, y_test = train_test_split(X, y, \n",
    "                                                    test_size=0.30, \n",
    "                                                    random_state=42)"
   ]
  },
  {
   "cell_type": "code",
   "execution_count": 69,
   "id": "1d888d55-7b64-4b66-a8d1-bc57ce938086",
   "metadata": {},
   "outputs": [],
   "source": [
    "svm_model = SVC(kernel = \"linear\").fit(X_train, y_train)"
   ]
  },
  {
   "cell_type": "code",
   "execution_count": 70,
   "id": "62b8d2be-b53f-4fd9-be65-0e22992cd6fe",
   "metadata": {},
   "outputs": [
    {
     "data": {
      "text/plain": [
       "SVC(kernel='linear')"
      ]
     },
     "execution_count": 70,
     "metadata": {},
     "output_type": "execute_result"
    }
   ],
   "source": [
    "svm_model"
   ]
  },
  {
   "cell_type": "code",
   "execution_count": 73,
   "id": "e1b05a3b-1de8-4e0c-8481-82bd67ff126c",
   "metadata": {},
   "outputs": [],
   "source": [
    "y_pred = svm_model.predict(X_test)"
   ]
  },
  {
   "cell_type": "code",
   "execution_count": 74,
   "id": "75088101-848e-43fa-a8ba-5b87f1102c2b",
   "metadata": {},
   "outputs": [
    {
     "data": {
      "text/plain": [
       "0.7445887445887446"
      ]
     },
     "execution_count": 74,
     "metadata": {},
     "output_type": "execute_result"
    }
   ],
   "source": [
    "accuracy_score(y_test, y_pred)"
   ]
  },
  {
   "cell_type": "markdown",
   "id": "80aabf8c-3c53-4f3d-bc9c-d094d1a42b9d",
   "metadata": {},
   "source": [
    "## Model Tuning"
   ]
  },
  {
   "cell_type": "code",
   "execution_count": 76,
   "id": "91bc4500-5161-40b0-ab72-c207b7417442",
   "metadata": {},
   "outputs": [
    {
     "name": "stdout",
     "output_type": "stream",
     "text": [
      "Fitting 10 folds for each of 9 candidates, totalling 90 fits\n"
     ]
    },
    {
     "data": {
      "text/plain": [
       "GridSearchCV(cv=10, estimator=SVC(kernel='linear'), n_jobs=-1,\n",
       "             param_grid={'C': array([1, 2, 3, 4, 5, 6, 7, 8, 9])}, verbose=2)"
      ]
     },
     "execution_count": 76,
     "metadata": {},
     "output_type": "execute_result"
    }
   ],
   "source": [
    "svc_params = {\"C\": np.arange(1,10)}\n",
    "\n",
    "svc = SVC(kernel = \"linear\")\n",
    "\n",
    "svc_cv_model = GridSearchCV(svc,svc_params, \n",
    "                            cv = 10, \n",
    "                            n_jobs = -1, \n",
    "                            verbose = 2 )\n",
    "\n",
    "svc_cv_model.fit(X_train, y_train)"
   ]
  },
  {
   "cell_type": "code",
   "execution_count": 77,
   "id": "92fed9fa-a340-4650-b82c-103b7aa6a19f",
   "metadata": {},
   "outputs": [
    {
     "name": "stdout",
     "output_type": "stream",
     "text": [
      "En iyi parametreler: {'C': 5}\n"
     ]
    }
   ],
   "source": [
    "print(\"En iyi parametreler: \" + str(svc_cv_model.best_params_))"
   ]
  },
  {
   "cell_type": "code",
   "execution_count": 78,
   "id": "ad4f964f-d910-4926-a3c8-db06238ac0f3",
   "metadata": {},
   "outputs": [],
   "source": [
    "svc_tuned = SVC(kernel = \"linear\", C = 5).fit(X_train, y_train)"
   ]
  },
  {
   "cell_type": "code",
   "execution_count": 79,
   "id": "e8b09607-9656-4d4e-b9d7-87c62c6bcf1d",
   "metadata": {},
   "outputs": [
    {
     "data": {
      "text/plain": [
       "0.7445887445887446"
      ]
     },
     "execution_count": 79,
     "metadata": {},
     "output_type": "execute_result"
    }
   ],
   "source": [
    "y_pred = svc_tuned.predict(X_test)\n",
    "accuracy_score(y_test, y_pred)"
   ]
  },
  {
   "cell_type": "markdown",
   "id": "fbec9c05-f80c-439f-8d0e-84e9eb5e733b",
   "metadata": {},
   "source": [
    "# RBF SVC"
   ]
  },
  {
   "cell_type": "markdown",
   "id": "464c637d-f1d2-4c4e-b6ae-eddf09cd6527",
   "metadata": {},
   "source": [
    "## Model & Tahmin"
   ]
  },
  {
   "cell_type": "code",
   "execution_count": 80,
   "id": "a10c1593-851c-4d7f-9d03-195ce3eae4c3",
   "metadata": {},
   "outputs": [],
   "source": [
    "df = diabetes.copy()\n",
    "df = df.dropna()\n",
    "y = df[\"Outcome\"]\n",
    "X = df.drop(['Outcome'], axis=1)\n",
    "X_train, X_test, y_train, y_test = train_test_split(X, y, \n",
    "                                                    test_size=0.30, \n",
    "                                                    random_state=42)"
   ]
  },
  {
   "cell_type": "code",
   "execution_count": 81,
   "id": "ae92f7de-d125-4223-93c1-de1baec346b9",
   "metadata": {},
   "outputs": [],
   "source": [
    "svc_model = SVC(kernel = \"rbf\").fit(X_train, y_train)"
   ]
  },
  {
   "cell_type": "code",
   "execution_count": 82,
   "id": "aff65f03-90a9-4f17-a4c2-59310088496a",
   "metadata": {},
   "outputs": [
    {
     "data": {
      "text/plain": [
       "SVC()"
      ]
     },
     "execution_count": 82,
     "metadata": {},
     "output_type": "execute_result"
    }
   ],
   "source": [
    "svc_model"
   ]
  },
  {
   "cell_type": "code",
   "execution_count": 83,
   "id": "0f35e678-54ac-433a-87d4-9a36d860de96",
   "metadata": {},
   "outputs": [
    {
     "data": {
      "text/plain": [
       "0.7359307359307359"
      ]
     },
     "execution_count": 83,
     "metadata": {},
     "output_type": "execute_result"
    }
   ],
   "source": [
    "y_pred = svc_model.predict(X_test)\n",
    "accuracy_score(y_test, y_pred)"
   ]
  },
  {
   "cell_type": "markdown",
   "id": "cef650aa-cf10-40d3-bd32-e985e42141f6",
   "metadata": {},
   "source": [
    "## Model Tuning"
   ]
  },
  {
   "cell_type": "code",
   "execution_count": 84,
   "id": "3e0074d9-ca1c-423d-b47a-71db7c9de6c7",
   "metadata": {},
   "outputs": [],
   "source": [
    "svc_params = {\"C\": [0.0001, 0.001, 0.1, 1, 5, 10 ,50 ,100],\n",
    "             \"gamma\": [0.0001, 0.001, 0.1, 1, 5, 10 ,50 ,100]}"
   ]
  },
  {
   "cell_type": "code",
   "execution_count": 85,
   "id": "dec4ef01-25ca-4a91-9cf3-6a8d0d0135ef",
   "metadata": {},
   "outputs": [
    {
     "name": "stdout",
     "output_type": "stream",
     "text": [
      "Fitting 10 folds for each of 64 candidates, totalling 640 fits\n"
     ]
    },
    {
     "data": {
      "text/plain": [
       "GridSearchCV(cv=10, estimator=SVC(), n_jobs=-1,\n",
       "             param_grid={'C': [0.0001, 0.001, 0.1, 1, 5, 10, 50, 100],\n",
       "                         'gamma': [0.0001, 0.001, 0.1, 1, 5, 10, 50, 100]},\n",
       "             verbose=2)"
      ]
     },
     "execution_count": 85,
     "metadata": {},
     "output_type": "execute_result"
    }
   ],
   "source": [
    "svc = SVC()\n",
    "svc_cv_model = GridSearchCV(svc, svc_params, \n",
    "                         cv = 10, \n",
    "                         n_jobs = -1,\n",
    "                         verbose = 2)\n",
    "\n",
    "svc_cv_model.fit(X_train, y_train)"
   ]
  },
  {
   "cell_type": "code",
   "execution_count": 87,
   "id": "9334947e-f6be-479b-a933-1d9ebceeb0ba",
   "metadata": {},
   "outputs": [
    {
     "name": "stdout",
     "output_type": "stream",
     "text": [
      "En iyi parametreler: {'C': 10, 'gamma': 0.0001}\n"
     ]
    }
   ],
   "source": [
    "print(\"En iyi parametreler: \" + str(svc_cv_model.best_params_))"
   ]
  },
  {
   "cell_type": "code",
   "execution_count": 88,
   "id": "e2a05edc-41ef-4b8e-b71f-4e32c81e8130",
   "metadata": {},
   "outputs": [],
   "source": [
    "svc_tuned = SVC(C = 10, gamma = 0.0001).fit(X_train, y_train)"
   ]
  },
  {
   "cell_type": "code",
   "execution_count": 89,
   "id": "ff9c2875-c81c-4e92-9463-fb26f6197253",
   "metadata": {},
   "outputs": [
    {
     "data": {
      "text/plain": [
       "0.7359307359307359"
      ]
     },
     "execution_count": 89,
     "metadata": {},
     "output_type": "execute_result"
    }
   ],
   "source": [
    "y_pred = svc_tuned.predict(X_test)\n",
    "accuracy_score(y_test, y_pred)"
   ]
  },
  {
   "cell_type": "markdown",
   "id": "716efcf0-61ab-4340-8489-75b240d377bf",
   "metadata": {},
   "source": [
    "# Yapay Sinir Ağları"
   ]
  },
  {
   "cell_type": "markdown",
   "id": "b3eab110-dcfb-4d5f-ad91-51585addeb1e",
   "metadata": {},
   "source": [
    "## Model & Predict"
   ]
  },
  {
   "cell_type": "code",
   "execution_count": 90,
   "id": "5e565fa8-4234-439b-85a4-8ec989a84584",
   "metadata": {},
   "outputs": [],
   "source": [
    "df = diabetes.copy()\n",
    "df = df.dropna()\n",
    "y = df[\"Outcome\"]\n",
    "X = df.drop(['Outcome'], axis=1)\n",
    "X_train, X_test, y_train, y_test = train_test_split(X, y, \n",
    "                                                    test_size=0.30, \n",
    "                                                    random_state=42)"
   ]
  },
  {
   "cell_type": "code",
   "execution_count": 91,
   "id": "6b3db8d4-3baa-4515-a89a-8a6ac83bbb8f",
   "metadata": {},
   "outputs": [],
   "source": [
    "from sklearn.preprocessing import StandardScaler  "
   ]
  },
  {
   "cell_type": "code",
   "execution_count": 92,
   "id": "d2ac2706-07f6-4d9e-9b20-9f64fc6939c6",
   "metadata": {},
   "outputs": [],
   "source": [
    "scaler = StandardScaler()"
   ]
  },
  {
   "cell_type": "code",
   "execution_count": 93,
   "id": "0712884f-440f-42ad-a7b7-4d740330bb4c",
   "metadata": {},
   "outputs": [],
   "source": [
    "scaler.fit(X_train)\n",
    "X_train_scaled = scaler.transform(X_train)\n",
    "X_test_scaled = scaler.transform(X_test)"
   ]
  },
  {
   "cell_type": "code",
   "execution_count": 94,
   "id": "a30416a6-3334-40f7-9197-b4b9d4fb1a3e",
   "metadata": {},
   "outputs": [
    {
     "data": {
      "text/plain": [
       "array([[ 0.69748316, -0.70719864, -0.64639893,  0.81207927,  0.95720244,\n",
       "         0.26575953, -0.11680393,  0.85019217],\n",
       "       [-0.52953881, -0.27388818,  0.29399563,  0.74746428, -0.6936878 ,\n",
       "         0.488933  , -0.94192338, -1.03426754],\n",
       "       [-0.52953881, -0.39769117, -0.31449497, -1.3202154 , -0.6936878 ,\n",
       "        -0.1543317 , -0.91266382, -1.03426754],\n",
       "       [ 1.31099414, -0.42864191,  0.57058226, -1.3202154 , -0.6936878 ,\n",
       "        -0.96825847,  1.12965312,  0.07927683],\n",
       "       [ 1.00423865,  0.46892976,  1.12375553, -1.3202154 , -0.6936878 ,\n",
       "        -0.27248236, -0.76051413,  1.44979298]])"
      ]
     },
     "execution_count": 94,
     "metadata": {},
     "output_type": "execute_result"
    }
   ],
   "source": [
    "X_test_scaled[0:5]"
   ]
  },
  {
   "cell_type": "code",
   "execution_count": 95,
   "id": "9846a642-cb0b-4524-9206-cab244cf9b14",
   "metadata": {},
   "outputs": [],
   "source": [
    "from sklearn.neural_network import MLPClassifier"
   ]
  },
  {
   "cell_type": "code",
   "execution_count": 96,
   "id": "97fcf904-cfd2-4d59-b8a0-7fa997d63330",
   "metadata": {},
   "outputs": [],
   "source": [
    "mlpc = MLPClassifier().fit(X_train_scaled, y_train)"
   ]
  },
  {
   "cell_type": "code",
   "execution_count": 97,
   "id": "f14cf9f9-df9f-4887-9630-ad36e7ac2f29",
   "metadata": {},
   "outputs": [
    {
     "data": {
      "text/plain": [
       "0.7229437229437229"
      ]
     },
     "execution_count": 97,
     "metadata": {},
     "output_type": "execute_result"
    }
   ],
   "source": [
    "y_pred = mlpc.predict(X_test_scaled)\n",
    "accuracy_score(y_test, y_pred)"
   ]
  },
  {
   "cell_type": "markdown",
   "id": "f50a372e-984f-4875-af27-4f19ca611b52",
   "metadata": {},
   "source": [
    "## Model Tuning"
   ]
  },
  {
   "cell_type": "code",
   "execution_count": 98,
   "id": "5739f2b0-11c7-4224-83ef-74649ac38802",
   "metadata": {},
   "outputs": [
    {
     "data": {
      "text/plain": [
       "MLPClassifier()"
      ]
     },
     "execution_count": 98,
     "metadata": {},
     "output_type": "execute_result"
    }
   ],
   "source": [
    "mlpc"
   ]
  },
  {
   "cell_type": "code",
   "execution_count": 100,
   "id": "4b9649d6-38e2-4b90-b084-0f3f282de189",
   "metadata": {
    "collapsed": true,
    "jupyter": {
     "outputs_hidden": true
    },
    "tags": []
   },
   "outputs": [
    {
     "data": {
      "text/plain": [
       "\u001b[1;31mType:\u001b[0m        MLPClassifier\n",
       "\u001b[1;31mString form:\u001b[0m MLPClassifier()\n",
       "\u001b[1;31mFile:\u001b[0m        c:\\users\\enes\\anaconda3\\lib\\site-packages\\sklearn\\neural_network\\_multilayer_perceptron.py\n",
       "\u001b[1;31mDocstring:\u001b[0m  \n",
       "Multi-layer Perceptron classifier.\n",
       "\n",
       "This model optimizes the log-loss function using LBFGS or stochastic\n",
       "gradient descent.\n",
       "\n",
       ".. versionadded:: 0.18\n",
       "\n",
       "Parameters\n",
       "----------\n",
       "hidden_layer_sizes : tuple, length = n_layers - 2, default=(100,)\n",
       "    The ith element represents the number of neurons in the ith\n",
       "    hidden layer.\n",
       "\n",
       "activation : {'identity', 'logistic', 'tanh', 'relu'}, default='relu'\n",
       "    Activation function for the hidden layer.\n",
       "\n",
       "    - 'identity', no-op activation, useful to implement linear bottleneck,\n",
       "      returns f(x) = x\n",
       "\n",
       "    - 'logistic', the logistic sigmoid function,\n",
       "      returns f(x) = 1 / (1 + exp(-x)).\n",
       "\n",
       "    - 'tanh', the hyperbolic tan function,\n",
       "      returns f(x) = tanh(x).\n",
       "\n",
       "    - 'relu', the rectified linear unit function,\n",
       "      returns f(x) = max(0, x)\n",
       "\n",
       "solver : {'lbfgs', 'sgd', 'adam'}, default='adam'\n",
       "    The solver for weight optimization.\n",
       "\n",
       "    - 'lbfgs' is an optimizer in the family of quasi-Newton methods.\n",
       "\n",
       "    - 'sgd' refers to stochastic gradient descent.\n",
       "\n",
       "    - 'adam' refers to a stochastic gradient-based optimizer proposed\n",
       "      by Kingma, Diederik, and Jimmy Ba\n",
       "\n",
       "    Note: The default solver 'adam' works pretty well on relatively\n",
       "    large datasets (with thousands of training samples or more) in terms of\n",
       "    both training time and validation score.\n",
       "    For small datasets, however, 'lbfgs' can converge faster and perform\n",
       "    better.\n",
       "\n",
       "alpha : float, default=0.0001\n",
       "    L2 penalty (regularization term) parameter.\n",
       "\n",
       "batch_size : int, default='auto'\n",
       "    Size of minibatches for stochastic optimizers.\n",
       "    If the solver is 'lbfgs', the classifier will not use minibatch.\n",
       "    When set to \"auto\", `batch_size=min(200, n_samples)`\n",
       "\n",
       "learning_rate : {'constant', 'invscaling', 'adaptive'}, default='constant'\n",
       "    Learning rate schedule for weight updates.\n",
       "\n",
       "    - 'constant' is a constant learning rate given by\n",
       "      'learning_rate_init'.\n",
       "\n",
       "    - 'invscaling' gradually decreases the learning rate at each\n",
       "      time step 't' using an inverse scaling exponent of 'power_t'.\n",
       "      effective_learning_rate = learning_rate_init / pow(t, power_t)\n",
       "\n",
       "    - 'adaptive' keeps the learning rate constant to\n",
       "      'learning_rate_init' as long as training loss keeps decreasing.\n",
       "      Each time two consecutive epochs fail to decrease training loss by at\n",
       "      least tol, or fail to increase validation score by at least tol if\n",
       "      'early_stopping' is on, the current learning rate is divided by 5.\n",
       "\n",
       "    Only used when ``solver='sgd'``.\n",
       "\n",
       "learning_rate_init : double, default=0.001\n",
       "    The initial learning rate used. It controls the step-size\n",
       "    in updating the weights. Only used when solver='sgd' or 'adam'.\n",
       "\n",
       "power_t : double, default=0.5\n",
       "    The exponent for inverse scaling learning rate.\n",
       "    It is used in updating effective learning rate when the learning_rate\n",
       "    is set to 'invscaling'. Only used when solver='sgd'.\n",
       "\n",
       "max_iter : int, default=200\n",
       "    Maximum number of iterations. The solver iterates until convergence\n",
       "    (determined by 'tol') or this number of iterations. For stochastic\n",
       "    solvers ('sgd', 'adam'), note that this determines the number of epochs\n",
       "    (how many times each data point will be used), not the number of\n",
       "    gradient steps.\n",
       "\n",
       "shuffle : bool, default=True\n",
       "    Whether to shuffle samples in each iteration. Only used when\n",
       "    solver='sgd' or 'adam'.\n",
       "\n",
       "random_state : int, RandomState instance, default=None\n",
       "    Determines random number generation for weights and bias\n",
       "    initialization, train-test split if early stopping is used, and batch\n",
       "    sampling when solver='sgd' or 'adam'.\n",
       "    Pass an int for reproducible results across multiple function calls.\n",
       "    See :term:`Glossary <random_state>`.\n",
       "\n",
       "tol : float, default=1e-4\n",
       "    Tolerance for the optimization. When the loss or score is not improving\n",
       "    by at least ``tol`` for ``n_iter_no_change`` consecutive iterations,\n",
       "    unless ``learning_rate`` is set to 'adaptive', convergence is\n",
       "    considered to be reached and training stops.\n",
       "\n",
       "verbose : bool, default=False\n",
       "    Whether to print progress messages to stdout.\n",
       "\n",
       "warm_start : bool, default=False\n",
       "    When set to True, reuse the solution of the previous\n",
       "    call to fit as initialization, otherwise, just erase the\n",
       "    previous solution. See :term:`the Glossary <warm_start>`.\n",
       "\n",
       "momentum : float, default=0.9\n",
       "    Momentum for gradient descent update. Should be between 0 and 1. Only\n",
       "    used when solver='sgd'.\n",
       "\n",
       "nesterovs_momentum : bool, default=True\n",
       "    Whether to use Nesterov's momentum. Only used when solver='sgd' and\n",
       "    momentum > 0.\n",
       "\n",
       "early_stopping : bool, default=False\n",
       "    Whether to use early stopping to terminate training when validation\n",
       "    score is not improving. If set to true, it will automatically set\n",
       "    aside 10% of training data as validation and terminate training when\n",
       "    validation score is not improving by at least tol for\n",
       "    ``n_iter_no_change`` consecutive epochs. The split is stratified,\n",
       "    except in a multilabel setting.\n",
       "    If early stopping is False, then the training stops when the training\n",
       "    loss does not improve by more than tol for n_iter_no_change consecutive\n",
       "    passes over the training set.\n",
       "    Only effective when solver='sgd' or 'adam'\n",
       "\n",
       "validation_fraction : float, default=0.1\n",
       "    The proportion of training data to set aside as validation set for\n",
       "    early stopping. Must be between 0 and 1.\n",
       "    Only used if early_stopping is True\n",
       "\n",
       "beta_1 : float, default=0.9\n",
       "    Exponential decay rate for estimates of first moment vector in adam,\n",
       "    should be in [0, 1). Only used when solver='adam'\n",
       "\n",
       "beta_2 : float, default=0.999\n",
       "    Exponential decay rate for estimates of second moment vector in adam,\n",
       "    should be in [0, 1). Only used when solver='adam'\n",
       "\n",
       "epsilon : float, default=1e-8\n",
       "    Value for numerical stability in adam. Only used when solver='adam'\n",
       "\n",
       "n_iter_no_change : int, default=10\n",
       "    Maximum number of epochs to not meet ``tol`` improvement.\n",
       "    Only effective when solver='sgd' or 'adam'\n",
       "\n",
       "    .. versionadded:: 0.20\n",
       "\n",
       "max_fun : int, default=15000\n",
       "    Only used when solver='lbfgs'. Maximum number of loss function calls.\n",
       "    The solver iterates until convergence (determined by 'tol'), number\n",
       "    of iterations reaches max_iter, or this number of loss function calls.\n",
       "    Note that number of loss function calls will be greater than or equal\n",
       "    to the number of iterations for the `MLPClassifier`.\n",
       "\n",
       "    .. versionadded:: 0.22\n",
       "\n",
       "Attributes\n",
       "----------\n",
       "classes_ : ndarray or list of ndarray of shape (n_classes,)\n",
       "    Class labels for each output.\n",
       "\n",
       "loss_ : float\n",
       "    The current loss computed with the loss function.\n",
       "\n",
       "best_loss_ : float\n",
       "    The minimum loss reached by the solver throughout fitting.\n",
       "\n",
       "loss_curve_ : list of shape (`n_iter_`,)\n",
       "    The ith element in the list represents the loss at the ith iteration.\n",
       "\n",
       "t_ : int\n",
       "    The number of training samples seen by the solver during fitting.\n",
       "\n",
       "coefs_ : list of shape (n_layers - 1,)\n",
       "    The ith element in the list represents the weight matrix corresponding\n",
       "    to layer i.\n",
       "\n",
       "intercepts_ : list of shape (n_layers - 1,)\n",
       "    The ith element in the list represents the bias vector corresponding to\n",
       "    layer i + 1.\n",
       "\n",
       "n_iter_ : int\n",
       "    The number of iterations the solver has run.\n",
       "\n",
       "n_layers_ : int\n",
       "    Number of layers.\n",
       "\n",
       "n_outputs_ : int\n",
       "    Number of outputs.\n",
       "\n",
       "out_activation_ : str\n",
       "    Name of the output activation function.\n",
       "\n",
       "Examples\n",
       "--------\n",
       ">>> from sklearn.neural_network import MLPClassifier\n",
       ">>> from sklearn.datasets import make_classification\n",
       ">>> from sklearn.model_selection import train_test_split\n",
       ">>> X, y = make_classification(n_samples=100, random_state=1)\n",
       ">>> X_train, X_test, y_train, y_test = train_test_split(X, y, stratify=y,\n",
       "...                                                     random_state=1)\n",
       ">>> clf = MLPClassifier(random_state=1, max_iter=300).fit(X_train, y_train)\n",
       ">>> clf.predict_proba(X_test[:1])\n",
       "array([[0.038..., 0.961...]])\n",
       ">>> clf.predict(X_test[:5, :])\n",
       "array([1, 0, 1, 0, 1])\n",
       ">>> clf.score(X_test, y_test)\n",
       "0.8...\n",
       "\n",
       "Notes\n",
       "-----\n",
       "MLPClassifier trains iteratively since at each time step\n",
       "the partial derivatives of the loss function with respect to the model\n",
       "parameters are computed to update the parameters.\n",
       "\n",
       "It can also have a regularization term added to the loss function\n",
       "that shrinks model parameters to prevent overfitting.\n",
       "\n",
       "This implementation works with data represented as dense numpy arrays or\n",
       "sparse scipy arrays of floating point values.\n",
       "\n",
       "References\n",
       "----------\n",
       "Hinton, Geoffrey E.\n",
       "    \"Connectionist learning procedures.\" Artificial intelligence 40.1\n",
       "    (1989): 185-234.\n",
       "\n",
       "Glorot, Xavier, and Yoshua Bengio. \"Understanding the difficulty of\n",
       "    training deep feedforward neural networks.\" International Conference\n",
       "    on Artificial Intelligence and Statistics. 2010.\n",
       "\n",
       "He, Kaiming, et al. \"Delving deep into rectifiers: Surpassing human-level\n",
       "    performance on imagenet classification.\" arXiv preprint\n",
       "    arXiv:1502.01852 (2015).\n",
       "\n",
       "Kingma, Diederik, and Jimmy Ba. \"Adam: A method for stochastic\n",
       "    optimization.\" arXiv preprint arXiv:1412.6980 (2014).\n"
      ]
     },
     "metadata": {},
     "output_type": "display_data"
    }
   ],
   "source": [
    "?mlpc"
   ]
  },
  {
   "cell_type": "code",
   "execution_count": 101,
   "id": "706a84d9-d634-406e-94b3-795d685f9d9f",
   "metadata": {},
   "outputs": [],
   "source": [
    "mlpc_params = {\"alpha\": [0.1, 0.01, 0.02, 0.005, 0.0001,0.00001],\n",
    "              \"hidden_layer_sizes\": [(10,10,10),\n",
    "                                     (100,100,100),\n",
    "                                     (100,100),\n",
    "                                     (3,5), \n",
    "                                     (5, 3)],\n",
    "              \"solver\" : [\"lbfgs\",\"adam\",\"sgd\"],\n",
    "              \"activation\": [\"relu\",\"logistic\"]}\n"
   ]
  },
  {
   "cell_type": "code",
   "execution_count": 102,
   "id": "1f0763c6-3207-4ce0-a0ff-d97a2ee2acf0",
   "metadata": {},
   "outputs": [
    {
     "name": "stdout",
     "output_type": "stream",
     "text": [
      "Fitting 10 folds for each of 180 candidates, totalling 1800 fits\n"
     ]
    },
    {
     "data": {
      "text/plain": [
       "GridSearchCV(cv=10, estimator=MLPClassifier(), n_jobs=-1,\n",
       "             param_grid={'activation': ['relu', 'logistic'],\n",
       "                         'alpha': [0.1, 0.01, 0.02, 0.005, 0.0001, 1e-05],\n",
       "                         'hidden_layer_sizes': [(10, 10, 10), (100, 100, 100),\n",
       "                                                (100, 100), (3, 5), (5, 3)],\n",
       "                         'solver': ['lbfgs', 'adam', 'sgd']},\n",
       "             verbose=2)"
      ]
     },
     "execution_count": 102,
     "metadata": {},
     "output_type": "execute_result"
    }
   ],
   "source": [
    "mlpc = MLPClassifier()\n",
    "mlpc_cv_model = GridSearchCV(mlpc, mlpc_params, \n",
    "                         cv = 10, \n",
    "                         n_jobs = -1,\n",
    "                         verbose = 2)\n",
    "\n",
    "mlpc_cv_model.fit(X_train_scaled, y_train)"
   ]
  },
  {
   "cell_type": "code",
   "execution_count": 103,
   "id": "074ba043-dcda-4ce5-8533-37e2f8d6266a",
   "metadata": {},
   "outputs": [
    {
     "name": "stdout",
     "output_type": "stream",
     "text": [
      "En iyi parametreler: {'activation': 'logistic', 'alpha': 1e-05, 'hidden_layer_sizes': (100, 100), 'solver': 'adam'}\n"
     ]
    }
   ],
   "source": [
    " print(\"En iyi parametreler: \" + str(mlpc_cv_model.best_params_))"
   ]
  },
  {
   "cell_type": "code",
   "execution_count": 107,
   "id": "387f94b3-78fb-4722-a1fe-f24e78edf91d",
   "metadata": {},
   "outputs": [],
   "source": [
    "mlpc_tuned = MLPClassifier(activation = \"logistic\", \n",
    "                           alpha = 1e-05, \n",
    "                           hidden_layer_sizes = (100, 100),\n",
    "                          solver = \"adam\")"
   ]
  },
  {
   "cell_type": "code",
   "execution_count": 108,
   "id": "b1877723-dd7a-4d1e-abc8-e69bb89f9da5",
   "metadata": {},
   "outputs": [
    {
     "data": {
      "text/plain": [
       "MLPClassifier(activation='logistic', alpha=1e-05, hidden_layer_sizes=(100, 100))"
      ]
     },
     "execution_count": 108,
     "metadata": {},
     "output_type": "execute_result"
    }
   ],
   "source": [
    "mlpc_tuned.fit(X_train_scaled, y_train)"
   ]
  },
  {
   "cell_type": "code",
   "execution_count": 109,
   "id": "553d13cf-ac72-4d66-bf1f-97fdd163ad9e",
   "metadata": {},
   "outputs": [
    {
     "data": {
      "text/plain": [
       "0.7445887445887446"
      ]
     },
     "execution_count": 109,
     "metadata": {},
     "output_type": "execute_result"
    }
   ],
   "source": [
    "y_pred = mlpc_tuned.predict(X_test_scaled)\n",
    "accuracy_score(y_test, y_pred)"
   ]
  },
  {
   "cell_type": "markdown",
   "id": "f535c454-be9b-4b86-a543-e2a49584ef9c",
   "metadata": {},
   "source": [
    "# CART"
   ]
  },
  {
   "cell_type": "markdown",
   "id": "a2dd5ef6-0b98-4e42-9ad7-3eeb88d15367",
   "metadata": {},
   "source": [
    "## Model & Predict"
   ]
  },
  {
   "cell_type": "code",
   "execution_count": 110,
   "id": "1144fcee-d0a1-4ce4-a963-803c2bcefc15",
   "metadata": {},
   "outputs": [],
   "source": [
    "df = diabetes.copy()\n",
    "df = df.dropna()\n",
    "y = df[\"Outcome\"]\n",
    "X = df.drop(['Outcome'], axis=1)\n",
    "#X = df[\"Pregnancies\"]\n",
    "X = pd.DataFrame(X)\n",
    "X_train, X_test, y_train, y_test = train_test_split(X, y, \n",
    "                                                    test_size=0.30, \n",
    "                                                    random_state=42)"
   ]
  },
  {
   "cell_type": "code",
   "execution_count": 111,
   "id": "a2bf71d1-a555-45cd-a604-12b0ac086c8f",
   "metadata": {},
   "outputs": [],
   "source": [
    "from sklearn.tree import DecisionTreeClassifier"
   ]
  },
  {
   "cell_type": "code",
   "execution_count": 112,
   "id": "2f6b118b-5452-4634-baa1-418554d642e2",
   "metadata": {},
   "outputs": [],
   "source": [
    "cart = DecisionTreeClassifier()\n",
    "cart_model = cart.fit(X_train, y_train)"
   ]
  },
  {
   "cell_type": "code",
   "execution_count": 113,
   "id": "915ac398-bf6c-400b-a22a-4f09f47a0fec",
   "metadata": {},
   "outputs": [
    {
     "data": {
      "text/plain": [
       "DecisionTreeClassifier()"
      ]
     },
     "execution_count": 113,
     "metadata": {},
     "output_type": "execute_result"
    }
   ],
   "source": [
    "cart_model"
   ]
  },
  {
   "cell_type": "code",
   "execution_count": 115,
   "id": "d2dc4223-07ac-4055-a595-d10f33715868",
   "metadata": {
    "collapsed": true,
    "jupyter": {
     "outputs_hidden": true
    },
    "tags": []
   },
   "outputs": [
    {
     "name": "stdout",
     "output_type": "stream",
     "text": [
      "Requirement already satisfied: skompiler in c:\\users\\enes\\anaconda3\\lib\\site-packages (0.6)\n",
      "Requirement already satisfied: scikit-learn>=0.22 in c:\\users\\enes\\anaconda3\\lib\\site-packages (from skompiler) (0.24.2)\n",
      "Requirement already satisfied: scipy>=0.19.1 in c:\\users\\enes\\anaconda3\\lib\\site-packages (from scikit-learn>=0.22->skompiler) (1.6.2)\n",
      "Requirement already satisfied: joblib>=0.11 in c:\\users\\enes\\anaconda3\\lib\\site-packages (from scikit-learn>=0.22->skompiler) (1.0.1)\n",
      "Requirement already satisfied: numpy>=1.13.3 in c:\\users\\enes\\anaconda3\\lib\\site-packages (from scikit-learn>=0.22->skompiler) (1.20.2)\n",
      "Requirement already satisfied: threadpoolctl>=2.0.0 in c:\\users\\enes\\anaconda3\\lib\\site-packages (from scikit-learn>=0.22->skompiler) (2.1.0)\n"
     ]
    },
    {
     "ename": "ModuleNotFoundError",
     "evalue": "No module named 'astor'",
     "output_type": "error",
     "traceback": [
      "\u001b[1;31m---------------------------------------------------------------------------\u001b[0m",
      "\u001b[1;31mModuleNotFoundError\u001b[0m                       Traceback (most recent call last)",
      "\u001b[1;32m<ipython-input-115-9054a7042986>\u001b[0m in \u001b[0;36m<module>\u001b[1;34m\u001b[0m\n\u001b[0;32m      1\u001b[0m \u001b[0mget_ipython\u001b[0m\u001b[1;33m(\u001b[0m\u001b[1;33m)\u001b[0m\u001b[1;33m.\u001b[0m\u001b[0msystem\u001b[0m\u001b[1;33m(\u001b[0m\u001b[1;34m'pip install skompiler'\u001b[0m\u001b[1;33m)\u001b[0m\u001b[1;33m\u001b[0m\u001b[1;33m\u001b[0m\u001b[0m\n\u001b[0;32m      2\u001b[0m \u001b[1;32mfrom\u001b[0m \u001b[0mskompiler\u001b[0m \u001b[1;32mimport\u001b[0m \u001b[0mskompile\u001b[0m\u001b[1;33m\u001b[0m\u001b[1;33m\u001b[0m\u001b[0m\n\u001b[1;32m----> 3\u001b[1;33m \u001b[0mprint\u001b[0m\u001b[1;33m(\u001b[0m\u001b[0mskompile\u001b[0m\u001b[1;33m(\u001b[0m\u001b[0mcart_model\u001b[0m\u001b[1;33m.\u001b[0m\u001b[0mpredict\u001b[0m\u001b[1;33m)\u001b[0m\u001b[1;33m.\u001b[0m\u001b[0mto\u001b[0m\u001b[1;33m(\u001b[0m\u001b[1;34m\"python/code\"\u001b[0m\u001b[1;33m)\u001b[0m\u001b[1;33m)\u001b[0m\u001b[1;33m\u001b[0m\u001b[1;33m\u001b[0m\u001b[0m\n\u001b[0m",
      "\u001b[1;32m~\\anaconda3\\lib\\site-packages\\skompiler\\ast.py\u001b[0m in \u001b[0;36mto\u001b[1;34m(self, target, *args, **kw)\u001b[0m\n\u001b[0;32m    266\u001b[0m             \u001b[0mmod\u001b[0m \u001b[1;33m=\u001b[0m \u001b[0mimport_module\u001b[0m\u001b[1;33m(\u001b[0m\u001b[0mmodule\u001b[0m\u001b[1;33m)\u001b[0m\u001b[1;33m\u001b[0m\u001b[1;33m\u001b[0m\u001b[0m\n\u001b[0;32m    267\u001b[0m             \u001b[0mtranslator\u001b[0m \u001b[1;33m=\u001b[0m \u001b[0mgetattr\u001b[0m\u001b[1;33m(\u001b[0m\u001b[0mmod\u001b[0m\u001b[1;33m,\u001b[0m \u001b[0mcallable\u001b[0m\u001b[1;33m)\u001b[0m\u001b[1;33m\u001b[0m\u001b[1;33m\u001b[0m\u001b[0m\n\u001b[1;32m--> 268\u001b[1;33m         \u001b[1;32mreturn\u001b[0m \u001b[0mtranslator\u001b[0m\u001b[1;33m(\u001b[0m\u001b[0mself\u001b[0m\u001b[1;33m,\u001b[0m \u001b[1;33m*\u001b[0m\u001b[0mdialect\u001b[0m\u001b[1;33m,\u001b[0m \u001b[1;33m*\u001b[0m\u001b[0margs\u001b[0m\u001b[1;33m,\u001b[0m \u001b[1;33m**\u001b[0m\u001b[0mkw\u001b[0m\u001b[1;33m)\u001b[0m\u001b[1;33m\u001b[0m\u001b[1;33m\u001b[0m\u001b[0m\n\u001b[0m\u001b[0;32m    269\u001b[0m \u001b[1;31m#endregion\u001b[0m\u001b[1;33m\u001b[0m\u001b[1;33m\u001b[0m\u001b[1;33m\u001b[0m\u001b[0m\n\u001b[0;32m    270\u001b[0m \u001b[1;33m\u001b[0m\u001b[0m\n",
      "\u001b[1;32m~\\anaconda3\\lib\\site-packages\\skompiler\\fromskast\\python.py\u001b[0m in \u001b[0;36mtranslate\u001b[1;34m(node, dialect)\u001b[0m\n\u001b[0;32m     62\u001b[0m         \u001b[1;32mreturn\u001b[0m \u001b[0mlambdify\u001b[0m\u001b[1;33m(\u001b[0m\u001b[0mpyast\u001b[0m\u001b[1;33m)\u001b[0m\u001b[1;33m\u001b[0m\u001b[1;33m\u001b[0m\u001b[0m\n\u001b[0;32m     63\u001b[0m     \u001b[1;32melif\u001b[0m \u001b[0mdialect\u001b[0m \u001b[1;33m==\u001b[0m \u001b[1;34m'code'\u001b[0m\u001b[1;33m:\u001b[0m\u001b[1;33m\u001b[0m\u001b[1;33m\u001b[0m\u001b[0m\n\u001b[1;32m---> 64\u001b[1;33m         \u001b[1;32mimport\u001b[0m \u001b[0mastor\u001b[0m\u001b[1;33m\u001b[0m\u001b[1;33m\u001b[0m\u001b[0m\n\u001b[0m\u001b[0;32m     65\u001b[0m         \u001b[0mcode\u001b[0m \u001b[1;33m=\u001b[0m \u001b[0mastor\u001b[0m\u001b[1;33m.\u001b[0m\u001b[0mto_source\u001b[0m\u001b[1;33m(\u001b[0m\u001b[0mpyast\u001b[0m\u001b[1;33m)\u001b[0m\u001b[1;33m\u001b[0m\u001b[1;33m\u001b[0m\u001b[0m\n\u001b[0;32m     66\u001b[0m         \u001b[1;31m# Replace some internal identifiers with matching functions\u001b[0m\u001b[1;33m\u001b[0m\u001b[1;33m\u001b[0m\u001b[1;33m\u001b[0m\u001b[0m\n",
      "\u001b[1;31mModuleNotFoundError\u001b[0m: No module named 'astor'"
     ]
    }
   ],
   "source": [
    "!pip install skompiler\n",
    "from skompiler import skompile\n",
    "print(skompile(cart_model.predict).to(\"python/code\"))"
   ]
  },
  {
   "cell_type": "code",
   "execution_count": 116,
   "id": "9b5b3402-481c-4904-8a07-b45599b3a671",
   "metadata": {},
   "outputs": [],
   "source": [
    "x = [9]"
   ]
  },
  {
   "cell_type": "code",
   "execution_count": 117,
   "id": "9c95d89d-65b0-4c7c-b8b8-bbff5052d6e5",
   "metadata": {},
   "outputs": [
    {
     "data": {
      "text/plain": [
       "1"
      ]
     },
     "execution_count": 117,
     "metadata": {},
     "output_type": "execute_result"
    }
   ],
   "source": [
    "((0 if x[0] <= 2.5 else 0) if x[0] <= 6.5 else 1 if x[0] <= 13.5 else 1)"
   ]
  },
  {
   "cell_type": "code",
   "execution_count": 118,
   "id": "334fe47c-577d-421d-a1a7-5809f6181476",
   "metadata": {},
   "outputs": [
    {
     "data": {
      "text/plain": [
       "0.7012987012987013"
      ]
     },
     "execution_count": 118,
     "metadata": {},
     "output_type": "execute_result"
    }
   ],
   "source": [
    "y_pred = cart_model.predict(X_test)\n",
    "accuracy_score(y_test, y_pred)"
   ]
  },
  {
   "cell_type": "code",
   "execution_count": null,
   "id": "08375a63-0010-4bac-a948-344166274147",
   "metadata": {},
   "outputs": [],
   "source": [
    "y_pred = cart_model.predict(X_test)\n",
    "accuracy_score(y_test, y_pred)"
   ]
  },
  {
   "cell_type": "markdown",
   "id": "a7f8c7c8-74ed-491d-9e47-ad4c15cdf122",
   "metadata": {},
   "source": [
    "## Model Tuning"
   ]
  },
  {
   "cell_type": "code",
   "execution_count": 119,
   "id": "39e4f269-ed4a-4edc-966f-e3331365ea8f",
   "metadata": {},
   "outputs": [
    {
     "data": {
      "text/plain": [
       "DecisionTreeClassifier()"
      ]
     },
     "execution_count": 119,
     "metadata": {},
     "output_type": "execute_result"
    }
   ],
   "source": [
    "cart_model"
   ]
  },
  {
   "cell_type": "code",
   "execution_count": 120,
   "id": "ad1fcf18-1c7e-462a-bd88-40d5154195b0",
   "metadata": {
    "collapsed": true,
    "jupyter": {
     "outputs_hidden": true
    },
    "tags": []
   },
   "outputs": [
    {
     "data": {
      "text/plain": [
       "\u001b[1;31mType:\u001b[0m        DecisionTreeClassifier\n",
       "\u001b[1;31mString form:\u001b[0m DecisionTreeClassifier()\n",
       "\u001b[1;31mFile:\u001b[0m        c:\\users\\enes\\anaconda3\\lib\\site-packages\\sklearn\\tree\\_classes.py\n",
       "\u001b[1;31mDocstring:\u001b[0m  \n",
       "A decision tree classifier.\n",
       "\n",
       "Read more in the :ref:`User Guide <tree>`.\n",
       "\n",
       "Parameters\n",
       "----------\n",
       "criterion : {\"gini\", \"entropy\"}, default=\"gini\"\n",
       "    The function to measure the quality of a split. Supported criteria are\n",
       "    \"gini\" for the Gini impurity and \"entropy\" for the information gain.\n",
       "\n",
       "splitter : {\"best\", \"random\"}, default=\"best\"\n",
       "    The strategy used to choose the split at each node. Supported\n",
       "    strategies are \"best\" to choose the best split and \"random\" to choose\n",
       "    the best random split.\n",
       "\n",
       "max_depth : int, default=None\n",
       "    The maximum depth of the tree. If None, then nodes are expanded until\n",
       "    all leaves are pure or until all leaves contain less than\n",
       "    min_samples_split samples.\n",
       "\n",
       "min_samples_split : int or float, default=2\n",
       "    The minimum number of samples required to split an internal node:\n",
       "\n",
       "    - If int, then consider `min_samples_split` as the minimum number.\n",
       "    - If float, then `min_samples_split` is a fraction and\n",
       "      `ceil(min_samples_split * n_samples)` are the minimum\n",
       "      number of samples for each split.\n",
       "\n",
       "    .. versionchanged:: 0.18\n",
       "       Added float values for fractions.\n",
       "\n",
       "min_samples_leaf : int or float, default=1\n",
       "    The minimum number of samples required to be at a leaf node.\n",
       "    A split point at any depth will only be considered if it leaves at\n",
       "    least ``min_samples_leaf`` training samples in each of the left and\n",
       "    right branches.  This may have the effect of smoothing the model,\n",
       "    especially in regression.\n",
       "\n",
       "    - If int, then consider `min_samples_leaf` as the minimum number.\n",
       "    - If float, then `min_samples_leaf` is a fraction and\n",
       "      `ceil(min_samples_leaf * n_samples)` are the minimum\n",
       "      number of samples for each node.\n",
       "\n",
       "    .. versionchanged:: 0.18\n",
       "       Added float values for fractions.\n",
       "\n",
       "min_weight_fraction_leaf : float, default=0.0\n",
       "    The minimum weighted fraction of the sum total of weights (of all\n",
       "    the input samples) required to be at a leaf node. Samples have\n",
       "    equal weight when sample_weight is not provided.\n",
       "\n",
       "max_features : int, float or {\"auto\", \"sqrt\", \"log2\"}, default=None\n",
       "    The number of features to consider when looking for the best split:\n",
       "\n",
       "        - If int, then consider `max_features` features at each split.\n",
       "        - If float, then `max_features` is a fraction and\n",
       "          `int(max_features * n_features)` features are considered at each\n",
       "          split.\n",
       "        - If \"auto\", then `max_features=sqrt(n_features)`.\n",
       "        - If \"sqrt\", then `max_features=sqrt(n_features)`.\n",
       "        - If \"log2\", then `max_features=log2(n_features)`.\n",
       "        - If None, then `max_features=n_features`.\n",
       "\n",
       "    Note: the search for a split does not stop until at least one\n",
       "    valid partition of the node samples is found, even if it requires to\n",
       "    effectively inspect more than ``max_features`` features.\n",
       "\n",
       "random_state : int, RandomState instance or None, default=None\n",
       "    Controls the randomness of the estimator. The features are always\n",
       "    randomly permuted at each split, even if ``splitter`` is set to\n",
       "    ``\"best\"``. When ``max_features < n_features``, the algorithm will\n",
       "    select ``max_features`` at random at each split before finding the best\n",
       "    split among them. But the best found split may vary across different\n",
       "    runs, even if ``max_features=n_features``. That is the case, if the\n",
       "    improvement of the criterion is identical for several splits and one\n",
       "    split has to be selected at random. To obtain a deterministic behaviour\n",
       "    during fitting, ``random_state`` has to be fixed to an integer.\n",
       "    See :term:`Glossary <random_state>` for details.\n",
       "\n",
       "max_leaf_nodes : int, default=None\n",
       "    Grow a tree with ``max_leaf_nodes`` in best-first fashion.\n",
       "    Best nodes are defined as relative reduction in impurity.\n",
       "    If None then unlimited number of leaf nodes.\n",
       "\n",
       "min_impurity_decrease : float, default=0.0\n",
       "    A node will be split if this split induces a decrease of the impurity\n",
       "    greater than or equal to this value.\n",
       "\n",
       "    The weighted impurity decrease equation is the following::\n",
       "\n",
       "        N_t / N * (impurity - N_t_R / N_t * right_impurity\n",
       "                            - N_t_L / N_t * left_impurity)\n",
       "\n",
       "    where ``N`` is the total number of samples, ``N_t`` is the number of\n",
       "    samples at the current node, ``N_t_L`` is the number of samples in the\n",
       "    left child, and ``N_t_R`` is the number of samples in the right child.\n",
       "\n",
       "    ``N``, ``N_t``, ``N_t_R`` and ``N_t_L`` all refer to the weighted sum,\n",
       "    if ``sample_weight`` is passed.\n",
       "\n",
       "    .. versionadded:: 0.19\n",
       "\n",
       "min_impurity_split : float, default=0\n",
       "    Threshold for early stopping in tree growth. A node will split\n",
       "    if its impurity is above the threshold, otherwise it is a leaf.\n",
       "\n",
       "    .. deprecated:: 0.19\n",
       "       ``min_impurity_split`` has been deprecated in favor of\n",
       "       ``min_impurity_decrease`` in 0.19. The default value of\n",
       "       ``min_impurity_split`` has changed from 1e-7 to 0 in 0.23 and it\n",
       "       will be removed in 1.0 (renaming of 0.25).\n",
       "       Use ``min_impurity_decrease`` instead.\n",
       "\n",
       "class_weight : dict, list of dict or \"balanced\", default=None\n",
       "    Weights associated with classes in the form ``{class_label: weight}``.\n",
       "    If None, all classes are supposed to have weight one. For\n",
       "    multi-output problems, a list of dicts can be provided in the same\n",
       "    order as the columns of y.\n",
       "\n",
       "    Note that for multioutput (including multilabel) weights should be\n",
       "    defined for each class of every column in its own dict. For example,\n",
       "    for four-class multilabel classification weights should be\n",
       "    [{0: 1, 1: 1}, {0: 1, 1: 5}, {0: 1, 1: 1}, {0: 1, 1: 1}] instead of\n",
       "    [{1:1}, {2:5}, {3:1}, {4:1}].\n",
       "\n",
       "    The \"balanced\" mode uses the values of y to automatically adjust\n",
       "    weights inversely proportional to class frequencies in the input data\n",
       "    as ``n_samples / (n_classes * np.bincount(y))``\n",
       "\n",
       "    For multi-output, the weights of each column of y will be multiplied.\n",
       "\n",
       "    Note that these weights will be multiplied with sample_weight (passed\n",
       "    through the fit method) if sample_weight is specified.\n",
       "\n",
       "ccp_alpha : non-negative float, default=0.0\n",
       "    Complexity parameter used for Minimal Cost-Complexity Pruning. The\n",
       "    subtree with the largest cost complexity that is smaller than\n",
       "    ``ccp_alpha`` will be chosen. By default, no pruning is performed. See\n",
       "    :ref:`minimal_cost_complexity_pruning` for details.\n",
       "\n",
       "    .. versionadded:: 0.22\n",
       "\n",
       "Attributes\n",
       "----------\n",
       "classes_ : ndarray of shape (n_classes,) or list of ndarray\n",
       "    The classes labels (single output problem),\n",
       "    or a list of arrays of class labels (multi-output problem).\n",
       "\n",
       "feature_importances_ : ndarray of shape (n_features,)\n",
       "    The impurity-based feature importances.\n",
       "    The higher, the more important the feature.\n",
       "    The importance of a feature is computed as the (normalized)\n",
       "    total reduction of the criterion brought by that feature.  It is also\n",
       "    known as the Gini importance [4]_.\n",
       "\n",
       "    Warning: impurity-based feature importances can be misleading for\n",
       "    high cardinality features (many unique values). See\n",
       "    :func:`sklearn.inspection.permutation_importance` as an alternative.\n",
       "\n",
       "max_features_ : int\n",
       "    The inferred value of max_features.\n",
       "\n",
       "n_classes_ : int or list of int\n",
       "    The number of classes (for single output problems),\n",
       "    or a list containing the number of classes for each\n",
       "    output (for multi-output problems).\n",
       "\n",
       "n_features_ : int\n",
       "    The number of features when ``fit`` is performed.\n",
       "\n",
       "n_outputs_ : int\n",
       "    The number of outputs when ``fit`` is performed.\n",
       "\n",
       "tree_ : Tree instance\n",
       "    The underlying Tree object. Please refer to\n",
       "    ``help(sklearn.tree._tree.Tree)`` for attributes of Tree object and\n",
       "    :ref:`sphx_glr_auto_examples_tree_plot_unveil_tree_structure.py`\n",
       "    for basic usage of these attributes.\n",
       "\n",
       "See Also\n",
       "--------\n",
       "DecisionTreeRegressor : A decision tree regressor.\n",
       "\n",
       "Notes\n",
       "-----\n",
       "The default values for the parameters controlling the size of the trees\n",
       "(e.g. ``max_depth``, ``min_samples_leaf``, etc.) lead to fully grown and\n",
       "unpruned trees which can potentially be very large on some data sets. To\n",
       "reduce memory consumption, the complexity and size of the trees should be\n",
       "controlled by setting those parameter values.\n",
       "\n",
       "The :meth:`predict` method operates using the :func:`numpy.argmax`\n",
       "function on the outputs of :meth:`predict_proba`. This means that in\n",
       "case the highest predicted probabilities are tied, the classifier will\n",
       "predict the tied class with the lowest index in :term:`classes_`.\n",
       "\n",
       "References\n",
       "----------\n",
       "\n",
       ".. [1] https://en.wikipedia.org/wiki/Decision_tree_learning\n",
       "\n",
       ".. [2] L. Breiman, J. Friedman, R. Olshen, and C. Stone, \"Classification\n",
       "       and Regression Trees\", Wadsworth, Belmont, CA, 1984.\n",
       "\n",
       ".. [3] T. Hastie, R. Tibshirani and J. Friedman. \"Elements of Statistical\n",
       "       Learning\", Springer, 2009.\n",
       "\n",
       ".. [4] L. Breiman, and A. Cutler, \"Random Forests\",\n",
       "       https://www.stat.berkeley.edu/~breiman/RandomForests/cc_home.htm\n",
       "\n",
       "Examples\n",
       "--------\n",
       ">>> from sklearn.datasets import load_iris\n",
       ">>> from sklearn.model_selection import cross_val_score\n",
       ">>> from sklearn.tree import DecisionTreeClassifier\n",
       ">>> clf = DecisionTreeClassifier(random_state=0)\n",
       ">>> iris = load_iris()\n",
       ">>> cross_val_score(clf, iris.data, iris.target, cv=10)\n",
       "...                             # doctest: +SKIP\n",
       "...\n",
       "array([ 1.     ,  0.93...,  0.86...,  0.93...,  0.93...,\n",
       "        0.93...,  0.93...,  1.     ,  0.93...,  1.      ])\n"
      ]
     },
     "metadata": {},
     "output_type": "display_data"
    }
   ],
   "source": [
    "?cart_model"
   ]
  },
  {
   "cell_type": "code",
   "execution_count": 121,
   "id": "b5e624a8-f2c1-4dfb-8060-7e454c9f0deb",
   "metadata": {},
   "outputs": [],
   "source": [
    "cart_grid = {\"max_depth\": range(1,10),\n",
    "            \"min_samples_split\" : list(range(2,50)) }"
   ]
  },
  {
   "cell_type": "code",
   "execution_count": 124,
   "id": "dced4df4-7f12-4c48-8b7e-3fa2108a3ae4",
   "metadata": {},
   "outputs": [
    {
     "name": "stdout",
     "output_type": "stream",
     "text": [
      "Fitting 10 folds for each of 432 candidates, totalling 4320 fits\n"
     ]
    }
   ],
   "source": [
    "cart = tree.DecisionTreeClassifier()\n",
    "cart_cv = GridSearchCV(cart, cart_grid, cv = 10, n_jobs = -1, verbose = 2)\n",
    "cart_cv_model = cart_cv.fit(X_train, y_train)"
   ]
  },
  {
   "cell_type": "code",
   "execution_count": 125,
   "id": "1ffbfa5a-2bbe-4867-b627-a99a2527867e",
   "metadata": {},
   "outputs": [
    {
     "name": "stdout",
     "output_type": "stream",
     "text": [
      "En iyi parametreler: {'max_depth': 5, 'min_samples_split': 19}\n"
     ]
    }
   ],
   "source": [
    "print(\"En iyi parametreler: \" + str(cart_cv_model.best_params_))"
   ]
  },
  {
   "cell_type": "code",
   "execution_count": 126,
   "id": "b1667c89-5301-4955-8bb1-f580e0e0a986",
   "metadata": {},
   "outputs": [],
   "source": [
    "#final"
   ]
  },
  {
   "cell_type": "code",
   "execution_count": 127,
   "id": "46f7b92e-9d06-42a2-8800-3fac913ff0e7",
   "metadata": {},
   "outputs": [],
   "source": [
    "cart = tree.DecisionTreeClassifier(max_depth = 5, min_samples_split = 19)\n",
    "cart_tuned = cart.fit(X_train, y_train)"
   ]
  },
  {
   "cell_type": "code",
   "execution_count": 128,
   "id": "232b808e-892c-4237-bf51-447a6e106238",
   "metadata": {},
   "outputs": [
    {
     "data": {
      "text/plain": [
       "0.7532467532467533"
      ]
     },
     "execution_count": 128,
     "metadata": {},
     "output_type": "execute_result"
    }
   ],
   "source": [
    "y_pred = cart_tuned.predict(X_test)\n",
    "accuracy_score(y_test, y_pred)"
   ]
  },
  {
   "cell_type": "markdown",
   "id": "57ec15ed-5643-42fe-a54f-78b95a1e0f4f",
   "metadata": {},
   "source": [
    "# Random Forests"
   ]
  },
  {
   "cell_type": "code",
   "execution_count": 129,
   "id": "4cbb9efa-d6aa-4e3b-aa4b-5d6d31d6acbc",
   "metadata": {},
   "outputs": [],
   "source": [
    "df = diabetes.copy()\n",
    "df = df.dropna()\n",
    "y = df[\"Outcome\"]\n",
    "X = df.drop(['Outcome'], axis=1)\n",
    "#X = df[\"Pregnancies\"]\n",
    "X = pd.DataFrame(X)\n",
    "X_train, X_test, y_train, y_test = train_test_split(X, y, \n",
    "                                                    test_size=0.30, \n",
    "                                                    random_state=42)"
   ]
  },
  {
   "cell_type": "code",
   "execution_count": 130,
   "id": "2572fad0-e83c-41a0-b331-87ce456d4948",
   "metadata": {},
   "outputs": [],
   "source": [
    "from sklearn.ensemble import RandomForestClassifier"
   ]
  },
  {
   "cell_type": "code",
   "execution_count": 131,
   "id": "6feefdd8-fd51-4980-9d74-e6616f18db7f",
   "metadata": {},
   "outputs": [],
   "source": [
    "rf_model = RandomForestClassifier().fit(X_train, y_train)"
   ]
  },
  {
   "cell_type": "code",
   "execution_count": 132,
   "id": "d08bc865-d98b-4c2e-b7db-f72f46919064",
   "metadata": {},
   "outputs": [
    {
     "data": {
      "text/plain": [
       "RandomForestClassifier()"
      ]
     },
     "execution_count": 132,
     "metadata": {},
     "output_type": "execute_result"
    }
   ],
   "source": [
    "rf_model"
   ]
  },
  {
   "cell_type": "code",
   "execution_count": 133,
   "id": "d70a46f5-0b4e-452b-9c03-38a982cd7eed",
   "metadata": {},
   "outputs": [
    {
     "data": {
      "text/plain": [
       "0.7402597402597403"
      ]
     },
     "execution_count": 133,
     "metadata": {},
     "output_type": "execute_result"
    }
   ],
   "source": [
    "y_pred = rf_model.predict(X_test)\n",
    "accuracy_score(y_test, y_pred)"
   ]
  },
  {
   "cell_type": "markdown",
   "id": "69a03a62-8546-4b15-858b-4ebf40f0995c",
   "metadata": {},
   "source": [
    "## Model Tuning"
   ]
  },
  {
   "cell_type": "code",
   "execution_count": 134,
   "id": "4b498e76-f6d6-4587-8e04-e0f178d58490",
   "metadata": {},
   "outputs": [
    {
     "data": {
      "text/plain": [
       "RandomForestClassifier()"
      ]
     },
     "execution_count": 134,
     "metadata": {},
     "output_type": "execute_result"
    }
   ],
   "source": [
    "rf_model"
   ]
  },
  {
   "cell_type": "code",
   "execution_count": 135,
   "id": "2994a2dd-631e-4a1e-8a67-9e59f54539e4",
   "metadata": {
    "collapsed": true,
    "jupyter": {
     "outputs_hidden": true
    },
    "tags": []
   },
   "outputs": [
    {
     "data": {
      "text/plain": [
       "\u001b[1;31mType:\u001b[0m        RandomForestClassifier\n",
       "\u001b[1;31mString form:\u001b[0m RandomForestClassifier()\n",
       "\u001b[1;31mLength:\u001b[0m      100\n",
       "\u001b[1;31mFile:\u001b[0m        c:\\users\\enes\\anaconda3\\lib\\site-packages\\sklearn\\ensemble\\_forest.py\n",
       "\u001b[1;31mDocstring:\u001b[0m  \n",
       "A random forest classifier.\n",
       "\n",
       "A random forest is a meta estimator that fits a number of decision tree\n",
       "classifiers on various sub-samples of the dataset and uses averaging to\n",
       "improve the predictive accuracy and control over-fitting.\n",
       "The sub-sample size is controlled with the `max_samples` parameter if\n",
       "`bootstrap=True` (default), otherwise the whole dataset is used to build\n",
       "each tree.\n",
       "\n",
       "Read more in the :ref:`User Guide <forest>`.\n",
       "\n",
       "Parameters\n",
       "----------\n",
       "n_estimators : int, default=100\n",
       "    The number of trees in the forest.\n",
       "\n",
       "    .. versionchanged:: 0.22\n",
       "       The default value of ``n_estimators`` changed from 10 to 100\n",
       "       in 0.22.\n",
       "\n",
       "criterion : {\"gini\", \"entropy\"}, default=\"gini\"\n",
       "    The function to measure the quality of a split. Supported criteria are\n",
       "    \"gini\" for the Gini impurity and \"entropy\" for the information gain.\n",
       "    Note: this parameter is tree-specific.\n",
       "\n",
       "max_depth : int, default=None\n",
       "    The maximum depth of the tree. If None, then nodes are expanded until\n",
       "    all leaves are pure or until all leaves contain less than\n",
       "    min_samples_split samples.\n",
       "\n",
       "min_samples_split : int or float, default=2\n",
       "    The minimum number of samples required to split an internal node:\n",
       "\n",
       "    - If int, then consider `min_samples_split` as the minimum number.\n",
       "    - If float, then `min_samples_split` is a fraction and\n",
       "      `ceil(min_samples_split * n_samples)` are the minimum\n",
       "      number of samples for each split.\n",
       "\n",
       "    .. versionchanged:: 0.18\n",
       "       Added float values for fractions.\n",
       "\n",
       "min_samples_leaf : int or float, default=1\n",
       "    The minimum number of samples required to be at a leaf node.\n",
       "    A split point at any depth will only be considered if it leaves at\n",
       "    least ``min_samples_leaf`` training samples in each of the left and\n",
       "    right branches.  This may have the effect of smoothing the model,\n",
       "    especially in regression.\n",
       "\n",
       "    - If int, then consider `min_samples_leaf` as the minimum number.\n",
       "    - If float, then `min_samples_leaf` is a fraction and\n",
       "      `ceil(min_samples_leaf * n_samples)` are the minimum\n",
       "      number of samples for each node.\n",
       "\n",
       "    .. versionchanged:: 0.18\n",
       "       Added float values for fractions.\n",
       "\n",
       "min_weight_fraction_leaf : float, default=0.0\n",
       "    The minimum weighted fraction of the sum total of weights (of all\n",
       "    the input samples) required to be at a leaf node. Samples have\n",
       "    equal weight when sample_weight is not provided.\n",
       "\n",
       "max_features : {\"auto\", \"sqrt\", \"log2\"}, int or float, default=\"auto\"\n",
       "    The number of features to consider when looking for the best split:\n",
       "\n",
       "    - If int, then consider `max_features` features at each split.\n",
       "    - If float, then `max_features` is a fraction and\n",
       "      `round(max_features * n_features)` features are considered at each\n",
       "      split.\n",
       "    - If \"auto\", then `max_features=sqrt(n_features)`.\n",
       "    - If \"sqrt\", then `max_features=sqrt(n_features)` (same as \"auto\").\n",
       "    - If \"log2\", then `max_features=log2(n_features)`.\n",
       "    - If None, then `max_features=n_features`.\n",
       "\n",
       "    Note: the search for a split does not stop until at least one\n",
       "    valid partition of the node samples is found, even if it requires to\n",
       "    effectively inspect more than ``max_features`` features.\n",
       "\n",
       "max_leaf_nodes : int, default=None\n",
       "    Grow trees with ``max_leaf_nodes`` in best-first fashion.\n",
       "    Best nodes are defined as relative reduction in impurity.\n",
       "    If None then unlimited number of leaf nodes.\n",
       "\n",
       "min_impurity_decrease : float, default=0.0\n",
       "    A node will be split if this split induces a decrease of the impurity\n",
       "    greater than or equal to this value.\n",
       "\n",
       "    The weighted impurity decrease equation is the following::\n",
       "\n",
       "        N_t / N * (impurity - N_t_R / N_t * right_impurity\n",
       "                            - N_t_L / N_t * left_impurity)\n",
       "\n",
       "    where ``N`` is the total number of samples, ``N_t`` is the number of\n",
       "    samples at the current node, ``N_t_L`` is the number of samples in the\n",
       "    left child, and ``N_t_R`` is the number of samples in the right child.\n",
       "\n",
       "    ``N``, ``N_t``, ``N_t_R`` and ``N_t_L`` all refer to the weighted sum,\n",
       "    if ``sample_weight`` is passed.\n",
       "\n",
       "    .. versionadded:: 0.19\n",
       "\n",
       "min_impurity_split : float, default=None\n",
       "    Threshold for early stopping in tree growth. A node will split\n",
       "    if its impurity is above the threshold, otherwise it is a leaf.\n",
       "\n",
       "    .. deprecated:: 0.19\n",
       "       ``min_impurity_split`` has been deprecated in favor of\n",
       "       ``min_impurity_decrease`` in 0.19. The default value of\n",
       "       ``min_impurity_split`` has changed from 1e-7 to 0 in 0.23 and it\n",
       "       will be removed in 1.0 (renaming of 0.25).\n",
       "       Use ``min_impurity_decrease`` instead.\n",
       "\n",
       "bootstrap : bool, default=True\n",
       "    Whether bootstrap samples are used when building trees. If False, the\n",
       "    whole dataset is used to build each tree.\n",
       "\n",
       "oob_score : bool, default=False\n",
       "    Whether to use out-of-bag samples to estimate the generalization score.\n",
       "    Only available if bootstrap=True.\n",
       "\n",
       "n_jobs : int, default=None\n",
       "    The number of jobs to run in parallel. :meth:`fit`, :meth:`predict`,\n",
       "    :meth:`decision_path` and :meth:`apply` are all parallelized over the\n",
       "    trees. ``None`` means 1 unless in a :obj:`joblib.parallel_backend`\n",
       "    context. ``-1`` means using all processors. See :term:`Glossary\n",
       "    <n_jobs>` for more details.\n",
       "\n",
       "random_state : int, RandomState instance or None, default=None\n",
       "    Controls both the randomness of the bootstrapping of the samples used\n",
       "    when building trees (if ``bootstrap=True``) and the sampling of the\n",
       "    features to consider when looking for the best split at each node\n",
       "    (if ``max_features < n_features``).\n",
       "    See :term:`Glossary <random_state>` for details.\n",
       "\n",
       "verbose : int, default=0\n",
       "    Controls the verbosity when fitting and predicting.\n",
       "\n",
       "warm_start : bool, default=False\n",
       "    When set to ``True``, reuse the solution of the previous call to fit\n",
       "    and add more estimators to the ensemble, otherwise, just fit a whole\n",
       "    new forest. See :term:`the Glossary <warm_start>`.\n",
       "\n",
       "class_weight : {\"balanced\", \"balanced_subsample\"}, dict or list of dicts,             default=None\n",
       "    Weights associated with classes in the form ``{class_label: weight}``.\n",
       "    If not given, all classes are supposed to have weight one. For\n",
       "    multi-output problems, a list of dicts can be provided in the same\n",
       "    order as the columns of y.\n",
       "\n",
       "    Note that for multioutput (including multilabel) weights should be\n",
       "    defined for each class of every column in its own dict. For example,\n",
       "    for four-class multilabel classification weights should be\n",
       "    [{0: 1, 1: 1}, {0: 1, 1: 5}, {0: 1, 1: 1}, {0: 1, 1: 1}] instead of\n",
       "    [{1:1}, {2:5}, {3:1}, {4:1}].\n",
       "\n",
       "    The \"balanced\" mode uses the values of y to automatically adjust\n",
       "    weights inversely proportional to class frequencies in the input data\n",
       "    as ``n_samples / (n_classes * np.bincount(y))``\n",
       "\n",
       "    The \"balanced_subsample\" mode is the same as \"balanced\" except that\n",
       "    weights are computed based on the bootstrap sample for every tree\n",
       "    grown.\n",
       "\n",
       "    For multi-output, the weights of each column of y will be multiplied.\n",
       "\n",
       "    Note that these weights will be multiplied with sample_weight (passed\n",
       "    through the fit method) if sample_weight is specified.\n",
       "\n",
       "ccp_alpha : non-negative float, default=0.0\n",
       "    Complexity parameter used for Minimal Cost-Complexity Pruning. The\n",
       "    subtree with the largest cost complexity that is smaller than\n",
       "    ``ccp_alpha`` will be chosen. By default, no pruning is performed. See\n",
       "    :ref:`minimal_cost_complexity_pruning` for details.\n",
       "\n",
       "    .. versionadded:: 0.22\n",
       "\n",
       "max_samples : int or float, default=None\n",
       "    If bootstrap is True, the number of samples to draw from X\n",
       "    to train each base estimator.\n",
       "\n",
       "    - If None (default), then draw `X.shape[0]` samples.\n",
       "    - If int, then draw `max_samples` samples.\n",
       "    - If float, then draw `max_samples * X.shape[0]` samples. Thus,\n",
       "      `max_samples` should be in the interval `(0, 1)`.\n",
       "\n",
       "    .. versionadded:: 0.22\n",
       "\n",
       "Attributes\n",
       "----------\n",
       "base_estimator_ : DecisionTreeClassifier\n",
       "    The child estimator template used to create the collection of fitted\n",
       "    sub-estimators.\n",
       "\n",
       "estimators_ : list of DecisionTreeClassifier\n",
       "    The collection of fitted sub-estimators.\n",
       "\n",
       "classes_ : ndarray of shape (n_classes,) or a list of such arrays\n",
       "    The classes labels (single output problem), or a list of arrays of\n",
       "    class labels (multi-output problem).\n",
       "\n",
       "n_classes_ : int or list\n",
       "    The number of classes (single output problem), or a list containing the\n",
       "    number of classes for each output (multi-output problem).\n",
       "\n",
       "n_features_ : int\n",
       "    The number of features when ``fit`` is performed.\n",
       "\n",
       "n_outputs_ : int\n",
       "    The number of outputs when ``fit`` is performed.\n",
       "\n",
       "feature_importances_ : ndarray of shape (n_features,)\n",
       "    The impurity-based feature importances.\n",
       "    The higher, the more important the feature.\n",
       "    The importance of a feature is computed as the (normalized)\n",
       "    total reduction of the criterion brought by that feature.  It is also\n",
       "    known as the Gini importance.\n",
       "\n",
       "    Warning: impurity-based feature importances can be misleading for\n",
       "    high cardinality features (many unique values). See\n",
       "    :func:`sklearn.inspection.permutation_importance` as an alternative.\n",
       "\n",
       "oob_score_ : float\n",
       "    Score of the training dataset obtained using an out-of-bag estimate.\n",
       "    This attribute exists only when ``oob_score`` is True.\n",
       "\n",
       "oob_decision_function_ : ndarray of shape (n_samples, n_classes)\n",
       "    Decision function computed with out-of-bag estimate on the training\n",
       "    set. If n_estimators is small it might be possible that a data point\n",
       "    was never left out during the bootstrap. In this case,\n",
       "    `oob_decision_function_` might contain NaN. This attribute exists\n",
       "    only when ``oob_score`` is True.\n",
       "\n",
       "See Also\n",
       "--------\n",
       "DecisionTreeClassifier, ExtraTreesClassifier\n",
       "\n",
       "Notes\n",
       "-----\n",
       "The default values for the parameters controlling the size of the trees\n",
       "(e.g. ``max_depth``, ``min_samples_leaf``, etc.) lead to fully grown and\n",
       "unpruned trees which can potentially be very large on some data sets. To\n",
       "reduce memory consumption, the complexity and size of the trees should be\n",
       "controlled by setting those parameter values.\n",
       "\n",
       "The features are always randomly permuted at each split. Therefore,\n",
       "the best found split may vary, even with the same training data,\n",
       "``max_features=n_features`` and ``bootstrap=False``, if the improvement\n",
       "of the criterion is identical for several splits enumerated during the\n",
       "search of the best split. To obtain a deterministic behaviour during\n",
       "fitting, ``random_state`` has to be fixed.\n",
       "\n",
       "References\n",
       "----------\n",
       ".. [1] L. Breiman, \"Random Forests\", Machine Learning, 45(1), 5-32, 2001.\n",
       "\n",
       "Examples\n",
       "--------\n",
       ">>> from sklearn.ensemble import RandomForestClassifier\n",
       ">>> from sklearn.datasets import make_classification\n",
       ">>> X, y = make_classification(n_samples=1000, n_features=4,\n",
       "...                            n_informative=2, n_redundant=0,\n",
       "...                            random_state=0, shuffle=False)\n",
       ">>> clf = RandomForestClassifier(max_depth=2, random_state=0)\n",
       ">>> clf.fit(X, y)\n",
       "RandomForestClassifier(...)\n",
       ">>> print(clf.predict([[0, 0, 0, 0]]))\n",
       "[1]\n"
      ]
     },
     "metadata": {},
     "output_type": "display_data"
    }
   ],
   "source": [
    "?rf_model"
   ]
  },
  {
   "cell_type": "code",
   "execution_count": 136,
   "id": "c401d630-f2b4-499d-ad42-41c8ffd004d6",
   "metadata": {},
   "outputs": [],
   "source": [
    "rf_params = {\"max_depth\": [2,5,8,10],\n",
    "            \"max_features\": [2,5,8],\n",
    "            \"n_estimators\": [10,500,1000],\n",
    "            \"min_samples_split\": [2,5,10]}"
   ]
  },
  {
   "cell_type": "code",
   "execution_count": 137,
   "id": "47ff21d8-c211-4f17-97cc-69cc32521d35",
   "metadata": {},
   "outputs": [],
   "source": [
    "rf_model = RandomForestClassifier()\n",
    "\n",
    "rf_cv_model = GridSearchCV(rf_model, \n",
    "                           rf_params, \n",
    "                           cv = 10, \n",
    "                           n_jobs = -1, \n",
    "                           verbose = 2) "
   ]
  },
  {
   "cell_type": "code",
   "execution_count": 138,
   "id": "c9e9070c-cf97-4b44-93ae-8796ec0bee22",
   "metadata": {},
   "outputs": [
    {
     "name": "stdout",
     "output_type": "stream",
     "text": [
      "Fitting 10 folds for each of 108 candidates, totalling 1080 fits\n"
     ]
    },
    {
     "data": {
      "text/plain": [
       "GridSearchCV(cv=10, estimator=RandomForestClassifier(), n_jobs=-1,\n",
       "             param_grid={'max_depth': [2, 5, 8, 10], 'max_features': [2, 5, 8],\n",
       "                         'min_samples_split': [2, 5, 10],\n",
       "                         'n_estimators': [10, 500, 1000]},\n",
       "             verbose=2)"
      ]
     },
     "execution_count": 138,
     "metadata": {},
     "output_type": "execute_result"
    }
   ],
   "source": [
    "rf_cv_model.fit(X_train, y_train)"
   ]
  },
  {
   "cell_type": "code",
   "execution_count": 139,
   "id": "0c30c7fc-ce74-4025-bd83-767d4f4d7745",
   "metadata": {},
   "outputs": [
    {
     "name": "stdout",
     "output_type": "stream",
     "text": [
      "En iyi parametreler: {'max_depth': 5, 'max_features': 8, 'min_samples_split': 5, 'n_estimators': 10}\n"
     ]
    }
   ],
   "source": [
    "print(\"En iyi parametreler: \" + str(rf_cv_model.best_params_))"
   ]
  },
  {
   "cell_type": "code",
   "execution_count": null,
   "id": "b2433bf7-37f7-4f17-b581-d7cf153d711a",
   "metadata": {},
   "outputs": [],
   "source": [
    "#final"
   ]
  },
  {
   "cell_type": "code",
   "execution_count": 140,
   "id": "d5ad2bbe-b8f7-4a44-8e0a-bd8dde680248",
   "metadata": {},
   "outputs": [
    {
     "data": {
      "text/plain": [
       "RandomForestClassifier(max_depth=5, max_features=8, min_samples_split=5,\n",
       "                       n_estimators=10)"
      ]
     },
     "execution_count": 140,
     "metadata": {},
     "output_type": "execute_result"
    }
   ],
   "source": [
    "rf_tuned = RandomForestClassifier(max_depth = 5, \n",
    "                                  max_features = 8, \n",
    "                                  min_samples_split = 5,\n",
    "                                  n_estimators = 10)\n",
    "\n",
    "rf_tuned.fit(X_train, y_train)"
   ]
  },
  {
   "cell_type": "code",
   "execution_count": 141,
   "id": "d4680a76-31c3-47df-8ae5-780e4c850f65",
   "metadata": {},
   "outputs": [
    {
     "data": {
      "text/plain": [
       "0.7619047619047619"
      ]
     },
     "execution_count": 141,
     "metadata": {},
     "output_type": "execute_result"
    }
   ],
   "source": [
    "y_pred = rf_tuned.predict(X_test)\n",
    "accuracy_score(y_test, y_pred)"
   ]
  },
  {
   "cell_type": "code",
   "execution_count": 142,
   "id": "2ae13825-b869-4004-9ce0-65571186cc2e",
   "metadata": {},
   "outputs": [],
   "source": [
    "Importance = pd.DataFrame({\"Importance\": rf_tuned.feature_importances_*100},\n",
    "                         index = X_train.columns)"
   ]
  },
  {
   "cell_type": "code",
   "execution_count": 154,
   "id": "b1c8a66f-1003-4010-bcbe-0cdbec26b8f7",
   "metadata": {},
   "outputs": [
    {
     "data": {
      "text/plain": [
       "Text(0.5, 0, 'Değişken Önem Düzeyleri')"
      ]
     },
     "execution_count": 154,
     "metadata": {},
     "output_type": "execute_result"
    },
    {
     "data": {
      "image/png": "[encoded data removed]",
      "text/plain": [
       "<Figure size 432x288 with 1 Axes>"
      ]
     },
     "metadata": {
      "needs_background": "light"
     },
     "output_type": "display_data"
    }
   ],
   "source": [
    "Importance.sort_values(by = \"Importance\", \n",
    "                       axis = 0, \n",
    "                       ascending = True).plot(kind =\"barh\", color = \"b\")\n",
    "\n",
    "plt.xlabel(\"Değişken Önem Düzeyleri\")"
   ]
  },
  {
   "cell_type": "markdown",
   "id": "b3caae8d-acf4-4dcf-81c1-6611ded5df44",
   "metadata": {},
   "source": [
    "# Gradient Boosting Machines"
   ]
  },
  {
   "cell_type": "code",
   "execution_count": 144,
   "id": "6dc72617-48b7-4603-9b4d-f84a3db44156",
   "metadata": {},
   "outputs": [],
   "source": [
    "df = diabetes.copy()\n",
    "df = df.dropna()\n",
    "y = df[\"Outcome\"]\n",
    "X = df.drop(['Outcome'], axis=1)\n",
    "#X = df[\"Pregnancies\"]\n",
    "X = pd.DataFrame(X)\n",
    "X_train, X_test, y_train, y_test = train_test_split(X, y, \n",
    "                                                    test_size=0.30, \n",
    "                                                    random_state=42)"
   ]
  },
  {
   "cell_type": "code",
   "execution_count": 145,
   "id": "be1f0bf0-04a1-48ef-a118-8ecc6c4fec76",
   "metadata": {},
   "outputs": [],
   "source": [
    "from sklearn.ensemble import GradientBoostingClassifier"
   ]
  },
  {
   "cell_type": "code",
   "execution_count": 146,
   "id": "c0c513dc-78e5-4101-be61-0a8fa972868d",
   "metadata": {},
   "outputs": [],
   "source": [
    "gbm_model = GradientBoostingClassifier().fit(X_train, y_train)"
   ]
  },
  {
   "cell_type": "code",
   "execution_count": 147,
   "id": "5fe3608b-f3bb-4588-ace9-05ebeb243db2",
   "metadata": {},
   "outputs": [
    {
     "data": {
      "text/plain": [
       "0.7445887445887446"
      ]
     },
     "execution_count": 147,
     "metadata": {},
     "output_type": "execute_result"
    }
   ],
   "source": [
    "y_pred = gbm_model.predict(X_test)\n",
    "accuracy_score(y_test, y_pred)"
   ]
  },
  {
   "cell_type": "markdown",
   "id": "5a548c07-096f-4207-9269-c29e64409bd4",
   "metadata": {},
   "source": [
    "## Model Tuning"
   ]
  },
  {
   "cell_type": "code",
   "execution_count": 148,
   "id": "7f0c2c28-10c2-43c3-b21d-eff5d069959b",
   "metadata": {},
   "outputs": [
    {
     "data": {
      "text/plain": [
       "GradientBoostingClassifier()"
      ]
     },
     "execution_count": 148,
     "metadata": {},
     "output_type": "execute_result"
    }
   ],
   "source": [
    "gbm_model"
   ]
  },
  {
   "cell_type": "code",
   "execution_count": null,
   "id": "5042170b-f7e0-4748-ba33-c8ac66c26308",
   "metadata": {},
   "outputs": [],
   "source": [
    "?gbm_model"
   ]
  },
  {
   "cell_type": "code",
   "execution_count": 149,
   "id": "96de4d05-f2a3-45d9-8bcd-d2aa4462592e",
   "metadata": {},
   "outputs": [],
   "source": [
    "gbm_params = {\"learning_rate\" : [0.001, 0.01, 0.1, 0.05],\n",
    "             \"n_estimators\": [100,500,100],\n",
    "             \"max_depth\": [3,5,10],\n",
    "             \"min_samples_split\" : [2,5,10]}"
   ]
  },
  {
   "cell_type": "code",
   "execution_count": 150,
   "id": "39fe1272-fb6a-48aa-843b-824f9ab6016a",
   "metadata": {},
   "outputs": [],
   "source": [
    "gbm = GradientBoostingClassifier()\n",
    "\n",
    "gbm_cv = GridSearchCV(gbm, gbm_params, cv = 10, n_jobs = -1, verbose = 2)"
   ]
  },
  {
   "cell_type": "code",
   "execution_count": 151,
   "id": "d65e49a9-a6d2-4638-affb-e8599d8302db",
   "metadata": {},
   "outputs": [
    {
     "name": "stdout",
     "output_type": "stream",
     "text": [
      "Fitting 10 folds for each of 108 candidates, totalling 1080 fits\n"
     ]
    },
    {
     "data": {
      "text/plain": [
       "GridSearchCV(cv=10, estimator=GradientBoostingClassifier(), n_jobs=-1,\n",
       "             param_grid={'learning_rate': [0.001, 0.01, 0.1, 0.05],\n",
       "                         'max_depth': [3, 5, 10],\n",
       "                         'min_samples_split': [2, 5, 10],\n",
       "                         'n_estimators': [100, 500, 100]},\n",
       "             verbose=2)"
      ]
     },
     "execution_count": 151,
     "metadata": {},
     "output_type": "execute_result"
    }
   ],
   "source": [
    "gbm_cv.fit(X_train, y_train)"
   ]
  },
  {
   "cell_type": "code",
   "execution_count": 155,
   "id": "c092a838-9473-4373-9ca8-ad1bd2b6ff1f",
   "metadata": {},
   "outputs": [
    {
     "name": "stdout",
     "output_type": "stream",
     "text": [
      "En iyi parametreler: {'learning_rate': 0.1, 'max_depth': 3, 'min_samples_split': 5, 'n_estimators': 100}\n"
     ]
    }
   ],
   "source": [
    "print(\"En iyi parametreler: \" + str(gbm_cv.best_params_))"
   ]
  },
  {
   "cell_type": "code",
   "execution_count": 156,
   "id": "db898c16-8345-42a8-addc-112b5daec198",
   "metadata": {},
   "outputs": [],
   "source": [
    "gbm = GradientBoostingClassifier(learning_rate = 0.1, \n",
    "                                 max_depth = 3,\n",
    "                                min_samples_split = 5,\n",
    "                                n_estimators = 100)"
   ]
  },
  {
   "cell_type": "code",
   "execution_count": null,
   "id": "21fbd14d-1b74-4e3f-b4e9-c7de13e65e5c",
   "metadata": {},
   "outputs": [],
   "source": [
    "y_pred = xgb_tuned.predict(X_test)\n",
    "accuracy_score(y_test, y_pred)"
   ]
  },
  {
   "cell_type": "markdown",
   "id": "0ff9cf78-39f3-4475-b53f-e7c047f09997",
   "metadata": {},
   "source": [
    "# LightGBM"
   ]
  },
  {
   "cell_type": "code",
   "execution_count": null,
   "id": "7d3111f7-6342-4a70-9aef-e8a7c25ad88a",
   "metadata": {},
   "outputs": [],
   "source": [
    "df = diabetes.copy()\n",
    "df = df.dropna()\n",
    "y = df[\"Outcome\"]\n",
    "X = df.drop(['Outcome'], axis=1)\n",
    "#X = df[\"Pregnancies\"]\n",
    "X = pd.DataFrame(X)\n",
    "X_train, X_test, y_train, y_test = train_test_split(X, y, \n",
    "                                                    test_size=0.30, \n",
    "                                                    random_state=42)"
   ]
  },
  {
   "cell_type": "code",
   "execution_count": null,
   "id": "5f205153-3c43-4d9c-8243-dcae09e08e47",
   "metadata": {},
   "outputs": [],
   "source": [
    "#!conda install -c conda-forge lightgbm\n",
    "from lightgbm import LGBMClassifier"
   ]
  },
  {
   "cell_type": "code",
   "execution_count": null,
   "id": "82b4d3d5-9fbe-4403-b444-2504a23287a2",
   "metadata": {},
   "outputs": [],
   "source": [
    "lgbm_model = LGBMClassifier().fit(X_train, y_train)"
   ]
  },
  {
   "cell_type": "code",
   "execution_count": null,
   "id": "3d66fe9a-f194-4716-92e1-bbd8825bc643",
   "metadata": {},
   "outputs": [],
   "source": [
    "y_pred = lgbm_model.predict(X_test)\n",
    "accuracy_score(y_test, y_pred)"
   ]
  },
  {
   "cell_type": "code",
   "execution_count": null,
   "id": "43c3eb57-2cba-456e-b9d5-93564092d7c0",
   "metadata": {},
   "outputs": [],
   "source": [
    "## Model Tuning"
   ]
  },
  {
   "cell_type": "code",
   "execution_count": null,
   "id": "cbfcb1fe-6cdd-42ba-9c15-51f82f56e0f2",
   "metadata": {},
   "outputs": [],
   "source": [
    "lgbm_model"
   ]
  },
  {
   "cell_type": "code",
   "execution_count": null,
   "id": "ae46607b-47e5-46a6-af26-5939fabc0557",
   "metadata": {},
   "outputs": [],
   "source": [
    "?lgbm_model"
   ]
  },
  {
   "cell_type": "code",
   "execution_count": null,
   "id": "f3cf534e-2df3-409b-b596-34012559f514",
   "metadata": {},
   "outputs": [],
   "source": [
    "lgbm_params = {\n",
    "        'n_estimators': [100, 500, 1000, 2000],\n",
    "        'subsample': [0.6, 0.8, 1.0],\n",
    "        'max_depth': [3, 4, 5,6],\n",
    "        'learning_rate': [0.1,0.01,0.02,0.05],\n",
    "        \"min_child_samples\": [5,10,20]}"
   ]
  },
  {
   "cell_type": "code",
   "execution_count": 157,
   "id": "0fcef453-6193-4110-9099-525850c8bf5d",
   "metadata": {},
   "outputs": [],
   "source": [
    "gbm_tuned =  gbm.fit(X_train,y_train)"
   ]
  },
  {
   "cell_type": "code",
   "execution_count": 158,
   "id": "795cb2fa-dbed-40c2-886f-16fca1cbfccd",
   "metadata": {},
   "outputs": [
    {
     "data": {
      "text/plain": [
       "0.7445887445887446"
      ]
     },
     "execution_count": 158,
     "metadata": {},
     "output_type": "execute_result"
    }
   ],
   "source": [
    "y_pred = gbm_tuned.predict(X_test)\n",
    "accuracy_score(y_test, y_pred)"
   ]
  },
  {
   "cell_type": "markdown",
   "id": "d9d8caff-42aa-4416-84d0-d886b0a85240",
   "metadata": {},
   "source": [
    "# XGBoost"
   ]
  },
  {
   "cell_type": "code",
   "execution_count": 159,
   "id": "990a38d2-e618-47ea-816f-6ac9ab38e995",
   "metadata": {},
   "outputs": [],
   "source": [
    "df = diabetes.copy()\n",
    "df = df.dropna()\n",
    "y = df[\"Outcome\"]\n",
    "X = df.drop(['Outcome'], axis=1)\n",
    "#X = df[\"Pregnancies\"]\n",
    "X = pd.DataFrame(X)\n",
    "X_train, X_test, y_train, y_test = train_test_split(X, y, \n",
    "                                                    test_size=0.30, \n",
    "                                                    random_state=42)"
   ]
  },
  {
   "cell_type": "code",
   "execution_count": 160,
   "id": "b44ba827-402e-4190-b5ab-b0609bcb548b",
   "metadata": {},
   "outputs": [
    {
     "name": "stdout",
     "output_type": "stream",
     "text": [
      "Requirement already satisfied: xgboost in c:\\users\\enes\\anaconda3\\lib\\site-packages (1.4.2)\n",
      "Requirement already satisfied: numpy in c:\\users\\enes\\anaconda3\\lib\\site-packages (from xgboost) (1.20.2)\n",
      "Requirement already satisfied: scipy in c:\\users\\enes\\anaconda3\\lib\\site-packages (from xgboost) (1.6.2)\n"
     ]
    }
   ],
   "source": [
    "!pip install xgboost\n",
    "from xgboost import XGBClassifier"
   ]
  },
  {
   "cell_type": "code",
   "execution_count": 161,
   "id": "dc6a15f1-44d7-4266-82e6-c60333f17bc0",
   "metadata": {},
   "outputs": [
    {
     "name": "stdout",
     "output_type": "stream",
     "text": [
      "[22:09:10] WARNING: C:/Users/Administrator/workspace/xgboost-win64_release_1.4.0/src/learner.cc:1095: Starting in XGBoost 1.3.0, the default evaluation metric used with the objective 'binary:logistic' was changed from 'error' to 'logloss'. Explicitly set eval_metric if you'd like to restore the old behavior.\n"
     ]
    }
   ],
   "source": [
    "xgb_model = XGBClassifier().fit(X_train, y_train)"
   ]
  },
  {
   "cell_type": "code",
   "execution_count": 162,
   "id": "54a38bf0-c679-4779-b4a7-042865ad60ca",
   "metadata": {},
   "outputs": [
    {
     "data": {
      "text/plain": [
       "XGBClassifier(base_score=0.5, booster='gbtree', colsample_bylevel=1,\n",
       "              colsample_bynode=1, colsample_bytree=1, gamma=0, gpu_id=-1,\n",
       "              importance_type='gain', interaction_constraints='',\n",
       "              learning_rate=0.300000012, max_delta_step=0, max_depth=6,\n",
       "              min_child_weight=1, missing=nan, monotone_constraints='()',\n",
       "              n_estimators=100, n_jobs=4, num_parallel_tree=1, random_state=0,\n",
       "              reg_alpha=0, reg_lambda=1, scale_pos_weight=1, subsample=1,\n",
       "              tree_method='exact', validate_parameters=1, verbosity=None)"
      ]
     },
     "execution_count": 162,
     "metadata": {},
     "output_type": "execute_result"
    }
   ],
   "source": [
    "xgb_model"
   ]
  },
  {
   "cell_type": "code",
   "execution_count": 163,
   "id": "6db4aec6-f63e-470d-bfd7-1e2bca6a2857",
   "metadata": {},
   "outputs": [
    {
     "data": {
      "text/plain": [
       "0.7359307359307359"
      ]
     },
     "execution_count": 163,
     "metadata": {},
     "output_type": "execute_result"
    }
   ],
   "source": [
    "y_pred = xgb_model.predict(X_test)\n",
    "accuracy_score(y_test, y_pred)"
   ]
  },
  {
   "cell_type": "markdown",
   "id": "b6bf914c-3c33-437d-9ac0-7e068284930f",
   "metadata": {},
   "source": [
    "## Model Tuning"
   ]
  },
  {
   "cell_type": "code",
   "execution_count": 164,
   "id": "a062c1eb-a6dd-480d-9334-fd1ddaa7aab3",
   "metadata": {},
   "outputs": [
    {
     "data": {
      "text/plain": [
       "XGBClassifier(base_score=0.5, booster='gbtree', colsample_bylevel=1,\n",
       "              colsample_bynode=1, colsample_bytree=1, gamma=0, gpu_id=-1,\n",
       "              importance_type='gain', interaction_constraints='',\n",
       "              learning_rate=0.300000012, max_delta_step=0, max_depth=6,\n",
       "              min_child_weight=1, missing=nan, monotone_constraints='()',\n",
       "              n_estimators=100, n_jobs=4, num_parallel_tree=1, random_state=0,\n",
       "              reg_alpha=0, reg_lambda=1, scale_pos_weight=1, subsample=1,\n",
       "              tree_method='exact', validate_parameters=1, verbosity=None)"
      ]
     },
     "execution_count": 164,
     "metadata": {},
     "output_type": "execute_result"
    }
   ],
   "source": [
    "xgb_model"
   ]
  },
  {
   "cell_type": "code",
   "execution_count": null,
   "id": "09e60ad6-0adc-4e0b-9539-f06d382fb803",
   "metadata": {},
   "outputs": [],
   "source": [
    "?xgb_model"
   ]
  },
  {
   "cell_type": "code",
   "execution_count": 165,
   "id": "c82c5ba8-af66-4687-ab42-97c5618da0fa",
   "metadata": {},
   "outputs": [],
   "source": [
    "xgb_params = {\n",
    "        'n_estimators': [100, 500, 1000, 2000],\n",
    "        'subsample': [0.6, 0.8, 1.0],\n",
    "        'max_depth': [3, 4, 5,6],\n",
    "        'learning_rate': [0.1,0.01,0.02,0.05],\n",
    "        \"min_samples_split\": [2,5,10]}"
   ]
  },
  {
   "cell_type": "code",
   "execution_count": 166,
   "id": "83ae9cba-46e3-46f3-aeae-2adc76ca77c0",
   "metadata": {},
   "outputs": [],
   "source": [
    "xgb = XGBClassifier()\n",
    "\n",
    "xgb_cv_model = GridSearchCV(xgb, xgb_params, cv = 10, n_jobs = -1, verbose = 2)"
   ]
  },
  {
   "cell_type": "code",
   "execution_count": 167,
   "id": "70673d51-0707-4c74-bd83-28fece79ee58",
   "metadata": {},
   "outputs": [
    {
     "name": "stdout",
     "output_type": "stream",
     "text": [
      "Fitting 10 folds for each of 576 candidates, totalling 5760 fits\n",
      "[22:31:38] WARNING: C:/Users/Administrator/workspace/xgboost-win64_release_1.4.0/src/learner.cc:573: \n",
      "Parameters: { \"min_samples_split\" } might not be used.\n",
      "\n",
      "  This may not be accurate due to some parameters are only used in language bindings but\n",
      "  passed down to XGBoost core.  Or some parameters are not used but slip through this\n",
      "  verification. Please open an issue if you find above cases.\n",
      "\n",
      "\n",
      "[22:31:38] WARNING: C:/Users/Administrator/workspace/xgboost-win64_release_1.4.0/src/learner.cc:1095: Starting in XGBoost 1.3.0, the default evaluation metric used with the objective 'binary:logistic' was changed from 'error' to 'logloss'. Explicitly set eval_metric if you'd like to restore the old behavior.\n"
     ]
    },
    {
     "data": {
      "text/plain": [
       "GridSearchCV(cv=10,\n",
       "             estimator=XGBClassifier(base_score=None, booster=None,\n",
       "                                     colsample_bylevel=None,\n",
       "                                     colsample_bynode=None,\n",
       "                                     colsample_bytree=None, gamma=None,\n",
       "                                     gpu_id=None, importance_type='gain',\n",
       "                                     interaction_constraints=None,\n",
       "                                     learning_rate=None, max_delta_step=None,\n",
       "                                     max_depth=None, min_child_weight=None,\n",
       "                                     missing=nan, monotone_constraints=None,\n",
       "                                     n_estimators=100, n_job...,\n",
       "                                     num_parallel_tree=None, random_state=None,\n",
       "                                     reg_alpha=None, reg_lambda=None,\n",
       "                                     scale_pos_weight=None, subsample=None,\n",
       "                                     tree_method=None, validate_parameters=None,\n",
       "                                     verbosity=None),\n",
       "             n_jobs=-1,\n",
       "             param_grid={'learning_rate': [0.1, 0.01, 0.02, 0.05],\n",
       "                         'max_depth': [3, 4, 5, 6],\n",
       "                         'min_samples_split': [2, 5, 10],\n",
       "                         'n_estimators': [100, 500, 1000, 2000],\n",
       "                         'subsample': [0.6, 0.8, 1.0]},\n",
       "             verbose=2)"
      ]
     },
     "execution_count": 167,
     "metadata": {},
     "output_type": "execute_result"
    }
   ],
   "source": [
    "xgb_cv_model.fit(X_train, y_train)"
   ]
  },
  {
   "cell_type": "code",
   "execution_count": 168,
   "id": "e6eae37b-0c27-4004-9e1a-dea4d0ed4979",
   "metadata": {},
   "outputs": [
    {
     "data": {
      "text/plain": [
       "{'learning_rate': 0.02,\n",
       " 'max_depth': 3,\n",
       " 'min_samples_split': 2,\n",
       " 'n_estimators': 100,\n",
       " 'subsample': 0.6}"
      ]
     },
     "execution_count": 168,
     "metadata": {},
     "output_type": "execute_result"
    }
   ],
   "source": [
    "xgb_cv_model.best_params_"
   ]
  },
  {
   "cell_type": "code",
   "execution_count": 169,
   "id": "2d5b3e7f-6a8c-4f50-aae9-69184d62871f",
   "metadata": {},
   "outputs": [],
   "source": [
    "xgb = XGBClassifier(learning_rate = 0.02, \n",
    "                    max_depth = 3,\n",
    "                    min_samples_split = 2,\n",
    "                    n_estimators = 100,\n",
    "                    subsample = 0.6)"
   ]
  },
  {
   "cell_type": "code",
   "execution_count": 170,
   "id": "7632e574-90e9-4660-ac4d-422a4a7b4de9",
   "metadata": {},
   "outputs": [
    {
     "name": "stdout",
     "output_type": "stream",
     "text": [
      "[22:32:24] WARNING: C:/Users/Administrator/workspace/xgboost-win64_release_1.4.0/src/learner.cc:573: \n",
      "Parameters: { \"min_samples_split\" } might not be used.\n",
      "\n",
      "  This may not be accurate due to some parameters are only used in language bindings but\n",
      "  passed down to XGBoost core.  Or some parameters are not used but slip through this\n",
      "  verification. Please open an issue if you find above cases.\n",
      "\n",
      "\n",
      "[22:32:24] WARNING: C:/Users/Administrator/workspace/xgboost-win64_release_1.4.0/src/learner.cc:1095: Starting in XGBoost 1.3.0, the default evaluation metric used with the objective 'binary:logistic' was changed from 'error' to 'logloss'. Explicitly set eval_metric if you'd like to restore the old behavior.\n"
     ]
    }
   ],
   "source": [
    "xgb_tuned =  xgb.fit(X_train,y_train)"
   ]
  },
  {
   "cell_type": "code",
   "execution_count": 171,
   "id": "84af7bba-07e2-4732-bef5-af2b278e0b27",
   "metadata": {},
   "outputs": [
    {
     "data": {
      "text/plain": [
       "0.7575757575757576"
      ]
     },
     "execution_count": 171,
     "metadata": {},
     "output_type": "execute_result"
    }
   ],
   "source": [
    "y_pred = xgb_tuned.predict(X_test)\n",
    "accuracy_score(y_test, y_pred)"
   ]
  },
  {
   "cell_type": "code",
   "execution_count": 172,
   "id": "961349b7-705b-4105-a797-b2701886ea84",
   "metadata": {},
   "outputs": [
    {
     "data": {
      "text/plain": [
       "0.7575757575757576"
      ]
     },
     "execution_count": 172,
     "metadata": {},
     "output_type": "execute_result"
    }
   ],
   "source": [
    "y_pred = xgb_tuned.predict(X_test)\n",
    "accuracy_score(y_test, y_pred)"
   ]
  },
  {
   "cell_type": "markdown",
   "id": "c5425dc7-40fe-473e-9cff-a3d6d608c712",
   "metadata": {},
   "source": [
    "# LightGBM"
   ]
  },
  {
   "cell_type": "code",
   "execution_count": 173,
   "id": "213840a5-df74-4f8b-8272-fa2d6cfb40b8",
   "metadata": {},
   "outputs": [],
   "source": [
    "df = diabetes.copy()\n",
    "df = df.dropna()\n",
    "y = df[\"Outcome\"]\n",
    "X = df.drop(['Outcome'], axis=1)\n",
    "#X = df[\"Pregnancies\"]\n",
    "X = pd.DataFrame(X)\n",
    "X_train, X_test, y_train, y_test = train_test_split(X, y, \n",
    "                                                    test_size=0.30, \n",
    "                                                    random_state=42)"
   ]
  },
  {
   "cell_type": "code",
   "execution_count": 174,
   "id": "5bc8a2ca-7003-453b-8ced-9ce81dd15f6d",
   "metadata": {},
   "outputs": [
    {
     "name": "stdout",
     "output_type": "stream",
     "text": [
      "^C\n"
     ]
    }
   ],
   "source": [
    "!conda install -c conda-forge lightgbm\n",
    "from lightgbm import LGBMClassifier"
   ]
  },
  {
   "cell_type": "code",
   "execution_count": 175,
   "id": "21c1b1a4-6430-4ba6-af5c-8864e9a17058",
   "metadata": {},
   "outputs": [],
   "source": [
    "lgbm_model = LGBMClassifier().fit(X_train, y_train)"
   ]
  },
  {
   "cell_type": "code",
   "execution_count": 176,
   "id": "b4bc1a6f-5204-4064-82b1-24559d146ce1",
   "metadata": {},
   "outputs": [
    {
     "data": {
      "text/plain": [
       "0.7229437229437229"
      ]
     },
     "execution_count": 176,
     "metadata": {},
     "output_type": "execute_result"
    }
   ],
   "source": [
    "y_pred = lgbm_model.predict(X_test)\n",
    "accuracy_score(y_test, y_pred)"
   ]
  },
  {
   "cell_type": "markdown",
   "id": "0072a48d-fc97-471c-94e9-8ec24b108f8e",
   "metadata": {},
   "source": [
    "## Model Tuning"
   ]
  },
  {
   "cell_type": "code",
   "execution_count": 177,
   "id": "22539399-9e50-4d29-9f07-e06ecc5f156e",
   "metadata": {},
   "outputs": [
    {
     "data": {
      "text/plain": [
       "LGBMClassifier()"
      ]
     },
     "execution_count": 177,
     "metadata": {},
     "output_type": "execute_result"
    }
   ],
   "source": [
    "lgbm_model"
   ]
  },
  {
   "cell_type": "code",
   "execution_count": null,
   "id": "935f3950-a004-41f8-b8c5-c1f6dcdbbd6f",
   "metadata": {},
   "outputs": [],
   "source": [
    "?lgbm_model"
   ]
  },
  {
   "cell_type": "code",
   "execution_count": 178,
   "id": "ba1b6f48-d00f-48dc-9cd2-af00fe79aa48",
   "metadata": {},
   "outputs": [],
   "source": [
    "lgbm_params = {\n",
    "        'n_estimators': [100, 500, 1000, 2000],\n",
    "        'subsample': [0.6, 0.8, 1.0],\n",
    "        'max_depth': [3, 4, 5,6],\n",
    "        'learning_rate': [0.1,0.01,0.02,0.05],\n",
    "        \"min_child_samples\": [5,10,20]}"
   ]
  },
  {
   "cell_type": "code",
   "execution_count": 179,
   "id": "c78fd468-45e6-46eb-8b43-a1dcf7973ede",
   "metadata": {},
   "outputs": [],
   "source": [
    "lgbm = LGBMClassifier()\n",
    "\n",
    "lgbm_cv_model = GridSearchCV(lgbm, lgbm_params, \n",
    "                             cv = 10, \n",
    "                             n_jobs = -1, \n",
    "                             verbose = 2)\n",
    "\n"
   ]
  },
  {
   "cell_type": "code",
   "execution_count": 180,
   "id": "4c33069e-4b6b-480c-9773-4d87718bdb79",
   "metadata": {},
   "outputs": [
    {
     "name": "stdout",
     "output_type": "stream",
     "text": [
      "Fitting 10 folds for each of 576 candidates, totalling 5760 fits\n"
     ]
    },
    {
     "data": {
      "text/plain": [
       "GridSearchCV(cv=10, estimator=LGBMClassifier(), n_jobs=-1,\n",
       "             param_grid={'learning_rate': [0.1, 0.01, 0.02, 0.05],\n",
       "                         'max_depth': [3, 4, 5, 6],\n",
       "                         'min_child_samples': [5, 10, 20],\n",
       "                         'n_estimators': [100, 500, 1000, 2000],\n",
       "                         'subsample': [0.6, 0.8, 1.0]},\n",
       "             verbose=2)"
      ]
     },
     "execution_count": 180,
     "metadata": {},
     "output_type": "execute_result"
    }
   ],
   "source": [
    "lgbm_cv_model.fit(X_train, y_train)"
   ]
  },
  {
   "cell_type": "code",
   "execution_count": 181,
   "id": "85f79a0e-b8a7-4daf-8dce-fe76cedbc1e9",
   "metadata": {},
   "outputs": [
    {
     "data": {
      "text/plain": [
       "{'learning_rate': 0.05,\n",
       " 'max_depth': 3,\n",
       " 'min_child_samples': 20,\n",
       " 'n_estimators': 100,\n",
       " 'subsample': 0.6}"
      ]
     },
     "execution_count": 181,
     "metadata": {},
     "output_type": "execute_result"
    }
   ],
   "source": [
    "lgbm_cv_model.best_params_"
   ]
  },
  {
   "cell_type": "code",
   "execution_count": 182,
   "id": "5af74dc2-c95b-4a5d-91c2-be44001103ea",
   "metadata": {},
   "outputs": [],
   "source": [
    "lgbm = LGBMClassifier(learning_rate = 0.05, \n",
    "                       max_depth = 3,\n",
    "                       subsample = 0.6,\n",
    "                       n_estimators = 100,\n",
    "                       min_child_samples = 20)"
   ]
  },
  {
   "cell_type": "code",
   "execution_count": 183,
   "id": "26fbc74e-3ef7-4743-8bf5-cccb513a1cc3",
   "metadata": {},
   "outputs": [],
   "source": [
    "lgbm_tuned = lgbm.fit(X_train,y_train)"
   ]
  },
  {
   "cell_type": "code",
   "execution_count": 184,
   "id": "2396a369-a73f-4eb3-97a6-0053449f7936",
   "metadata": {},
   "outputs": [
    {
     "data": {
      "text/plain": [
       "0.7489177489177489"
      ]
     },
     "execution_count": 184,
     "metadata": {},
     "output_type": "execute_result"
    }
   ],
   "source": [
    "y_pred = lgbm_tuned.predict(X_test)\n",
    "accuracy_score(y_test, y_pred)"
   ]
  },
  {
   "cell_type": "markdown",
   "id": "3222debb-0f52-4fc6-9167-284f9123b27e",
   "metadata": {},
   "source": [
    "# CatBoost"
   ]
  },
  {
   "cell_type": "markdown",
   "id": "dc1b16a8-20e6-48d7-8027-5285983be33a",
   "metadata": {},
   "source": [
    "## Model & Tahmin"
   ]
  },
  {
   "cell_type": "code",
   "execution_count": 185,
   "id": "1fed2a39-a895-4a11-8210-36b20512eb33",
   "metadata": {},
   "outputs": [],
   "source": [
    "df = diabetes.copy()\n",
    "df = df.dropna()\n",
    "y = df[\"Outcome\"]\n",
    "X = df.drop(['Outcome'], axis=1)\n",
    "#X = df[\"Pregnancies\"]\n",
    "X = pd.DataFrame(X)\n",
    "X_train, X_test, y_train, y_test = train_test_split(X, y, \n",
    "                                                    test_size=0.30, \n",
    "                                                    random_state=42)"
   ]
  },
  {
   "cell_type": "code",
   "execution_count": 186,
   "id": "cf72d2bd-488a-4fe3-9660-1e55d99e8c8f",
   "metadata": {},
   "outputs": [
    {
     "name": "stdout",
     "output_type": "stream",
     "text": [
      "Requirement already satisfied: catboost in c:\\users\\enes\\anaconda3\\lib\\site-packages (0.26.1)\n",
      "Requirement already satisfied: scipy in c:\\users\\enes\\anaconda3\\lib\\site-packages (from catboost) (1.6.2)\n",
      "Requirement already satisfied: graphviz in c:\\users\\enes\\anaconda3\\lib\\site-packages (from catboost) (0.17)\n",
      "Requirement already satisfied: matplotlib in c:\\users\\enes\\anaconda3\\lib\\site-packages (from catboost) (3.3.4)\n",
      "Requirement already satisfied: pandas>=0.24.0 in c:\\users\\enes\\anaconda3\\lib\\site-packages (from catboost) (1.2.5)\n",
      "Requirement already satisfied: six in c:\\users\\enes\\anaconda3\\lib\\site-packages (from catboost) (1.16.0)\n",
      "Requirement already satisfied: plotly in c:\\users\\enes\\anaconda3\\lib\\site-packages (from catboost) (5.1.0)\n",
      "Requirement already satisfied: numpy>=1.16.0 in c:\\users\\enes\\anaconda3\\lib\\site-packages (from catboost) (1.20.2)\n",
      "Requirement already satisfied: pytz>=2017.3 in c:\\users\\enes\\anaconda3\\lib\\site-packages (from pandas>=0.24.0->catboost) (2021.1)\n",
      "Requirement already satisfied: python-dateutil>=2.7.3 in c:\\users\\enes\\anaconda3\\lib\\site-packages (from pandas>=0.24.0->catboost) (2.8.1)\n",
      "Requirement already satisfied: cycler>=0.10 in c:\\users\\enes\\anaconda3\\lib\\site-packages (from matplotlib->catboost) (0.10.0)\n",
      "Requirement already satisfied: pillow>=6.2.0 in c:\\users\\enes\\anaconda3\\lib\\site-packages (from matplotlib->catboost) (8.2.0)\n",
      "Requirement already satisfied: pyparsing!=2.0.4,!=2.1.2,!=2.1.6,>=2.0.3 in c:\\users\\enes\\anaconda3\\lib\\site-packages (from matplotlib->catboost) (2.4.7)\n",
      "Requirement already satisfied: kiwisolver>=1.0.1 in c:\\users\\enes\\anaconda3\\lib\\site-packages (from matplotlib->catboost) (1.3.1)\n",
      "Requirement already satisfied: tenacity>=6.2.0 in c:\\users\\enes\\anaconda3\\lib\\site-packages (from plotly->catboost) (8.0.1)\n"
     ]
    }
   ],
   "source": [
    "!pip install catboost\n",
    "from catboost import CatBoostClassifier"
   ]
  },
  {
   "cell_type": "code",
   "execution_count": 188,
   "id": "6908e659-204e-4596-876c-a06cb8ca71af",
   "metadata": {
    "collapsed": true,
    "jupyter": {
     "outputs_hidden": true
    },
    "tags": []
   },
   "outputs": [
    {
     "name": "stdout",
     "output_type": "stream",
     "text": [
      "Learning rate set to 0.0079\n",
      "0:\tlearn: 0.6879822\ttotal: 1.87ms\tremaining: 1.86s\n",
      "1:\tlearn: 0.6843544\ttotal: 3.79ms\tremaining: 1.89s\n",
      "2:\tlearn: 0.6805937\ttotal: 5.41ms\tremaining: 1.8s\n",
      "3:\tlearn: 0.6766011\ttotal: 6.92ms\tremaining: 1.72s\n",
      "4:\tlearn: 0.6721103\ttotal: 8.6ms\tremaining: 1.71s\n",
      "5:\tlearn: 0.6681927\ttotal: 10.3ms\tremaining: 1.71s\n",
      "6:\tlearn: 0.6642263\ttotal: 11.8ms\tremaining: 1.68s\n",
      "7:\tlearn: 0.6603263\ttotal: 13.4ms\tremaining: 1.67s\n",
      "8:\tlearn: 0.6563030\ttotal: 15.5ms\tremaining: 1.71s\n",
      "9:\tlearn: 0.6528911\ttotal: 18.2ms\tremaining: 1.8s\n",
      "10:\tlearn: 0.6488276\ttotal: 20.1ms\tremaining: 1.81s\n",
      "11:\tlearn: 0.6455457\ttotal: 21.5ms\tremaining: 1.77s\n",
      "12:\tlearn: 0.6419444\ttotal: 22.9ms\tremaining: 1.74s\n",
      "13:\tlearn: 0.6374939\ttotal: 24.3ms\tremaining: 1.71s\n",
      "14:\tlearn: 0.6340194\ttotal: 25.8ms\tremaining: 1.69s\n",
      "15:\tlearn: 0.6304776\ttotal: 27.4ms\tremaining: 1.69s\n",
      "16:\tlearn: 0.6267531\ttotal: 29.1ms\tremaining: 1.68s\n",
      "17:\tlearn: 0.6238199\ttotal: 30.6ms\tremaining: 1.67s\n",
      "18:\tlearn: 0.6204938\ttotal: 32.7ms\tremaining: 1.69s\n",
      "19:\tlearn: 0.6170669\ttotal: 34.1ms\tremaining: 1.67s\n",
      "20:\tlearn: 0.6133936\ttotal: 35.5ms\tremaining: 1.65s\n",
      "21:\tlearn: 0.6105467\ttotal: 37ms\tremaining: 1.64s\n",
      "22:\tlearn: 0.6070055\ttotal: 38.3ms\tremaining: 1.63s\n",
      "23:\tlearn: 0.6036988\ttotal: 39.6ms\tremaining: 1.61s\n",
      "24:\tlearn: 0.6005906\ttotal: 41ms\tremaining: 1.6s\n",
      "25:\tlearn: 0.5978029\ttotal: 42.3ms\tremaining: 1.58s\n",
      "26:\tlearn: 0.5948687\ttotal: 43.7ms\tremaining: 1.57s\n",
      "27:\tlearn: 0.5920321\ttotal: 45.1ms\tremaining: 1.56s\n",
      "28:\tlearn: 0.5885543\ttotal: 46.5ms\tremaining: 1.55s\n",
      "29:\tlearn: 0.5848739\ttotal: 48.9ms\tremaining: 1.58s\n",
      "30:\tlearn: 0.5814562\ttotal: 50.5ms\tremaining: 1.58s\n",
      "31:\tlearn: 0.5783158\ttotal: 51.9ms\tremaining: 1.57s\n",
      "32:\tlearn: 0.5754880\ttotal: 53.2ms\tremaining: 1.56s\n",
      "33:\tlearn: 0.5737960\ttotal: 54.7ms\tremaining: 1.55s\n",
      "34:\tlearn: 0.5713558\ttotal: 56.2ms\tremaining: 1.55s\n",
      "35:\tlearn: 0.5687880\ttotal: 57.6ms\tremaining: 1.54s\n",
      "36:\tlearn: 0.5660068\ttotal: 59.5ms\tremaining: 1.55s\n",
      "37:\tlearn: 0.5642053\ttotal: 61ms\tremaining: 1.54s\n",
      "38:\tlearn: 0.5618905\ttotal: 65.7ms\tremaining: 1.62s\n",
      "39:\tlearn: 0.5596534\ttotal: 67.3ms\tremaining: 1.61s\n",
      "40:\tlearn: 0.5576328\ttotal: 69.9ms\tremaining: 1.63s\n",
      "41:\tlearn: 0.5553185\ttotal: 71.8ms\tremaining: 1.64s\n",
      "42:\tlearn: 0.5531257\ttotal: 75.4ms\tremaining: 1.68s\n",
      "43:\tlearn: 0.5501080\ttotal: 80ms\tremaining: 1.74s\n",
      "44:\tlearn: 0.5479930\ttotal: 83ms\tremaining: 1.76s\n",
      "45:\tlearn: 0.5456177\ttotal: 85.6ms\tremaining: 1.78s\n",
      "46:\tlearn: 0.5438786\ttotal: 89.7ms\tremaining: 1.82s\n",
      "47:\tlearn: 0.5419967\ttotal: 94.4ms\tremaining: 1.87s\n",
      "48:\tlearn: 0.5394665\ttotal: 96.3ms\tremaining: 1.87s\n",
      "49:\tlearn: 0.5376058\ttotal: 97.6ms\tremaining: 1.85s\n",
      "50:\tlearn: 0.5352902\ttotal: 100ms\tremaining: 1.87s\n",
      "51:\tlearn: 0.5332041\ttotal: 102ms\tremaining: 1.86s\n",
      "52:\tlearn: 0.5306692\ttotal: 104ms\tremaining: 1.86s\n",
      "53:\tlearn: 0.5284961\ttotal: 105ms\tremaining: 1.85s\n",
      "54:\tlearn: 0.5266646\ttotal: 107ms\tremaining: 1.83s\n",
      "55:\tlearn: 0.5245416\ttotal: 110ms\tremaining: 1.85s\n",
      "56:\tlearn: 0.5225713\ttotal: 111ms\tremaining: 1.84s\n",
      "57:\tlearn: 0.5206087\ttotal: 113ms\tremaining: 1.83s\n",
      "58:\tlearn: 0.5182788\ttotal: 114ms\tremaining: 1.81s\n",
      "59:\tlearn: 0.5160537\ttotal: 115ms\tremaining: 1.8s\n",
      "60:\tlearn: 0.5146418\ttotal: 116ms\tremaining: 1.79s\n",
      "61:\tlearn: 0.5133434\ttotal: 118ms\tremaining: 1.78s\n",
      "62:\tlearn: 0.5120091\ttotal: 119ms\tremaining: 1.77s\n",
      "63:\tlearn: 0.5105931\ttotal: 120ms\tremaining: 1.76s\n",
      "64:\tlearn: 0.5082239\ttotal: 121ms\tremaining: 1.75s\n",
      "65:\tlearn: 0.5062303\ttotal: 124ms\tremaining: 1.76s\n",
      "66:\tlearn: 0.5046140\ttotal: 126ms\tremaining: 1.75s\n",
      "67:\tlearn: 0.5026774\ttotal: 127ms\tremaining: 1.74s\n",
      "68:\tlearn: 0.5014878\ttotal: 128ms\tremaining: 1.73s\n",
      "69:\tlearn: 0.5001072\ttotal: 130ms\tremaining: 1.72s\n",
      "70:\tlearn: 0.4986150\ttotal: 131ms\tremaining: 1.72s\n",
      "71:\tlearn: 0.4968047\ttotal: 133ms\tremaining: 1.71s\n",
      "72:\tlearn: 0.4953632\ttotal: 135ms\tremaining: 1.71s\n",
      "73:\tlearn: 0.4938498\ttotal: 137ms\tremaining: 1.71s\n",
      "74:\tlearn: 0.4922801\ttotal: 139ms\tremaining: 1.72s\n",
      "75:\tlearn: 0.4908261\ttotal: 141ms\tremaining: 1.71s\n",
      "76:\tlearn: 0.4892363\ttotal: 145ms\tremaining: 1.73s\n",
      "77:\tlearn: 0.4876098\ttotal: 146ms\tremaining: 1.73s\n",
      "78:\tlearn: 0.4862050\ttotal: 148ms\tremaining: 1.72s\n",
      "79:\tlearn: 0.4850063\ttotal: 150ms\tremaining: 1.72s\n",
      "80:\tlearn: 0.4839806\ttotal: 155ms\tremaining: 1.75s\n",
      "81:\tlearn: 0.4823197\ttotal: 157ms\tremaining: 1.75s\n",
      "82:\tlearn: 0.4806850\ttotal: 159ms\tremaining: 1.75s\n",
      "83:\tlearn: 0.4791040\ttotal: 160ms\tremaining: 1.74s\n",
      "84:\tlearn: 0.4776899\ttotal: 162ms\tremaining: 1.75s\n",
      "85:\tlearn: 0.4760505\ttotal: 164ms\tremaining: 1.74s\n",
      "86:\tlearn: 0.4750202\ttotal: 165ms\tremaining: 1.73s\n",
      "87:\tlearn: 0.4736074\ttotal: 167ms\tremaining: 1.74s\n",
      "88:\tlearn: 0.4721145\ttotal: 169ms\tremaining: 1.73s\n",
      "89:\tlearn: 0.4709314\ttotal: 170ms\tremaining: 1.72s\n",
      "90:\tlearn: 0.4693651\ttotal: 172ms\tremaining: 1.71s\n",
      "91:\tlearn: 0.4679810\ttotal: 173ms\tremaining: 1.71s\n",
      "92:\tlearn: 0.4665089\ttotal: 174ms\tremaining: 1.7s\n",
      "93:\tlearn: 0.4650662\ttotal: 175ms\tremaining: 1.69s\n",
      "94:\tlearn: 0.4638027\ttotal: 177ms\tremaining: 1.68s\n",
      "95:\tlearn: 0.4625580\ttotal: 178ms\tremaining: 1.68s\n",
      "96:\tlearn: 0.4611601\ttotal: 179ms\tremaining: 1.67s\n",
      "97:\tlearn: 0.4601908\ttotal: 181ms\tremaining: 1.66s\n",
      "98:\tlearn: 0.4589758\ttotal: 184ms\tremaining: 1.67s\n",
      "99:\tlearn: 0.4579517\ttotal: 186ms\tremaining: 1.67s\n",
      "100:\tlearn: 0.4568376\ttotal: 187ms\tremaining: 1.67s\n",
      "101:\tlearn: 0.4560033\ttotal: 189ms\tremaining: 1.66s\n",
      "102:\tlearn: 0.4550106\ttotal: 190ms\tremaining: 1.66s\n",
      "103:\tlearn: 0.4538100\ttotal: 192ms\tremaining: 1.65s\n",
      "104:\tlearn: 0.4525246\ttotal: 194ms\tremaining: 1.65s\n",
      "105:\tlearn: 0.4516290\ttotal: 196ms\tremaining: 1.65s\n",
      "106:\tlearn: 0.4505692\ttotal: 199ms\tremaining: 1.66s\n",
      "107:\tlearn: 0.4493491\ttotal: 201ms\tremaining: 1.66s\n",
      "108:\tlearn: 0.4484229\ttotal: 202ms\tremaining: 1.66s\n",
      "109:\tlearn: 0.4475237\ttotal: 204ms\tremaining: 1.65s\n",
      "110:\tlearn: 0.4462811\ttotal: 206ms\tremaining: 1.65s\n",
      "111:\tlearn: 0.4455498\ttotal: 209ms\tremaining: 1.66s\n",
      "112:\tlearn: 0.4447490\ttotal: 210ms\tremaining: 1.65s\n",
      "113:\tlearn: 0.4436312\ttotal: 212ms\tremaining: 1.65s\n",
      "114:\tlearn: 0.4426529\ttotal: 213ms\tremaining: 1.64s\n",
      "115:\tlearn: 0.4419532\ttotal: 215ms\tremaining: 1.64s\n",
      "116:\tlearn: 0.4408642\ttotal: 216ms\tremaining: 1.63s\n",
      "117:\tlearn: 0.4400705\ttotal: 217ms\tremaining: 1.62s\n",
      "118:\tlearn: 0.4392703\ttotal: 219ms\tremaining: 1.62s\n",
      "119:\tlearn: 0.4382235\ttotal: 220ms\tremaining: 1.61s\n",
      "120:\tlearn: 0.4373214\ttotal: 221ms\tremaining: 1.61s\n",
      "121:\tlearn: 0.4364590\ttotal: 223ms\tremaining: 1.6s\n",
      "122:\tlearn: 0.4358042\ttotal: 224ms\tremaining: 1.6s\n",
      "123:\tlearn: 0.4346576\ttotal: 226ms\tremaining: 1.6s\n",
      "124:\tlearn: 0.4334821\ttotal: 228ms\tremaining: 1.59s\n",
      "125:\tlearn: 0.4328019\ttotal: 229ms\tremaining: 1.59s\n",
      "126:\tlearn: 0.4319468\ttotal: 230ms\tremaining: 1.58s\n",
      "127:\tlearn: 0.4313707\ttotal: 232ms\tremaining: 1.58s\n",
      "128:\tlearn: 0.4305355\ttotal: 233ms\tremaining: 1.57s\n",
      "129:\tlearn: 0.4298462\ttotal: 235ms\tremaining: 1.57s\n",
      "130:\tlearn: 0.4292290\ttotal: 236ms\tremaining: 1.56s\n",
      "131:\tlearn: 0.4280695\ttotal: 237ms\tremaining: 1.56s\n",
      "132:\tlearn: 0.4270546\ttotal: 238ms\tremaining: 1.55s\n",
      "133:\tlearn: 0.4260827\ttotal: 240ms\tremaining: 1.55s\n",
      "134:\tlearn: 0.4253427\ttotal: 243ms\tremaining: 1.55s\n",
      "135:\tlearn: 0.4245101\ttotal: 244ms\tremaining: 1.55s\n",
      "136:\tlearn: 0.4237595\ttotal: 246ms\tremaining: 1.55s\n",
      "137:\tlearn: 0.4228898\ttotal: 248ms\tremaining: 1.55s\n",
      "138:\tlearn: 0.4221720\ttotal: 249ms\tremaining: 1.54s\n",
      "139:\tlearn: 0.4214328\ttotal: 251ms\tremaining: 1.54s\n",
      "140:\tlearn: 0.4206441\ttotal: 253ms\tremaining: 1.54s\n",
      "141:\tlearn: 0.4194387\ttotal: 254ms\tremaining: 1.53s\n",
      "142:\tlearn: 0.4190300\ttotal: 257ms\tremaining: 1.54s\n",
      "143:\tlearn: 0.4183890\ttotal: 259ms\tremaining: 1.54s\n",
      "144:\tlearn: 0.4178356\ttotal: 260ms\tremaining: 1.53s\n",
      "145:\tlearn: 0.4169107\ttotal: 261ms\tremaining: 1.53s\n",
      "146:\tlearn: 0.4165857\ttotal: 263ms\tremaining: 1.52s\n",
      "147:\tlearn: 0.4157928\ttotal: 264ms\tremaining: 1.52s\n",
      "148:\tlearn: 0.4151702\ttotal: 265ms\tremaining: 1.51s\n",
      "149:\tlearn: 0.4140647\ttotal: 266ms\tremaining: 1.51s\n",
      "150:\tlearn: 0.4134993\ttotal: 268ms\tremaining: 1.51s\n",
      "151:\tlearn: 0.4129717\ttotal: 270ms\tremaining: 1.5s\n",
      "152:\tlearn: 0.4118548\ttotal: 272ms\tremaining: 1.51s\n",
      "153:\tlearn: 0.4111608\ttotal: 274ms\tremaining: 1.5s\n",
      "154:\tlearn: 0.4104780\ttotal: 275ms\tremaining: 1.5s\n",
      "155:\tlearn: 0.4098930\ttotal: 276ms\tremaining: 1.49s\n",
      "156:\tlearn: 0.4089691\ttotal: 277ms\tremaining: 1.49s\n",
      "157:\tlearn: 0.4087054\ttotal: 278ms\tremaining: 1.48s\n",
      "158:\tlearn: 0.4077668\ttotal: 279ms\tremaining: 1.48s\n",
      "159:\tlearn: 0.4072638\ttotal: 280ms\tremaining: 1.47s\n",
      "160:\tlearn: 0.4067148\ttotal: 282ms\tremaining: 1.47s\n",
      "161:\tlearn: 0.4060385\ttotal: 283ms\tremaining: 1.46s\n",
      "162:\tlearn: 0.4055288\ttotal: 284ms\tremaining: 1.46s\n",
      "163:\tlearn: 0.4047306\ttotal: 285ms\tremaining: 1.45s\n",
      "164:\tlearn: 0.4037789\ttotal: 287ms\tremaining: 1.45s\n",
      "165:\tlearn: 0.4031834\ttotal: 288ms\tremaining: 1.45s\n",
      "166:\tlearn: 0.4026181\ttotal: 289ms\tremaining: 1.44s\n",
      "167:\tlearn: 0.4019249\ttotal: 291ms\tremaining: 1.44s\n",
      "168:\tlearn: 0.4011902\ttotal: 292ms\tremaining: 1.43s\n",
      "169:\tlearn: 0.4004675\ttotal: 293ms\tremaining: 1.43s\n",
      "170:\tlearn: 0.3998937\ttotal: 294ms\tremaining: 1.43s\n",
      "171:\tlearn: 0.3990494\ttotal: 295ms\tremaining: 1.42s\n",
      "172:\tlearn: 0.3984273\ttotal: 296ms\tremaining: 1.42s\n",
      "173:\tlearn: 0.3978255\ttotal: 297ms\tremaining: 1.41s\n",
      "174:\tlearn: 0.3969608\ttotal: 299ms\tremaining: 1.41s\n",
      "175:\tlearn: 0.3965716\ttotal: 300ms\tremaining: 1.4s\n",
      "176:\tlearn: 0.3958000\ttotal: 301ms\tremaining: 1.4s\n",
      "177:\tlearn: 0.3950526\ttotal: 303ms\tremaining: 1.4s\n",
      "178:\tlearn: 0.3943012\ttotal: 304ms\tremaining: 1.39s\n",
      "179:\tlearn: 0.3936510\ttotal: 305ms\tremaining: 1.39s\n",
      "180:\tlearn: 0.3931304\ttotal: 306ms\tremaining: 1.39s\n",
      "181:\tlearn: 0.3922809\ttotal: 307ms\tremaining: 1.38s\n",
      "182:\tlearn: 0.3916910\ttotal: 309ms\tremaining: 1.38s\n",
      "183:\tlearn: 0.3911177\ttotal: 310ms\tremaining: 1.37s\n",
      "184:\tlearn: 0.3902377\ttotal: 311ms\tremaining: 1.37s\n",
      "185:\tlearn: 0.3896318\ttotal: 312ms\tremaining: 1.37s\n",
      "186:\tlearn: 0.3889018\ttotal: 314ms\tremaining: 1.36s\n",
      "187:\tlearn: 0.3884345\ttotal: 315ms\tremaining: 1.36s\n",
      "188:\tlearn: 0.3880162\ttotal: 316ms\tremaining: 1.35s\n",
      "189:\tlearn: 0.3873354\ttotal: 318ms\tremaining: 1.35s\n",
      "190:\tlearn: 0.3865013\ttotal: 319ms\tremaining: 1.35s\n",
      "191:\tlearn: 0.3858420\ttotal: 320ms\tremaining: 1.35s\n",
      "192:\tlearn: 0.3851892\ttotal: 321ms\tremaining: 1.34s\n",
      "193:\tlearn: 0.3846598\ttotal: 323ms\tremaining: 1.34s\n",
      "194:\tlearn: 0.3840737\ttotal: 324ms\tremaining: 1.34s\n",
      "195:\tlearn: 0.3837046\ttotal: 325ms\tremaining: 1.33s\n",
      "196:\tlearn: 0.3832085\ttotal: 326ms\tremaining: 1.33s\n",
      "197:\tlearn: 0.3827921\ttotal: 327ms\tremaining: 1.32s\n",
      "198:\tlearn: 0.3823105\ttotal: 328ms\tremaining: 1.32s\n",
      "199:\tlearn: 0.3818350\ttotal: 329ms\tremaining: 1.32s\n",
      "200:\tlearn: 0.3815497\ttotal: 331ms\tremaining: 1.31s\n",
      "201:\tlearn: 0.3809861\ttotal: 333ms\tremaining: 1.31s\n",
      "202:\tlearn: 0.3805201\ttotal: 334ms\tremaining: 1.31s\n",
      "203:\tlearn: 0.3800554\ttotal: 336ms\tremaining: 1.31s\n",
      "204:\tlearn: 0.3796176\ttotal: 337ms\tremaining: 1.31s\n",
      "205:\tlearn: 0.3791170\ttotal: 338ms\tremaining: 1.3s\n",
      "206:\tlearn: 0.3783718\ttotal: 340ms\tremaining: 1.3s\n",
      "207:\tlearn: 0.3780501\ttotal: 341ms\tremaining: 1.3s\n",
      "208:\tlearn: 0.3773893\ttotal: 342ms\tremaining: 1.3s\n",
      "209:\tlearn: 0.3766736\ttotal: 344ms\tremaining: 1.29s\n",
      "210:\tlearn: 0.3762009\ttotal: 346ms\tremaining: 1.29s\n",
      "211:\tlearn: 0.3754611\ttotal: 348ms\tremaining: 1.29s\n",
      "212:\tlearn: 0.3750611\ttotal: 349ms\tremaining: 1.29s\n",
      "213:\tlearn: 0.3744271\ttotal: 350ms\tremaining: 1.29s\n",
      "214:\tlearn: 0.3738456\ttotal: 352ms\tremaining: 1.28s\n",
      "215:\tlearn: 0.3730705\ttotal: 353ms\tremaining: 1.28s\n",
      "216:\tlearn: 0.3725167\ttotal: 355ms\tremaining: 1.28s\n",
      "217:\tlearn: 0.3718862\ttotal: 356ms\tremaining: 1.28s\n",
      "218:\tlearn: 0.3714487\ttotal: 357ms\tremaining: 1.27s\n",
      "219:\tlearn: 0.3709871\ttotal: 359ms\tremaining: 1.27s\n",
      "220:\tlearn: 0.3707378\ttotal: 360ms\tremaining: 1.27s\n",
      "221:\tlearn: 0.3704158\ttotal: 363ms\tremaining: 1.27s\n",
      "222:\tlearn: 0.3699811\ttotal: 364ms\tremaining: 1.27s\n",
      "223:\tlearn: 0.3695598\ttotal: 365ms\tremaining: 1.26s\n",
      "224:\tlearn: 0.3689447\ttotal: 367ms\tremaining: 1.26s\n",
      "225:\tlearn: 0.3685225\ttotal: 368ms\tremaining: 1.26s\n",
      "226:\tlearn: 0.3680421\ttotal: 369ms\tremaining: 1.26s\n",
      "227:\tlearn: 0.3676042\ttotal: 371ms\tremaining: 1.25s\n",
      "228:\tlearn: 0.3671906\ttotal: 372ms\tremaining: 1.25s\n",
      "229:\tlearn: 0.3668212\ttotal: 373ms\tremaining: 1.25s\n",
      "230:\tlearn: 0.3663692\ttotal: 374ms\tremaining: 1.25s\n",
      "231:\tlearn: 0.3659467\ttotal: 377ms\tremaining: 1.25s\n",
      "232:\tlearn: 0.3655393\ttotal: 379ms\tremaining: 1.25s\n",
      "233:\tlearn: 0.3651726\ttotal: 380ms\tremaining: 1.24s\n",
      "234:\tlearn: 0.3647837\ttotal: 381ms\tremaining: 1.24s\n",
      "235:\tlearn: 0.3641776\ttotal: 383ms\tremaining: 1.24s\n",
      "236:\tlearn: 0.3638442\ttotal: 385ms\tremaining: 1.24s\n",
      "237:\tlearn: 0.3635195\ttotal: 386ms\tremaining: 1.24s\n",
      "238:\tlearn: 0.3631796\ttotal: 387ms\tremaining: 1.23s\n",
      "239:\tlearn: 0.3626676\ttotal: 389ms\tremaining: 1.23s\n",
      "240:\tlearn: 0.3622121\ttotal: 391ms\tremaining: 1.23s\n",
      "241:\tlearn: 0.3619048\ttotal: 392ms\tremaining: 1.23s\n",
      "242:\tlearn: 0.3615063\ttotal: 393ms\tremaining: 1.23s\n",
      "243:\tlearn: 0.3612841\ttotal: 395ms\tremaining: 1.22s\n",
      "244:\tlearn: 0.3609073\ttotal: 396ms\tremaining: 1.22s\n",
      "245:\tlearn: 0.3604078\ttotal: 397ms\tremaining: 1.22s\n",
      "246:\tlearn: 0.3599520\ttotal: 398ms\tremaining: 1.21s\n",
      "247:\tlearn: 0.3595811\ttotal: 399ms\tremaining: 1.21s\n",
      "248:\tlearn: 0.3591317\ttotal: 400ms\tremaining: 1.21s\n",
      "249:\tlearn: 0.3588479\ttotal: 401ms\tremaining: 1.2s\n",
      "250:\tlearn: 0.3583543\ttotal: 403ms\tremaining: 1.2s\n",
      "251:\tlearn: 0.3581791\ttotal: 404ms\tremaining: 1.2s\n",
      "252:\tlearn: 0.3578163\ttotal: 405ms\tremaining: 1.19s\n",
      "253:\tlearn: 0.3575379\ttotal: 406ms\tremaining: 1.19s\n",
      "254:\tlearn: 0.3572027\ttotal: 408ms\tremaining: 1.19s\n",
      "255:\tlearn: 0.3567982\ttotal: 409ms\tremaining: 1.19s\n",
      "256:\tlearn: 0.3562229\ttotal: 410ms\tremaining: 1.19s\n",
      "257:\tlearn: 0.3558689\ttotal: 411ms\tremaining: 1.18s\n",
      "258:\tlearn: 0.3551774\ttotal: 413ms\tremaining: 1.18s\n",
      "259:\tlearn: 0.3548640\ttotal: 414ms\tremaining: 1.18s\n",
      "260:\tlearn: 0.3544581\ttotal: 415ms\tremaining: 1.17s\n",
      "261:\tlearn: 0.3540613\ttotal: 416ms\tremaining: 1.17s\n",
      "262:\tlearn: 0.3538128\ttotal: 417ms\tremaining: 1.17s\n",
      "263:\tlearn: 0.3532543\ttotal: 418ms\tremaining: 1.17s\n",
      "264:\tlearn: 0.3528296\ttotal: 419ms\tremaining: 1.16s\n",
      "265:\tlearn: 0.3524755\ttotal: 420ms\tremaining: 1.16s\n",
      "266:\tlearn: 0.3521389\ttotal: 423ms\tremaining: 1.16s\n",
      "267:\tlearn: 0.3518051\ttotal: 424ms\tremaining: 1.16s\n",
      "268:\tlearn: 0.3513371\ttotal: 425ms\tremaining: 1.16s\n",
      "269:\tlearn: 0.3509465\ttotal: 426ms\tremaining: 1.15s\n",
      "270:\tlearn: 0.3506477\ttotal: 428ms\tremaining: 1.15s\n",
      "271:\tlearn: 0.3502686\ttotal: 429ms\tremaining: 1.15s\n",
      "272:\tlearn: 0.3499996\ttotal: 430ms\tremaining: 1.14s\n",
      "273:\tlearn: 0.3494654\ttotal: 431ms\tremaining: 1.14s\n",
      "274:\tlearn: 0.3490672\ttotal: 432ms\tremaining: 1.14s\n",
      "275:\tlearn: 0.3487140\ttotal: 433ms\tremaining: 1.14s\n",
      "276:\tlearn: 0.3483148\ttotal: 435ms\tremaining: 1.13s\n",
      "277:\tlearn: 0.3479376\ttotal: 436ms\tremaining: 1.13s\n",
      "278:\tlearn: 0.3476559\ttotal: 437ms\tremaining: 1.13s\n",
      "279:\tlearn: 0.3475056\ttotal: 438ms\tremaining: 1.13s\n",
      "280:\tlearn: 0.3470299\ttotal: 439ms\tremaining: 1.12s\n",
      "281:\tlearn: 0.3465974\ttotal: 440ms\tremaining: 1.12s\n",
      "282:\tlearn: 0.3457104\ttotal: 442ms\tremaining: 1.12s\n",
      "283:\tlearn: 0.3453699\ttotal: 443ms\tremaining: 1.12s\n",
      "284:\tlearn: 0.3449194\ttotal: 444ms\tremaining: 1.11s\n",
      "285:\tlearn: 0.3445781\ttotal: 445ms\tremaining: 1.11s\n",
      "286:\tlearn: 0.3442549\ttotal: 446ms\tremaining: 1.11s\n",
      "287:\tlearn: 0.3436732\ttotal: 447ms\tremaining: 1.1s\n",
      "288:\tlearn: 0.3431971\ttotal: 448ms\tremaining: 1.1s\n",
      "289:\tlearn: 0.3430385\ttotal: 449ms\tremaining: 1.1s\n",
      "290:\tlearn: 0.3426125\ttotal: 451ms\tremaining: 1.1s\n",
      "291:\tlearn: 0.3423901\ttotal: 452ms\tremaining: 1.1s\n",
      "292:\tlearn: 0.3418502\ttotal: 453ms\tremaining: 1.09s\n",
      "293:\tlearn: 0.3413629\ttotal: 455ms\tremaining: 1.09s\n",
      "294:\tlearn: 0.3410155\ttotal: 456ms\tremaining: 1.09s\n",
      "295:\tlearn: 0.3406270\ttotal: 457ms\tremaining: 1.09s\n",
      "296:\tlearn: 0.3403616\ttotal: 458ms\tremaining: 1.08s\n",
      "297:\tlearn: 0.3400305\ttotal: 459ms\tremaining: 1.08s\n",
      "298:\tlearn: 0.3397938\ttotal: 460ms\tremaining: 1.08s\n",
      "299:\tlearn: 0.3395162\ttotal: 461ms\tremaining: 1.08s\n",
      "300:\tlearn: 0.3391135\ttotal: 463ms\tremaining: 1.07s\n",
      "301:\tlearn: 0.3387590\ttotal: 464ms\tremaining: 1.07s\n",
      "302:\tlearn: 0.3383585\ttotal: 465ms\tremaining: 1.07s\n",
      "303:\tlearn: 0.3379814\ttotal: 466ms\tremaining: 1.07s\n",
      "304:\tlearn: 0.3375277\ttotal: 469ms\tremaining: 1.07s\n",
      "305:\tlearn: 0.3372477\ttotal: 470ms\tremaining: 1.06s\n",
      "306:\tlearn: 0.3369210\ttotal: 471ms\tremaining: 1.06s\n",
      "307:\tlearn: 0.3367762\ttotal: 472ms\tremaining: 1.06s\n",
      "308:\tlearn: 0.3363929\ttotal: 474ms\tremaining: 1.06s\n",
      "309:\tlearn: 0.3361404\ttotal: 475ms\tremaining: 1.06s\n",
      "310:\tlearn: 0.3358016\ttotal: 476ms\tremaining: 1.05s\n",
      "311:\tlearn: 0.3354371\ttotal: 477ms\tremaining: 1.05s\n",
      "312:\tlearn: 0.3351281\ttotal: 478ms\tremaining: 1.05s\n",
      "313:\tlearn: 0.3349342\ttotal: 479ms\tremaining: 1.05s\n",
      "314:\tlearn: 0.3345681\ttotal: 480ms\tremaining: 1.04s\n",
      "315:\tlearn: 0.3341835\ttotal: 482ms\tremaining: 1.04s\n",
      "316:\tlearn: 0.3339848\ttotal: 483ms\tremaining: 1.04s\n",
      "317:\tlearn: 0.3334631\ttotal: 485ms\tremaining: 1.04s\n",
      "318:\tlearn: 0.3333090\ttotal: 486ms\tremaining: 1.04s\n",
      "319:\tlearn: 0.3331853\ttotal: 487ms\tremaining: 1.03s\n",
      "320:\tlearn: 0.3329144\ttotal: 488ms\tremaining: 1.03s\n",
      "321:\tlearn: 0.3325655\ttotal: 490ms\tremaining: 1.03s\n",
      "322:\tlearn: 0.3323911\ttotal: 491ms\tremaining: 1.03s\n",
      "323:\tlearn: 0.3321008\ttotal: 492ms\tremaining: 1.03s\n",
      "324:\tlearn: 0.3318429\ttotal: 493ms\tremaining: 1.02s\n",
      "325:\tlearn: 0.3313364\ttotal: 494ms\tremaining: 1.02s\n",
      "326:\tlearn: 0.3311141\ttotal: 495ms\tremaining: 1.02s\n",
      "327:\tlearn: 0.3306946\ttotal: 496ms\tremaining: 1.02s\n",
      "328:\tlearn: 0.3303195\ttotal: 498ms\tremaining: 1.01s\n",
      "329:\tlearn: 0.3299492\ttotal: 500ms\tremaining: 1.01s\n",
      "330:\tlearn: 0.3296295\ttotal: 501ms\tremaining: 1.01s\n",
      "331:\tlearn: 0.3292299\ttotal: 503ms\tremaining: 1.01s\n",
      "332:\tlearn: 0.3288012\ttotal: 505ms\tremaining: 1.01s\n",
      "333:\tlearn: 0.3284230\ttotal: 507ms\tremaining: 1.01s\n",
      "334:\tlearn: 0.3281356\ttotal: 508ms\tremaining: 1.01s\n",
      "335:\tlearn: 0.3278105\ttotal: 510ms\tremaining: 1.01s\n",
      "336:\tlearn: 0.3275766\ttotal: 512ms\tremaining: 1.01s\n",
      "337:\tlearn: 0.3272361\ttotal: 514ms\tremaining: 1.01s\n",
      "338:\tlearn: 0.3271448\ttotal: 516ms\tremaining: 1.01s\n",
      "339:\tlearn: 0.3270027\ttotal: 518ms\tremaining: 1s\n",
      "340:\tlearn: 0.3264515\ttotal: 520ms\tremaining: 1s\n",
      "341:\tlearn: 0.3261568\ttotal: 522ms\tremaining: 1s\n",
      "342:\tlearn: 0.3259076\ttotal: 524ms\tremaining: 1s\n",
      "343:\tlearn: 0.3257816\ttotal: 526ms\tremaining: 1s\n",
      "344:\tlearn: 0.3253372\ttotal: 527ms\tremaining: 1s\n",
      "345:\tlearn: 0.3249546\ttotal: 531ms\tremaining: 1s\n",
      "346:\tlearn: 0.3247155\ttotal: 533ms\tremaining: 1s\n",
      "347:\tlearn: 0.3242784\ttotal: 534ms\tremaining: 1s\n",
      "348:\tlearn: 0.3240593\ttotal: 536ms\tremaining: 1s\n",
      "349:\tlearn: 0.3236125\ttotal: 538ms\tremaining: 999ms\n",
      "350:\tlearn: 0.3233139\ttotal: 541ms\tremaining: 1s\n",
      "351:\tlearn: 0.3230584\ttotal: 543ms\tremaining: 999ms\n",
      "352:\tlearn: 0.3227589\ttotal: 546ms\tremaining: 1s\n",
      "353:\tlearn: 0.3226484\ttotal: 548ms\tremaining: 1000ms\n",
      "354:\tlearn: 0.3224708\ttotal: 549ms\tremaining: 998ms\n",
      "355:\tlearn: 0.3222481\ttotal: 551ms\tremaining: 997ms\n",
      "356:\tlearn: 0.3220751\ttotal: 553ms\tremaining: 996ms\n",
      "357:\tlearn: 0.3217743\ttotal: 555ms\tremaining: 995ms\n",
      "358:\tlearn: 0.3215696\ttotal: 556ms\tremaining: 994ms\n",
      "359:\tlearn: 0.3213855\ttotal: 558ms\tremaining: 992ms\n",
      "360:\tlearn: 0.3210040\ttotal: 562ms\tremaining: 994ms\n",
      "361:\tlearn: 0.3206377\ttotal: 563ms\tremaining: 993ms\n",
      "362:\tlearn: 0.3203844\ttotal: 565ms\tremaining: 991ms\n",
      "363:\tlearn: 0.3199615\ttotal: 567ms\tremaining: 991ms\n",
      "364:\tlearn: 0.3196000\ttotal: 569ms\tremaining: 990ms\n",
      "365:\tlearn: 0.3192366\ttotal: 571ms\tremaining: 989ms\n",
      "366:\tlearn: 0.3189433\ttotal: 573ms\tremaining: 988ms\n",
      "367:\tlearn: 0.3187596\ttotal: 576ms\tremaining: 989ms\n",
      "368:\tlearn: 0.3183334\ttotal: 578ms\tremaining: 988ms\n",
      "369:\tlearn: 0.3181075\ttotal: 581ms\tremaining: 989ms\n",
      "370:\tlearn: 0.3179868\ttotal: 582ms\tremaining: 987ms\n",
      "371:\tlearn: 0.3177287\ttotal: 584ms\tremaining: 985ms\n",
      "372:\tlearn: 0.3174213\ttotal: 585ms\tremaining: 984ms\n",
      "373:\tlearn: 0.3173105\ttotal: 586ms\tremaining: 982ms\n",
      "374:\tlearn: 0.3169930\ttotal: 588ms\tremaining: 980ms\n",
      "375:\tlearn: 0.3167770\ttotal: 591ms\tremaining: 981ms\n",
      "376:\tlearn: 0.3164586\ttotal: 593ms\tremaining: 980ms\n",
      "377:\tlearn: 0.3162964\ttotal: 594ms\tremaining: 978ms\n",
      "378:\tlearn: 0.3157005\ttotal: 596ms\tremaining: 976ms\n",
      "379:\tlearn: 0.3154507\ttotal: 597ms\tremaining: 974ms\n",
      "380:\tlearn: 0.3150930\ttotal: 598ms\tremaining: 972ms\n",
      "381:\tlearn: 0.3147706\ttotal: 600ms\tremaining: 970ms\n",
      "382:\tlearn: 0.3143755\ttotal: 601ms\tremaining: 968ms\n",
      "383:\tlearn: 0.3139819\ttotal: 602ms\tremaining: 966ms\n",
      "384:\tlearn: 0.3136702\ttotal: 604ms\tremaining: 964ms\n",
      "385:\tlearn: 0.3134343\ttotal: 607ms\tremaining: 965ms\n",
      "386:\tlearn: 0.3133741\ttotal: 608ms\tremaining: 963ms\n",
      "387:\tlearn: 0.3130709\ttotal: 609ms\tremaining: 961ms\n",
      "388:\tlearn: 0.3128360\ttotal: 611ms\tremaining: 959ms\n",
      "389:\tlearn: 0.3124279\ttotal: 612ms\tremaining: 958ms\n",
      "390:\tlearn: 0.3121571\ttotal: 614ms\tremaining: 956ms\n",
      "391:\tlearn: 0.3118727\ttotal: 615ms\tremaining: 954ms\n",
      "392:\tlearn: 0.3117433\ttotal: 616ms\tremaining: 952ms\n",
      "393:\tlearn: 0.3113093\ttotal: 618ms\tremaining: 950ms\n",
      "394:\tlearn: 0.3111498\ttotal: 619ms\tremaining: 948ms\n",
      "395:\tlearn: 0.3108884\ttotal: 622ms\tremaining: 949ms\n",
      "396:\tlearn: 0.3106935\ttotal: 623ms\tremaining: 947ms\n",
      "397:\tlearn: 0.3104544\ttotal: 625ms\tremaining: 945ms\n",
      "398:\tlearn: 0.3100203\ttotal: 626ms\tremaining: 943ms\n",
      "399:\tlearn: 0.3097922\ttotal: 628ms\tremaining: 941ms\n",
      "400:\tlearn: 0.3093006\ttotal: 629ms\tremaining: 939ms\n",
      "401:\tlearn: 0.3090082\ttotal: 630ms\tremaining: 938ms\n",
      "402:\tlearn: 0.3086350\ttotal: 632ms\tremaining: 936ms\n",
      "403:\tlearn: 0.3085525\ttotal: 632ms\tremaining: 933ms\n",
      "404:\tlearn: 0.3082926\ttotal: 634ms\tremaining: 931ms\n",
      "405:\tlearn: 0.3079534\ttotal: 635ms\tremaining: 929ms\n",
      "406:\tlearn: 0.3077615\ttotal: 637ms\tremaining: 927ms\n",
      "407:\tlearn: 0.3076204\ttotal: 638ms\tremaining: 925ms\n",
      "408:\tlearn: 0.3073705\ttotal: 639ms\tremaining: 923ms\n",
      "409:\tlearn: 0.3072051\ttotal: 640ms\tremaining: 921ms\n",
      "410:\tlearn: 0.3069296\ttotal: 641ms\tremaining: 919ms\n",
      "411:\tlearn: 0.3067305\ttotal: 642ms\tremaining: 917ms\n",
      "412:\tlearn: 0.3064667\ttotal: 643ms\tremaining: 914ms\n",
      "413:\tlearn: 0.3062177\ttotal: 644ms\tremaining: 912ms\n",
      "414:\tlearn: 0.3059366\ttotal: 646ms\tremaining: 910ms\n",
      "415:\tlearn: 0.3057826\ttotal: 647ms\tremaining: 908ms\n",
      "416:\tlearn: 0.3053670\ttotal: 648ms\tremaining: 906ms\n",
      "417:\tlearn: 0.3052102\ttotal: 649ms\tremaining: 904ms\n",
      "418:\tlearn: 0.3048241\ttotal: 650ms\tremaining: 901ms\n",
      "419:\tlearn: 0.3043941\ttotal: 652ms\tremaining: 901ms\n",
      "420:\tlearn: 0.3042906\ttotal: 654ms\tremaining: 899ms\n",
      "421:\tlearn: 0.3042106\ttotal: 655ms\tremaining: 897ms\n",
      "422:\tlearn: 0.3039127\ttotal: 656ms\tremaining: 895ms\n",
      "423:\tlearn: 0.3036822\ttotal: 657ms\tremaining: 893ms\n",
      "424:\tlearn: 0.3032348\ttotal: 658ms\tremaining: 891ms\n",
      "425:\tlearn: 0.3030739\ttotal: 659ms\tremaining: 889ms\n",
      "426:\tlearn: 0.3027756\ttotal: 661ms\tremaining: 886ms\n",
      "427:\tlearn: 0.3025508\ttotal: 662ms\tremaining: 884ms\n",
      "428:\tlearn: 0.3022920\ttotal: 663ms\tremaining: 882ms\n",
      "429:\tlearn: 0.3020336\ttotal: 664ms\tremaining: 880ms\n",
      "430:\tlearn: 0.3018311\ttotal: 665ms\tremaining: 878ms\n",
      "431:\tlearn: 0.3016490\ttotal: 667ms\tremaining: 876ms\n",
      "432:\tlearn: 0.3014655\ttotal: 668ms\tremaining: 875ms\n",
      "433:\tlearn: 0.3011402\ttotal: 670ms\tremaining: 873ms\n",
      "434:\tlearn: 0.3008430\ttotal: 671ms\tremaining: 871ms\n",
      "435:\tlearn: 0.3005948\ttotal: 672ms\tremaining: 869ms\n",
      "436:\tlearn: 0.3003246\ttotal: 674ms\tremaining: 868ms\n",
      "437:\tlearn: 0.2998332\ttotal: 675ms\tremaining: 867ms\n",
      "438:\tlearn: 0.2995628\ttotal: 677ms\tremaining: 865ms\n",
      "439:\tlearn: 0.2993476\ttotal: 678ms\tremaining: 863ms\n",
      "440:\tlearn: 0.2992118\ttotal: 679ms\tremaining: 861ms\n",
      "441:\tlearn: 0.2989786\ttotal: 681ms\tremaining: 860ms\n",
      "442:\tlearn: 0.2987332\ttotal: 682ms\tremaining: 858ms\n",
      "443:\tlearn: 0.2983521\ttotal: 684ms\tremaining: 856ms\n",
      "444:\tlearn: 0.2981144\ttotal: 685ms\tremaining: 854ms\n",
      "445:\tlearn: 0.2979409\ttotal: 686ms\tremaining: 853ms\n",
      "446:\tlearn: 0.2976007\ttotal: 688ms\tremaining: 851ms\n",
      "447:\tlearn: 0.2974376\ttotal: 689ms\tremaining: 850ms\n",
      "448:\tlearn: 0.2971482\ttotal: 691ms\tremaining: 848ms\n",
      "449:\tlearn: 0.2970532\ttotal: 692ms\tremaining: 846ms\n",
      "450:\tlearn: 0.2968756\ttotal: 694ms\tremaining: 845ms\n",
      "451:\tlearn: 0.2966521\ttotal: 696ms\tremaining: 844ms\n",
      "452:\tlearn: 0.2963392\ttotal: 698ms\tremaining: 843ms\n",
      "453:\tlearn: 0.2962526\ttotal: 699ms\tremaining: 841ms\n",
      "454:\tlearn: 0.2959383\ttotal: 701ms\tremaining: 839ms\n",
      "455:\tlearn: 0.2957414\ttotal: 702ms\tremaining: 838ms\n",
      "456:\tlearn: 0.2954628\ttotal: 703ms\tremaining: 836ms\n",
      "457:\tlearn: 0.2951344\ttotal: 705ms\tremaining: 834ms\n",
      "458:\tlearn: 0.2949065\ttotal: 706ms\tremaining: 832ms\n",
      "459:\tlearn: 0.2948312\ttotal: 708ms\tremaining: 831ms\n",
      "460:\tlearn: 0.2946606\ttotal: 709ms\tremaining: 829ms\n",
      "461:\tlearn: 0.2944450\ttotal: 711ms\tremaining: 828ms\n",
      "462:\tlearn: 0.2942192\ttotal: 713ms\tremaining: 827ms\n",
      "463:\tlearn: 0.2940629\ttotal: 714ms\tremaining: 825ms\n",
      "464:\tlearn: 0.2936862\ttotal: 715ms\tremaining: 823ms\n",
      "465:\tlearn: 0.2934564\ttotal: 717ms\tremaining: 821ms\n",
      "466:\tlearn: 0.2931260\ttotal: 718ms\tremaining: 819ms\n",
      "467:\tlearn: 0.2927964\ttotal: 719ms\tremaining: 818ms\n",
      "468:\tlearn: 0.2926018\ttotal: 720ms\tremaining: 816ms\n",
      "469:\tlearn: 0.2923854\ttotal: 722ms\tremaining: 814ms\n",
      "470:\tlearn: 0.2921834\ttotal: 723ms\tremaining: 812ms\n",
      "471:\tlearn: 0.2919782\ttotal: 725ms\tremaining: 811ms\n",
      "472:\tlearn: 0.2917113\ttotal: 727ms\tremaining: 810ms\n",
      "473:\tlearn: 0.2912696\ttotal: 729ms\tremaining: 809ms\n",
      "474:\tlearn: 0.2910249\ttotal: 730ms\tremaining: 807ms\n",
      "475:\tlearn: 0.2907673\ttotal: 732ms\tremaining: 806ms\n",
      "476:\tlearn: 0.2904237\ttotal: 733ms\tremaining: 804ms\n",
      "477:\tlearn: 0.2902551\ttotal: 734ms\tremaining: 802ms\n",
      "478:\tlearn: 0.2899177\ttotal: 736ms\tremaining: 801ms\n",
      "479:\tlearn: 0.2897175\ttotal: 737ms\tremaining: 799ms\n",
      "480:\tlearn: 0.2896110\ttotal: 739ms\tremaining: 797ms\n",
      "481:\tlearn: 0.2892980\ttotal: 741ms\tremaining: 796ms\n",
      "482:\tlearn: 0.2889870\ttotal: 743ms\tremaining: 795ms\n",
      "483:\tlearn: 0.2887236\ttotal: 744ms\tremaining: 793ms\n",
      "484:\tlearn: 0.2885040\ttotal: 745ms\tremaining: 791ms\n",
      "485:\tlearn: 0.2881886\ttotal: 746ms\tremaining: 789ms\n",
      "486:\tlearn: 0.2880321\ttotal: 747ms\tremaining: 787ms\n",
      "487:\tlearn: 0.2877498\ttotal: 749ms\tremaining: 785ms\n",
      "488:\tlearn: 0.2874975\ttotal: 750ms\tremaining: 783ms\n",
      "489:\tlearn: 0.2870005\ttotal: 751ms\tremaining: 782ms\n",
      "490:\tlearn: 0.2867773\ttotal: 752ms\tremaining: 780ms\n",
      "491:\tlearn: 0.2866602\ttotal: 753ms\tremaining: 778ms\n",
      "492:\tlearn: 0.2864573\ttotal: 754ms\tremaining: 776ms\n",
      "493:\tlearn: 0.2862369\ttotal: 757ms\tremaining: 775ms\n",
      "494:\tlearn: 0.2860048\ttotal: 758ms\tremaining: 773ms\n",
      "495:\tlearn: 0.2858847\ttotal: 759ms\tremaining: 771ms\n",
      "496:\tlearn: 0.2856706\ttotal: 760ms\tremaining: 770ms\n",
      "497:\tlearn: 0.2853657\ttotal: 762ms\tremaining: 768ms\n",
      "498:\tlearn: 0.2851930\ttotal: 763ms\tremaining: 766ms\n",
      "499:\tlearn: 0.2848883\ttotal: 764ms\tremaining: 764ms\n",
      "500:\tlearn: 0.2847668\ttotal: 765ms\tremaining: 762ms\n",
      "501:\tlearn: 0.2846362\ttotal: 767ms\tremaining: 761ms\n",
      "502:\tlearn: 0.2843093\ttotal: 768ms\tremaining: 759ms\n",
      "503:\tlearn: 0.2841273\ttotal: 769ms\tremaining: 757ms\n",
      "504:\tlearn: 0.2839508\ttotal: 771ms\tremaining: 756ms\n",
      "505:\tlearn: 0.2838791\ttotal: 773ms\tremaining: 754ms\n",
      "506:\tlearn: 0.2835382\ttotal: 774ms\tremaining: 753ms\n",
      "507:\tlearn: 0.2832336\ttotal: 775ms\tremaining: 751ms\n",
      "508:\tlearn: 0.2830058\ttotal: 776ms\tremaining: 749ms\n",
      "509:\tlearn: 0.2828549\ttotal: 777ms\tremaining: 747ms\n",
      "510:\tlearn: 0.2826536\ttotal: 779ms\tremaining: 745ms\n",
      "511:\tlearn: 0.2821348\ttotal: 780ms\tremaining: 743ms\n",
      "512:\tlearn: 0.2817643\ttotal: 781ms\tremaining: 741ms\n",
      "513:\tlearn: 0.2817056\ttotal: 782ms\tremaining: 739ms\n",
      "514:\tlearn: 0.2815301\ttotal: 783ms\tremaining: 737ms\n",
      "515:\tlearn: 0.2812127\ttotal: 784ms\tremaining: 735ms\n",
      "516:\tlearn: 0.2811157\ttotal: 785ms\tremaining: 733ms\n",
      "517:\tlearn: 0.2810220\ttotal: 787ms\tremaining: 732ms\n",
      "518:\tlearn: 0.2808123\ttotal: 788ms\tremaining: 731ms\n",
      "519:\tlearn: 0.2804794\ttotal: 789ms\tremaining: 729ms\n",
      "520:\tlearn: 0.2802338\ttotal: 791ms\tremaining: 727ms\n",
      "521:\tlearn: 0.2800138\ttotal: 792ms\tremaining: 725ms\n",
      "522:\tlearn: 0.2798458\ttotal: 793ms\tremaining: 723ms\n",
      "523:\tlearn: 0.2795009\ttotal: 794ms\tremaining: 721ms\n",
      "524:\tlearn: 0.2792134\ttotal: 795ms\tremaining: 720ms\n",
      "525:\tlearn: 0.2789277\ttotal: 796ms\tremaining: 718ms\n",
      "526:\tlearn: 0.2787092\ttotal: 797ms\tremaining: 716ms\n",
      "527:\tlearn: 0.2785171\ttotal: 799ms\tremaining: 714ms\n",
      "528:\tlearn: 0.2782431\ttotal: 800ms\tremaining: 712ms\n",
      "529:\tlearn: 0.2780792\ttotal: 801ms\tremaining: 710ms\n",
      "530:\tlearn: 0.2778468\ttotal: 803ms\tremaining: 709ms\n",
      "531:\tlearn: 0.2776214\ttotal: 804ms\tremaining: 707ms\n",
      "532:\tlearn: 0.2775225\ttotal: 805ms\tremaining: 705ms\n",
      "533:\tlearn: 0.2772761\ttotal: 806ms\tremaining: 704ms\n",
      "534:\tlearn: 0.2770526\ttotal: 807ms\tremaining: 702ms\n",
      "535:\tlearn: 0.2768688\ttotal: 809ms\tremaining: 700ms\n",
      "536:\tlearn: 0.2767198\ttotal: 810ms\tremaining: 698ms\n",
      "537:\tlearn: 0.2763635\ttotal: 811ms\tremaining: 696ms\n",
      "538:\tlearn: 0.2761839\ttotal: 812ms\tremaining: 695ms\n",
      "539:\tlearn: 0.2760329\ttotal: 813ms\tremaining: 693ms\n",
      "540:\tlearn: 0.2758814\ttotal: 814ms\tremaining: 691ms\n",
      "541:\tlearn: 0.2756554\ttotal: 816ms\tremaining: 689ms\n",
      "542:\tlearn: 0.2753469\ttotal: 817ms\tremaining: 688ms\n",
      "543:\tlearn: 0.2751437\ttotal: 819ms\tremaining: 686ms\n",
      "544:\tlearn: 0.2749836\ttotal: 820ms\tremaining: 684ms\n",
      "545:\tlearn: 0.2748715\ttotal: 821ms\tremaining: 683ms\n",
      "546:\tlearn: 0.2748156\ttotal: 822ms\tremaining: 681ms\n",
      "547:\tlearn: 0.2746396\ttotal: 823ms\tremaining: 679ms\n",
      "548:\tlearn: 0.2742751\ttotal: 824ms\tremaining: 677ms\n",
      "549:\tlearn: 0.2740222\ttotal: 825ms\tremaining: 675ms\n",
      "550:\tlearn: 0.2737643\ttotal: 827ms\tremaining: 674ms\n",
      "551:\tlearn: 0.2735570\ttotal: 828ms\tremaining: 672ms\n",
      "552:\tlearn: 0.2732473\ttotal: 829ms\tremaining: 670ms\n",
      "553:\tlearn: 0.2730397\ttotal: 830ms\tremaining: 668ms\n",
      "554:\tlearn: 0.2726986\ttotal: 831ms\tremaining: 666ms\n",
      "555:\tlearn: 0.2726207\ttotal: 833ms\tremaining: 665ms\n",
      "556:\tlearn: 0.2724192\ttotal: 834ms\tremaining: 663ms\n",
      "557:\tlearn: 0.2722507\ttotal: 835ms\tremaining: 662ms\n",
      "558:\tlearn: 0.2718974\ttotal: 836ms\tremaining: 660ms\n",
      "559:\tlearn: 0.2717007\ttotal: 838ms\tremaining: 658ms\n",
      "560:\tlearn: 0.2714049\ttotal: 839ms\tremaining: 656ms\n",
      "561:\tlearn: 0.2712418\ttotal: 840ms\tremaining: 655ms\n",
      "562:\tlearn: 0.2709507\ttotal: 841ms\tremaining: 653ms\n",
      "563:\tlearn: 0.2707628\ttotal: 842ms\tremaining: 651ms\n",
      "564:\tlearn: 0.2705255\ttotal: 845ms\tremaining: 650ms\n",
      "565:\tlearn: 0.2703786\ttotal: 846ms\tremaining: 649ms\n",
      "566:\tlearn: 0.2702270\ttotal: 850ms\tremaining: 649ms\n",
      "567:\tlearn: 0.2699564\ttotal: 851ms\tremaining: 647ms\n",
      "568:\tlearn: 0.2697149\ttotal: 853ms\tremaining: 646ms\n",
      "569:\tlearn: 0.2695101\ttotal: 854ms\tremaining: 644ms\n",
      "570:\tlearn: 0.2693226\ttotal: 855ms\tremaining: 643ms\n",
      "571:\tlearn: 0.2692401\ttotal: 857ms\tremaining: 641ms\n",
      "572:\tlearn: 0.2690312\ttotal: 858ms\tremaining: 639ms\n",
      "573:\tlearn: 0.2688283\ttotal: 859ms\tremaining: 638ms\n",
      "574:\tlearn: 0.2685991\ttotal: 860ms\tremaining: 636ms\n",
      "575:\tlearn: 0.2684519\ttotal: 862ms\tremaining: 634ms\n",
      "576:\tlearn: 0.2681852\ttotal: 864ms\tremaining: 633ms\n",
      "577:\tlearn: 0.2679966\ttotal: 865ms\tremaining: 632ms\n",
      "578:\tlearn: 0.2678214\ttotal: 867ms\tremaining: 630ms\n",
      "579:\tlearn: 0.2675508\ttotal: 868ms\tremaining: 629ms\n",
      "580:\tlearn: 0.2672992\ttotal: 869ms\tremaining: 627ms\n",
      "581:\tlearn: 0.2671163\ttotal: 871ms\tremaining: 625ms\n",
      "582:\tlearn: 0.2669239\ttotal: 872ms\tremaining: 624ms\n",
      "583:\tlearn: 0.2667451\ttotal: 873ms\tremaining: 622ms\n",
      "584:\tlearn: 0.2665639\ttotal: 875ms\tremaining: 620ms\n",
      "585:\tlearn: 0.2662928\ttotal: 876ms\tremaining: 619ms\n",
      "586:\tlearn: 0.2659768\ttotal: 877ms\tremaining: 617ms\n",
      "587:\tlearn: 0.2657706\ttotal: 880ms\tremaining: 616ms\n",
      "588:\tlearn: 0.2656701\ttotal: 881ms\tremaining: 615ms\n",
      "589:\tlearn: 0.2653913\ttotal: 882ms\tremaining: 613ms\n",
      "590:\tlearn: 0.2652461\ttotal: 884ms\tremaining: 612ms\n",
      "591:\tlearn: 0.2650850\ttotal: 885ms\tremaining: 610ms\n",
      "592:\tlearn: 0.2649887\ttotal: 886ms\tremaining: 608ms\n",
      "593:\tlearn: 0.2649084\ttotal: 888ms\tremaining: 607ms\n",
      "594:\tlearn: 0.2647971\ttotal: 889ms\tremaining: 605ms\n",
      "595:\tlearn: 0.2646760\ttotal: 891ms\tremaining: 604ms\n",
      "596:\tlearn: 0.2643129\ttotal: 892ms\tremaining: 602ms\n",
      "597:\tlearn: 0.2641118\ttotal: 896ms\tremaining: 602ms\n",
      "598:\tlearn: 0.2638480\ttotal: 897ms\tremaining: 601ms\n",
      "599:\tlearn: 0.2636756\ttotal: 899ms\tremaining: 599ms\n",
      "600:\tlearn: 0.2634917\ttotal: 901ms\tremaining: 598ms\n",
      "601:\tlearn: 0.2632788\ttotal: 903ms\tremaining: 597ms\n",
      "602:\tlearn: 0.2630358\ttotal: 904ms\tremaining: 595ms\n",
      "603:\tlearn: 0.2627907\ttotal: 906ms\tremaining: 594ms\n",
      "604:\tlearn: 0.2626487\ttotal: 909ms\tremaining: 594ms\n",
      "605:\tlearn: 0.2623086\ttotal: 913ms\tremaining: 594ms\n",
      "606:\tlearn: 0.2622148\ttotal: 915ms\tremaining: 592ms\n",
      "607:\tlearn: 0.2619977\ttotal: 917ms\tremaining: 591ms\n",
      "608:\tlearn: 0.2618683\ttotal: 918ms\tremaining: 589ms\n",
      "609:\tlearn: 0.2617262\ttotal: 919ms\tremaining: 588ms\n",
      "610:\tlearn: 0.2614272\ttotal: 921ms\tremaining: 586ms\n",
      "611:\tlearn: 0.2612679\ttotal: 924ms\tremaining: 586ms\n",
      "612:\tlearn: 0.2610038\ttotal: 926ms\tremaining: 584ms\n",
      "613:\tlearn: 0.2607667\ttotal: 927ms\tremaining: 583ms\n",
      "614:\tlearn: 0.2605145\ttotal: 928ms\tremaining: 581ms\n",
      "615:\tlearn: 0.2602892\ttotal: 929ms\tremaining: 579ms\n",
      "616:\tlearn: 0.2599984\ttotal: 930ms\tremaining: 578ms\n",
      "617:\tlearn: 0.2598193\ttotal: 931ms\tremaining: 576ms\n",
      "618:\tlearn: 0.2596203\ttotal: 933ms\tremaining: 574ms\n",
      "619:\tlearn: 0.2594357\ttotal: 934ms\tremaining: 572ms\n",
      "620:\tlearn: 0.2590858\ttotal: 935ms\tremaining: 570ms\n",
      "621:\tlearn: 0.2589773\ttotal: 936ms\tremaining: 569ms\n",
      "622:\tlearn: 0.2585929\ttotal: 937ms\tremaining: 567ms\n",
      "623:\tlearn: 0.2581706\ttotal: 938ms\tremaining: 565ms\n",
      "624:\tlearn: 0.2578699\ttotal: 940ms\tremaining: 564ms\n",
      "625:\tlearn: 0.2576291\ttotal: 941ms\tremaining: 562ms\n",
      "626:\tlearn: 0.2574157\ttotal: 942ms\tremaining: 560ms\n",
      "627:\tlearn: 0.2569596\ttotal: 943ms\tremaining: 559ms\n",
      "628:\tlearn: 0.2566992\ttotal: 945ms\tremaining: 557ms\n",
      "629:\tlearn: 0.2564773\ttotal: 946ms\tremaining: 555ms\n",
      "630:\tlearn: 0.2563904\ttotal: 947ms\tremaining: 554ms\n",
      "631:\tlearn: 0.2562541\ttotal: 948ms\tremaining: 552ms\n",
      "632:\tlearn: 0.2560905\ttotal: 949ms\tremaining: 550ms\n",
      "633:\tlearn: 0.2559196\ttotal: 950ms\tremaining: 549ms\n",
      "634:\tlearn: 0.2556727\ttotal: 952ms\tremaining: 547ms\n",
      "635:\tlearn: 0.2554610\ttotal: 953ms\tremaining: 545ms\n",
      "636:\tlearn: 0.2553226\ttotal: 955ms\tremaining: 544ms\n",
      "637:\tlearn: 0.2551740\ttotal: 956ms\tremaining: 543ms\n",
      "638:\tlearn: 0.2549789\ttotal: 957ms\tremaining: 541ms\n",
      "639:\tlearn: 0.2547121\ttotal: 959ms\tremaining: 539ms\n",
      "640:\tlearn: 0.2546132\ttotal: 960ms\tremaining: 537ms\n",
      "641:\tlearn: 0.2543087\ttotal: 961ms\tremaining: 536ms\n",
      "642:\tlearn: 0.2541042\ttotal: 962ms\tremaining: 534ms\n",
      "643:\tlearn: 0.2538693\ttotal: 963ms\tremaining: 532ms\n",
      "644:\tlearn: 0.2535917\ttotal: 964ms\tremaining: 531ms\n",
      "645:\tlearn: 0.2533902\ttotal: 966ms\tremaining: 529ms\n",
      "646:\tlearn: 0.2532326\ttotal: 967ms\tremaining: 527ms\n",
      "647:\tlearn: 0.2530459\ttotal: 968ms\tremaining: 526ms\n",
      "648:\tlearn: 0.2528119\ttotal: 969ms\tremaining: 524ms\n",
      "649:\tlearn: 0.2525547\ttotal: 971ms\tremaining: 523ms\n",
      "650:\tlearn: 0.2524567\ttotal: 972ms\tremaining: 521ms\n",
      "651:\tlearn: 0.2521524\ttotal: 973ms\tremaining: 519ms\n",
      "652:\tlearn: 0.2518746\ttotal: 974ms\tremaining: 518ms\n",
      "653:\tlearn: 0.2515442\ttotal: 976ms\tremaining: 516ms\n",
      "654:\tlearn: 0.2513742\ttotal: 977ms\tremaining: 515ms\n",
      "655:\tlearn: 0.2511759\ttotal: 978ms\tremaining: 513ms\n",
      "656:\tlearn: 0.2508741\ttotal: 980ms\tremaining: 511ms\n",
      "657:\tlearn: 0.2507077\ttotal: 981ms\tremaining: 510ms\n",
      "658:\tlearn: 0.2505781\ttotal: 982ms\tremaining: 508ms\n",
      "659:\tlearn: 0.2505100\ttotal: 983ms\tremaining: 506ms\n",
      "660:\tlearn: 0.2501853\ttotal: 985ms\tremaining: 505ms\n",
      "661:\tlearn: 0.2500339\ttotal: 986ms\tremaining: 503ms\n",
      "662:\tlearn: 0.2498808\ttotal: 987ms\tremaining: 502ms\n",
      "663:\tlearn: 0.2496646\ttotal: 989ms\tremaining: 500ms\n",
      "664:\tlearn: 0.2493293\ttotal: 990ms\tremaining: 499ms\n",
      "665:\tlearn: 0.2491573\ttotal: 991ms\tremaining: 497ms\n",
      "666:\tlearn: 0.2489233\ttotal: 992ms\tremaining: 495ms\n",
      "667:\tlearn: 0.2488568\ttotal: 994ms\tremaining: 494ms\n",
      "668:\tlearn: 0.2486144\ttotal: 995ms\tremaining: 492ms\n",
      "669:\tlearn: 0.2483773\ttotal: 996ms\tremaining: 491ms\n",
      "670:\tlearn: 0.2482201\ttotal: 997ms\tremaining: 489ms\n",
      "671:\tlearn: 0.2481445\ttotal: 998ms\tremaining: 487ms\n",
      "672:\tlearn: 0.2480453\ttotal: 1s\tremaining: 486ms\n",
      "673:\tlearn: 0.2478585\ttotal: 1s\tremaining: 484ms\n",
      "674:\tlearn: 0.2477204\ttotal: 1s\tremaining: 483ms\n",
      "675:\tlearn: 0.2476415\ttotal: 1s\tremaining: 481ms\n",
      "676:\tlearn: 0.2473815\ttotal: 1s\tremaining: 479ms\n",
      "677:\tlearn: 0.2471798\ttotal: 1.01s\tremaining: 478ms\n",
      "678:\tlearn: 0.2470178\ttotal: 1.01s\tremaining: 476ms\n",
      "679:\tlearn: 0.2468595\ttotal: 1.01s\tremaining: 475ms\n",
      "680:\tlearn: 0.2465018\ttotal: 1.01s\tremaining: 473ms\n",
      "681:\tlearn: 0.2463322\ttotal: 1.01s\tremaining: 471ms\n",
      "682:\tlearn: 0.2461881\ttotal: 1.01s\tremaining: 470ms\n",
      "683:\tlearn: 0.2460320\ttotal: 1.01s\tremaining: 468ms\n",
      "684:\tlearn: 0.2459155\ttotal: 1.02s\tremaining: 467ms\n",
      "685:\tlearn: 0.2457787\ttotal: 1.02s\tremaining: 466ms\n",
      "686:\tlearn: 0.2455912\ttotal: 1.02s\tremaining: 464ms\n",
      "687:\tlearn: 0.2453303\ttotal: 1.02s\tremaining: 463ms\n",
      "688:\tlearn: 0.2451950\ttotal: 1.02s\tremaining: 461ms\n",
      "689:\tlearn: 0.2450738\ttotal: 1.02s\tremaining: 460ms\n",
      "690:\tlearn: 0.2448890\ttotal: 1.02s\tremaining: 458ms\n",
      "691:\tlearn: 0.2445965\ttotal: 1.02s\tremaining: 457ms\n",
      "692:\tlearn: 0.2444868\ttotal: 1.03s\tremaining: 455ms\n",
      "693:\tlearn: 0.2443674\ttotal: 1.03s\tremaining: 453ms\n",
      "694:\tlearn: 0.2442138\ttotal: 1.03s\tremaining: 452ms\n",
      "695:\tlearn: 0.2439370\ttotal: 1.03s\tremaining: 451ms\n",
      "696:\tlearn: 0.2438278\ttotal: 1.03s\tremaining: 449ms\n",
      "697:\tlearn: 0.2435801\ttotal: 1.03s\tremaining: 448ms\n",
      "698:\tlearn: 0.2434457\ttotal: 1.04s\tremaining: 446ms\n",
      "699:\tlearn: 0.2432475\ttotal: 1.04s\tremaining: 445ms\n",
      "700:\tlearn: 0.2428014\ttotal: 1.04s\tremaining: 443ms\n",
      "701:\tlearn: 0.2424086\ttotal: 1.04s\tremaining: 442ms\n",
      "702:\tlearn: 0.2423574\ttotal: 1.04s\tremaining: 440ms\n",
      "703:\tlearn: 0.2422899\ttotal: 1.04s\tremaining: 439ms\n",
      "704:\tlearn: 0.2420831\ttotal: 1.04s\tremaining: 437ms\n",
      "705:\tlearn: 0.2418675\ttotal: 1.05s\tremaining: 436ms\n",
      "706:\tlearn: 0.2417139\ttotal: 1.05s\tremaining: 435ms\n",
      "707:\tlearn: 0.2416066\ttotal: 1.05s\tremaining: 433ms\n",
      "708:\tlearn: 0.2413955\ttotal: 1.05s\tremaining: 432ms\n",
      "709:\tlearn: 0.2412798\ttotal: 1.05s\tremaining: 430ms\n",
      "710:\tlearn: 0.2409843\ttotal: 1.05s\tremaining: 429ms\n",
      "711:\tlearn: 0.2405534\ttotal: 1.05s\tremaining: 427ms\n",
      "712:\tlearn: 0.2403035\ttotal: 1.06s\tremaining: 425ms\n",
      "713:\tlearn: 0.2401702\ttotal: 1.06s\tremaining: 424ms\n",
      "714:\tlearn: 0.2399140\ttotal: 1.06s\tremaining: 422ms\n",
      "715:\tlearn: 0.2397337\ttotal: 1.06s\tremaining: 421ms\n",
      "716:\tlearn: 0.2396964\ttotal: 1.06s\tremaining: 419ms\n",
      "717:\tlearn: 0.2395390\ttotal: 1.06s\tremaining: 418ms\n",
      "718:\tlearn: 0.2392122\ttotal: 1.06s\tremaining: 416ms\n",
      "719:\tlearn: 0.2390619\ttotal: 1.07s\tremaining: 415ms\n",
      "720:\tlearn: 0.2389439\ttotal: 1.07s\tremaining: 413ms\n",
      "721:\tlearn: 0.2385429\ttotal: 1.07s\tremaining: 412ms\n",
      "722:\tlearn: 0.2383707\ttotal: 1.07s\tremaining: 410ms\n",
      "723:\tlearn: 0.2382535\ttotal: 1.07s\tremaining: 409ms\n",
      "724:\tlearn: 0.2381393\ttotal: 1.07s\tremaining: 407ms\n",
      "725:\tlearn: 0.2379856\ttotal: 1.07s\tremaining: 406ms\n",
      "726:\tlearn: 0.2377765\ttotal: 1.08s\tremaining: 404ms\n",
      "727:\tlearn: 0.2376745\ttotal: 1.08s\tremaining: 403ms\n",
      "728:\tlearn: 0.2375429\ttotal: 1.08s\tremaining: 401ms\n",
      "729:\tlearn: 0.2373491\ttotal: 1.08s\tremaining: 400ms\n",
      "730:\tlearn: 0.2370027\ttotal: 1.08s\tremaining: 398ms\n",
      "731:\tlearn: 0.2368848\ttotal: 1.08s\tremaining: 397ms\n",
      "732:\tlearn: 0.2367762\ttotal: 1.08s\tremaining: 395ms\n",
      "733:\tlearn: 0.2366998\ttotal: 1.09s\tremaining: 394ms\n",
      "734:\tlearn: 0.2364429\ttotal: 1.09s\tremaining: 392ms\n",
      "735:\tlearn: 0.2363494\ttotal: 1.09s\tremaining: 391ms\n",
      "736:\tlearn: 0.2361932\ttotal: 1.09s\tremaining: 390ms\n",
      "737:\tlearn: 0.2358759\ttotal: 1.09s\tremaining: 389ms\n",
      "738:\tlearn: 0.2356413\ttotal: 1.09s\tremaining: 387ms\n",
      "739:\tlearn: 0.2354374\ttotal: 1.1s\tremaining: 385ms\n",
      "740:\tlearn: 0.2353556\ttotal: 1.1s\tremaining: 384ms\n",
      "741:\tlearn: 0.2352407\ttotal: 1.1s\tremaining: 382ms\n",
      "742:\tlearn: 0.2350888\ttotal: 1.1s\tremaining: 381ms\n",
      "743:\tlearn: 0.2348339\ttotal: 1.1s\tremaining: 379ms\n",
      "744:\tlearn: 0.2344997\ttotal: 1.1s\tremaining: 377ms\n",
      "745:\tlearn: 0.2343514\ttotal: 1.1s\tremaining: 376ms\n",
      "746:\tlearn: 0.2341343\ttotal: 1.1s\tremaining: 374ms\n",
      "747:\tlearn: 0.2337582\ttotal: 1.11s\tremaining: 373ms\n",
      "748:\tlearn: 0.2335933\ttotal: 1.11s\tremaining: 371ms\n",
      "749:\tlearn: 0.2334627\ttotal: 1.11s\tremaining: 370ms\n",
      "750:\tlearn: 0.2332623\ttotal: 1.11s\tremaining: 368ms\n",
      "751:\tlearn: 0.2331015\ttotal: 1.11s\tremaining: 367ms\n",
      "752:\tlearn: 0.2330066\ttotal: 1.11s\tremaining: 365ms\n",
      "753:\tlearn: 0.2328590\ttotal: 1.11s\tremaining: 364ms\n",
      "754:\tlearn: 0.2327142\ttotal: 1.11s\tremaining: 362ms\n",
      "755:\tlearn: 0.2323644\ttotal: 1.12s\tremaining: 361ms\n",
      "756:\tlearn: 0.2320818\ttotal: 1.12s\tremaining: 359ms\n",
      "757:\tlearn: 0.2319190\ttotal: 1.12s\tremaining: 357ms\n",
      "758:\tlearn: 0.2315921\ttotal: 1.12s\tremaining: 356ms\n",
      "759:\tlearn: 0.2314518\ttotal: 1.12s\tremaining: 355ms\n",
      "760:\tlearn: 0.2312555\ttotal: 1.12s\tremaining: 353ms\n",
      "761:\tlearn: 0.2310545\ttotal: 1.13s\tremaining: 351ms\n",
      "762:\tlearn: 0.2309143\ttotal: 1.13s\tremaining: 350ms\n",
      "763:\tlearn: 0.2307787\ttotal: 1.13s\tremaining: 348ms\n",
      "764:\tlearn: 0.2303175\ttotal: 1.13s\tremaining: 347ms\n",
      "765:\tlearn: 0.2300101\ttotal: 1.13s\tremaining: 345ms\n",
      "766:\tlearn: 0.2298963\ttotal: 1.13s\tremaining: 344ms\n",
      "767:\tlearn: 0.2296899\ttotal: 1.13s\tremaining: 342ms\n",
      "768:\tlearn: 0.2295813\ttotal: 1.13s\tremaining: 340ms\n",
      "769:\tlearn: 0.2292246\ttotal: 1.13s\tremaining: 339ms\n",
      "770:\tlearn: 0.2290453\ttotal: 1.14s\tremaining: 337ms\n",
      "771:\tlearn: 0.2289676\ttotal: 1.14s\tremaining: 336ms\n",
      "772:\tlearn: 0.2286484\ttotal: 1.14s\tremaining: 334ms\n",
      "773:\tlearn: 0.2284585\ttotal: 1.14s\tremaining: 333ms\n",
      "774:\tlearn: 0.2282500\ttotal: 1.14s\tremaining: 331ms\n",
      "775:\tlearn: 0.2281407\ttotal: 1.14s\tremaining: 330ms\n",
      "776:\tlearn: 0.2279219\ttotal: 1.14s\tremaining: 328ms\n",
      "777:\tlearn: 0.2276128\ttotal: 1.14s\tremaining: 327ms\n",
      "778:\tlearn: 0.2274184\ttotal: 1.15s\tremaining: 325ms\n",
      "779:\tlearn: 0.2271612\ttotal: 1.15s\tremaining: 323ms\n",
      "780:\tlearn: 0.2269394\ttotal: 1.15s\tremaining: 322ms\n",
      "781:\tlearn: 0.2268496\ttotal: 1.15s\tremaining: 320ms\n",
      "782:\tlearn: 0.2267682\ttotal: 1.15s\tremaining: 319ms\n",
      "783:\tlearn: 0.2266919\ttotal: 1.15s\tremaining: 317ms\n",
      "784:\tlearn: 0.2264667\ttotal: 1.15s\tremaining: 316ms\n",
      "785:\tlearn: 0.2261897\ttotal: 1.16s\tremaining: 315ms\n",
      "786:\tlearn: 0.2261238\ttotal: 1.16s\tremaining: 313ms\n",
      "787:\tlearn: 0.2260221\ttotal: 1.16s\tremaining: 312ms\n",
      "788:\tlearn: 0.2259542\ttotal: 1.16s\tremaining: 310ms\n",
      "789:\tlearn: 0.2257492\ttotal: 1.16s\tremaining: 309ms\n",
      "790:\tlearn: 0.2255727\ttotal: 1.16s\tremaining: 307ms\n",
      "791:\tlearn: 0.2254361\ttotal: 1.16s\tremaining: 305ms\n",
      "792:\tlearn: 0.2251975\ttotal: 1.16s\tremaining: 304ms\n",
      "793:\tlearn: 0.2251099\ttotal: 1.17s\tremaining: 302ms\n",
      "794:\tlearn: 0.2250267\ttotal: 1.17s\tremaining: 301ms\n",
      "795:\tlearn: 0.2249045\ttotal: 1.17s\tremaining: 299ms\n",
      "796:\tlearn: 0.2246708\ttotal: 1.17s\tremaining: 298ms\n",
      "797:\tlearn: 0.2244320\ttotal: 1.17s\tremaining: 296ms\n",
      "798:\tlearn: 0.2242313\ttotal: 1.17s\tremaining: 295ms\n",
      "799:\tlearn: 0.2238984\ttotal: 1.17s\tremaining: 293ms\n",
      "800:\tlearn: 0.2234516\ttotal: 1.17s\tremaining: 292ms\n",
      "801:\tlearn: 0.2233933\ttotal: 1.18s\tremaining: 290ms\n",
      "802:\tlearn: 0.2232868\ttotal: 1.18s\tremaining: 289ms\n",
      "803:\tlearn: 0.2230518\ttotal: 1.18s\tremaining: 287ms\n",
      "804:\tlearn: 0.2228824\ttotal: 1.18s\tremaining: 286ms\n",
      "805:\tlearn: 0.2226697\ttotal: 1.18s\tremaining: 284ms\n",
      "806:\tlearn: 0.2225086\ttotal: 1.18s\tremaining: 282ms\n",
      "807:\tlearn: 0.2223386\ttotal: 1.18s\tremaining: 281ms\n",
      "808:\tlearn: 0.2221959\ttotal: 1.18s\tremaining: 280ms\n",
      "809:\tlearn: 0.2219787\ttotal: 1.19s\tremaining: 278ms\n",
      "810:\tlearn: 0.2216724\ttotal: 1.19s\tremaining: 276ms\n",
      "811:\tlearn: 0.2214549\ttotal: 1.19s\tremaining: 275ms\n",
      "812:\tlearn: 0.2211909\ttotal: 1.19s\tremaining: 274ms\n",
      "813:\tlearn: 0.2208207\ttotal: 1.19s\tremaining: 272ms\n",
      "814:\tlearn: 0.2206241\ttotal: 1.19s\tremaining: 271ms\n",
      "815:\tlearn: 0.2204944\ttotal: 1.19s\tremaining: 269ms\n",
      "816:\tlearn: 0.2203338\ttotal: 1.2s\tremaining: 268ms\n",
      "817:\tlearn: 0.2202234\ttotal: 1.2s\tremaining: 266ms\n",
      "818:\tlearn: 0.2199347\ttotal: 1.2s\tremaining: 265ms\n",
      "819:\tlearn: 0.2197637\ttotal: 1.2s\tremaining: 264ms\n",
      "820:\tlearn: 0.2196321\ttotal: 1.2s\tremaining: 262ms\n",
      "821:\tlearn: 0.2195166\ttotal: 1.2s\tremaining: 261ms\n",
      "822:\tlearn: 0.2193558\ttotal: 1.2s\tremaining: 259ms\n",
      "823:\tlearn: 0.2192363\ttotal: 1.21s\tremaining: 258ms\n",
      "824:\tlearn: 0.2190681\ttotal: 1.21s\tremaining: 256ms\n",
      "825:\tlearn: 0.2188877\ttotal: 1.21s\tremaining: 255ms\n",
      "826:\tlearn: 0.2188229\ttotal: 1.21s\tremaining: 253ms\n",
      "827:\tlearn: 0.2187377\ttotal: 1.21s\tremaining: 252ms\n",
      "828:\tlearn: 0.2185021\ttotal: 1.21s\tremaining: 250ms\n",
      "829:\tlearn: 0.2184467\ttotal: 1.21s\tremaining: 249ms\n",
      "830:\tlearn: 0.2182458\ttotal: 1.22s\tremaining: 248ms\n",
      "831:\tlearn: 0.2179170\ttotal: 1.22s\tremaining: 246ms\n",
      "832:\tlearn: 0.2177744\ttotal: 1.22s\tremaining: 245ms\n",
      "833:\tlearn: 0.2176498\ttotal: 1.22s\tremaining: 243ms\n",
      "834:\tlearn: 0.2174674\ttotal: 1.22s\tremaining: 242ms\n",
      "835:\tlearn: 0.2171573\ttotal: 1.22s\tremaining: 240ms\n",
      "836:\tlearn: 0.2170428\ttotal: 1.23s\tremaining: 239ms\n",
      "837:\tlearn: 0.2168558\ttotal: 1.23s\tremaining: 237ms\n",
      "838:\tlearn: 0.2167658\ttotal: 1.23s\tremaining: 236ms\n",
      "839:\tlearn: 0.2165640\ttotal: 1.23s\tremaining: 235ms\n",
      "840:\tlearn: 0.2164665\ttotal: 1.23s\tremaining: 233ms\n",
      "841:\tlearn: 0.2163036\ttotal: 1.23s\tremaining: 232ms\n",
      "842:\tlearn: 0.2161783\ttotal: 1.24s\tremaining: 230ms\n",
      "843:\tlearn: 0.2160460\ttotal: 1.24s\tremaining: 229ms\n",
      "844:\tlearn: 0.2159027\ttotal: 1.24s\tremaining: 227ms\n",
      "845:\tlearn: 0.2157109\ttotal: 1.24s\tremaining: 226ms\n",
      "846:\tlearn: 0.2156211\ttotal: 1.24s\tremaining: 224ms\n",
      "847:\tlearn: 0.2155515\ttotal: 1.24s\tremaining: 223ms\n",
      "848:\tlearn: 0.2154780\ttotal: 1.24s\tremaining: 221ms\n",
      "849:\tlearn: 0.2152790\ttotal: 1.25s\tremaining: 220ms\n",
      "850:\tlearn: 0.2151652\ttotal: 1.25s\tremaining: 218ms\n",
      "851:\tlearn: 0.2151018\ttotal: 1.25s\tremaining: 217ms\n",
      "852:\tlearn: 0.2149208\ttotal: 1.25s\tremaining: 215ms\n",
      "853:\tlearn: 0.2147438\ttotal: 1.25s\tremaining: 214ms\n",
      "854:\tlearn: 0.2145937\ttotal: 1.25s\tremaining: 212ms\n",
      "855:\tlearn: 0.2145381\ttotal: 1.25s\tremaining: 211ms\n",
      "856:\tlearn: 0.2144657\ttotal: 1.25s\tremaining: 209ms\n",
      "857:\tlearn: 0.2141945\ttotal: 1.26s\tremaining: 208ms\n",
      "858:\tlearn: 0.2141378\ttotal: 1.26s\tremaining: 207ms\n",
      "859:\tlearn: 0.2140764\ttotal: 1.26s\tremaining: 205ms\n",
      "860:\tlearn: 0.2139788\ttotal: 1.26s\tremaining: 204ms\n",
      "861:\tlearn: 0.2138364\ttotal: 1.26s\tremaining: 202ms\n",
      "862:\tlearn: 0.2136299\ttotal: 1.27s\tremaining: 201ms\n",
      "863:\tlearn: 0.2134113\ttotal: 1.27s\tremaining: 200ms\n",
      "864:\tlearn: 0.2132956\ttotal: 1.27s\tremaining: 198ms\n",
      "865:\tlearn: 0.2130691\ttotal: 1.27s\tremaining: 197ms\n",
      "866:\tlearn: 0.2128784\ttotal: 1.27s\tremaining: 195ms\n",
      "867:\tlearn: 0.2126727\ttotal: 1.27s\tremaining: 194ms\n",
      "868:\tlearn: 0.2125340\ttotal: 1.28s\tremaining: 192ms\n",
      "869:\tlearn: 0.2122840\ttotal: 1.28s\tremaining: 191ms\n",
      "870:\tlearn: 0.2120469\ttotal: 1.28s\tremaining: 189ms\n",
      "871:\tlearn: 0.2118639\ttotal: 1.28s\tremaining: 188ms\n",
      "872:\tlearn: 0.2117496\ttotal: 1.28s\tremaining: 186ms\n",
      "873:\tlearn: 0.2114516\ttotal: 1.28s\tremaining: 185ms\n",
      "874:\tlearn: 0.2111775\ttotal: 1.28s\tremaining: 183ms\n",
      "875:\tlearn: 0.2110101\ttotal: 1.28s\tremaining: 182ms\n",
      "876:\tlearn: 0.2107460\ttotal: 1.28s\tremaining: 180ms\n",
      "877:\tlearn: 0.2106560\ttotal: 1.29s\tremaining: 179ms\n",
      "878:\tlearn: 0.2104605\ttotal: 1.29s\tremaining: 177ms\n",
      "879:\tlearn: 0.2103590\ttotal: 1.29s\tremaining: 176ms\n",
      "880:\tlearn: 0.2103160\ttotal: 1.29s\tremaining: 174ms\n",
      "881:\tlearn: 0.2102141\ttotal: 1.29s\tremaining: 173ms\n",
      "882:\tlearn: 0.2098803\ttotal: 1.29s\tremaining: 171ms\n",
      "883:\tlearn: 0.2097233\ttotal: 1.29s\tremaining: 170ms\n",
      "884:\tlearn: 0.2095986\ttotal: 1.29s\tremaining: 168ms\n",
      "885:\tlearn: 0.2094989\ttotal: 1.3s\tremaining: 167ms\n",
      "886:\tlearn: 0.2092139\ttotal: 1.3s\tremaining: 165ms\n",
      "887:\tlearn: 0.2090122\ttotal: 1.3s\tremaining: 164ms\n",
      "888:\tlearn: 0.2088416\ttotal: 1.3s\tremaining: 162ms\n",
      "889:\tlearn: 0.2087120\ttotal: 1.3s\tremaining: 161ms\n",
      "890:\tlearn: 0.2085946\ttotal: 1.3s\tremaining: 159ms\n",
      "891:\tlearn: 0.2084567\ttotal: 1.3s\tremaining: 158ms\n",
      "892:\tlearn: 0.2083637\ttotal: 1.3s\tremaining: 156ms\n",
      "893:\tlearn: 0.2082819\ttotal: 1.31s\tremaining: 155ms\n",
      "894:\tlearn: 0.2081431\ttotal: 1.31s\tremaining: 153ms\n",
      "895:\tlearn: 0.2079990\ttotal: 1.31s\tremaining: 152ms\n",
      "896:\tlearn: 0.2078031\ttotal: 1.31s\tremaining: 150ms\n",
      "897:\tlearn: 0.2076147\ttotal: 1.31s\tremaining: 149ms\n",
      "898:\tlearn: 0.2074966\ttotal: 1.31s\tremaining: 147ms\n",
      "899:\tlearn: 0.2074233\ttotal: 1.31s\tremaining: 146ms\n",
      "900:\tlearn: 0.2073176\ttotal: 1.31s\tremaining: 144ms\n",
      "901:\tlearn: 0.2071963\ttotal: 1.31s\tremaining: 143ms\n",
      "902:\tlearn: 0.2070281\ttotal: 1.32s\tremaining: 141ms\n",
      "903:\tlearn: 0.2068952\ttotal: 1.32s\tremaining: 140ms\n",
      "904:\tlearn: 0.2067909\ttotal: 1.32s\tremaining: 138ms\n",
      "905:\tlearn: 0.2065923\ttotal: 1.32s\tremaining: 137ms\n",
      "906:\tlearn: 0.2064879\ttotal: 1.32s\tremaining: 136ms\n",
      "907:\tlearn: 0.2062348\ttotal: 1.32s\tremaining: 134ms\n",
      "908:\tlearn: 0.2061212\ttotal: 1.32s\tremaining: 133ms\n",
      "909:\tlearn: 0.2059688\ttotal: 1.33s\tremaining: 131ms\n",
      "910:\tlearn: 0.2057464\ttotal: 1.33s\tremaining: 130ms\n",
      "911:\tlearn: 0.2056163\ttotal: 1.33s\tremaining: 128ms\n",
      "912:\tlearn: 0.2055138\ttotal: 1.33s\tremaining: 127ms\n",
      "913:\tlearn: 0.2054613\ttotal: 1.33s\tremaining: 125ms\n",
      "914:\tlearn: 0.2053515\ttotal: 1.33s\tremaining: 124ms\n",
      "915:\tlearn: 0.2052184\ttotal: 1.33s\tremaining: 122ms\n",
      "916:\tlearn: 0.2050330\ttotal: 1.33s\tremaining: 121ms\n",
      "917:\tlearn: 0.2049049\ttotal: 1.33s\tremaining: 119ms\n",
      "918:\tlearn: 0.2046657\ttotal: 1.34s\tremaining: 118ms\n",
      "919:\tlearn: 0.2043994\ttotal: 1.34s\tremaining: 116ms\n",
      "920:\tlearn: 0.2043421\ttotal: 1.34s\tremaining: 115ms\n",
      "921:\tlearn: 0.2040999\ttotal: 1.34s\tremaining: 113ms\n",
      "922:\tlearn: 0.2039345\ttotal: 1.34s\tremaining: 112ms\n",
      "923:\tlearn: 0.2037581\ttotal: 1.34s\tremaining: 110ms\n",
      "924:\tlearn: 0.2036368\ttotal: 1.34s\tremaining: 109ms\n",
      "925:\tlearn: 0.2035197\ttotal: 1.34s\tremaining: 108ms\n",
      "926:\tlearn: 0.2033980\ttotal: 1.35s\tremaining: 106ms\n",
      "927:\tlearn: 0.2032414\ttotal: 1.35s\tremaining: 105ms\n",
      "928:\tlearn: 0.2030566\ttotal: 1.35s\tremaining: 103ms\n",
      "929:\tlearn: 0.2027728\ttotal: 1.35s\tremaining: 102ms\n",
      "930:\tlearn: 0.2025859\ttotal: 1.35s\tremaining: 100ms\n",
      "931:\tlearn: 0.2025003\ttotal: 1.35s\tremaining: 98.7ms\n",
      "932:\tlearn: 0.2023148\ttotal: 1.35s\tremaining: 97.3ms\n",
      "933:\tlearn: 0.2022241\ttotal: 1.35s\tremaining: 95.8ms\n",
      "934:\tlearn: 0.2021301\ttotal: 1.36s\tremaining: 94.3ms\n",
      "935:\tlearn: 0.2020509\ttotal: 1.36s\tremaining: 92.9ms\n",
      "936:\tlearn: 0.2019055\ttotal: 1.36s\tremaining: 91.4ms\n",
      "937:\tlearn: 0.2018676\ttotal: 1.36s\tremaining: 90ms\n",
      "938:\tlearn: 0.2016924\ttotal: 1.36s\tremaining: 88.5ms\n",
      "939:\tlearn: 0.2016378\ttotal: 1.36s\tremaining: 87.1ms\n",
      "940:\tlearn: 0.2014014\ttotal: 1.36s\tremaining: 85.6ms\n",
      "941:\tlearn: 0.2012791\ttotal: 1.37s\tremaining: 84.2ms\n",
      "942:\tlearn: 0.2012014\ttotal: 1.37s\tremaining: 82.8ms\n",
      "943:\tlearn: 0.2010983\ttotal: 1.37s\tremaining: 81.3ms\n",
      "944:\tlearn: 0.2009464\ttotal: 1.37s\tremaining: 79.9ms\n",
      "945:\tlearn: 0.2008588\ttotal: 1.37s\tremaining: 78.4ms\n",
      "946:\tlearn: 0.2007579\ttotal: 1.38s\tremaining: 77ms\n",
      "947:\tlearn: 0.2006770\ttotal: 1.38s\tremaining: 75.5ms\n",
      "948:\tlearn: 0.2005245\ttotal: 1.38s\tremaining: 74ms\n",
      "949:\tlearn: 0.2004856\ttotal: 1.38s\tremaining: 72.6ms\n",
      "950:\tlearn: 0.2004359\ttotal: 1.38s\tremaining: 71.1ms\n",
      "951:\tlearn: 0.2001823\ttotal: 1.38s\tremaining: 69.7ms\n",
      "952:\tlearn: 0.1999742\ttotal: 1.38s\tremaining: 68.3ms\n",
      "953:\tlearn: 0.1998538\ttotal: 1.39s\tremaining: 66.8ms\n",
      "954:\tlearn: 0.1997505\ttotal: 1.39s\tremaining: 65.4ms\n",
      "955:\tlearn: 0.1996788\ttotal: 1.39s\tremaining: 63.9ms\n",
      "956:\tlearn: 0.1994983\ttotal: 1.39s\tremaining: 62.4ms\n",
      "957:\tlearn: 0.1993423\ttotal: 1.39s\tremaining: 61ms\n",
      "958:\tlearn: 0.1992059\ttotal: 1.39s\tremaining: 59.6ms\n",
      "959:\tlearn: 0.1989424\ttotal: 1.39s\tremaining: 58.1ms\n",
      "960:\tlearn: 0.1987826\ttotal: 1.4s\tremaining: 56.7ms\n",
      "961:\tlearn: 0.1986675\ttotal: 1.4s\tremaining: 55.3ms\n",
      "962:\tlearn: 0.1986389\ttotal: 1.4s\tremaining: 53.8ms\n",
      "963:\tlearn: 0.1985507\ttotal: 1.4s\tremaining: 52.4ms\n",
      "964:\tlearn: 0.1984114\ttotal: 1.4s\tremaining: 50.9ms\n",
      "965:\tlearn: 0.1983626\ttotal: 1.41s\tremaining: 49.5ms\n",
      "966:\tlearn: 0.1981922\ttotal: 1.41s\tremaining: 48ms\n",
      "967:\tlearn: 0.1979989\ttotal: 1.41s\tremaining: 46.6ms\n",
      "968:\tlearn: 0.1979202\ttotal: 1.41s\tremaining: 45.1ms\n",
      "969:\tlearn: 0.1977933\ttotal: 1.41s\tremaining: 43.7ms\n",
      "970:\tlearn: 0.1976935\ttotal: 1.41s\tremaining: 42.3ms\n",
      "971:\tlearn: 0.1975237\ttotal: 1.42s\tremaining: 40.8ms\n",
      "972:\tlearn: 0.1974117\ttotal: 1.42s\tremaining: 39.4ms\n",
      "973:\tlearn: 0.1972646\ttotal: 1.42s\tremaining: 37.9ms\n",
      "974:\tlearn: 0.1971243\ttotal: 1.42s\tremaining: 36.5ms\n",
      "975:\tlearn: 0.1969940\ttotal: 1.43s\tremaining: 35.1ms\n",
      "976:\tlearn: 0.1969432\ttotal: 1.43s\tremaining: 33.6ms\n",
      "977:\tlearn: 0.1967682\ttotal: 1.43s\tremaining: 32.2ms\n",
      "978:\tlearn: 0.1966439\ttotal: 1.43s\tremaining: 30.7ms\n",
      "979:\tlearn: 0.1965434\ttotal: 1.43s\tremaining: 29.3ms\n",
      "980:\tlearn: 0.1964754\ttotal: 1.44s\tremaining: 27.8ms\n",
      "981:\tlearn: 0.1963268\ttotal: 1.44s\tremaining: 26.4ms\n",
      "982:\tlearn: 0.1961554\ttotal: 1.44s\tremaining: 24.9ms\n",
      "983:\tlearn: 0.1958981\ttotal: 1.45s\tremaining: 23.5ms\n",
      "984:\tlearn: 0.1958360\ttotal: 1.45s\tremaining: 22ms\n",
      "985:\tlearn: 0.1955453\ttotal: 1.45s\tremaining: 20.6ms\n",
      "986:\tlearn: 0.1954170\ttotal: 1.45s\tremaining: 19.1ms\n",
      "987:\tlearn: 0.1952517\ttotal: 1.45s\tremaining: 17.7ms\n",
      "988:\tlearn: 0.1950590\ttotal: 1.46s\tremaining: 16.3ms\n",
      "989:\tlearn: 0.1948965\ttotal: 1.47s\tremaining: 14.8ms\n",
      "990:\tlearn: 0.1947814\ttotal: 1.47s\tremaining: 13.3ms\n",
      "991:\tlearn: 0.1945362\ttotal: 1.47s\tremaining: 11.9ms\n",
      "992:\tlearn: 0.1944756\ttotal: 1.48s\tremaining: 10.4ms\n",
      "993:\tlearn: 0.1943506\ttotal: 1.48s\tremaining: 8.93ms\n",
      "994:\tlearn: 0.1942585\ttotal: 1.48s\tremaining: 7.44ms\n",
      "995:\tlearn: 0.1941885\ttotal: 1.48s\tremaining: 5.96ms\n",
      "996:\tlearn: 0.1939930\ttotal: 1.49s\tremaining: 4.47ms\n",
      "997:\tlearn: 0.1938128\ttotal: 1.49s\tremaining: 2.98ms\n",
      "998:\tlearn: 0.1936294\ttotal: 1.49s\tremaining: 1.49ms\n",
      "999:\tlearn: 0.1935149\ttotal: 1.49s\tremaining: 0us\n"
     ]
    }
   ],
   "source": [
    "cat_model = CatBoostClassifier().fit(X_train, y_train)"
   ]
  },
  {
   "cell_type": "code",
   "execution_count": 189,
   "id": "48ff448c-a5cd-4307-9442-d5461ea520ff",
   "metadata": {},
   "outputs": [
    {
     "data": {
      "text/plain": [
       "0.7402597402597403"
      ]
     },
     "execution_count": 189,
     "metadata": {},
     "output_type": "execute_result"
    }
   ],
   "source": [
    "y_pred = cat_model.predict(X_test)\n",
    "accuracy_score(y_test, y_pred)"
   ]
  },
  {
   "cell_type": "markdown",
   "id": "f0678e41-b088-449e-89b7-f25eb9c4dfb5",
   "metadata": {},
   "source": [
    "## Model Tuning"
   ]
  },
  {
   "cell_type": "code",
   "execution_count": 190,
   "id": "0a4b80bc-07e0-41f0-b6f9-12d56705e152",
   "metadata": {},
   "outputs": [],
   "source": [
    "catb_params = {\n",
    "    'iterations': [200,500],\n",
    "    'learning_rate': [0.01,0.05, 0.1],\n",
    "    'depth': [3,5,8] }"
   ]
  },
  {
   "cell_type": "code",
   "execution_count": 191,
   "id": "65f8d990-a312-4ad2-93ad-e4e5ac3d2441",
   "metadata": {
    "collapsed": true,
    "jupyter": {
     "outputs_hidden": true
    },
    "tags": []
   },
   "outputs": [
    {
     "name": "stdout",
     "output_type": "stream",
     "text": [
      "Fitting 5 folds for each of 18 candidates, totalling 90 fits\n",
      "0:\tlearn: 0.6863412\ttotal: 4.85ms\tremaining: 966ms\n",
      "1:\tlearn: 0.6811322\ttotal: 9.5ms\tremaining: 940ms\n",
      "2:\tlearn: 0.6753199\ttotal: 14.2ms\tremaining: 933ms\n",
      "3:\tlearn: 0.6697717\ttotal: 18.4ms\tremaining: 902ms\n",
      "4:\tlearn: 0.6642090\ttotal: 23.6ms\tremaining: 920ms\n",
      "5:\tlearn: 0.6577038\ttotal: 28.4ms\tremaining: 919ms\n",
      "6:\tlearn: 0.6522290\ttotal: 33.6ms\tremaining: 925ms\n",
      "7:\tlearn: 0.6466015\ttotal: 37.7ms\tremaining: 904ms\n",
      "8:\tlearn: 0.6408068\ttotal: 43.3ms\tremaining: 918ms\n",
      "9:\tlearn: 0.6358218\ttotal: 49.5ms\tremaining: 940ms\n",
      "10:\tlearn: 0.6300444\ttotal: 60.8ms\tremaining: 1.04s\n",
      "11:\tlearn: 0.6240992\ttotal: 65.5ms\tremaining: 1.02s\n",
      "12:\tlearn: 0.6196618\ttotal: 70.9ms\tremaining: 1.02s\n",
      "13:\tlearn: 0.6149237\ttotal: 79.3ms\tremaining: 1.05s\n",
      "14:\tlearn: 0.6093146\ttotal: 84.5ms\tremaining: 1.04s\n",
      "15:\tlearn: 0.6047282\ttotal: 89.4ms\tremaining: 1.03s\n",
      "16:\tlearn: 0.6013242\ttotal: 93.6ms\tremaining: 1.01s\n",
      "17:\tlearn: 0.5958624\ttotal: 97.6ms\tremaining: 987ms\n",
      "18:\tlearn: 0.5903733\ttotal: 101ms\tremaining: 965ms\n",
      "19:\tlearn: 0.5866505\ttotal: 107ms\tremaining: 963ms\n",
      "20:\tlearn: 0.5831865\ttotal: 116ms\tremaining: 985ms\n",
      "21:\tlearn: 0.5787839\ttotal: 125ms\tremaining: 1.01s\n",
      "22:\tlearn: 0.5749453\ttotal: 129ms\tremaining: 992ms\n",
      "23:\tlearn: 0.5703621\ttotal: 134ms\tremaining: 980ms\n",
      "24:\tlearn: 0.5662773\ttotal: 141ms\tremaining: 985ms\n",
      "25:\tlearn: 0.5629069\ttotal: 149ms\tremaining: 994ms\n",
      "26:\tlearn: 0.5589454\ttotal: 154ms\tremaining: 987ms\n",
      "27:\tlearn: 0.5544253\ttotal: 158ms\tremaining: 971ms\n",
      "28:\tlearn: 0.5504193\ttotal: 162ms\tremaining: 953ms\n",
      "29:\tlearn: 0.5470888\ttotal: 165ms\tremaining: 936ms\n",
      "30:\tlearn: 0.5441572\ttotal: 169ms\tremaining: 923ms\n",
      "31:\tlearn: 0.5396568\ttotal: 173ms\tremaining: 910ms\n",
      "32:\tlearn: 0.5356520\ttotal: 178ms\tremaining: 903ms\n",
      "33:\tlearn: 0.5315662\ttotal: 182ms\tremaining: 889ms\n",
      "34:\tlearn: 0.5280107\ttotal: 188ms\tremaining: 885ms\n",
      "35:\tlearn: 0.5248634\ttotal: 191ms\tremaining: 872ms\n",
      "36:\tlearn: 0.5224134\ttotal: 195ms\tremaining: 859ms\n",
      "37:\tlearn: 0.5198514\ttotal: 199ms\tremaining: 850ms\n",
      "38:\tlearn: 0.5167668\ttotal: 203ms\tremaining: 838ms\n",
      "39:\tlearn: 0.5139063\ttotal: 209ms\tremaining: 835ms\n",
      "40:\tlearn: 0.5101721\ttotal: 214ms\tremaining: 830ms\n",
      "41:\tlearn: 0.5066326\ttotal: 219ms\tremaining: 824ms\n",
      "42:\tlearn: 0.5033936\ttotal: 224ms\tremaining: 817ms\n",
      "43:\tlearn: 0.5006117\ttotal: 231ms\tremaining: 817ms\n",
      "44:\tlearn: 0.4980917\ttotal: 239ms\tremaining: 822ms\n",
      "45:\tlearn: 0.4959463\ttotal: 245ms\tremaining: 820ms\n",
      "46:\tlearn: 0.4934198\ttotal: 252ms\tremaining: 822ms\n",
      "47:\tlearn: 0.4906410\ttotal: 257ms\tremaining: 813ms\n",
      "48:\tlearn: 0.4878576\ttotal: 261ms\tremaining: 804ms\n",
      "49:\tlearn: 0.4850977\ttotal: 266ms\tremaining: 799ms\n",
      "50:\tlearn: 0.4826157\ttotal: 272ms\tremaining: 794ms\n",
      "51:\tlearn: 0.4798530\ttotal: 276ms\tremaining: 786ms\n",
      "52:\tlearn: 0.4776349\ttotal: 281ms\tremaining: 778ms\n",
      "53:\tlearn: 0.4754652\ttotal: 286ms\tremaining: 773ms\n",
      "54:\tlearn: 0.4733755\ttotal: 300ms\tremaining: 791ms\n",
      "55:\tlearn: 0.4706337\ttotal: 308ms\tremaining: 792ms\n",
      "56:\tlearn: 0.4677619\ttotal: 317ms\tremaining: 795ms\n",
      "57:\tlearn: 0.4657008\ttotal: 325ms\tremaining: 796ms\n",
      "58:\tlearn: 0.4637682\ttotal: 330ms\tremaining: 788ms\n",
      "59:\tlearn: 0.4615518\ttotal: 333ms\tremaining: 778ms\n",
      "60:\tlearn: 0.4600032\ttotal: 336ms\tremaining: 767ms\n",
      "61:\tlearn: 0.4584260\ttotal: 337ms\tremaining: 751ms\n",
      "62:\tlearn: 0.4567343\ttotal: 340ms\tremaining: 740ms\n",
      "63:\tlearn: 0.4541223\ttotal: 344ms\tremaining: 730ms\n",
      "64:\tlearn: 0.4530108\ttotal: 344ms\tremaining: 715ms\n",
      "65:\tlearn: 0.4512377\ttotal: 349ms\tremaining: 708ms\n",
      "66:\tlearn: 0.4487025\ttotal: 352ms\tremaining: 699ms\n",
      "67:\tlearn: 0.4468152\ttotal: 356ms\tremaining: 691ms\n",
      "68:\tlearn: 0.4449902\ttotal: 359ms\tremaining: 682ms\n",
      "69:\tlearn: 0.4426412\ttotal: 362ms\tremaining: 673ms\n",
      "70:\tlearn: 0.4401906\ttotal: 365ms\tremaining: 663ms\n",
      "71:\tlearn: 0.4380992\ttotal: 368ms\tremaining: 654ms\n",
      "72:\tlearn: 0.4367450\ttotal: 371ms\tremaining: 646ms\n",
      "73:\tlearn: 0.4353520\ttotal: 374ms\tremaining: 637ms\n",
      "74:\tlearn: 0.4340243\ttotal: 378ms\tremaining: 630ms\n",
      "75:\tlearn: 0.4315947\ttotal: 381ms\tremaining: 621ms\n",
      "76:\tlearn: 0.4298990\ttotal: 383ms\tremaining: 613ms\n",
      "77:\tlearn: 0.4285587\ttotal: 386ms\tremaining: 604ms\n",
      "78:\tlearn: 0.4266109\ttotal: 389ms\tremaining: 596ms\n",
      "79:\tlearn: 0.4244339\ttotal: 393ms\tremaining: 589ms\n",
      "80:\tlearn: 0.4228679\ttotal: 397ms\tremaining: 583ms\n",
      "81:\tlearn: 0.4214531\ttotal: 400ms\tremaining: 576ms\n",
      "82:\tlearn: 0.4200925\ttotal: 403ms\tremaining: 569ms\n",
      "83:\tlearn: 0.4184640\ttotal: 407ms\tremaining: 562ms\n",
      "84:\tlearn: 0.4168303\ttotal: 411ms\tremaining: 555ms\n",
      "85:\tlearn: 0.4156724\ttotal: 414ms\tremaining: 549ms\n",
      "86:\tlearn: 0.4140974\ttotal: 417ms\tremaining: 542ms\n",
      "87:\tlearn: 0.4124542\ttotal: 420ms\tremaining: 535ms\n",
      "88:\tlearn: 0.4107650\ttotal: 425ms\tremaining: 530ms\n",
      "89:\tlearn: 0.4091247\ttotal: 429ms\tremaining: 525ms\n",
      "90:\tlearn: 0.4075743\ttotal: 432ms\tremaining: 518ms\n",
      "91:\tlearn: 0.4062728\ttotal: 436ms\tremaining: 511ms\n",
      "92:\tlearn: 0.4044987\ttotal: 440ms\tremaining: 506ms\n",
      "93:\tlearn: 0.4030509\ttotal: 443ms\tremaining: 500ms\n",
      "94:\tlearn: 0.4012366\ttotal: 447ms\tremaining: 494ms\n",
      "95:\tlearn: 0.3995010\ttotal: 450ms\tremaining: 488ms\n",
      "96:\tlearn: 0.3983567\ttotal: 453ms\tremaining: 481ms\n",
      "97:\tlearn: 0.3970163\ttotal: 456ms\tremaining: 475ms\n",
      "98:\tlearn: 0.3955954\ttotal: 460ms\tremaining: 469ms\n",
      "99:\tlearn: 0.3946458\ttotal: 463ms\tremaining: 463ms\n",
      "100:\tlearn: 0.3932682\ttotal: 467ms\tremaining: 457ms\n",
      "101:\tlearn: 0.3921086\ttotal: 472ms\tremaining: 453ms\n",
      "102:\tlearn: 0.3912041\ttotal: 475ms\tremaining: 447ms\n",
      "103:\tlearn: 0.3896085\ttotal: 478ms\tremaining: 441ms\n",
      "104:\tlearn: 0.3881310\ttotal: 480ms\tremaining: 435ms\n",
      "105:\tlearn: 0.3867841\ttotal: 484ms\tremaining: 429ms\n",
      "106:\tlearn: 0.3855611\ttotal: 488ms\tremaining: 424ms\n",
      "107:\tlearn: 0.3841345\ttotal: 491ms\tremaining: 418ms\n",
      "108:\tlearn: 0.3829608\ttotal: 494ms\tremaining: 412ms\n",
      "109:\tlearn: 0.3819127\ttotal: 500ms\tremaining: 409ms\n",
      "110:\tlearn: 0.3810000\ttotal: 503ms\tremaining: 403ms\n",
      "111:\tlearn: 0.3790356\ttotal: 506ms\tremaining: 397ms\n",
      "112:\tlearn: 0.3774673\ttotal: 509ms\tremaining: 392ms\n",
      "113:\tlearn: 0.3762712\ttotal: 511ms\tremaining: 386ms\n",
      "114:\tlearn: 0.3750760\ttotal: 514ms\tremaining: 380ms\n",
      "115:\tlearn: 0.3735547\ttotal: 518ms\tremaining: 375ms\n",
      "116:\tlearn: 0.3728015\ttotal: 520ms\tremaining: 369ms\n",
      "117:\tlearn: 0.3714192\ttotal: 523ms\tremaining: 364ms\n",
      "118:\tlearn: 0.3705935\ttotal: 526ms\tremaining: 358ms\n",
      "119:\tlearn: 0.3694736\ttotal: 529ms\tremaining: 353ms\n",
      "120:\tlearn: 0.3687791\ttotal: 533ms\tremaining: 348ms\n",
      "121:\tlearn: 0.3679782\ttotal: 536ms\tremaining: 343ms\n",
      "122:\tlearn: 0.3666547\ttotal: 539ms\tremaining: 337ms\n",
      "123:\tlearn: 0.3655144\ttotal: 542ms\tremaining: 332ms\n",
      "124:\tlearn: 0.3643546\ttotal: 545ms\tremaining: 327ms\n",
      "125:\tlearn: 0.3636557\ttotal: 547ms\tremaining: 321ms\n",
      "126:\tlearn: 0.3625550\ttotal: 550ms\tremaining: 316ms\n",
      "127:\tlearn: 0.3610147\ttotal: 553ms\tremaining: 311ms\n",
      "128:\tlearn: 0.3596348\ttotal: 556ms\tremaining: 306ms\n",
      "129:\tlearn: 0.3584074\ttotal: 559ms\tremaining: 301ms\n",
      "130:\tlearn: 0.3569602\ttotal: 562ms\tremaining: 296ms\n",
      "131:\tlearn: 0.3558913\ttotal: 565ms\tremaining: 291ms\n",
      "132:\tlearn: 0.3548689\ttotal: 568ms\tremaining: 286ms\n",
      "133:\tlearn: 0.3533837\ttotal: 571ms\tremaining: 281ms\n",
      "134:\tlearn: 0.3524619\ttotal: 574ms\tremaining: 277ms\n",
      "135:\tlearn: 0.3518338\ttotal: 578ms\tremaining: 272ms\n",
      "136:\tlearn: 0.3505366\ttotal: 615ms\tremaining: 283ms\n",
      "137:\tlearn: 0.3497723\ttotal: 622ms\tremaining: 280ms\n",
      "138:\tlearn: 0.3489030\ttotal: 630ms\tremaining: 276ms\n",
      "139:\tlearn: 0.3482652\ttotal: 637ms\tremaining: 273ms\n",
      "140:\tlearn: 0.3471165\ttotal: 643ms\tremaining: 269ms\n",
      "141:\tlearn: 0.3458630\ttotal: 646ms\tremaining: 264ms\n",
      "142:\tlearn: 0.3445867\ttotal: 653ms\tremaining: 260ms\n",
      "143:\tlearn: 0.3436773\ttotal: 660ms\tremaining: 257ms\n",
      "144:\tlearn: 0.3426979\ttotal: 663ms\tremaining: 252ms\n",
      "145:\tlearn: 0.3417627\ttotal: 668ms\tremaining: 247ms\n",
      "146:\tlearn: 0.3407937\ttotal: 672ms\tremaining: 242ms\n",
      "147:\tlearn: 0.3398191\ttotal: 676ms\tremaining: 238ms\n",
      "148:\tlearn: 0.3390524\ttotal: 681ms\tremaining: 233ms\n",
      "149:\tlearn: 0.3381671\ttotal: 687ms\tremaining: 229ms\n",
      "150:\tlearn: 0.3375138\ttotal: 692ms\tremaining: 225ms\n",
      "151:\tlearn: 0.3365898\ttotal: 697ms\tremaining: 220ms\n",
      "152:\tlearn: 0.3358887\ttotal: 699ms\tremaining: 215ms\n",
      "153:\tlearn: 0.3346492\ttotal: 702ms\tremaining: 210ms\n",
      "154:\tlearn: 0.3336018\ttotal: 705ms\tremaining: 205ms\n",
      "155:\tlearn: 0.3330832\ttotal: 709ms\tremaining: 200ms\n",
      "156:\tlearn: 0.3324238\ttotal: 713ms\tremaining: 195ms\n",
      "157:\tlearn: 0.3312569\ttotal: 716ms\tremaining: 190ms\n",
      "158:\tlearn: 0.3299834\ttotal: 719ms\tremaining: 185ms\n",
      "159:\tlearn: 0.3286908\ttotal: 722ms\tremaining: 181ms\n",
      "160:\tlearn: 0.3276277\ttotal: 725ms\tremaining: 176ms\n",
      "161:\tlearn: 0.3267134\ttotal: 728ms\tremaining: 171ms\n",
      "162:\tlearn: 0.3259380\ttotal: 731ms\tremaining: 166ms\n",
      "163:\tlearn: 0.3249529\ttotal: 734ms\tremaining: 161ms\n",
      "164:\tlearn: 0.3241876\ttotal: 737ms\tremaining: 156ms\n",
      "165:\tlearn: 0.3237797\ttotal: 741ms\tremaining: 152ms\n",
      "166:\tlearn: 0.3228611\ttotal: 744ms\tremaining: 147ms\n",
      "167:\tlearn: 0.3218481\ttotal: 747ms\tremaining: 142ms\n",
      "168:\tlearn: 0.3209571\ttotal: 749ms\tremaining: 137ms\n",
      "169:\tlearn: 0.3200492\ttotal: 752ms\tremaining: 133ms\n",
      "170:\tlearn: 0.3189373\ttotal: 756ms\tremaining: 128ms\n",
      "171:\tlearn: 0.3179033\ttotal: 759ms\tremaining: 124ms\n",
      "172:\tlearn: 0.3172849\ttotal: 762ms\tremaining: 119ms\n",
      "173:\tlearn: 0.3166655\ttotal: 765ms\tremaining: 114ms\n",
      "174:\tlearn: 0.3157718\ttotal: 768ms\tremaining: 110ms\n",
      "175:\tlearn: 0.3150160\ttotal: 772ms\tremaining: 105ms\n",
      "176:\tlearn: 0.3142830\ttotal: 776ms\tremaining: 101ms\n",
      "177:\tlearn: 0.3138662\ttotal: 780ms\tremaining: 96.4ms\n",
      "178:\tlearn: 0.3133629\ttotal: 783ms\tremaining: 91.9ms\n",
      "179:\tlearn: 0.3125061\ttotal: 786ms\tremaining: 87.3ms\n",
      "180:\tlearn: 0.3115252\ttotal: 789ms\tremaining: 82.8ms\n",
      "181:\tlearn: 0.3110208\ttotal: 792ms\tremaining: 78.3ms\n",
      "182:\tlearn: 0.3105547\ttotal: 795ms\tremaining: 73.8ms\n",
      "183:\tlearn: 0.3094534\ttotal: 798ms\tremaining: 69.4ms\n",
      "184:\tlearn: 0.3087456\ttotal: 800ms\tremaining: 64.9ms\n",
      "185:\tlearn: 0.3079835\ttotal: 804ms\tremaining: 60.5ms\n",
      "186:\tlearn: 0.3072245\ttotal: 807ms\tremaining: 56.1ms\n",
      "187:\tlearn: 0.3061540\ttotal: 810ms\tremaining: 51.7ms\n",
      "188:\tlearn: 0.3054721\ttotal: 812ms\tremaining: 47.3ms\n",
      "189:\tlearn: 0.3048467\ttotal: 815ms\tremaining: 42.9ms\n",
      "190:\tlearn: 0.3042662\ttotal: 818ms\tremaining: 38.6ms\n",
      "191:\tlearn: 0.3037025\ttotal: 821ms\tremaining: 34.2ms\n",
      "192:\tlearn: 0.3028928\ttotal: 824ms\tremaining: 29.9ms\n",
      "193:\tlearn: 0.3020155\ttotal: 827ms\tremaining: 25.6ms\n",
      "194:\tlearn: 0.3010007\ttotal: 831ms\tremaining: 21.3ms\n",
      "195:\tlearn: 0.3002253\ttotal: 834ms\tremaining: 17ms\n",
      "196:\tlearn: 0.2999682\ttotal: 836ms\tremaining: 12.7ms\n",
      "197:\tlearn: 0.2994228\ttotal: 839ms\tremaining: 8.47ms\n",
      "198:\tlearn: 0.2986712\ttotal: 842ms\tremaining: 4.23ms\n",
      "199:\tlearn: 0.2980459\ttotal: 846ms\tremaining: 0us\n"
     ]
    },
    {
     "data": {
      "text/plain": [
       "{'depth': 8, 'iterations': 200, 'learning_rate': 0.01}"
      ]
     },
     "execution_count": 191,
     "metadata": {},
     "output_type": "execute_result"
    }
   ],
   "source": [
    "catb = CatBoostClassifier()\n",
    "catb_cv_model = GridSearchCV(catb, catb_params, cv=5, n_jobs = -1, verbose = 2)\n",
    "catb_cv_model.fit(X_train, y_train)\n",
    "catb_cv_model.best_params_"
   ]
  },
  {
   "cell_type": "code",
   "execution_count": 192,
   "id": "ea5d9f63-f330-4c53-93e9-e4761b7958fd",
   "metadata": {},
   "outputs": [
    {
     "data": {
      "text/plain": [
       "{'depth': 8, 'iterations': 200, 'learning_rate': 0.01}"
      ]
     },
     "execution_count": 192,
     "metadata": {},
     "output_type": "execute_result"
    }
   ],
   "source": [
    "catb_cv_model.best_params_"
   ]
  },
  {
   "cell_type": "code",
   "execution_count": 193,
   "id": "496e4e85-2a0c-4427-b91a-836d36693d78",
   "metadata": {
    "collapsed": true,
    "jupyter": {
     "outputs_hidden": true
    },
    "tags": []
   },
   "outputs": [
    {
     "name": "stdout",
     "output_type": "stream",
     "text": [
      "0:\tlearn: 0.6863412\ttotal: 4.18ms\tremaining: 831ms\n",
      "1:\tlearn: 0.6811322\ttotal: 7.54ms\tremaining: 746ms\n",
      "2:\tlearn: 0.6753199\ttotal: 12.4ms\tremaining: 815ms\n",
      "3:\tlearn: 0.6697717\ttotal: 16ms\tremaining: 784ms\n",
      "4:\tlearn: 0.6642090\ttotal: 19.5ms\tremaining: 760ms\n",
      "5:\tlearn: 0.6577038\ttotal: 23.3ms\tremaining: 753ms\n",
      "6:\tlearn: 0.6522290\ttotal: 27.8ms\tremaining: 767ms\n",
      "7:\tlearn: 0.6466015\ttotal: 31.4ms\tremaining: 753ms\n",
      "8:\tlearn: 0.6408068\ttotal: 34.7ms\tremaining: 736ms\n",
      "9:\tlearn: 0.6358218\ttotal: 37.9ms\tremaining: 720ms\n",
      "10:\tlearn: 0.6300444\ttotal: 41.3ms\tremaining: 710ms\n",
      "11:\tlearn: 0.6240992\ttotal: 45.5ms\tremaining: 712ms\n",
      "12:\tlearn: 0.6196618\ttotal: 48.9ms\tremaining: 704ms\n",
      "13:\tlearn: 0.6149237\ttotal: 53.8ms\tremaining: 715ms\n",
      "14:\tlearn: 0.6093146\ttotal: 57.3ms\tremaining: 707ms\n",
      "15:\tlearn: 0.6047282\ttotal: 61.1ms\tremaining: 703ms\n",
      "16:\tlearn: 0.6013242\ttotal: 64.8ms\tremaining: 697ms\n",
      "17:\tlearn: 0.5958624\ttotal: 69.5ms\tremaining: 703ms\n",
      "18:\tlearn: 0.5903733\ttotal: 77.5ms\tremaining: 739ms\n",
      "19:\tlearn: 0.5866505\ttotal: 83.3ms\tremaining: 750ms\n",
      "20:\tlearn: 0.5831865\ttotal: 86.5ms\tremaining: 737ms\n",
      "21:\tlearn: 0.5787839\ttotal: 92.2ms\tremaining: 746ms\n",
      "22:\tlearn: 0.5749453\ttotal: 96.4ms\tremaining: 742ms\n",
      "23:\tlearn: 0.5703621\ttotal: 102ms\tremaining: 746ms\n",
      "24:\tlearn: 0.5662773\ttotal: 106ms\tremaining: 741ms\n",
      "25:\tlearn: 0.5629069\ttotal: 109ms\tremaining: 731ms\n",
      "26:\tlearn: 0.5589454\ttotal: 113ms\tremaining: 722ms\n",
      "27:\tlearn: 0.5544253\ttotal: 116ms\tremaining: 714ms\n",
      "28:\tlearn: 0.5504193\ttotal: 120ms\tremaining: 706ms\n",
      "29:\tlearn: 0.5470888\ttotal: 125ms\tremaining: 707ms\n",
      "30:\tlearn: 0.5441572\ttotal: 128ms\tremaining: 699ms\n",
      "31:\tlearn: 0.5396568\ttotal: 132ms\tremaining: 692ms\n",
      "32:\tlearn: 0.5356520\ttotal: 139ms\tremaining: 704ms\n",
      "33:\tlearn: 0.5315662\ttotal: 144ms\tremaining: 703ms\n",
      "34:\tlearn: 0.5280107\ttotal: 149ms\tremaining: 701ms\n",
      "35:\tlearn: 0.5248634\ttotal: 152ms\tremaining: 691ms\n",
      "36:\tlearn: 0.5224134\ttotal: 156ms\tremaining: 685ms\n",
      "37:\tlearn: 0.5198514\ttotal: 159ms\tremaining: 676ms\n",
      "38:\tlearn: 0.5167668\ttotal: 162ms\tremaining: 667ms\n",
      "39:\tlearn: 0.5139063\ttotal: 164ms\tremaining: 657ms\n",
      "40:\tlearn: 0.5101721\ttotal: 167ms\tremaining: 649ms\n",
      "41:\tlearn: 0.5066326\ttotal: 171ms\tremaining: 644ms\n",
      "42:\tlearn: 0.5033936\ttotal: 175ms\tremaining: 638ms\n",
      "43:\tlearn: 0.5006117\ttotal: 178ms\tremaining: 631ms\n",
      "44:\tlearn: 0.4980917\ttotal: 182ms\tremaining: 625ms\n",
      "45:\tlearn: 0.4959463\ttotal: 187ms\tremaining: 624ms\n",
      "46:\tlearn: 0.4934198\ttotal: 196ms\tremaining: 637ms\n",
      "47:\tlearn: 0.4906410\ttotal: 203ms\tremaining: 643ms\n",
      "48:\tlearn: 0.4878576\ttotal: 208ms\tremaining: 641ms\n",
      "49:\tlearn: 0.4850977\ttotal: 212ms\tremaining: 637ms\n",
      "50:\tlearn: 0.4826157\ttotal: 220ms\tremaining: 642ms\n",
      "51:\tlearn: 0.4798530\ttotal: 224ms\tremaining: 637ms\n",
      "52:\tlearn: 0.4776349\ttotal: 228ms\tremaining: 633ms\n",
      "53:\tlearn: 0.4754652\ttotal: 234ms\tremaining: 632ms\n",
      "54:\tlearn: 0.4733755\ttotal: 238ms\tremaining: 628ms\n",
      "55:\tlearn: 0.4706337\ttotal: 243ms\tremaining: 625ms\n",
      "56:\tlearn: 0.4677619\ttotal: 248ms\tremaining: 622ms\n",
      "57:\tlearn: 0.4657008\ttotal: 253ms\tremaining: 619ms\n",
      "58:\tlearn: 0.4637682\ttotal: 260ms\tremaining: 621ms\n",
      "59:\tlearn: 0.4615518\ttotal: 270ms\tremaining: 629ms\n",
      "60:\tlearn: 0.4600032\ttotal: 278ms\tremaining: 633ms\n",
      "61:\tlearn: 0.4584260\ttotal: 283ms\tremaining: 630ms\n",
      "62:\tlearn: 0.4567343\ttotal: 293ms\tremaining: 637ms\n",
      "63:\tlearn: 0.4541223\ttotal: 298ms\tremaining: 634ms\n",
      "64:\tlearn: 0.4530108\ttotal: 299ms\tremaining: 622ms\n",
      "65:\tlearn: 0.4512377\ttotal: 304ms\tremaining: 618ms\n",
      "66:\tlearn: 0.4487025\ttotal: 311ms\tremaining: 617ms\n",
      "67:\tlearn: 0.4468152\ttotal: 315ms\tremaining: 612ms\n",
      "68:\tlearn: 0.4449902\ttotal: 319ms\tremaining: 606ms\n",
      "69:\tlearn: 0.4426412\ttotal: 323ms\tremaining: 600ms\n",
      "70:\tlearn: 0.4401906\ttotal: 328ms\tremaining: 596ms\n",
      "71:\tlearn: 0.4380992\ttotal: 331ms\tremaining: 589ms\n",
      "72:\tlearn: 0.4367450\ttotal: 335ms\tremaining: 583ms\n",
      "73:\tlearn: 0.4353520\ttotal: 338ms\tremaining: 576ms\n",
      "74:\tlearn: 0.4340243\ttotal: 343ms\tremaining: 571ms\n",
      "75:\tlearn: 0.4315947\ttotal: 346ms\tremaining: 565ms\n",
      "76:\tlearn: 0.4298990\ttotal: 350ms\tremaining: 559ms\n",
      "77:\tlearn: 0.4285587\ttotal: 353ms\tremaining: 552ms\n",
      "78:\tlearn: 0.4266109\ttotal: 357ms\tremaining: 546ms\n",
      "79:\tlearn: 0.4244339\ttotal: 360ms\tremaining: 540ms\n",
      "80:\tlearn: 0.4228679\ttotal: 365ms\tremaining: 536ms\n",
      "81:\tlearn: 0.4214531\ttotal: 369ms\tremaining: 532ms\n",
      "82:\tlearn: 0.4200925\ttotal: 376ms\tremaining: 529ms\n",
      "83:\tlearn: 0.4184640\ttotal: 380ms\tremaining: 524ms\n",
      "84:\tlearn: 0.4168303\ttotal: 384ms\tremaining: 519ms\n",
      "85:\tlearn: 0.4156724\ttotal: 387ms\tremaining: 514ms\n",
      "86:\tlearn: 0.4140974\ttotal: 392ms\tremaining: 509ms\n",
      "87:\tlearn: 0.4124542\ttotal: 396ms\tremaining: 504ms\n",
      "88:\tlearn: 0.4107650\ttotal: 400ms\tremaining: 499ms\n",
      "89:\tlearn: 0.4091247\ttotal: 405ms\tremaining: 495ms\n",
      "90:\tlearn: 0.4075743\ttotal: 409ms\tremaining: 490ms\n",
      "91:\tlearn: 0.4062728\ttotal: 412ms\tremaining: 484ms\n",
      "92:\tlearn: 0.4044987\ttotal: 417ms\tremaining: 479ms\n",
      "93:\tlearn: 0.4030509\ttotal: 423ms\tremaining: 477ms\n",
      "94:\tlearn: 0.4012366\ttotal: 427ms\tremaining: 472ms\n",
      "95:\tlearn: 0.3995010\ttotal: 431ms\tremaining: 467ms\n",
      "96:\tlearn: 0.3983567\ttotal: 434ms\tremaining: 461ms\n",
      "97:\tlearn: 0.3970163\ttotal: 439ms\tremaining: 457ms\n",
      "98:\tlearn: 0.3955954\ttotal: 442ms\tremaining: 450ms\n",
      "99:\tlearn: 0.3946458\ttotal: 444ms\tremaining: 444ms\n",
      "100:\tlearn: 0.3932682\ttotal: 447ms\tremaining: 438ms\n",
      "101:\tlearn: 0.3921086\ttotal: 450ms\tremaining: 432ms\n",
      "102:\tlearn: 0.3912041\ttotal: 454ms\tremaining: 428ms\n",
      "103:\tlearn: 0.3896085\ttotal: 457ms\tremaining: 422ms\n",
      "104:\tlearn: 0.3881310\ttotal: 460ms\tremaining: 416ms\n",
      "105:\tlearn: 0.3867841\ttotal: 463ms\tremaining: 410ms\n",
      "106:\tlearn: 0.3855611\ttotal: 466ms\tremaining: 405ms\n",
      "107:\tlearn: 0.3841345\ttotal: 470ms\tremaining: 400ms\n",
      "108:\tlearn: 0.3829608\ttotal: 473ms\tremaining: 395ms\n",
      "109:\tlearn: 0.3819127\ttotal: 475ms\tremaining: 389ms\n",
      "110:\tlearn: 0.3810000\ttotal: 478ms\tremaining: 383ms\n",
      "111:\tlearn: 0.3790356\ttotal: 481ms\tremaining: 378ms\n",
      "112:\tlearn: 0.3774673\ttotal: 485ms\tremaining: 373ms\n",
      "113:\tlearn: 0.3762712\ttotal: 488ms\tremaining: 368ms\n",
      "114:\tlearn: 0.3750760\ttotal: 490ms\tremaining: 362ms\n",
      "115:\tlearn: 0.3735547\ttotal: 493ms\tremaining: 357ms\n",
      "116:\tlearn: 0.3728015\ttotal: 496ms\tremaining: 352ms\n",
      "117:\tlearn: 0.3714192\ttotal: 499ms\tremaining: 347ms\n",
      "118:\tlearn: 0.3705935\ttotal: 502ms\tremaining: 342ms\n",
      "119:\tlearn: 0.3694736\ttotal: 505ms\tremaining: 337ms\n",
      "120:\tlearn: 0.3687791\ttotal: 508ms\tremaining: 331ms\n",
      "121:\tlearn: 0.3679782\ttotal: 510ms\tremaining: 326ms\n",
      "122:\tlearn: 0.3666547\ttotal: 513ms\tremaining: 321ms\n",
      "123:\tlearn: 0.3655144\ttotal: 518ms\tremaining: 317ms\n",
      "124:\tlearn: 0.3643546\ttotal: 520ms\tremaining: 312ms\n",
      "125:\tlearn: 0.3636557\ttotal: 523ms\tremaining: 307ms\n",
      "126:\tlearn: 0.3625550\ttotal: 527ms\tremaining: 303ms\n",
      "127:\tlearn: 0.3610147\ttotal: 530ms\tremaining: 298ms\n",
      "128:\tlearn: 0.3596348\ttotal: 534ms\tremaining: 294ms\n",
      "129:\tlearn: 0.3584074\ttotal: 537ms\tremaining: 289ms\n",
      "130:\tlearn: 0.3569602\ttotal: 541ms\tremaining: 285ms\n",
      "131:\tlearn: 0.3558913\ttotal: 545ms\tremaining: 281ms\n",
      "132:\tlearn: 0.3548689\ttotal: 549ms\tremaining: 277ms\n",
      "133:\tlearn: 0.3533837\ttotal: 552ms\tremaining: 272ms\n",
      "134:\tlearn: 0.3524619\ttotal: 556ms\tremaining: 268ms\n",
      "135:\tlearn: 0.3518338\ttotal: 559ms\tremaining: 263ms\n",
      "136:\tlearn: 0.3505366\ttotal: 564ms\tremaining: 259ms\n",
      "137:\tlearn: 0.3497723\ttotal: 567ms\tremaining: 255ms\n",
      "138:\tlearn: 0.3489030\ttotal: 571ms\tremaining: 250ms\n",
      "139:\tlearn: 0.3482652\ttotal: 574ms\tremaining: 246ms\n",
      "140:\tlearn: 0.3471165\ttotal: 579ms\tremaining: 242ms\n",
      "141:\tlearn: 0.3458630\ttotal: 582ms\tremaining: 238ms\n",
      "142:\tlearn: 0.3445867\ttotal: 586ms\tremaining: 234ms\n",
      "143:\tlearn: 0.3436773\ttotal: 590ms\tremaining: 229ms\n",
      "144:\tlearn: 0.3426979\ttotal: 595ms\tremaining: 226ms\n",
      "145:\tlearn: 0.3417627\ttotal: 598ms\tremaining: 221ms\n",
      "146:\tlearn: 0.3407937\ttotal: 603ms\tremaining: 217ms\n",
      "147:\tlearn: 0.3398191\ttotal: 606ms\tremaining: 213ms\n",
      "148:\tlearn: 0.3390524\ttotal: 609ms\tremaining: 208ms\n",
      "149:\tlearn: 0.3381671\ttotal: 612ms\tremaining: 204ms\n",
      "150:\tlearn: 0.3375138\ttotal: 615ms\tremaining: 199ms\n",
      "151:\tlearn: 0.3365898\ttotal: 618ms\tremaining: 195ms\n",
      "152:\tlearn: 0.3358887\ttotal: 621ms\tremaining: 191ms\n",
      "153:\tlearn: 0.3346492\ttotal: 624ms\tremaining: 186ms\n",
      "154:\tlearn: 0.3336018\ttotal: 627ms\tremaining: 182ms\n",
      "155:\tlearn: 0.3330832\ttotal: 630ms\tremaining: 178ms\n",
      "156:\tlearn: 0.3324238\ttotal: 633ms\tremaining: 173ms\n",
      "157:\tlearn: 0.3312569\ttotal: 635ms\tremaining: 169ms\n",
      "158:\tlearn: 0.3299834\ttotal: 638ms\tremaining: 165ms\n",
      "159:\tlearn: 0.3286908\ttotal: 642ms\tremaining: 161ms\n",
      "160:\tlearn: 0.3276277\ttotal: 646ms\tremaining: 156ms\n",
      "161:\tlearn: 0.3267134\ttotal: 649ms\tremaining: 152ms\n",
      "162:\tlearn: 0.3259380\ttotal: 651ms\tremaining: 148ms\n",
      "163:\tlearn: 0.3249529\ttotal: 654ms\tremaining: 144ms\n",
      "164:\tlearn: 0.3241876\ttotal: 658ms\tremaining: 140ms\n",
      "165:\tlearn: 0.3237797\ttotal: 661ms\tremaining: 135ms\n",
      "166:\tlearn: 0.3228611\ttotal: 664ms\tremaining: 131ms\n",
      "167:\tlearn: 0.3218481\ttotal: 667ms\tremaining: 127ms\n",
      "168:\tlearn: 0.3209571\ttotal: 669ms\tremaining: 123ms\n",
      "169:\tlearn: 0.3200492\ttotal: 672ms\tremaining: 119ms\n",
      "170:\tlearn: 0.3189373\ttotal: 675ms\tremaining: 115ms\n",
      "171:\tlearn: 0.3179033\ttotal: 678ms\tremaining: 110ms\n",
      "172:\tlearn: 0.3172849\ttotal: 681ms\tremaining: 106ms\n",
      "173:\tlearn: 0.3166655\ttotal: 684ms\tremaining: 102ms\n",
      "174:\tlearn: 0.3157718\ttotal: 686ms\tremaining: 98.1ms\n",
      "175:\tlearn: 0.3150160\ttotal: 690ms\tremaining: 94.1ms\n",
      "176:\tlearn: 0.3142830\ttotal: 693ms\tremaining: 90ms\n",
      "177:\tlearn: 0.3138662\ttotal: 696ms\tremaining: 86ms\n",
      "178:\tlearn: 0.3133629\ttotal: 699ms\tremaining: 82ms\n",
      "179:\tlearn: 0.3125061\ttotal: 701ms\tremaining: 77.9ms\n",
      "180:\tlearn: 0.3115252\ttotal: 706ms\tremaining: 74.1ms\n",
      "181:\tlearn: 0.3110208\ttotal: 708ms\tremaining: 70.1ms\n",
      "182:\tlearn: 0.3105547\ttotal: 711ms\tremaining: 66.1ms\n",
      "183:\tlearn: 0.3094534\ttotal: 714ms\tremaining: 62.1ms\n",
      "184:\tlearn: 0.3087456\ttotal: 718ms\tremaining: 58.2ms\n",
      "185:\tlearn: 0.3079835\ttotal: 723ms\tremaining: 54.4ms\n",
      "186:\tlearn: 0.3072245\ttotal: 726ms\tremaining: 50.5ms\n",
      "187:\tlearn: 0.3061540\ttotal: 729ms\tremaining: 46.6ms\n",
      "188:\tlearn: 0.3054721\ttotal: 733ms\tremaining: 42.7ms\n",
      "189:\tlearn: 0.3048467\ttotal: 737ms\tremaining: 38.8ms\n",
      "190:\tlearn: 0.3042662\ttotal: 741ms\tremaining: 34.9ms\n",
      "191:\tlearn: 0.3037025\ttotal: 744ms\tremaining: 31ms\n",
      "192:\tlearn: 0.3028928\ttotal: 747ms\tremaining: 27.1ms\n",
      "193:\tlearn: 0.3020155\ttotal: 751ms\tremaining: 23.2ms\n",
      "194:\tlearn: 0.3010007\ttotal: 755ms\tremaining: 19.4ms\n",
      "195:\tlearn: 0.3002253\ttotal: 758ms\tremaining: 15.5ms\n",
      "196:\tlearn: 0.2999682\ttotal: 761ms\tremaining: 11.6ms\n",
      "197:\tlearn: 0.2994228\ttotal: 765ms\tremaining: 7.72ms\n",
      "198:\tlearn: 0.2986712\ttotal: 770ms\tremaining: 3.87ms\n",
      "199:\tlearn: 0.2980459\ttotal: 774ms\tremaining: 0us\n"
     ]
    }
   ],
   "source": [
    "catb = CatBoostClassifier(iterations = 200, \n",
    "                          learning_rate = 0.01, \n",
    "                          depth = 8)\n",
    "\n",
    "catb_tuned = catb.fit(X_train, y_train)\n",
    "y_pred = catb_tuned.predict(X_test)"
   ]
  },
  {
   "cell_type": "code",
   "execution_count": 194,
   "id": "f3d7bd8d-7990-48bc-bb02-7a65cf44eaf8",
   "metadata": {},
   "outputs": [
    {
     "data": {
      "text/plain": [
       "0.7532467532467533"
      ]
     },
     "execution_count": 194,
     "metadata": {},
     "output_type": "execute_result"
    }
   ],
   "source": [
    "y_pred = catb_tuned.predict(X_test)\n",
    "accuracy_score(y_test, y_pred)"
   ]
  },
  {
   "cell_type": "markdown",
   "id": "85bf01cb-66a4-451a-a737-5e1208961e68",
   "metadata": {},
   "source": [
    "# Tüm Modellerin Karşılaştırılması"
   ]
  },
  {
   "cell_type": "code",
   "execution_count": 195,
   "id": "ea131fea-e9aa-4e63-9bff-ead111d365a5",
   "metadata": {},
   "outputs": [
    {
     "name": "stdout",
     "output_type": "stream",
     "text": [
      "----------------------------\n",
      "KNeighborsClassifier:\n",
      "Accuracy: 73.1602%\n",
      "----------------------------\n",
      "LogisticRegression:\n",
      "Accuracy: 74.8918%\n",
      "----------------------------\n",
      "SVC:\n",
      "Accuracy: 73.5931%\n",
      "----------------------------\n",
      "GaussianNB:\n",
      "Accuracy: 74.4589%\n",
      "----------------------------\n",
      "MLPClassifier:\n",
      "Accuracy: 34.6320%\n",
      "----------------------------\n",
      "DecisionTreeClassifier:\n",
      "Accuracy: 75.3247%\n",
      "----------------------------\n",
      "RandomForestClassifier:\n",
      "Accuracy: 76.1905%\n",
      "----------------------------\n",
      "GradientBoostingClassifier:\n",
      "Accuracy: 74.4589%\n",
      "----------------------------\n",
      "CatBoostClassifier:\n",
      "Accuracy: 75.3247%\n",
      "----------------------------\n",
      "LGBMClassifier:\n",
      "Accuracy: 74.8918%\n",
      "----------------------------\n",
      "XGBClassifier:\n",
      "Accuracy: 75.7576%\n"
     ]
    }
   ],
   "source": [
    "modeller = [\n",
    "    knn_tuned,\n",
    "    loj_model,\n",
    "    svc_tuned,\n",
    "    nb_model,\n",
    "    mlpc_tuned,\n",
    "    cart_tuned,\n",
    "    rf_tuned,\n",
    "    gbm_tuned,\n",
    "    catb_tuned,\n",
    "    lgbm_tuned,\n",
    "    xgb_tuned\n",
    "    \n",
    "]\n",
    "\n",
    "\n",
    "for model in modeller:\n",
    "    isimler = model.__class__.__name__\n",
    "    y_pred = model.predict(X_test)\n",
    "    dogruluk = accuracy_score(y_test, y_pred)\n",
    "    print(\"-\"*28)\n",
    "    print(isimler + \":\" )\n",
    "    print(\"Accuracy: {:.4%}\".format(dogruluk))"
   ]
  },
  {
   "cell_type": "code",
   "execution_count": 196,
   "id": "4f8357e3-753e-4e66-9a03-88f041675165",
   "metadata": {},
   "outputs": [
    {
     "data": {
      "image/png": "[encoded data removed]",
      "text/plain": [
       "<Figure size 432x288 with 1 Axes>"
      ]
     },
     "metadata": {
      "needs_background": "light"
     },
     "output_type": "display_data"
    }
   ],
   "source": [
    "sonuc = []\n",
    "\n",
    "sonuclar = pd.DataFrame(columns= [\"Modeller\",\"Accuracy\"])\n",
    "\n",
    "for model in modeller:\n",
    "    isimler = model.__class__.__name__\n",
    "    y_pred = model.predict(X_test)\n",
    "    dogruluk = accuracy_score(y_test, y_pred)    \n",
    "    sonuc = pd.DataFrame([[isimler, dogruluk*100]], columns= [\"Modeller\",\"Accuracy\"])\n",
    "    sonuclar = sonuclar.append(sonuc)\n",
    "    \n",
    "    \n",
    "sns.barplot(x= 'Accuracy', y = 'Modeller', data=sonuclar, color=\"r\")\n",
    "plt.xlabel('Accuracy %')\n",
    "plt.title('Modellerin Doğruluk Oranları');    "
   ]
  }
 ],
 "metadata": {
  "kernelspec": {
   "display_name": "Python 3",
   "language": "python",
   "name": "python3"
  },
  "language_info": {
   "codemirror_mode": {
    "name": "ipython",
    "version": 3
   },
   "file_extension": ".py",
   "mimetype": "text/x-python",
   "name": "python",
   "nbconvert_exporter": "python",
   "pygments_lexer": "ipython3",
   "version": "3.8.8"
  }
 },
 "nbformat": 4,
 "nbformat_minor": 5
}
