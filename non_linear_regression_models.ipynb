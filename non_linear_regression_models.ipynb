{
 "cells": [
  {
   "cell_type": "markdown",
   "id": "7a3d8371-ebfe-4137-8e45-4468bf0585cb",
   "metadata": {},
   "source": [
    "## NON LINEAR REGRESSION MODELS"
   ]
  },
  {
   "cell_type": "code",
   "execution_count": 2,
   "id": "00f358dd-8263-4f29-b2d5-34f34b2b7bcc",
   "metadata": {},
   "outputs": [],
   "source": [
    "import numpy as np\n",
    "import pandas as pd \n",
    "from sklearn.model_selection import train_test_split, GridSearchCV,cross_val_score\n",
    "from sklearn.metrics import mean_squared_error, r2_score\n",
    "import matplotlib.pyplot as plt\n",
    "from sklearn.preprocessing import scale \n",
    "from sklearn import model_selection\n",
    "from sklearn.tree import DecisionTreeRegressor, DecisionTreeClassifier\n",
    "from sklearn.neighbors import KNeighborsRegressor\n",
    "from sklearn.ensemble import BaggingRegressor\n",
    "\n",
    "from warnings import filterwarnings\n",
    "filterwarnings('ignore')"
   ]
  },
  {
   "cell_type": "markdown",
   "id": "77c5aa5b-2cdd-4b35-836b-a5e283e9c0e3",
   "metadata": {},
   "source": [
    "## KNN "
   ]
  },
  {
   "cell_type": "code",
   "execution_count": 73,
   "id": "656a0201-962f-4881-9d4e-d4f5395bbb70",
   "metadata": {},
   "outputs": [],
   "source": [
    "hit = pd.read_csv(\"Hitters.csv\")\n",
    "df = hit.copy()\n",
    "df = df.dropna()\n",
    "dms = pd.get_dummies(df[['League', 'Division', 'NewLeague']])\n",
    "y = df[\"Salary\"]\n",
    "X_ = df.drop(['Salary', 'League', 'Division', 'NewLeague'], axis=1).astype('float64')\n",
    "X = pd.concat([X_, dms[['League_N', 'Division_W', 'NewLeague_N']]], axis=1)\n",
    "X_train, X_test, y_train, y_test = train_test_split(X, y, \n",
    "                                                    test_size=0.25, \n",
    "                                                    random_state=42)"
   ]
  },
  {
   "cell_type": "code",
   "execution_count": 74,
   "id": "55151a91-b384-4a1e-9e96-101066477593",
   "metadata": {},
   "outputs": [],
   "source": [
    "knn_model = KNeighborsRegressor().fit(X_train, y_train)"
   ]
  },
  {
   "cell_type": "code",
   "execution_count": 75,
   "id": "18b9acb0-84f2-4cba-b341-d7e49430fdbd",
   "metadata": {
    "tags": []
   },
   "outputs": [
    {
     "data": {
      "text/plain": [
       "KNeighborsRegressor()"
      ]
     },
     "execution_count": 75,
     "metadata": {},
     "output_type": "execute_result"
    }
   ],
   "source": [
    "knn_model"
   ]
  },
  {
   "cell_type": "code",
   "execution_count": 76,
   "id": "53326b6a-db46-4d12-bb04-4e16e59cef40",
   "metadata": {},
   "outputs": [
    {
     "data": {
      "text/plain": [
       "5"
      ]
     },
     "execution_count": 76,
     "metadata": {},
     "output_type": "execute_result"
    }
   ],
   "source": [
    "knn_model.n_neighbors"
   ]
  },
  {
   "cell_type": "code",
   "execution_count": 77,
   "id": "96636bd5-6a0b-4ca5-8db2-46b3816fe223",
   "metadata": {},
   "outputs": [
    {
     "data": {
      "text/plain": [
       "'euclidean'"
      ]
     },
     "execution_count": 77,
     "metadata": {},
     "output_type": "execute_result"
    }
   ],
   "source": [
    "knn_model.effective_metric_"
   ]
  },
  {
   "cell_type": "markdown",
   "id": "7b0312d4-1e6d-4e73-860f-b5baad44f579",
   "metadata": {},
   "source": [
    "## Predıct"
   ]
  },
  {
   "cell_type": "code",
   "execution_count": 78,
   "id": "abe66743-fafc-45af-bac4-be2f30fb52ee",
   "metadata": {},
   "outputs": [],
   "source": [
    "y_pred = knn_model.predict(X_test)"
   ]
  },
  {
   "cell_type": "code",
   "execution_count": 79,
   "id": "bcb91540-8c90-4db4-b266-2ffb66570e98",
   "metadata": {},
   "outputs": [
    {
     "data": {
      "text/plain": [
       "426.6570764525201"
      ]
     },
     "execution_count": 79,
     "metadata": {},
     "output_type": "execute_result"
    }
   ],
   "source": [
    "np.sqrt(mean_squared_error(y_test, y_pred))"
   ]
  },
  {
   "cell_type": "code",
   "execution_count": 80,
   "id": "f5b27761-951a-4132-9dc7-551ea3b1bd92",
   "metadata": {},
   "outputs": [
    {
     "name": "stdout",
     "output_type": "stream",
     "text": [
      "k = 1 için RMSE değeri:  0.0\n",
      "k = 2 için RMSE değeri:  179.52761335480352\n",
      "k = 3 için RMSE değeri:  205.20157172291863\n",
      "k = 4 için RMSE değeri:  220.5139794876305\n",
      "k = 5 için RMSE değeri:  239.6467132541376\n",
      "k = 6 için RMSE değeri:  243.5904190007242\n",
      "k = 7 için RMSE değeri:  258.1478781634636\n",
      "k = 8 için RMSE değeri:  266.05374203349805\n",
      "k = 9 için RMSE değeri:  269.73782093553376\n",
      "k = 10 için RMSE değeri:  271.2798300436963\n"
     ]
    }
   ],
   "source": [
    "RMSE = [] \n",
    "\n",
    "for k in range(10):\n",
    "    k = k+1\n",
    "    knn_model = KNeighborsRegressor(n_neighbors = k).fit(X_train, y_train)\n",
    "    y_pred = knn_model.predict(X_train) \n",
    "    rmse = np.sqrt(mean_squared_error(y_train,y_pred)) \n",
    "    RMSE.append(rmse) \n",
    "    print(\"k =\" , k , \"için RMSE değeri: \", rmse)\n"
   ]
  },
  {
   "cell_type": "markdown",
   "id": "be0b1439-80e0-497c-ac35-003f99948173",
   "metadata": {},
   "source": [
    "## Model Tuning"
   ]
  },
  {
   "cell_type": "code",
   "execution_count": 81,
   "id": "824be821-4fc8-4437-8731-0b9d4c49846f",
   "metadata": {},
   "outputs": [],
   "source": [
    "from sklearn.model_selection import GridSearchCV"
   ]
  },
  {
   "cell_type": "code",
   "execution_count": 82,
   "id": "1b70798d-962a-4d05-841f-6cd852b209af",
   "metadata": {},
   "outputs": [],
   "source": [
    "knn_params = {'n_neighbors': np.arange(1,30,1)}"
   ]
  },
  {
   "cell_type": "code",
   "execution_count": 83,
   "id": "d0bc5375-4639-4958-ba29-b9936dc9de5b",
   "metadata": {},
   "outputs": [],
   "source": [
    "knn = KNeighborsRegressor()"
   ]
  },
  {
   "cell_type": "code",
   "execution_count": 84,
   "id": "53dd8dd8-108f-4e76-bfe1-917d1ec1646a",
   "metadata": {},
   "outputs": [],
   "source": [
    "knn_cv_model = GridSearchCV(knn, knn_params, cv = 10)"
   ]
  },
  {
   "cell_type": "code",
   "execution_count": 85,
   "id": "c5c949a8-9561-47a0-8156-d747e72f8cb3",
   "metadata": {},
   "outputs": [
    {
     "data": {
      "text/plain": [
       "GridSearchCV(cv=10, estimator=KNeighborsRegressor(),\n",
       "             param_grid={'n_neighbors': array([ 1,  2,  3,  4,  5,  6,  7,  8,  9, 10, 11, 12, 13, 14, 15, 16, 17,\n",
       "       18, 19, 20, 21, 22, 23, 24, 25, 26, 27, 28, 29])})"
      ]
     },
     "execution_count": 85,
     "metadata": {},
     "output_type": "execute_result"
    }
   ],
   "source": [
    "knn_cv_model.fit(X_train, y_train)"
   ]
  },
  {
   "cell_type": "code",
   "execution_count": 86,
   "id": "8cc10cf6-ab8a-48ee-9ad8-62f7affd55fc",
   "metadata": {},
   "outputs": [
    {
     "data": {
      "text/plain": [
       "8"
      ]
     },
     "execution_count": 86,
     "metadata": {},
     "output_type": "execute_result"
    }
   ],
   "source": [
    "knn_cv_model.best_params_[\"n_neighbors\"]"
   ]
  },
  {
   "cell_type": "code",
   "execution_count": 87,
   "id": "92823353-0b99-41a2-bb49-c8f575f9e10c",
   "metadata": {
    "tags": []
   },
   "outputs": [
    {
     "name": "stdout",
     "output_type": "stream",
     "text": [
      "k = 1 için RMSE değeri:  0.0 RMSE_CV değeri:  325.3947514706382\n",
      "k = 2 için RMSE değeri:  179.52761335480352 RMSE_CV değeri:  293.24000183333817\n",
      "k = 3 için RMSE değeri:  205.20157172291863 RMSE_CV değeri:  283.7486667487823\n",
      "k = 4 için RMSE değeri:  220.5139794876305 RMSE_CV değeri:  286.3240222024089\n",
      "k = 5 için RMSE değeri:  239.6467132541376 RMSE_CV değeri:  290.0705466132226\n",
      "k = 6 için RMSE değeri:  243.5904190007242 RMSE_CV değeri:  298.1263115575851\n",
      "k = 7 için RMSE değeri:  258.1478781634636 RMSE_CV değeri:  294.77070479194987\n",
      "k = 8 için RMSE değeri:  266.05374203349805 RMSE_CV değeri:  291.98672028891235\n",
      "k = 9 için RMSE değeri:  269.73782093553376 RMSE_CV değeri:  295.7162739573105\n",
      "k = 10 için RMSE değeri:  271.2798300436963 RMSE_CV değeri:  301.31047022701154\n"
     ]
    }
   ],
   "source": [
    "RMSE = [] \n",
    "RMSE_CV = []\n",
    "for k in range(10):\n",
    "    k = k+1\n",
    "    knn_model = KNeighborsRegressor(n_neighbors = k).fit(X_train, y_train)\n",
    "    y_pred = knn_model.predict(X_train) \n",
    "    rmse = np.sqrt(mean_squared_error(y_train,y_pred)) \n",
    "    rmse_cv = np.sqrt(-1*cross_val_score(knn_model, X_train, y_train, cv=10, \n",
    "                                         scoring = \"neg_mean_squared_error\").mean())\n",
    "    RMSE.append(rmse) \n",
    "    RMSE_CV.append(rmse_cv)\n",
    "    print(\"k =\" , k , \"için RMSE değeri: \", rmse, \"RMSE_CV değeri: \", rmse_cv )\n"
   ]
  },
  {
   "cell_type": "code",
   "execution_count": 88,
   "id": "99ad608e-c3ad-405d-bb7a-de05cedb8c74",
   "metadata": {},
   "outputs": [],
   "source": [
    "knn_tuned = KNeighborsRegressor(n_neighbors = knn_cv_model.best_params_[\"n_neighbors\"])"
   ]
  },
  {
   "cell_type": "code",
   "execution_count": 89,
   "id": "d953204b-2bec-4f8a-95f9-6a6c972c0c78",
   "metadata": {},
   "outputs": [
    {
     "data": {
      "text/plain": [
       "KNeighborsRegressor(n_neighbors=8)"
      ]
     },
     "execution_count": 89,
     "metadata": {},
     "output_type": "execute_result"
    }
   ],
   "source": [
    "knn_tuned.fit(X_train, y_train)"
   ]
  },
  {
   "cell_type": "code",
   "execution_count": 90,
   "id": "fbb0fee1-7688-4b28-8ef7-394163b1672e",
   "metadata": {},
   "outputs": [
    {
     "data": {
      "text/plain": [
       "413.7094731463598"
      ]
     },
     "execution_count": 90,
     "metadata": {},
     "output_type": "execute_result"
    }
   ],
   "source": [
    "np.sqrt(mean_squared_error(y_test, knn_tuned.predict(X_test)))"
   ]
  },
  {
   "cell_type": "markdown",
   "id": "c1d2b92f-d5c7-4a36-b8c7-38b8f3177571",
   "metadata": {},
   "source": [
    "## Support Vector Regression"
   ]
  },
  {
   "cell_type": "code",
   "execution_count": 91,
   "id": "10e2cfe3-24d0-433b-acc2-0a128cd7ea6e",
   "metadata": {},
   "outputs": [],
   "source": [
    "hit = pd.read_csv(\"Hitters.csv\")\n",
    "df = hit.copy()\n",
    "df = df.dropna()\n",
    "dms = pd.get_dummies(df[['League', 'Division', 'NewLeague']])\n",
    "y = df[\"Salary\"]\n",
    "X_ = df.drop(['Salary', 'League', 'Division', 'NewLeague'], axis=1).astype('float64')\n",
    "X = pd.concat([X_, dms[['League_N', 'Division_W', 'NewLeague_N']]], axis=1)\n",
    "X_train, X_test, y_train, y_test = train_test_split(X, y, \n",
    "                                                    test_size=0.25, \n",
    "                                                    random_state=42)"
   ]
  },
  {
   "cell_type": "code",
   "execution_count": 92,
   "id": "3efc77aa-614a-41d9-9971-ac211cf8c259",
   "metadata": {},
   "outputs": [],
   "source": [
    "X_train = pd.DataFrame(X_train[\"Hits\"])\n",
    "X_test = pd.DataFrame(X_test[\"Hits\"])"
   ]
  },
  {
   "cell_type": "code",
   "execution_count": 93,
   "id": "b3bedcd6-aa9f-441a-9fb7-fb3bdd74f548",
   "metadata": {},
   "outputs": [],
   "source": [
    "from sklearn.svm import SVR"
   ]
  },
  {
   "cell_type": "code",
   "execution_count": 94,
   "id": "62e1763b-1c73-470c-8cd0-ba9f70c7413f",
   "metadata": {},
   "outputs": [],
   "source": [
    "svr_model = SVR(\"linear\").fit(X_train, y_train)"
   ]
  },
  {
   "cell_type": "code",
   "execution_count": 95,
   "id": "177a7609-42e9-4151-870b-231e3785941f",
   "metadata": {},
   "outputs": [
    {
     "data": {
      "text/plain": [
       "array([403.52804878, 666.91219512, 706.66829268, 194.80853659,\n",
       "       423.40609756])"
      ]
     },
     "execution_count": 95,
     "metadata": {},
     "output_type": "execute_result"
    }
   ],
   "source": [
    "svr_model.predict(X_train)[0:5]"
   ]
  },
  {
   "cell_type": "code",
   "execution_count": 96,
   "id": "87d4767c-b4fe-4b2a-8dc9-27515d22eae4",
   "metadata": {},
   "outputs": [
    {
     "name": "stdout",
     "output_type": "stream",
     "text": [
      "y = -48.69756097561513 + 4.969512195122093 x\n"
     ]
    }
   ],
   "source": [
    "print (\"y = {0} + {1} x\".format(svr_model.intercept_[0], \n",
    "                                svr_model.coef_[0][0])) "
   ]
  },
  {
   "cell_type": "code",
   "execution_count": 97,
   "id": "407698bc-1b33-4295-a904-715d5784db79",
   "metadata": {},
   "outputs": [
    {
     "data": {
      "text/plain": [
       "183    91.0\n",
       "Name: Hits, dtype: float64"
      ]
     },
     "execution_count": 97,
     "metadata": {},
     "output_type": "execute_result"
    }
   ],
   "source": [
    "X_train[\"Hits\"][0:1]"
   ]
  },
  {
   "cell_type": "code",
   "execution_count": 98,
   "id": "aaebb652-e60b-4826-80d8-93633b98c1af",
   "metadata": {},
   "outputs": [
    {
     "data": {
      "text/plain": [
       "403.5280487804953"
      ]
     },
     "execution_count": 98,
     "metadata": {},
     "output_type": "execute_result"
    }
   ],
   "source": [
    "-48.69756097561513 + 4.969512195122093*91"
   ]
  },
  {
   "cell_type": "code",
   "execution_count": 99,
   "id": "ff67777f-b155-431f-be5e-b8c0458c414b",
   "metadata": {},
   "outputs": [],
   "source": [
    "y_pred = svr_model.predict(X_train)"
   ]
  },
  {
   "cell_type": "code",
   "execution_count": 100,
   "id": "ca9e123f-5b3f-4a4e-b48b-7cb343eb8602",
   "metadata": {},
   "outputs": [
    {
     "data": {
      "text/plain": [
       "[<matplotlib.lines.Line2D at 0x12f90edfc10>]"
      ]
     },
     "execution_count": 100,
     "metadata": {},
     "output_type": "execute_result"
    },
    {
     "data": {
      "image/png": "[encoded data removed]",
      "text/plain": [
       "<Figure size 432x288 with 1 Axes>"
      ]
     },
     "metadata": {
      "needs_background": "light"
     },
     "output_type": "display_data"
    }
   ],
   "source": [
    "plt.scatter(X_train, y_train)\n",
    "plt.plot(X_train,y_pred, color = \"r\")"
   ]
  },
  {
   "cell_type": "code",
   "execution_count": 101,
   "id": "67ae431e-1e3b-418f-97eb-d97a9594d0b5",
   "metadata": {},
   "outputs": [
    {
     "name": "stdout",
     "output_type": "stream",
     "text": [
      "y = -8.814095480334572 + 5.1724561354706875 x\n"
     ]
    }
   ],
   "source": [
    "from sklearn.linear_model import LinearRegression\n",
    "lm_model = LinearRegression().fit(X_train, y_train)\n",
    "lm_pred  = lm_model.predict(X_train)\n",
    "print(\"y = {0} + {1} x\".format(lm_model.intercept_, lm_model.coef_[0]))"
   ]
  },
  {
   "cell_type": "code",
   "execution_count": 102,
   "id": "847d4eb1-d1e9-474d-b37f-635d964b12af",
   "metadata": {},
   "outputs": [
    {
     "data": {
      "text/plain": [
       "461.879412847498"
      ]
     },
     "execution_count": 102,
     "metadata": {},
     "output_type": "execute_result"
    }
   ],
   "source": [
    "-8.814095480334572 + 5.1724561354706875*91"
   ]
  },
  {
   "cell_type": "code",
   "execution_count": 103,
   "id": "a497026e-4a39-4be5-91b2-ab8d9a08d80c",
   "metadata": {},
   "outputs": [
    {
     "data": {
      "text/plain": [
       "Text(0, 0.5, 'Maaş (Salary)')"
      ]
     },
     "execution_count": 103,
     "metadata": {},
     "output_type": "execute_result"
    },
    {
     "data": {
      "image/png": "[encoded data removed]",
      "text/plain": [
       "<Figure size 432x288 with 1 Axes>"
      ]
     },
     "metadata": {
      "needs_background": "light"
     },
     "output_type": "display_data"
    }
   ],
   "source": [
    "plt.scatter(X_train, y_train, alpha=0.5, s=23)\n",
    "plt.plot(X_train, lm_pred, 'g')\n",
    "plt.plot(X_train, y_pred, color='r')\n",
    "\n",
    "plt.xlabel(\"Atış Sayısı(Hits)\")\n",
    "plt.ylabel(\"Maaş (Salary)\")"
   ]
  },
  {
   "cell_type": "markdown",
   "id": "bd0340cf-2912-4635-8311-1cc60ba5f53e",
   "metadata": {},
   "source": [
    "## Predict"
   ]
  },
  {
   "cell_type": "code",
   "execution_count": 104,
   "id": "3a29b440-5dd2-4ce6-81be-518e3d514053",
   "metadata": {},
   "outputs": [
    {
     "name": "stdout",
     "output_type": "stream",
     "text": [
      "y = -48.69756097561513 + 4.969512195122093 x\n"
     ]
    }
   ],
   "source": [
    "print (\"y = {0} + {1} x\".format(svr_model.intercept_[0], svr_model.coef_[0][0])) "
   ]
  },
  {
   "cell_type": "code",
   "execution_count": 105,
   "id": "a0e02222-4dae-454c-bb2b-e79b302010ab",
   "metadata": {},
   "outputs": [
    {
     "data": {
      "text/plain": [
       "array([403.52804878])"
      ]
     },
     "execution_count": 105,
     "metadata": {},
     "output_type": "execute_result"
    }
   ],
   "source": [
    "svr_model.predict([[91]])"
   ]
  },
  {
   "cell_type": "code",
   "execution_count": 106,
   "id": "40e74065-eba4-42e8-be25-23f1032f9963",
   "metadata": {},
   "outputs": [],
   "source": [
    "y_pred = svr_model.predict(X_test)"
   ]
  },
  {
   "cell_type": "code",
   "execution_count": 107,
   "id": "4b1696d8-283c-44fc-a353-55efaccd74f9",
   "metadata": {},
   "outputs": [
    {
     "data": {
      "text/plain": [
       "459.0187960365147"
      ]
     },
     "execution_count": 107,
     "metadata": {},
     "output_type": "execute_result"
    }
   ],
   "source": [
    "np.sqrt(mean_squared_error(y_test, y_pred))"
   ]
  },
  {
   "cell_type": "code",
   "execution_count": 108,
   "id": "defd8ce2-494c-438e-95bb-3562c6a27d67",
   "metadata": {},
   "outputs": [
    {
     "data": {
      "text/plain": [
       "SVR(kernel='linear')"
      ]
     },
     "execution_count": 108,
     "metadata": {},
     "output_type": "execute_result"
    }
   ],
   "source": [
    "svr_model"
   ]
  },
  {
   "cell_type": "markdown",
   "id": "b59397b8-2acc-44ee-8470-f208dae207c3",
   "metadata": {},
   "source": [
    "## Model Tuning"
   ]
  },
  {
   "cell_type": "code",
   "execution_count": 109,
   "id": "23fedfdb-f2db-436c-8aa4-688465162f78",
   "metadata": {},
   "outputs": [
    {
     "data": {
      "text/plain": [
       "SVR(kernel='linear')"
      ]
     },
     "execution_count": 109,
     "metadata": {},
     "output_type": "execute_result"
    }
   ],
   "source": [
    "svr_model"
   ]
  },
  {
   "cell_type": "code",
   "execution_count": 110,
   "id": "90b330c0-ed9c-43bb-b5f1-0d32c6554755",
   "metadata": {},
   "outputs": [],
   "source": [
    "svr_params = {\"C\": np.arange(0.1,2,0.1)}\n",
    "svr_cv_model = GridSearchCV(svr_model, svr_params, cv = 10).fit(X_train,y_train)"
   ]
  },
  {
   "cell_type": "code",
   "execution_count": 111,
   "id": "0aa7f758-d5e2-4bff-b3ea-e0e8bda2b214",
   "metadata": {},
   "outputs": [
    {
     "data": {
      "text/plain": [
       "0.1"
      ]
     },
     "execution_count": 111,
     "metadata": {},
     "output_type": "execute_result"
    }
   ],
   "source": [
    "pd.Series(svr_cv_model.best_params_)[0]"
   ]
  },
  {
   "cell_type": "code",
   "execution_count": 112,
   "id": "ecea7428-4f53-4483-899a-f086d5f30fc6",
   "metadata": {},
   "outputs": [],
   "source": [
    "svr_tuned = SVR(\"linear\", \n",
    "                C = pd.Series(svr_cv_model.best_params_)[0]).fit(X_train, y_train)\n",
    "\n"
   ]
  },
  {
   "cell_type": "code",
   "execution_count": 113,
   "id": "2f06e504-d3ce-4453-b59e-897383e945a2",
   "metadata": {},
   "outputs": [],
   "source": [
    "y_pred = svr_tuned.predict(X_test)"
   ]
  },
  {
   "cell_type": "code",
   "execution_count": 114,
   "id": "ba825f07-06ea-4c8d-a2cb-c179ef9281d2",
   "metadata": {},
   "outputs": [
    {
     "data": {
      "text/plain": [
       "458.198966781116"
      ]
     },
     "execution_count": 114,
     "metadata": {},
     "output_type": "execute_result"
    }
   ],
   "source": [
    "np.sqrt(mean_squared_error(y_test, y_pred))"
   ]
  },
  {
   "cell_type": "code",
   "execution_count": 115,
   "id": "8fe654f1-f33d-4d8b-a2e5-f7220dd4e5b1",
   "metadata": {},
   "outputs": [
    {
     "data": {
      "text/plain": [
       "458.198966781116"
      ]
     },
     "execution_count": 115,
     "metadata": {},
     "output_type": "execute_result"
    }
   ],
   "source": [
    "np.sqrt(mean_squared_error(y_test, y_pred))"
   ]
  },
  {
   "cell_type": "markdown",
   "id": "508019d3-33c3-4496-b605-d7c30ad61e66",
   "metadata": {},
   "source": [
    "### Non Linear SVR ##"
   ]
  },
  {
   "cell_type": "code",
   "execution_count": 3,
   "id": "7967cbe6-3c30-4a60-8718-7bf67b2eec6f",
   "metadata": {},
   "outputs": [],
   "source": [
    "np.random.seed(3)\n",
    "\n",
    "x_sim = np.random.uniform(2, 10, 145)\n",
    "y_sim = np.sin(x_sim) + np.random.normal(0, 0.4, 145)\n",
    "\n",
    "x_outliers = np.arange(2.5, 5, 0.5)\n",
    "y_outliers = -5*np.ones(5)\n",
    "\n",
    "x_sim_idx = np.argsort(np.concatenate([x_sim, x_outliers]))\n",
    "x_sim = np.concatenate([x_sim, x_outliers])[x_sim_idx]\n",
    "y_sim = np.concatenate([y_sim, y_outliers])[x_sim_idx]"
   ]
  },
  {
   "cell_type": "code",
   "execution_count": 4,
   "id": "d3d5bcc7-affc-44f6-85c4-3647633b8283",
   "metadata": {},
   "outputs": [],
   "source": [
    "\n",
    "from sklearn.linear_model import LinearRegression\n",
    "ols = LinearRegression()\n",
    "ols.fit(np.sin(x_sim[:, np.newaxis]), y_sim)\n",
    "ols_pred = ols.predict(np.sin(x_sim[:, np.newaxis]))\n",
    "\n",
    "from sklearn.svm import SVR\n",
    "eps = 0.1\n",
    "svr = SVR('rbf', epsilon = eps)\n",
    "svr.fit(x_sim[:, np.newaxis], y_sim)\n",
    "svr_pred = svr.predict(x_sim[:, np.newaxis])"
   ]
  },
  {
   "cell_type": "code",
   "execution_count": 5,
   "id": "dd595392-6687-4425-ad77-e8390efc381b",
   "metadata": {},
   "outputs": [
    {
     "data": {
      "image/png": "[encoded data removed]",
      "text/plain": [
       "<Figure size 432x288 with 1 Axes>"
      ]
     },
     "metadata": {
      "needs_background": "light"
     },
     "output_type": "display_data"
    }
   ],
   "source": [
    "plt.scatter(x_sim, y_sim, alpha=0.5, s=26)\n",
    "plt_ols, = plt.plot(x_sim, ols_pred, 'g')\n",
    "plt_svr, = plt.plot(x_sim, svr_pred, color='r')\n",
    "plt.xlabel(\"Bağımsız Değişken\")\n",
    "plt.ylabel(\"Bağımlı Değişken\")\n",
    "plt.ylim(-5.2, 2.2)\n",
    "plt.legend([plt_ols, plt_svr], ['EKK', 'SVR'], loc = 4);"
   ]
  },
  {
   "cell_type": "code",
   "execution_count": 6,
   "id": "fbe44de6-a206-49ea-aef6-044aae8e0d00",
   "metadata": {},
   "outputs": [],
   "source": [
    "hit = pd.read_csv(\"Hitters.csv\")\n",
    "df = hit.copy()\n",
    "df = df.dropna()\n",
    "dms = pd.get_dummies(df[['League', 'Division', 'NewLeague']])\n",
    "y = df[\"Salary\"]\n",
    "X_ = df.drop(['Salary', 'League', 'Division', 'NewLeague'], axis=1).astype('float64')\n",
    "X = pd.concat([X_, dms[['League_N', 'Division_W', 'NewLeague_N']]], axis=1)\n",
    "X_train, X_test, y_train, y_test = train_test_split(X, y, \n",
    "                                                    test_size=0.25, \n",
    "                                                    random_state=42)"
   ]
  },
  {
   "cell_type": "code",
   "execution_count": 7,
   "id": "6a8bb01f-c94a-4aab-8f2c-9be29dceacc0",
   "metadata": {},
   "outputs": [],
   "source": [
    "svr_rbf = SVR(\"rbf\").fit(X_train, y_train)"
   ]
  },
  {
   "cell_type": "markdown",
   "id": "84e234dd-c2fd-4fa3-8199-08fa162f3b6e",
   "metadata": {},
   "source": [
    "## Predict"
   ]
  },
  {
   "cell_type": "code",
   "execution_count": 12,
   "id": "81a762f9-370a-4128-b89e-c01b72662f22",
   "metadata": {},
   "outputs": [],
   "source": [
    "y_pred = svr_rbf.predict(X_test)"
   ]
  },
  {
   "cell_type": "code",
   "execution_count": 13,
   "id": "5791201d-7d42-4026-bfb0-0a0cc41a7531",
   "metadata": {},
   "outputs": [
    {
     "data": {
      "text/plain": [
       "460.0032657244849"
      ]
     },
     "execution_count": 13,
     "metadata": {},
     "output_type": "execute_result"
    }
   ],
   "source": [
    "np.sqrt(mean_squared_error(y_test, y_pred))"
   ]
  },
  {
   "cell_type": "markdown",
   "id": "1ebabb90-ce33-463f-8c6c-43bf8bd0dcae",
   "metadata": {},
   "source": [
    "## Model Tuning"
   ]
  },
  {
   "cell_type": "code",
   "execution_count": 15,
   "id": "4321f911-c20d-43a8-9eb2-7b8535bb43cd",
   "metadata": {},
   "outputs": [
    {
     "data": {
      "text/plain": [
       "SVR()"
      ]
     },
     "execution_count": 15,
     "metadata": {},
     "output_type": "execute_result"
    }
   ],
   "source": [
    "svr_rbf"
   ]
  },
  {
   "cell_type": "code",
   "execution_count": 31,
   "id": "d2c5de87-5c9e-42c0-b60b-569624d695d3",
   "metadata": {},
   "outputs": [
    {
     "data": {
      "text/plain": [
       "GridSearchCV(cv=10, estimator=SVR(),\n",
       "             param_grid={'C': [0.1, 0.4, 5, 10, 20, 30, 40, 50]})"
      ]
     },
     "execution_count": 31,
     "metadata": {},
     "output_type": "execute_result"
    }
   ],
   "source": [
    "svr_params = {\"C\": [0.1,0.4,5,10,20,30,40,50]}\n",
    "svr_cv_model = GridSearchCV(svr_rbf,svr_params, cv = 10)\n",
    "svr_cv_model.fit(X_train, y_train)"
   ]
  },
  {
   "cell_type": "code",
   "execution_count": 32,
   "id": "b5ef82f0-2290-4cfb-b738-a9829c254540",
   "metadata": {},
   "outputs": [
    {
     "data": {
      "text/plain": [
       "50"
      ]
     },
     "execution_count": 32,
     "metadata": {},
     "output_type": "execute_result"
    }
   ],
   "source": [
    "pd.Series(svr_cv_model.best_params_)[0]"
   ]
  },
  {
   "cell_type": "code",
   "execution_count": 33,
   "id": "a315390f-5715-49f4-98e5-79b4946a131c",
   "metadata": {},
   "outputs": [],
   "source": [
    "svr_tuned = SVR(\"rbf\", C = pd.Series(svr_cv_model.best_params_)[0]).fit(X_train, \n",
    "                                                                        y_train)\n"
   ]
  },
  {
   "cell_type": "code",
   "execution_count": 34,
   "id": "39b6af82-ccff-4ee6-86c0-19cf43001adc",
   "metadata": {},
   "outputs": [
    {
     "data": {
      "text/plain": [
       "428.00406888095694"
      ]
     },
     "execution_count": 34,
     "metadata": {},
     "output_type": "execute_result"
    }
   ],
   "source": [
    "y_pred = svr_tuned.predict(X_test)\n",
    "\n",
    "np.sqrt(mean_squared_error(y_test, y_pred))"
   ]
  },
  {
   "cell_type": "markdown",
   "id": "d8cc9ee6-7808-4e4c-b339-68d246fed98f",
   "metadata": {},
   "source": [
    "# Neural Network"
   ]
  },
  {
   "cell_type": "code",
   "execution_count": 3,
   "id": "c8d551da-4faf-49f7-960e-72baac6abbcc",
   "metadata": {},
   "outputs": [],
   "source": [
    "hit = pd.read_csv(\"Hitters.csv\")\n",
    "df = hit.copy()\n",
    "df = df.dropna()\n",
    "dms = pd.get_dummies(df[['League', 'Division', 'NewLeague']])\n",
    "y = df[\"Salary\"]\n",
    "X_ = df.drop(['Salary', 'League', 'Division', 'NewLeague'], axis=1).astype('float64')\n",
    "X = pd.concat([X_, dms[['League_N', 'Division_W', 'NewLeague_N']]], axis=1)\n",
    "X_train, X_test, y_train, y_test = train_test_split(X, y, \n",
    "                                                    test_size=0.25, \n",
    "                                                    random_state=42)"
   ]
  },
  {
   "cell_type": "code",
   "execution_count": 4,
   "id": "0ad467bd-6a3b-46f4-90c9-a06f40c91015",
   "metadata": {},
   "outputs": [],
   "source": [
    "from sklearn.preprocessing import StandardScaler"
   ]
  },
  {
   "cell_type": "code",
   "execution_count": 8,
   "id": "ec4f7337-d3a8-42e7-b8cf-35d0eea02eb8",
   "metadata": {},
   "outputs": [
    {
     "data": {
      "text/plain": [
       "StandardScaler()"
      ]
     },
     "execution_count": 8,
     "metadata": {},
     "output_type": "execute_result"
    }
   ],
   "source": [
    "scaler = StandardScaler()\n",
    "scaler.fit(X_train)"
   ]
  },
  {
   "cell_type": "code",
   "execution_count": 6,
   "id": "150ed67f-a478-4db0-8e64-64556a9c19a7",
   "metadata": {},
   "outputs": [],
   "source": [
    "X_train_scaled = scaler.transform(X_train)"
   ]
  },
  {
   "cell_type": "code",
   "execution_count": 7,
   "id": "a8d91bb0-8079-420f-8956-0649cd08ea55",
   "metadata": {},
   "outputs": [],
   "source": [
    "X_test_scaled = scaler.transform(X_test)"
   ]
  },
  {
   "cell_type": "code",
   "execution_count": 9,
   "id": "81cd5379-00e8-4c23-8594-66c2c6cd66f8",
   "metadata": {},
   "outputs": [],
   "source": [
    "from sklearn.neural_network import MLPRegressor"
   ]
  },
  {
   "cell_type": "code",
   "execution_count": 11,
   "id": "ee1ad3d7-04b8-4e4d-ab1a-5396534bfdef",
   "metadata": {},
   "outputs": [
    {
     "data": {
      "text/plain": [
       "MLPRegressor(hidden_layer_sizes=(100, 20))"
      ]
     },
     "execution_count": 11,
     "metadata": {},
     "output_type": "execute_result"
    }
   ],
   "source": [
    "mlp_model = MLPRegressor(hidden_layer_sizes = (100,20)).fit(X_train_scaled, y_train)\n",
    "mlp_model"
   ]
  },
  {
   "cell_type": "code",
   "execution_count": 15,
   "id": "adf360c9-0b55-45de-893f-fb85b7ba01c8",
   "metadata": {},
   "outputs": [
    {
     "data": {
      "text/plain": [
       "4"
      ]
     },
     "execution_count": 15,
     "metadata": {},
     "output_type": "execute_result"
    }
   ],
   "source": [
    "mlp_model.n_layers_"
   ]
  },
  {
   "cell_type": "code",
   "execution_count": 16,
   "id": "56b32cd5-4152-41f6-9c2b-0baea2b7aa28",
   "metadata": {},
   "outputs": [
    {
     "data": {
      "text/plain": [
       "(100, 20)"
      ]
     },
     "execution_count": 16,
     "metadata": {},
     "output_type": "execute_result"
    }
   ],
   "source": [
    "mlp_model.hidden_layer_sizes"
   ]
  },
  {
   "cell_type": "markdown",
   "id": "324308c5-0f0c-4838-9dee-e58c9da5043a",
   "metadata": {},
   "source": [
    "## Predict"
   ]
  },
  {
   "cell_type": "code",
   "execution_count": 21,
   "id": "1fe55728-9312-4012-96bb-6ee42f78e919",
   "metadata": {},
   "outputs": [
    {
     "data": {
      "text/plain": [
       "array([ 69.60329787, 148.01194231, 249.39897768,  66.84642749,\n",
       "        78.83069661,  40.79276208,  54.3983715 ,  69.77664214,\n",
       "       268.40429955, 132.0339421 , 102.18272398, 283.66659544,\n",
       "        76.98130908, 130.07157807,  27.05365626, 173.58635276,\n",
       "       185.66134771,  60.62810889, 214.6049501 ,  45.76031605,\n",
       "        28.85238619, 147.39797879,  58.68611432,  52.15687922,\n",
       "       156.69423116,  62.02276369, 238.82245777,  31.27386395,\n",
       "        84.6078235 ,  63.58008557,  59.49212761,  82.71103369,\n",
       "        25.51362621,  74.42137776,  38.94314813, 143.58492675,\n",
       "       448.81318166,  33.51338959,  69.15875482,  43.07030741,\n",
       "        62.38299447,  32.83181641,  31.68863586,  25.17748859,\n",
       "       289.07206703, 137.4395306 ,  38.1825753 ,  39.63182961,\n",
       "        53.43187813, 121.57279786, 132.35172368,  29.48995259,\n",
       "       113.30802355,  53.63740728,  46.72086106, 101.68904191,\n",
       "        31.43134995, 164.85475204,  58.68965104, 434.71469085,\n",
       "       460.96855924,  48.2960917 , 148.07583942,  21.48381176,\n",
       "       106.72080539,  57.58074285])"
      ]
     },
     "execution_count": 21,
     "metadata": {},
     "output_type": "execute_result"
    }
   ],
   "source": [
    "y_pred = mlp_model.predict(X_test_scaled)\n",
    "y_pred"
   ]
  },
  {
   "cell_type": "code",
   "execution_count": 18,
   "id": "1c4911b3-e444-4980-a05d-a325b98b3a09",
   "metadata": {},
   "outputs": [
    {
     "data": {
      "text/plain": [
       "573.5407922049658"
      ]
     },
     "execution_count": 18,
     "metadata": {},
     "output_type": "execute_result"
    }
   ],
   "source": [
    "np.sqrt(mean_squared_error(y_test, y_pred))"
   ]
  },
  {
   "cell_type": "markdown",
   "id": "bdf1d2b7-d137-4ac6-b2ea-77f0f91fb7cf",
   "metadata": {},
   "source": [
    "## Model Tuning"
   ]
  },
  {
   "cell_type": "code",
   "execution_count": 23,
   "id": "76631853-82e8-40d5-82fc-0a2353f7b9ca",
   "metadata": {},
   "outputs": [
    {
     "data": {
      "text/plain": [
       "MLPRegressor(hidden_layer_sizes=(100, 20))"
      ]
     },
     "execution_count": 23,
     "metadata": {},
     "output_type": "execute_result"
    }
   ],
   "source": [
    "mlp_model"
   ]
  },
  {
   "cell_type": "code",
   "execution_count": 24,
   "id": "64e48477-7b70-44a6-bb9f-14aa1aa6e94e",
   "metadata": {},
   "outputs": [],
   "source": [
    "mlp_params = {'alpha': [0.1, 0.01,0.02,0.005],\n",
    "             'hidden_layer_sizes': [(20,20),(100,50,150),(300,200,150)],\n",
    "             'activation': ['relu','logistic']}"
   ]
  },
  {
   "cell_type": "code",
   "execution_count": 32,
   "id": "1783857d-71ee-4d53-bf64-82c951efeec2",
   "metadata": {},
   "outputs": [],
   "source": [
    "mlp_cv_model = GridSearchCV(mlp_model, mlp_params, cv = 10)"
   ]
  },
  {
   "cell_type": "code",
   "execution_count": 33,
   "id": "09236e66-0f3a-424c-b4ae-ed7ea5608b78",
   "metadata": {},
   "outputs": [
    {
     "data": {
      "text/plain": [
       "GridSearchCV(cv=10, estimator=MLPRegressor(hidden_layer_sizes=(100, 20)),\n",
       "             param_grid={'activation': ['relu', 'logistic'],\n",
       "                         'alpha': [0.1, 0.01, 0.02, 0.005],\n",
       "                         'hidden_layer_sizes': [(20, 20), (100, 50, 150),\n",
       "                                                (300, 200, 150)]})"
      ]
     },
     "execution_count": 33,
     "metadata": {},
     "output_type": "execute_result"
    }
   ],
   "source": [
    "mlp_cv_model.fit(X_train_scaled, y_train)"
   ]
  },
  {
   "cell_type": "code",
   "execution_count": 34,
   "id": "0262a93d-6b9b-49e8-a165-f6b800c4ba91",
   "metadata": {},
   "outputs": [
    {
     "data": {
      "text/plain": [
       "{'activation': 'relu', 'alpha': 0.01, 'hidden_layer_sizes': (100, 50, 150)}"
      ]
     },
     "execution_count": 34,
     "metadata": {},
     "output_type": "execute_result"
    }
   ],
   "source": [
    "mlp_cv_model.best_params_"
   ]
  },
  {
   "cell_type": "code",
   "execution_count": 35,
   "id": "d575a195-334c-4530-9b46-668474bfb51a",
   "metadata": {},
   "outputs": [],
   "source": [
    "mlp_tuned = MLPRegressor(alpha = 0.02, hidden_layer_sizes = (100,50,150))"
   ]
  },
  {
   "cell_type": "code",
   "execution_count": 36,
   "id": "dd153f94-9f7d-4a9a-83d2-a2b3ed45f01f",
   "metadata": {},
   "outputs": [
    {
     "data": {
      "text/plain": [
       "MLPRegressor(alpha=0.02, hidden_layer_sizes=(100, 50, 150))"
      ]
     },
     "execution_count": 36,
     "metadata": {},
     "output_type": "execute_result"
    }
   ],
   "source": [
    "mlp_tuned.fit(X_train_scaled, y_train)"
   ]
  },
  {
   "cell_type": "code",
   "execution_count": 37,
   "id": "619dfd06-bce3-47d8-a297-139d3f47785c",
   "metadata": {},
   "outputs": [],
   "source": [
    "y_pred = mlp_tuned.predict(X_test_scaled)"
   ]
  },
  {
   "cell_type": "code",
   "execution_count": 39,
   "id": "e155f1d3-ecc2-488c-80d8-a17b24ad0f4a",
   "metadata": {},
   "outputs": [
    {
     "data": {
      "text/plain": [
       "352.98714673256484"
      ]
     },
     "execution_count": 39,
     "metadata": {},
     "output_type": "execute_result"
    }
   ],
   "source": [
    "np.sqrt(mean_squared_error(y_test, y_pred)) ## the lowest test error value"
   ]
  },
  {
   "cell_type": "markdown",
   "id": "6ec5a8b2-ef40-40e3-b8c6-27ba7b5c6359",
   "metadata": {},
   "source": [
    "# CART // decision tree regressor"
   ]
  },
  {
   "cell_type": "code",
   "execution_count": 40,
   "id": "03de3426-cb42-4418-ae52-73e9836b104c",
   "metadata": {},
   "outputs": [],
   "source": [
    "hit = pd.read_csv(\"Hitters.csv\")\n",
    "df = hit.copy()\n",
    "df = df.dropna()\n",
    "dms = pd.get_dummies(df[['League', 'Division', 'NewLeague']])\n",
    "y = df[\"Salary\"]\n",
    "X_ = df.drop(['Salary', 'League', 'Division', 'NewLeague'], axis=1).astype('float64')\n",
    "X = pd.concat([X_, dms[['League_N', 'Division_W', 'NewLeague_N']]], axis=1)\n",
    "X_train, X_test, y_train, y_test = train_test_split(X, y, \n",
    "                                                    test_size=0.25, \n",
    "                                                    random_state=42)\n"
   ]
  },
  {
   "cell_type": "code",
   "execution_count": 41,
   "id": "28825231-9676-4c3c-8261-5c2050faad49",
   "metadata": {},
   "outputs": [],
   "source": [
    "X_train = pd.DataFrame(X_train[\"Hits\"])\n",
    "X_test = pd.DataFrame(X_test[\"Hits\"])"
   ]
  },
  {
   "cell_type": "code",
   "execution_count": 45,
   "id": "aa4084f9-bb15-4330-8444-047d7ee41459",
   "metadata": {},
   "outputs": [
    {
     "data": {
      "text/plain": [
       "DecisionTreeRegressor()"
      ]
     },
     "execution_count": 45,
     "metadata": {},
     "output_type": "execute_result"
    }
   ],
   "source": [
    "cart_model = DecisionTreeRegressor(min_samples_split = 2)\n",
    "cart_model"
   ]
  },
  {
   "cell_type": "code",
   "execution_count": 46,
   "id": "6bfdab13-6972-4acb-bc02-0ed324742974",
   "metadata": {
    "collapsed": true,
    "jupyter": {
     "outputs_hidden": true
    },
    "tags": []
   },
   "outputs": [
    {
     "data": {
      "text/plain": [
       "\u001b[1;31mType:\u001b[0m        DecisionTreeRegressor\n",
       "\u001b[1;31mString form:\u001b[0m DecisionTreeRegressor()\n",
       "\u001b[1;31mFile:\u001b[0m        c:\\users\\enes\\anaconda3\\lib\\site-packages\\sklearn\\tree\\_classes.py\n",
       "\u001b[1;31mDocstring:\u001b[0m  \n",
       "A decision tree regressor.\n",
       "\n",
       "Read more in the :ref:`User Guide <tree>`.\n",
       "\n",
       "Parameters\n",
       "----------\n",
       "criterion : {\"mse\", \"friedman_mse\", \"mae\", \"poisson\"}, default=\"mse\"\n",
       "    The function to measure the quality of a split. Supported criteria\n",
       "    are \"mse\" for the mean squared error, which is equal to variance\n",
       "    reduction as feature selection criterion and minimizes the L2 loss\n",
       "    using the mean of each terminal node, \"friedman_mse\", which uses mean\n",
       "    squared error with Friedman's improvement score for potential splits,\n",
       "    \"mae\" for the mean absolute error, which minimizes the L1 loss using\n",
       "    the median of each terminal node, and \"poisson\" which uses reduction in\n",
       "    Poisson deviance to find splits.\n",
       "\n",
       "    .. versionadded:: 0.18\n",
       "       Mean Absolute Error (MAE) criterion.\n",
       "\n",
       "    .. versionadded:: 0.24\n",
       "        Poisson deviance criterion.\n",
       "\n",
       "splitter : {\"best\", \"random\"}, default=\"best\"\n",
       "    The strategy used to choose the split at each node. Supported\n",
       "    strategies are \"best\" to choose the best split and \"random\" to choose\n",
       "    the best random split.\n",
       "\n",
       "max_depth : int, default=None\n",
       "    The maximum depth of the tree. If None, then nodes are expanded until\n",
       "    all leaves are pure or until all leaves contain less than\n",
       "    min_samples_split samples.\n",
       "\n",
       "min_samples_split : int or float, default=2\n",
       "    The minimum number of samples required to split an internal node:\n",
       "\n",
       "    - If int, then consider `min_samples_split` as the minimum number.\n",
       "    - If float, then `min_samples_split` is a fraction and\n",
       "      `ceil(min_samples_split * n_samples)` are the minimum\n",
       "      number of samples for each split.\n",
       "\n",
       "    .. versionchanged:: 0.18\n",
       "       Added float values for fractions.\n",
       "\n",
       "min_samples_leaf : int or float, default=1\n",
       "    The minimum number of samples required to be at a leaf node.\n",
       "    A split point at any depth will only be considered if it leaves at\n",
       "    least ``min_samples_leaf`` training samples in each of the left and\n",
       "    right branches.  This may have the effect of smoothing the model,\n",
       "    especially in regression.\n",
       "\n",
       "    - If int, then consider `min_samples_leaf` as the minimum number.\n",
       "    - If float, then `min_samples_leaf` is a fraction and\n",
       "      `ceil(min_samples_leaf * n_samples)` are the minimum\n",
       "      number of samples for each node.\n",
       "\n",
       "    .. versionchanged:: 0.18\n",
       "       Added float values for fractions.\n",
       "\n",
       "min_weight_fraction_leaf : float, default=0.0\n",
       "    The minimum weighted fraction of the sum total of weights (of all\n",
       "    the input samples) required to be at a leaf node. Samples have\n",
       "    equal weight when sample_weight is not provided.\n",
       "\n",
       "max_features : int, float or {\"auto\", \"sqrt\", \"log2\"}, default=None\n",
       "    The number of features to consider when looking for the best split:\n",
       "\n",
       "    - If int, then consider `max_features` features at each split.\n",
       "    - If float, then `max_features` is a fraction and\n",
       "      `int(max_features * n_features)` features are considered at each\n",
       "      split.\n",
       "    - If \"auto\", then `max_features=n_features`.\n",
       "    - If \"sqrt\", then `max_features=sqrt(n_features)`.\n",
       "    - If \"log2\", then `max_features=log2(n_features)`.\n",
       "    - If None, then `max_features=n_features`.\n",
       "\n",
       "    Note: the search for a split does not stop until at least one\n",
       "    valid partition of the node samples is found, even if it requires to\n",
       "    effectively inspect more than ``max_features`` features.\n",
       "\n",
       "random_state : int, RandomState instance or None, default=None\n",
       "    Controls the randomness of the estimator. The features are always\n",
       "    randomly permuted at each split, even if ``splitter`` is set to\n",
       "    ``\"best\"``. When ``max_features < n_features``, the algorithm will\n",
       "    select ``max_features`` at random at each split before finding the best\n",
       "    split among them. But the best found split may vary across different\n",
       "    runs, even if ``max_features=n_features``. That is the case, if the\n",
       "    improvement of the criterion is identical for several splits and one\n",
       "    split has to be selected at random. To obtain a deterministic behaviour\n",
       "    during fitting, ``random_state`` has to be fixed to an integer.\n",
       "    See :term:`Glossary <random_state>` for details.\n",
       "\n",
       "max_leaf_nodes : int, default=None\n",
       "    Grow a tree with ``max_leaf_nodes`` in best-first fashion.\n",
       "    Best nodes are defined as relative reduction in impurity.\n",
       "    If None then unlimited number of leaf nodes.\n",
       "\n",
       "min_impurity_decrease : float, default=0.0\n",
       "    A node will be split if this split induces a decrease of the impurity\n",
       "    greater than or equal to this value.\n",
       "\n",
       "    The weighted impurity decrease equation is the following::\n",
       "\n",
       "        N_t / N * (impurity - N_t_R / N_t * right_impurity\n",
       "                            - N_t_L / N_t * left_impurity)\n",
       "\n",
       "    where ``N`` is the total number of samples, ``N_t`` is the number of\n",
       "    samples at the current node, ``N_t_L`` is the number of samples in the\n",
       "    left child, and ``N_t_R`` is the number of samples in the right child.\n",
       "\n",
       "    ``N``, ``N_t``, ``N_t_R`` and ``N_t_L`` all refer to the weighted sum,\n",
       "    if ``sample_weight`` is passed.\n",
       "\n",
       "    .. versionadded:: 0.19\n",
       "\n",
       "min_impurity_split : float, default=0\n",
       "    Threshold for early stopping in tree growth. A node will split\n",
       "    if its impurity is above the threshold, otherwise it is a leaf.\n",
       "\n",
       "    .. deprecated:: 0.19\n",
       "       ``min_impurity_split`` has been deprecated in favor of\n",
       "       ``min_impurity_decrease`` in 0.19. The default value of\n",
       "       ``min_impurity_split`` has changed from 1e-7 to 0 in 0.23 and it\n",
       "       will be removed in 1.0 (renaming of 0.25).\n",
       "       Use ``min_impurity_decrease`` instead.\n",
       "\n",
       "ccp_alpha : non-negative float, default=0.0\n",
       "    Complexity parameter used for Minimal Cost-Complexity Pruning. The\n",
       "    subtree with the largest cost complexity that is smaller than\n",
       "    ``ccp_alpha`` will be chosen. By default, no pruning is performed. See\n",
       "    :ref:`minimal_cost_complexity_pruning` for details.\n",
       "\n",
       "    .. versionadded:: 0.22\n",
       "\n",
       "Attributes\n",
       "----------\n",
       "feature_importances_ : ndarray of shape (n_features,)\n",
       "    The feature importances.\n",
       "    The higher, the more important the feature.\n",
       "    The importance of a feature is computed as the\n",
       "    (normalized) total reduction of the criterion brought\n",
       "    by that feature. It is also known as the Gini importance [4]_.\n",
       "\n",
       "    Warning: impurity-based feature importances can be misleading for\n",
       "    high cardinality features (many unique values). See\n",
       "    :func:`sklearn.inspection.permutation_importance` as an alternative.\n",
       "\n",
       "max_features_ : int\n",
       "    The inferred value of max_features.\n",
       "\n",
       "n_features_ : int\n",
       "    The number of features when ``fit`` is performed.\n",
       "\n",
       "n_outputs_ : int\n",
       "    The number of outputs when ``fit`` is performed.\n",
       "\n",
       "tree_ : Tree instance\n",
       "    The underlying Tree object. Please refer to\n",
       "    ``help(sklearn.tree._tree.Tree)`` for attributes of Tree object and\n",
       "    :ref:`sphx_glr_auto_examples_tree_plot_unveil_tree_structure.py`\n",
       "    for basic usage of these attributes.\n",
       "\n",
       "See Also\n",
       "--------\n",
       "DecisionTreeClassifier : A decision tree classifier.\n",
       "\n",
       "Notes\n",
       "-----\n",
       "The default values for the parameters controlling the size of the trees\n",
       "(e.g. ``max_depth``, ``min_samples_leaf``, etc.) lead to fully grown and\n",
       "unpruned trees which can potentially be very large on some data sets. To\n",
       "reduce memory consumption, the complexity and size of the trees should be\n",
       "controlled by setting those parameter values.\n",
       "\n",
       "References\n",
       "----------\n",
       "\n",
       ".. [1] https://en.wikipedia.org/wiki/Decision_tree_learning\n",
       "\n",
       ".. [2] L. Breiman, J. Friedman, R. Olshen, and C. Stone, \"Classification\n",
       "       and Regression Trees\", Wadsworth, Belmont, CA, 1984.\n",
       "\n",
       ".. [3] T. Hastie, R. Tibshirani and J. Friedman. \"Elements of Statistical\n",
       "       Learning\", Springer, 2009.\n",
       "\n",
       ".. [4] L. Breiman, and A. Cutler, \"Random Forests\",\n",
       "       https://www.stat.berkeley.edu/~breiman/RandomForests/cc_home.htm\n",
       "\n",
       "Examples\n",
       "--------\n",
       ">>> from sklearn.datasets import load_diabetes\n",
       ">>> from sklearn.model_selection import cross_val_score\n",
       ">>> from sklearn.tree import DecisionTreeRegressor\n",
       ">>> X, y = load_diabetes(return_X_y=True)\n",
       ">>> regressor = DecisionTreeRegressor(random_state=0)\n",
       ">>> cross_val_score(regressor, X, y, cv=10)\n",
       "...                    # doctest: +SKIP\n",
       "...\n",
       "array([-0.39..., -0.46...,  0.02...,  0.06..., -0.50...,\n",
       "       0.16...,  0.11..., -0.73..., -0.30..., -0.00...])\n"
      ]
     },
     "metadata": {},
     "output_type": "display_data"
    }
   ],
   "source": [
    "?cart_model"
   ]
  },
  {
   "cell_type": "code",
   "execution_count": 47,
   "id": "3cf3ec21-8b25-4d46-8c08-5e62c53113f7",
   "metadata": {},
   "outputs": [
    {
     "data": {
      "text/plain": [
       "DecisionTreeRegressor()"
      ]
     },
     "execution_count": 47,
     "metadata": {},
     "output_type": "execute_result"
    }
   ],
   "source": [
    "cart_model.fit(X_train, y_train)"
   ]
  },
  {
   "cell_type": "code",
   "execution_count": 48,
   "id": "a76fdb70-3864-4705-8e92-efa7ad3b52b2",
   "metadata": {},
   "outputs": [
    {
     "data": {
      "image/png": "[encoded data removed]",
      "text/plain": [
       "<Figure size 432x288 with 1 Axes>"
      ]
     },
     "metadata": {
      "needs_background": "light"
     },
     "output_type": "display_data"
    }
   ],
   "source": [
    "X_grid = np.arange(min(np.array(X_train)),max(np.array(X_train)), 0.01) \n",
    "X_grid = X_grid.reshape((len(X_grid), 1))  \n",
    "plt.scatter(X_train, y_train, color = 'red') \n",
    "plt.plot(X_grid, cart_model.predict(X_grid), color = 'blue')  \n",
    "plt.title('CART REGRESON AĞACI')  \n",
    "plt.xlabel('Atış Sayısı(Hits)') \n",
    "plt.ylabel('Maaş (Salary)') ;"
   ]
  },
  {
   "cell_type": "code",
   "execution_count": 51,
   "id": "08f835b6-8a3e-4a18-a675-9449ba3d2477",
   "metadata": {},
   "outputs": [
    {
     "name": "stdout",
     "output_type": "stream",
     "text": [
      "Collecting skompiler\n",
      "  Downloading SKompiler-0.6.tar.gz (45 kB)\n",
      "Requirement already satisfied: scikit-learn>=0.22 in c:\\users\\enes\\anaconda3\\lib\\site-packages (from skompiler) (0.24.2)\n",
      "Requirement already satisfied: scipy>=0.19.1 in c:\\users\\enes\\anaconda3\\lib\\site-packages (from scikit-learn>=0.22->skompiler) (1.6.2)\n",
      "Requirement already satisfied: numpy>=1.13.3 in c:\\users\\enes\\anaconda3\\lib\\site-packages (from scikit-learn>=0.22->skompiler) (1.20.2)\n",
      "Requirement already satisfied: joblib>=0.11 in c:\\users\\enes\\anaconda3\\lib\\site-packages (from scikit-learn>=0.22->skompiler) (1.0.1)\n",
      "Requirement already satisfied: threadpoolctl>=2.0.0 in c:\\users\\enes\\anaconda3\\lib\\site-packages (from scikit-learn>=0.22->skompiler) (2.1.0)\n",
      "Building wheels for collected packages: skompiler\n",
      "  Building wheel for skompiler (setup.py): started\n",
      "  Building wheel for skompiler (setup.py): finished with status 'done'\n",
      "  Created wheel for skompiler: filename=SKompiler-0.6-py3-none-any.whl size=54265 sha256=4a42119e1784e8725bada5ec1a10285ee744dfc45e1b13d4aaf9a937d5e36500\n",
      "  Stored in directory: c:\\users\\enes\\appdata\\local\\pip\\cache\\wheels\\2c\\b1\\69\\4b5b50d4d429c350df3e1d2e8b35fdf5584448738d6cd3f540\n",
      "Successfully built skompiler\n",
      "Installing collected packages: skompiler\n",
      "Successfully installed skompiler-0.6\n"
     ]
    }
   ],
   "source": [
    "!pip install skompiler"
   ]
  },
  {
   "cell_type": "code",
   "execution_count": 52,
   "id": "de5c31fc-1161-4340-80fa-a6c3f8a1e3f9",
   "metadata": {},
   "outputs": [],
   "source": [
    "from skompiler import skompile"
   ]
  },
  {
   "cell_type": "code",
   "execution_count": 54,
   "id": "e2eb48d5-718d-4911-9da2-2bf1d44685d3",
   "metadata": {},
   "outputs": [
    {
     "ename": "ModuleNotFoundError",
     "evalue": "No module named 'astor'",
     "output_type": "error",
     "traceback": [
      "\u001b[1;31m---------------------------------------------------------------------------\u001b[0m",
      "\u001b[1;31mModuleNotFoundError\u001b[0m                       Traceback (most recent call last)",
      "\u001b[1;32m<ipython-input-54-64c04d384023>\u001b[0m in \u001b[0;36m<module>\u001b[1;34m\u001b[0m\n\u001b[1;32m----> 1\u001b[1;33m \u001b[0mprint\u001b[0m\u001b[1;33m(\u001b[0m\u001b[0mskompile\u001b[0m\u001b[1;33m(\u001b[0m\u001b[0mcart_model\u001b[0m\u001b[1;33m.\u001b[0m\u001b[0mpredict\u001b[0m\u001b[1;33m)\u001b[0m\u001b[1;33m.\u001b[0m\u001b[0mto\u001b[0m\u001b[1;33m(\u001b[0m\u001b[1;34m'python/code'\u001b[0m\u001b[1;33m)\u001b[0m\u001b[1;33m)\u001b[0m\u001b[1;33m\u001b[0m\u001b[1;33m\u001b[0m\u001b[0m\n\u001b[0m",
      "\u001b[1;32m~\\anaconda3\\lib\\site-packages\\skompiler\\ast.py\u001b[0m in \u001b[0;36mto\u001b[1;34m(self, target, *args, **kw)\u001b[0m\n\u001b[0;32m    266\u001b[0m             \u001b[0mmod\u001b[0m \u001b[1;33m=\u001b[0m \u001b[0mimport_module\u001b[0m\u001b[1;33m(\u001b[0m\u001b[0mmodule\u001b[0m\u001b[1;33m)\u001b[0m\u001b[1;33m\u001b[0m\u001b[1;33m\u001b[0m\u001b[0m\n\u001b[0;32m    267\u001b[0m             \u001b[0mtranslator\u001b[0m \u001b[1;33m=\u001b[0m \u001b[0mgetattr\u001b[0m\u001b[1;33m(\u001b[0m\u001b[0mmod\u001b[0m\u001b[1;33m,\u001b[0m \u001b[0mcallable\u001b[0m\u001b[1;33m)\u001b[0m\u001b[1;33m\u001b[0m\u001b[1;33m\u001b[0m\u001b[0m\n\u001b[1;32m--> 268\u001b[1;33m         \u001b[1;32mreturn\u001b[0m \u001b[0mtranslator\u001b[0m\u001b[1;33m(\u001b[0m\u001b[0mself\u001b[0m\u001b[1;33m,\u001b[0m \u001b[1;33m*\u001b[0m\u001b[0mdialect\u001b[0m\u001b[1;33m,\u001b[0m \u001b[1;33m*\u001b[0m\u001b[0margs\u001b[0m\u001b[1;33m,\u001b[0m \u001b[1;33m**\u001b[0m\u001b[0mkw\u001b[0m\u001b[1;33m)\u001b[0m\u001b[1;33m\u001b[0m\u001b[1;33m\u001b[0m\u001b[0m\n\u001b[0m\u001b[0;32m    269\u001b[0m \u001b[1;31m#endregion\u001b[0m\u001b[1;33m\u001b[0m\u001b[1;33m\u001b[0m\u001b[1;33m\u001b[0m\u001b[0m\n\u001b[0;32m    270\u001b[0m \u001b[1;33m\u001b[0m\u001b[0m\n",
      "\u001b[1;32m~\\anaconda3\\lib\\site-packages\\skompiler\\fromskast\\python.py\u001b[0m in \u001b[0;36mtranslate\u001b[1;34m(node, dialect)\u001b[0m\n\u001b[0;32m     62\u001b[0m         \u001b[1;32mreturn\u001b[0m \u001b[0mlambdify\u001b[0m\u001b[1;33m(\u001b[0m\u001b[0mpyast\u001b[0m\u001b[1;33m)\u001b[0m\u001b[1;33m\u001b[0m\u001b[1;33m\u001b[0m\u001b[0m\n\u001b[0;32m     63\u001b[0m     \u001b[1;32melif\u001b[0m \u001b[0mdialect\u001b[0m \u001b[1;33m==\u001b[0m \u001b[1;34m'code'\u001b[0m\u001b[1;33m:\u001b[0m\u001b[1;33m\u001b[0m\u001b[1;33m\u001b[0m\u001b[0m\n\u001b[1;32m---> 64\u001b[1;33m         \u001b[1;32mimport\u001b[0m \u001b[0mastor\u001b[0m\u001b[1;33m\u001b[0m\u001b[1;33m\u001b[0m\u001b[0m\n\u001b[0m\u001b[0;32m     65\u001b[0m         \u001b[0mcode\u001b[0m \u001b[1;33m=\u001b[0m \u001b[0mastor\u001b[0m\u001b[1;33m.\u001b[0m\u001b[0mto_source\u001b[0m\u001b[1;33m(\u001b[0m\u001b[0mpyast\u001b[0m\u001b[1;33m)\u001b[0m\u001b[1;33m\u001b[0m\u001b[1;33m\u001b[0m\u001b[0m\n\u001b[0;32m     66\u001b[0m         \u001b[1;31m# Replace some internal identifiers with matching functions\u001b[0m\u001b[1;33m\u001b[0m\u001b[1;33m\u001b[0m\u001b[1;33m\u001b[0m\u001b[0m\n",
      "\u001b[1;31mModuleNotFoundError\u001b[0m: No module named 'astor'"
     ]
    }
   ],
   "source": [
    "print(skompile(cart_model.predict).to('python/code')) ## I got some error in here but nothing important about model. Its about my phytonpath"
   ]
  },
  {
   "cell_type": "markdown",
   "id": "09132150-5b03-4df7-aba2-af85c061edf1",
   "metadata": {},
   "source": [
    "## Predict"
   ]
  },
  {
   "cell_type": "code",
   "execution_count": 80,
   "id": "e19d811b-9a8e-4bd6-bdf3-98cfaf0ea7fa",
   "metadata": {},
   "outputs": [],
   "source": [
    "x = [91]"
   ]
  },
  {
   "cell_type": "code",
   "execution_count": 81,
   "id": "4daade25-9f01-4989-9250-133c1c2e9b18",
   "metadata": {},
   "outputs": [
    {
     "data": {
      "text/plain": [
       "345.2011551724138"
      ]
     },
     "execution_count": 81,
     "metadata": {},
     "output_type": "execute_result"
    }
   ],
   "source": [
    "(345.2011551724138 if x[0] <= 117.5 else ((((1300.0 if x[0] <= 118.5 else \n",
    "    641.0) if x[0] <= 122.5 else 1468.5236666666667) if x[0] <= 125.5 else \n",
    "    621.9679230769232) if x[0] <= 143.0 else (958.6111111111111 if x[0] <= \n",
    "    150.5 else 2460.0) if x[0] <= 151.5 else 499.1666666666667 if x[0] <= \n",
    "    157.5 else 892.5402413793104) if x[0] <= 225.5 else 1975.0)"
   ]
  },
  {
   "cell_type": "code",
   "execution_count": 82,
   "id": "3bcfd279-f679-4016-8b1c-20433e15ae08",
   "metadata": {},
   "outputs": [
    {
     "data": {
      "text/plain": [
       "array([ 725.    , 1230.    ,  725.    ,  504.1665,   67.5   ])"
      ]
     },
     "execution_count": 82,
     "metadata": {},
     "output_type": "execute_result"
    }
   ],
   "source": [
    "cart_model.predict(X_test)[0:5]"
   ]
  },
  {
   "cell_type": "code",
   "execution_count": 83,
   "id": "be8a162c-eda2-4f69-a391-0575c2016dc7",
   "metadata": {},
   "outputs": [
    {
     "data": {
      "text/plain": [
       "array([125.])"
      ]
     },
     "execution_count": 83,
     "metadata": {},
     "output_type": "execute_result"
    }
   ],
   "source": [
    "cart_model.predict([[91]])"
   ]
  },
  {
   "cell_type": "code",
   "execution_count": 84,
   "id": "e47e3cad-4488-488d-91db-a6f5cac71b77",
   "metadata": {},
   "outputs": [],
   "source": [
    "y_pred =cart_model.predict(X_test)"
   ]
  },
  {
   "cell_type": "code",
   "execution_count": 85,
   "id": "1d7520b7-efc2-4cce-8ece-74ad6a3c7d10",
   "metadata": {},
   "outputs": [
    {
     "data": {
      "text/plain": [
       "468.49579052913884"
      ]
     },
     "execution_count": 85,
     "metadata": {},
     "output_type": "execute_result"
    }
   ],
   "source": [
    "np.sqrt(mean_squared_error(y_test, y_pred))"
   ]
  },
  {
   "cell_type": "markdown",
   "id": "49602d29-c995-4bb0-b114-c6b7fc47aac1",
   "metadata": {},
   "source": [
    "## Model Tuning"
   ]
  },
  {
   "cell_type": "code",
   "execution_count": 86,
   "id": "53592ebf-e9e5-4b2c-aa22-bcc6e8bec9ca",
   "metadata": {},
   "outputs": [],
   "source": [
    "cart_model = DecisionTreeRegressor()\n",
    "cart_model.fit(X_train, y_train)\n",
    "y_pred = cart_model.predict(X_test)"
   ]
  },
  {
   "cell_type": "code",
   "execution_count": 87,
   "id": "76032dba-5a11-4fc2-8c5b-f73a56a6cf19",
   "metadata": {},
   "outputs": [
    {
     "data": {
      "text/plain": [
       "468.49579052913884"
      ]
     },
     "execution_count": 87,
     "metadata": {},
     "output_type": "execute_result"
    }
   ],
   "source": [
    "np.sqrt(mean_squared_error(y_test, y_pred))"
   ]
  },
  {
   "cell_type": "code",
   "execution_count": 88,
   "id": "8144c817-b14d-4522-9dc8-8d5f9bab314b",
   "metadata": {},
   "outputs": [],
   "source": [
    "cart_params = {\"min_samples_split\": range(2,100),\n",
    "               \"max_leaf_nodes\": range(2,10)}"
   ]
  },
  {
   "cell_type": "code",
   "execution_count": 89,
   "id": "e1510d25-f343-42b3-bf57-06acede7fa1d",
   "metadata": {},
   "outputs": [],
   "source": [
    "cart_cv_model = GridSearchCV(cart_model, cart_params, cv = 10)"
   ]
  },
  {
   "cell_type": "code",
   "execution_count": 90,
   "id": "79f19f6c-cd0c-42c4-a0c7-4da552079bf4",
   "metadata": {},
   "outputs": [
    {
     "data": {
      "text/plain": [
       "GridSearchCV(cv=10, estimator=DecisionTreeRegressor(),\n",
       "             param_grid={'max_leaf_nodes': range(2, 10),\n",
       "                         'min_samples_split': range(2, 100)})"
      ]
     },
     "execution_count": 90,
     "metadata": {},
     "output_type": "execute_result"
    }
   ],
   "source": [
    "cart_cv_model.fit(X_train, y_train)"
   ]
  },
  {
   "cell_type": "code",
   "execution_count": 91,
   "id": "bda35dd5-3339-4fac-b581-2549858b883a",
   "metadata": {},
   "outputs": [
    {
     "data": {
      "text/plain": [
       "{'max_leaf_nodes': 9, 'min_samples_split': 76}"
      ]
     },
     "execution_count": 91,
     "metadata": {},
     "output_type": "execute_result"
    }
   ],
   "source": [
    "cart_cv_model.best_params_"
   ]
  },
  {
   "cell_type": "code",
   "execution_count": 92,
   "id": "edea6639-8752-4764-9c67-3696f7a3ac92",
   "metadata": {},
   "outputs": [],
   "source": [
    "cart_tuned = DecisionTreeRegressor(max_leaf_nodes = 9, min_samples_split = 76)"
   ]
  },
  {
   "cell_type": "code",
   "execution_count": 93,
   "id": "e1e2bbf5-0f87-4cb6-b95c-595d7e22f586",
   "metadata": {},
   "outputs": [
    {
     "data": {
      "text/plain": [
       "DecisionTreeRegressor(max_leaf_nodes=9, min_samples_split=76)"
      ]
     },
     "execution_count": 93,
     "metadata": {},
     "output_type": "execute_result"
    }
   ],
   "source": [
    "cart_tuned.fit(X_train, y_train)"
   ]
  },
  {
   "cell_type": "code",
   "execution_count": 94,
   "id": "6928ec29-6c7a-4a8a-98ea-ae50ef2bdc12",
   "metadata": {},
   "outputs": [],
   "source": [
    "y_pred = cart_tuned.predict(X_test)"
   ]
  },
  {
   "cell_type": "code",
   "execution_count": 95,
   "id": "6e0559e2-583b-48c7-8ba6-9d3d9569eb22",
   "metadata": {},
   "outputs": [
    {
     "data": {
      "text/plain": [
       "423.406689243066"
      ]
     },
     "execution_count": 95,
     "metadata": {},
     "output_type": "execute_result"
    }
   ],
   "source": [
    "np.sqrt(mean_squared_error(y_test, y_pred))"
   ]
  },
  {
   "cell_type": "markdown",
   "id": "65dfd3f7-877b-4ba2-969a-bd060f2b8a73",
   "metadata": {},
   "source": [
    "# Bagged Trees Regresyon"
   ]
  },
  {
   "cell_type": "code",
   "execution_count": 3,
   "id": "79e16194-13bd-4ac7-99fa-0ed7854dae7b",
   "metadata": {},
   "outputs": [],
   "source": [
    "hit = pd.read_csv(\"Hitters.csv\")\n",
    "df = hit.copy()\n",
    "df = df.dropna()\n",
    "dms = pd.get_dummies(df[['League', 'Division', 'NewLeague']])\n",
    "y = df[\"Salary\"]\n",
    "X_ = df.drop(['Salary', 'League', 'Division', 'NewLeague'], axis=1).astype('float64')\n",
    "X = pd.concat([X_, dms[['League_N', 'Division_W', 'NewLeague_N']]], axis=1)\n",
    "X_train, X_test, y_train, y_test = train_test_split(X, y, \n",
    "                                                    test_size=0.25, \n",
    "                                                    random_state=42)\n"
   ]
  },
  {
   "cell_type": "code",
   "execution_count": 4,
   "id": "1cdce381-f7d7-41e5-9e50-00c4c32e2025",
   "metadata": {},
   "outputs": [
    {
     "data": {
      "text/plain": [
       "BaggingRegressor(bootstrap_features=True)"
      ]
     },
     "execution_count": 4,
     "metadata": {},
     "output_type": "execute_result"
    }
   ],
   "source": [
    "bag_model = BaggingRegressor(bootstrap_features = True)\n",
    "bag_model.fit(X_train, y_train)"
   ]
  },
  {
   "cell_type": "code",
   "execution_count": 5,
   "id": "3977b6a0-8cfb-45eb-aa47-6d0c9f64f4a8",
   "metadata": {},
   "outputs": [
    {
     "data": {
      "text/plain": [
       "10"
      ]
     },
     "execution_count": 5,
     "metadata": {},
     "output_type": "execute_result"
    }
   ],
   "source": [
    "bag_model.n_estimators"
   ]
  },
  {
   "cell_type": "code",
   "execution_count": 6,
   "id": "90a02207-f73f-48dc-93a9-bf4516ba810e",
   "metadata": {},
   "outputs": [
    {
     "data": {
      "text/plain": [
       "[DecisionTreeRegressor(random_state=923627717),\n",
       " DecisionTreeRegressor(random_state=486112965),\n",
       " DecisionTreeRegressor(random_state=959130801),\n",
       " DecisionTreeRegressor(random_state=841566686),\n",
       " DecisionTreeRegressor(random_state=1500849911),\n",
       " DecisionTreeRegressor(random_state=1241219415),\n",
       " DecisionTreeRegressor(random_state=1963324904),\n",
       " DecisionTreeRegressor(random_state=1236721009),\n",
       " DecisionTreeRegressor(random_state=1516920260),\n",
       " DecisionTreeRegressor(random_state=126023836)]"
      ]
     },
     "execution_count": 6,
     "metadata": {},
     "output_type": "execute_result"
    }
   ],
   "source": [
    "bag_model.estimators_"
   ]
  },
  {
   "cell_type": "code",
   "execution_count": 7,
   "id": "17fe255e-6b8a-43c3-9134-d02669f5a851",
   "metadata": {},
   "outputs": [
    {
     "data": {
      "text/plain": [
       "[array([132,  15,  58, 168,  22,   0, 186, 147,  94,  26, 196, 101, 184,\n",
       "         93,  44, 102, 126, 179, 173, 183,  64, 125, 194, 144,  72, 157,\n",
       "         78,  99, 194, 187, 129, 178,  70,  84, 182,  44,  37,  56,  41,\n",
       "        110, 101, 183,  65, 102, 184, 154, 136,  27,  34, 156,   4,  18,\n",
       "        175,   0,   1, 111, 112,  26, 185,  68, 137,  87, 175, 155, 102,\n",
       "         19, 185, 155,  65, 114, 170, 134, 184,  27, 191,  65, 171, 116,\n",
       "         20,  83, 170, 161, 183, 141, 111,  43,  31, 101,  17,  84,  24,\n",
       "        179,  62, 121, 115, 145, 145,  51, 120, 178, 191, 110,  72, 103,\n",
       "          7,  84, 186,  40, 135,  30, 150, 162,  46, 178, 113, 167, 111,\n",
       "          9, 183,  50,  25,  43,  39, 176, 111, 140, 151, 139, 153, 162,\n",
       "         41,  88, 184, 187,  65,  43,  24,  28,  44, 132,  95, 142,  44,\n",
       "        139, 127,  34, 134, 166,   8, 192, 116, 121, 164, 137,  15,  21,\n",
       "          3, 113, 183, 125, 176,  10, 128, 137, 171, 163, 133,  93, 177,\n",
       "        177, 122,  58, 178, 145,  60, 191,  10,  31, 119,  18,  70,  38,\n",
       "        155, 155, 186, 127, 185,   1,  69,  88, 164, 101, 144,  71, 180,\n",
       "        168,   7]),\n",
       " array([ 30,  24, 193, 178,  54, 163, 125,  77, 173,  90,  69,  91,   5,\n",
       "         20,  83, 163, 193, 152,  53, 183,  53,  47, 196,  10,  97,  86,\n",
       "         62, 131, 146, 101,  20, 103, 152, 162, 126, 134, 154, 189, 127,\n",
       "         79,  44, 170, 173, 122, 115,  67, 184, 157, 115, 121, 144, 163,\n",
       "         14,  98, 158,  35,  70, 188,  30, 120,   8, 162,  51,  33,  87,\n",
       "        149, 145, 166,  99,   1, 137,  57, 134, 179, 109,  15,  93,  12,\n",
       "         27, 156, 169,  98,  74, 134,  70,  58,  89, 174, 176, 126,  47,\n",
       "          4,  63,  28, 180, 196,  29,  98, 145,  79,  15, 181, 102,  45,\n",
       "        131,  41, 134,  48, 141,  83, 177, 137,  71, 189, 180, 122, 169,\n",
       "         27, 166,  36,  55, 148,  61, 185, 188, 102, 183,  26, 102,  13,\n",
       "        141, 156, 187, 111,  67,  76,  86,   7,  81,  60,  33,  70,  26,\n",
       "        188, 119,  96,  17, 128,  54, 194,  41, 134,  30, 117, 115,  90,\n",
       "         51,  96, 191,  96,   6,  79,  42, 119, 154, 184, 151,  39,  46,\n",
       "         25, 172, 144,  36,  23,  88,  49, 177, 103,  46, 161,  68,  71,\n",
       "        195, 123,  78, 165, 154,  84,  91, 183, 106, 107, 108, 159, 119,\n",
       "         71,  13]),\n",
       " array([ 60, 127,  54,  94,  14,  15, 107,  91,  86, 121, 105, 176,  52,\n",
       "        121,  87,  75,   6, 106, 112,  33, 110, 190,  23,  96, 112, 181,\n",
       "          3, 115,  85, 108, 102, 141, 142,  27, 140,  81, 160,  40,   3,\n",
       "        143,  37,  76,  23, 113,  52,  99, 167,  92,  74, 173, 116, 112,\n",
       "        122,  56, 129, 138,  72,  84,  95,  45,  83, 114, 151, 109,  70,\n",
       "          3, 121, 176, 168, 148, 170,  74,  82, 134, 110, 155,  26,  40,\n",
       "         92,  11,  81,  92,  34,  32, 126,   9,  42,  50,  69,  81,   1,\n",
       "         24, 100,  70,  60, 155,  69, 158, 143,  83, 182,  85,  10,  10,\n",
       "          5,  10,  26,  31,  20,  36,  52, 179, 140,   2,  97,  22, 107,\n",
       "         39,  43, 102,  95, 106,  94, 114,   7,  22,   4,  84, 184,  72,\n",
       "         62, 123,  22,  76, 101,  64,  35, 175,  44,  43, 157,  92, 177,\n",
       "         72, 122,  37,  90,  50,  74, 167,  98,  97, 134,  66,  56, 149,\n",
       "         57,  99,  32,  74, 160,  54,   7,  69, 135,  18,  54, 190,  27,\n",
       "          1, 106,  48, 111,  68,  37,  15,  37, 192,  28, 175, 133, 107,\n",
       "        143,  82,  71,  88,  83,  25,  41, 169, 157,  96, 102,  92,  56,\n",
       "        178,  93]),\n",
       " array([ 71,  40, 195, 172, 101,  81,  93, 143,  50,   2,  49, 130, 133,\n",
       "        115, 122,  55, 107, 107,  37, 160,  25, 178, 111,   2, 167, 144,\n",
       "         94,  31, 136,  68, 183,  85, 108,  45, 116,   2,   3,  91, 101,\n",
       "        188, 126, 163,   8, 167,  43, 129,  90,  99, 105,  59,  81,  28,\n",
       "         59, 120,  39,  82,  67,  75, 126,  59,  59, 104, 195,   2, 131,\n",
       "        106, 178,  94, 170,  84,  34, 112, 143, 146,  44, 118, 115,  55,\n",
       "         30, 129,  24,  53,  62, 124,  51, 110,  26,  49, 120, 184,  56,\n",
       "        174, 188,  70, 124,   1,  59, 154, 102,  19,  96, 142,  38, 104,\n",
       "         41, 172, 141, 184, 149, 195,  54, 164, 184,  45,  75, 109, 120,\n",
       "        136,  31,  43, 181,   5,  26, 131, 109,  61,  66, 151,  20,  11,\n",
       "        163,  81, 146, 114, 115,   7,  85, 111, 126,  36, 144, 114, 177,\n",
       "          2, 160,  34,  25, 129, 146,  88, 132, 110,  31, 105,  69, 175,\n",
       "         74,   5,  80, 147,  97, 131,  98,  13, 159, 138, 135, 166, 112,\n",
       "         98, 103,  70,  26,  44, 190,  76,   6, 182, 191,  38,  41,  27,\n",
       "        162,  82,  63,  33, 161, 162, 173, 154, 159, 149,   1,  67,  36,\n",
       "        157,  49]),\n",
       " array([  9, 185, 142, 140,  63,  42, 160, 177, 132,  42,  43,  79,  88,\n",
       "        121,  27,  69, 180, 179,   7, 113,  70, 194, 132, 166, 164, 179,\n",
       "         38,  52,  92, 171,  66,  41, 179,  37, 137, 145,  57, 181, 188,\n",
       "         30, 173,   3,  21,  95,  95,  46, 121, 169, 158, 168,  33,  16,\n",
       "        194, 155, 124, 137,  39, 130, 187, 171,  32, 109, 175,  38, 140,\n",
       "        184,  19, 192,  15,  65, 189,  37,   9,  69,  88,  79,  83, 135,\n",
       "        142,  85,  46, 190,  36, 188, 133,   0,  33,   7, 133,  34,  64,\n",
       "        122,  72, 102, 143, 160, 128,  86,  40, 189, 135, 169, 159, 174,\n",
       "         93, 127,  60,  37, 129,  53,  73,  54,   9, 190, 184,  83, 180,\n",
       "        165, 114,   8, 113, 154, 173,  60, 170, 110,  99,  91, 122,  62,\n",
       "         23,   7, 172, 191, 126,  37, 150, 170,  77, 141, 168, 193,  80,\n",
       "        168,  45,  50,  98, 140, 124,  39,  68, 176,  71,   5,   9, 153,\n",
       "         91, 184, 159,  52,  61, 126,  53,  13,  44, 128,  26,  23, 162,\n",
       "         20,  62, 121, 112, 170, 176,  37, 196,  40, 170, 118, 148,  12,\n",
       "        109, 159,  89, 130, 170, 186,  80, 100, 114, 158, 132, 102,   9,\n",
       "        103,  55]),\n",
       " array([ 75, 188,  90,  47,  14, 170,   6,  44,  95,  26,  77,  60,   0,\n",
       "        134, 138,  35,  40,  70,  90, 128,  66, 128,  65, 115, 133,  54,\n",
       "        168,  82,  19,  41,  95,  39, 121,  26, 172,   6, 129,  61,  43,\n",
       "         83,  98,  63,  42, 157, 106, 140, 111, 145, 162,  23,  19, 135,\n",
       "        155, 145,  65, 123,  27, 150,  38,  21,   6,  67, 122,  53, 134,\n",
       "         76, 123, 149,  54,  76,   4, 145, 104,  15,  71, 111,  55,  84,\n",
       "        105, 133, 122, 112,  79,  63, 181,  16, 166,  75,  56,  55,  91,\n",
       "        167, 129, 129,  94,   8, 105,  16,  63,  67,  29,  50,  87, 130,\n",
       "         39,  36,  50, 186,  91, 145, 156,  50, 171,  42,  66,  93,   2,\n",
       "         11,  85, 168, 146, 196,  68,  47, 172, 108, 134, 113, 171,  23,\n",
       "        140,  67,  66,  50,   9, 121, 121, 136,  91,  50, 148, 166, 149,\n",
       "         23,  94, 160,  10, 163, 159,  69, 127, 182,   7, 127,  81,  90,\n",
       "        170, 114, 125, 105, 140, 143,  39,  55,  13,  65, 134,  28,  92,\n",
       "        160,  66, 123, 138, 114,  30,  72, 181, 196,  21, 110, 162, 145,\n",
       "         61,  97, 128,  16, 105,  98,  61, 124,  34, 114,  70,  55, 102,\n",
       "        173,  20]),\n",
       " array([ 21,  30, 109,  76,  16,  52,  28, 133, 196,  23, 160, 135, 157,\n",
       "         72,  94,  75,  67,  22,  38,   1, 167,  80,  31,  41, 186, 146,\n",
       "        146,  73,  82,  92,  33,  85,  85, 100, 125, 147,  16,  31, 164,\n",
       "         95,  84,  92, 130,  33,  82,  57,  71, 153, 152, 108,  50, 144,\n",
       "        115, 102,  11, 171, 191,  17,  46,  99,  47, 137, 102,  99,  80,\n",
       "         89, 181, 137, 158, 149,  29,  97, 148,  23,  58, 118, 148, 128,\n",
       "         92, 136, 151, 138,  33, 123, 123, 180,  82,  79, 127, 166, 183,\n",
       "        181, 113,  53, 181, 115,  65,  34, 151, 194,   7, 113,   7, 185,\n",
       "          0,  51, 134, 174, 104, 113,  80,  63,  71, 131,  51, 104, 187,\n",
       "         71, 131, 173, 112, 190, 127,  84,  46,  77, 154,  61,   1,  96,\n",
       "         98,  17,  59,  17,  20,  39, 183, 160,  76,  42, 137,  51,   3,\n",
       "        130,   8,  42,  47,  78,  21, 107,  54,  49, 179, 193,  20,  68,\n",
       "        125, 142, 118,  10,  19,  68,  17,  87,  74, 156,  33,  96,  60,\n",
       "        161, 139, 196, 186, 171, 169,  96,  99,  48, 171, 168,   7,  21,\n",
       "         46,   7, 173, 155,  53, 133, 169, 177, 159, 160,  94,  84,  41,\n",
       "         63,  26]),\n",
       " array([117, 129,   1,  66, 130,  50, 109, 119, 133, 139, 143, 145,  55,\n",
       "         26, 174,  15,  80,  78,  86,  55,  46, 150,  69,  95,  46, 185,\n",
       "         25, 144,  50,  57,  89, 167, 175,  81,  69,  38, 111,  38,   7,\n",
       "        128,  34,  60, 180, 111, 171, 181,  82,  10,  25,  91,  21,  24,\n",
       "        188,  58,  37,  89,  57,  80,  31, 116,  70,  89, 172, 135,  11,\n",
       "         68, 189, 123, 151,  41, 133, 178,  19,  19, 123,  11,   6, 146,\n",
       "        115, 158, 159,  90,   0,  97,   3, 172,  68, 190, 171, 143, 150,\n",
       "         25, 139,   0, 129,  45,  78,  31, 186,   8, 154, 147,  76,   9,\n",
       "        151, 113,  35,   2,  85,  16, 116, 101,  54, 161, 196, 154, 109,\n",
       "         37,  92, 159,  19, 144, 160,  43, 193,  97,  13, 128,  86,  77,\n",
       "         86, 183, 105, 113,  60,  32,  83,   5,  31,  31,  71, 127, 183,\n",
       "         94, 113, 170,  92, 102, 186, 139, 144, 176, 151, 142,  32, 109,\n",
       "         52,  54,  83,  18,  54, 171,  72, 186, 119,  71, 196,  97,  21,\n",
       "         81,  57, 194,  64, 163, 161,  96,  93, 109,  25,  64, 145, 145,\n",
       "         12, 103, 177, 107,  57, 106, 111,   7, 161, 122,  46, 189,  89,\n",
       "        159, 189]),\n",
       " array([144,  64, 195, 123, 144,  51, 130,  89, 157, 187, 166,  86, 134,\n",
       "        129, 150,  34, 167, 135,  75, 148, 102, 137,  53, 186, 124, 164,\n",
       "         83, 104, 173,  61, 123, 183, 145, 192, 110, 101, 194,  71,  19,\n",
       "         38,  60, 151, 130, 168,  24,  19,  56,  39, 112, 158, 169, 134,\n",
       "        114, 156, 117,  48, 173, 101,   0, 162,  91, 166, 152,  88,   4,\n",
       "        177, 110,  16, 148,  16,   7, 195,   2,   7, 153,  62, 177,  38,\n",
       "        130,  70, 184,  15, 113, 134, 191,  73,   6,  16, 136, 158, 147,\n",
       "        137,  75,  45,  18, 152, 110, 100,  83,   4, 131,  41, 129, 138,\n",
       "        151,  53, 158, 142, 183, 179, 143, 148,  24,  96,  36,  30,  12,\n",
       "        105, 139, 188, 175, 183, 164, 186,  44, 136,  73, 184, 164,  78,\n",
       "        100, 139, 173,  43,  81, 195,  41,  58,  56,  63, 189,  37, 127,\n",
       "         62, 178, 162, 100, 135,  28, 190, 114, 127,  31, 147,  45, 152,\n",
       "         18, 170, 103,  60,  26, 195, 195,  90, 189, 186,  60,  41,  45,\n",
       "        109,  14,  99, 134, 189, 133,  70, 166, 151,  31,  10, 171,  89,\n",
       "          1,  55,  68, 186,  80,  74,  15,  15,   2, 179, 171, 172,  84,\n",
       "        179, 149]),\n",
       " array([108,  76, 163,   7,  30,  22,  29, 193,  66, 150, 108, 168,  77,\n",
       "        136, 182, 195, 156,  63,  85,  97, 166,  58, 163, 116, 133,  98,\n",
       "         91,  66, 106,  12,  76, 110,  89, 100, 150, 183, 124, 162,  66,\n",
       "         18,  66,  90, 128, 124, 126,  49,   7,  77, 142,  87,  69,  28,\n",
       "        123,  11, 171, 169, 161,  80,  72,  22, 135, 107,  41,  66, 116,\n",
       "        112, 156, 150,  57, 105,  50,  61, 121, 142, 100,  28, 148,  79,\n",
       "         26, 193,  33, 175, 156,  73, 110,  78,  24, 105,  89,  43,  12,\n",
       "        189, 135,  42,  61, 100, 183, 104, 138,  68,  47, 103, 158,  56,\n",
       "         19,  25,  83, 188, 175, 183,  67,  72, 151, 105,   3, 123,  84,\n",
       "        107,  44, 156,  30, 135,  92, 147, 120, 124, 120, 137,  68, 185,\n",
       "         61, 126,   9, 120,  30, 113, 181,  69, 167,  14,  62, 157,  39,\n",
       "         82, 167,  80, 190, 132, 146,  51, 196,  55,  41, 165, 177, 106,\n",
       "         83,  84,  49, 191, 137, 173,  60,  21,  51,  53, 191,  83,  81,\n",
       "        146,   6,  95, 172,  60,  42, 160,  17,  88, 146,  82,  14,   0,\n",
       "         37, 108,   0,  82, 178,  89, 136, 155, 122,   4,  81, 153, 167,\n",
       "          6,  57])]"
      ]
     },
     "execution_count": 7,
     "metadata": {},
     "output_type": "execute_result"
    }
   ],
   "source": [
    "bag_model.estimators_samples_"
   ]
  },
  {
   "cell_type": "code",
   "execution_count": 8,
   "id": "a463f411-b4e7-4bd5-beee-b56489bdfdf0",
   "metadata": {},
   "outputs": [
    {
     "data": {
      "text/plain": [
       "[array([ 5, 11, 17, 18, 15, 17,  8, 14, 15, 12, 15,  7, 12, 10,  3, 15, 17,\n",
       "        18,  0]),\n",
       " array([ 5,  3,  6, 18, 12,  9, 17, 15,  9,  1,  7,  4, 18,  3, 18,  9,  4,\n",
       "         5,  3]),\n",
       " array([17, 13,  6,  0,  3, 12, 10, 18,  4, 14, 10, 14,  6,  5,  6, 10,  9,\n",
       "        13,  5]),\n",
       " array([ 7,  1,  8, 18, 14, 15, 10, 14, 15,  6, 18, 13, 16,  1, 16,  5, 16,\n",
       "         8,  1]),\n",
       " array([17, 10, 13, 18, 15, 18, 11, 17,  3, 12, 12,  5, 10,  5,  7,  2, 12,\n",
       "         7,  0]),\n",
       " array([ 5,  2,  3, 16, 15, 12,  9,  2,  6,  5, 15, 13,  3, 16,  3,  4, 10,\n",
       "         6, 13]),\n",
       " array([ 8, 13,  8, 11, 10, 11, 18, 13, 12,  1, 12,  5,  7,  0,  8,  6, 18,\n",
       "         6, 11]),\n",
       " array([17,  8,  6, 11,  3,  6, 10, 10, 16,  0,  2, 11,  6, 11, 16,  3,  6,\n",
       "         8, 14]),\n",
       " array([ 4, 11,  4,  3,  4,  7,  5,  3, 18,  8,  5, 18,  2,  5,  5, 16, 14,\n",
       "         2,  5]),\n",
       " array([16,  8, 14, 12, 17, 10, 18,  1, 18,  1,  5, 10,  2,  1, 16, 17,  1,\n",
       "        12,  7])]"
      ]
     },
     "execution_count": 8,
     "metadata": {},
     "output_type": "execute_result"
    }
   ],
   "source": [
    "bag_model.estimators_features_"
   ]
  },
  {
   "cell_type": "code",
   "execution_count": 11,
   "id": "f2340418-4e03-4516-bfd3-2d345e7b000c",
   "metadata": {},
   "outputs": [
    {
     "data": {
      "text/plain": [
       "DecisionTreeRegressor(random_state=486112965)"
      ]
     },
     "execution_count": 11,
     "metadata": {},
     "output_type": "execute_result"
    }
   ],
   "source": [
    "bag_model.estimators_[1]"
   ]
  },
  {
   "cell_type": "markdown",
   "id": "949f05c4-3ae6-4459-9fe9-d57d6ba41c06",
   "metadata": {},
   "source": [
    "## Predict"
   ]
  },
  {
   "cell_type": "code",
   "execution_count": 12,
   "id": "5a1a64ee-6143-4a4a-a30e-6e112bb423ec",
   "metadata": {},
   "outputs": [],
   "source": [
    "y_pred = bag_model.predict(X_test)"
   ]
  },
  {
   "cell_type": "code",
   "execution_count": 13,
   "id": "aff3d93c-6805-4ff0-a82d-b457bcd6e85f",
   "metadata": {},
   "outputs": [
    {
     "data": {
      "text/plain": [
       "382.9106805480428"
      ]
     },
     "execution_count": 13,
     "metadata": {},
     "output_type": "execute_result"
    }
   ],
   "source": [
    "np.sqrt(mean_squared_error(y_test, y_pred))"
   ]
  },
  {
   "cell_type": "code",
   "execution_count": 14,
   "id": "10cfe31d-71f6-49bb-85c3-116ce726f68f",
   "metadata": {},
   "outputs": [],
   "source": [
    "iki_y_pred = bag_model.estimators_[1].fit(X_train, y_train).predict(X_test)"
   ]
  },
  {
   "cell_type": "code",
   "execution_count": 15,
   "id": "74219a8d-689b-4a26-a88c-35fe1fced9b8",
   "metadata": {},
   "outputs": [
    {
     "data": {
      "text/plain": [
       "537.5887928294575"
      ]
     },
     "execution_count": 15,
     "metadata": {},
     "output_type": "execute_result"
    }
   ],
   "source": [
    "np.sqrt(mean_squared_error(y_test, iki_y_pred))"
   ]
  },
  {
   "cell_type": "code",
   "execution_count": 27,
   "id": "a89c4d07-2104-46b0-ba9d-34cf7eb7578f",
   "metadata": {},
   "outputs": [],
   "source": [
    "yedi_y_pred = bag_model.estimators_[6].fit(X_train, y_train).predict(X_test)"
   ]
  },
  {
   "cell_type": "code",
   "execution_count": 28,
   "id": "9a288768-0b7b-4d0b-b5fb-0e6db97f68f7",
   "metadata": {},
   "outputs": [
    {
     "data": {
      "text/plain": [
       "439.7310681972149"
      ]
     },
     "execution_count": 28,
     "metadata": {},
     "output_type": "execute_result"
    }
   ],
   "source": [
    "np.sqrt(mean_squared_error(y_test, yedi_y_pred))"
   ]
  },
  {
   "cell_type": "markdown",
   "id": "3faf8309-bd08-4761-8f08-54960a349fae",
   "metadata": {},
   "source": [
    "## Model Tuning"
   ]
  },
  {
   "cell_type": "code",
   "execution_count": 29,
   "id": "72807de1-f00f-432a-8ce7-566190071607",
   "metadata": {},
   "outputs": [
    {
     "data": {
      "text/plain": [
       "BaggingRegressor(bootstrap_features=True)"
      ]
     },
     "execution_count": 29,
     "metadata": {},
     "output_type": "execute_result"
    }
   ],
   "source": [
    "bag_model = BaggingRegressor(bootstrap_features = True)\n",
    "bag_model.fit(X_train, y_train)"
   ]
  },
  {
   "cell_type": "code",
   "execution_count": 30,
   "id": "0692cf80-9139-48ad-9f35-9617953cba9f",
   "metadata": {},
   "outputs": [],
   "source": [
    "bag_params = {\"n_estimators\": range(2,20)}"
   ]
  },
  {
   "cell_type": "code",
   "execution_count": 31,
   "id": "0bf8f38a-8b9e-4132-a119-1acfc5d66700",
   "metadata": {},
   "outputs": [],
   "source": [
    "bag_cv_model = GridSearchCV(bag_model, bag_params, cv = 10)"
   ]
  },
  {
   "cell_type": "code",
   "execution_count": 32,
   "id": "d69c7adb-bcc3-411d-8406-01a671a6e688",
   "metadata": {},
   "outputs": [
    {
     "data": {
      "text/plain": [
       "GridSearchCV(cv=10, estimator=BaggingRegressor(bootstrap_features=True),\n",
       "             param_grid={'n_estimators': range(2, 20)})"
      ]
     },
     "execution_count": 32,
     "metadata": {},
     "output_type": "execute_result"
    }
   ],
   "source": [
    "bag_cv_model.fit(X_train, y_train)"
   ]
  },
  {
   "cell_type": "code",
   "execution_count": 33,
   "id": "cbe9f593-3a7f-4c61-8758-3dd731b2a2f1",
   "metadata": {},
   "outputs": [
    {
     "data": {
      "text/plain": [
       "{'n_estimators': 17}"
      ]
     },
     "execution_count": 33,
     "metadata": {},
     "output_type": "execute_result"
    }
   ],
   "source": [
    "bag_cv_model.best_params_"
   ]
  },
  {
   "cell_type": "code",
   "execution_count": 34,
   "id": "04792b50-03d4-4eab-a744-de02b75b09d5",
   "metadata": {},
   "outputs": [],
   "source": [
    "bag_tuned = BaggingRegressor( n_estimators = 17, random_state = 45)"
   ]
  },
  {
   "cell_type": "code",
   "execution_count": 35,
   "id": "0b8d14ef-bd08-465d-a53d-dd37d2fe0ffa",
   "metadata": {},
   "outputs": [
    {
     "data": {
      "text/plain": [
       "BaggingRegressor(n_estimators=17, random_state=45)"
      ]
     },
     "execution_count": 35,
     "metadata": {},
     "output_type": "execute_result"
    }
   ],
   "source": [
    "bag_tuned.fit(X_train, y_train)"
   ]
  },
  {
   "cell_type": "code",
   "execution_count": 36,
   "id": "704e7976-ae1f-4211-a25c-9ea8b8db0411",
   "metadata": {},
   "outputs": [],
   "source": [
    "y_pred = bag_tuned.predict(X_test)"
   ]
  },
  {
   "cell_type": "code",
   "execution_count": 37,
   "id": "247f14ce-8105-4e60-90ff-1a1baeff1a48",
   "metadata": {},
   "outputs": [
    {
     "data": {
      "text/plain": [
       "343.0060534136818"
      ]
     },
     "execution_count": 37,
     "metadata": {},
     "output_type": "execute_result"
    }
   ],
   "source": [
    "np.sqrt(mean_squared_error(y_test, y_pred))"
   ]
  },
  {
   "cell_type": "markdown",
   "id": "0d1943d9-fed8-4f34-956d-b1f352f077ec",
   "metadata": {},
   "source": [
    "# Random Forests"
   ]
  },
  {
   "cell_type": "code",
   "execution_count": 38,
   "id": "86e0c344-ce7d-4da2-98d7-e5a85f536ebe",
   "metadata": {},
   "outputs": [],
   "source": [
    "hit = pd.read_csv(\"Hitters.csv\")\n",
    "df = hit.copy()\n",
    "df = df.dropna()\n",
    "dms = pd.get_dummies(df[['League', 'Division', 'NewLeague']])\n",
    "y = df[\"Salary\"]\n",
    "X_ = df.drop(['Salary', 'League', 'Division', 'NewLeague'], axis=1).astype('float64')\n",
    "X = pd.concat([X_, dms[['League_N', 'Division_W', 'NewLeague_N']]], axis=1)\n",
    "X_train, X_test, y_train, y_test = train_test_split(X, y, \n",
    "                                                    test_size=0.25, \n",
    "                                                    random_state=42)\n"
   ]
  },
  {
   "cell_type": "code",
   "execution_count": 39,
   "id": "dd346acd-d1e5-42b9-82bb-0678d0741029",
   "metadata": {},
   "outputs": [],
   "source": [
    "from sklearn.ensemble import RandomForestRegressor"
   ]
  },
  {
   "cell_type": "code",
   "execution_count": 40,
   "id": "600cfb4a-2f27-422c-870f-995ab65c4e5c",
   "metadata": {},
   "outputs": [],
   "source": [
    "rf_model = RandomForestRegressor(random_state = 42)"
   ]
  },
  {
   "cell_type": "code",
   "execution_count": 41,
   "id": "91a8cc14-4734-450a-b8d4-cbfeb8abff98",
   "metadata": {},
   "outputs": [
    {
     "data": {
      "text/plain": [
       "RandomForestRegressor(random_state=42)"
      ]
     },
     "execution_count": 41,
     "metadata": {},
     "output_type": "execute_result"
    }
   ],
   "source": [
    "rf_model.fit(X_train, y_train)"
   ]
  },
  {
   "cell_type": "markdown",
   "id": "5ab2f4d4-7422-438b-a6bf-9a6b020dca6d",
   "metadata": {},
   "source": [
    "# ** Predict"
   ]
  },
  {
   "cell_type": "code",
   "execution_count": 44,
   "id": "ad9aa48e-90dc-42e0-bf86-e04b93248725",
   "metadata": {},
   "outputs": [
    {
     "data": {
      "text/plain": [
       "array([ 738.69167,  913.51164, 1181.145  ,  139.65167,  634.60833])"
      ]
     },
     "execution_count": 44,
     "metadata": {},
     "output_type": "execute_result"
    }
   ],
   "source": [
    "rf_model.predict(X_test)[0:5]"
   ]
  },
  {
   "cell_type": "code",
   "execution_count": 45,
   "id": "51460a88-a4a9-40b1-a119-9d0e50a46563",
   "metadata": {},
   "outputs": [],
   "source": [
    "y_pred = rf_model.predict(X_test)"
   ]
  },
  {
   "cell_type": "code",
   "execution_count": 46,
   "id": "96009bea-bccd-4315-ad13-f61ad8af5755",
   "metadata": {},
   "outputs": [
    {
     "data": {
      "text/plain": [
       "344.8191624908484"
      ]
     },
     "execution_count": 46,
     "metadata": {},
     "output_type": "execute_result"
    }
   ],
   "source": [
    "np.sqrt(mean_squared_error(y_test, y_pred))"
   ]
  },
  {
   "cell_type": "markdown",
   "id": "6ec3a300-899a-4ae0-a050-467750ec24cf",
   "metadata": {},
   "source": [
    "## Model Tuning"
   ]
  },
  {
   "cell_type": "code",
   "execution_count": 47,
   "id": "b1c6680c-5f03-44ed-adc5-7d2fb1ebe0e4",
   "metadata": {},
   "outputs": [],
   "source": [
    "rf_params = {'max_depth': list(range(1,10)),\n",
    "            'max_features': [3,5,10,15],\n",
    "            'n_estimators' : [100, 200, 500, 1000, 2000]}"
   ]
  },
  {
   "cell_type": "code",
   "execution_count": 48,
   "id": "ecb63013-00ce-468b-82ab-7355f2ac6d66",
   "metadata": {},
   "outputs": [],
   "source": [
    "rf_model = RandomForestRegressor(random_state = 42)"
   ]
  },
  {
   "cell_type": "code",
   "execution_count": 49,
   "id": "995753e5-d68a-4057-bec8-a6de63ddb0b9",
   "metadata": {},
   "outputs": [],
   "source": [
    "rf_cv_model = GridSearchCV(rf_model, \n",
    "                           rf_params, \n",
    "                           cv = 10, \n",
    "                            n_jobs = -1)"
   ]
  },
  {
   "cell_type": "code",
   "execution_count": 50,
   "id": "81d3ed48-b420-407d-beb8-a4ebb5bc48a7",
   "metadata": {},
   "outputs": [
    {
     "data": {
      "text/plain": [
       "GridSearchCV(cv=10, estimator=RandomForestRegressor(random_state=42), n_jobs=-1,\n",
       "             param_grid={'max_depth': [1, 2, 3, 4, 5, 6, 7, 8, 9],\n",
       "                         'max_features': [3, 5, 10, 15],\n",
       "                         'n_estimators': [100, 200, 500, 1000, 2000]})"
      ]
     },
     "execution_count": 50,
     "metadata": {},
     "output_type": "execute_result"
    }
   ],
   "source": [
    "rf_cv_model.fit(X_train, y_train)"
   ]
  },
  {
   "cell_type": "code",
   "execution_count": 52,
   "id": "e5c10421-03ff-4a6e-8aab-d132fcd0d03a",
   "metadata": {},
   "outputs": [
    {
     "data": {
      "text/plain": [
       "{'max_depth': 8, 'max_features': 3, 'n_estimators': 200}"
      ]
     },
     "execution_count": 52,
     "metadata": {},
     "output_type": "execute_result"
    }
   ],
   "source": [
    "rf_cv_model.best_params_"
   ]
  },
  {
   "cell_type": "code",
   "execution_count": 53,
   "id": "b8d14b9e-de7e-4d81-9c69-66e5b76bc6f4",
   "metadata": {},
   "outputs": [],
   "source": [
    "rf_tuned = RandomForestRegressor(max_depth  = 8, \n",
    "                                 max_features = 3, \n",
    "                                 n_estimators =200)"
   ]
  },
  {
   "cell_type": "code",
   "execution_count": 54,
   "id": "8f8979b0-b6bb-4d76-a7a0-9542c162ff54",
   "metadata": {},
   "outputs": [
    {
     "data": {
      "text/plain": [
       "RandomForestRegressor(max_depth=8, max_features=3, n_estimators=200)"
      ]
     },
     "execution_count": 54,
     "metadata": {},
     "output_type": "execute_result"
    }
   ],
   "source": [
    "rf_tuned.fit(X_train, y_train)"
   ]
  },
  {
   "cell_type": "code",
   "execution_count": 55,
   "id": "5c59bf81-ab9e-4cc1-b477-50efbc4b75bd",
   "metadata": {},
   "outputs": [],
   "source": [
    "y_pred = rf_tuned.predict(X_test)"
   ]
  },
  {
   "cell_type": "code",
   "execution_count": 56,
   "id": "443b899a-ec60-4f4d-a3f8-47a41e1b035b",
   "metadata": {},
   "outputs": [
    {
     "data": {
      "text/plain": [
       "341.531248725719"
      ]
     },
     "execution_count": 56,
     "metadata": {},
     "output_type": "execute_result"
    }
   ],
   "source": [
    "np.sqrt(mean_squared_error(y_test, y_pred))"
   ]
  },
  {
   "cell_type": "code",
   "execution_count": 57,
   "id": "3291528b-5766-4571-bfd7-30da91899d47",
   "metadata": {},
   "outputs": [],
   "source": [
    "Importance = pd.DataFrame({\"Importance\": rf_tuned.feature_importances_*100},\n",
    "                         index = X_train.columns)"
   ]
  },
  {
   "cell_type": "code",
   "execution_count": 65,
   "id": "09ca4c04-89e9-463d-859b-e5c13ab21790",
   "metadata": {},
   "outputs": [
    {
     "data": {
      "text/plain": [
       "Text(0.5, 0, 'Değişken Önem Düzeyleri')"
      ]
     },
     "execution_count": 65,
     "metadata": {},
     "output_type": "execute_result"
    },
    {
     "data": {
      "image/png": "[encoded data removed]",
      "text/plain": [
       "<Figure size 432x288 with 1 Axes>"
      ]
     },
     "metadata": {
      "needs_background": "light"
     },
     "output_type": "display_data"
    }
   ],
   "source": [
    "Importance.sort_values(by = \"Importance\", \n",
    "                       axis = 0, \n",
    "                       ascending = True).plot(kind =\"barh\", color = \"y\")\n",
    "\n",
    "plt.xlabel(\"Değişken Önem Düzeyleri\")"
   ]
  },
  {
   "cell_type": "markdown",
   "id": "48c4d774-9d12-4d1d-bcaa-9fe71020a36b",
   "metadata": {},
   "source": [
    "# Gradient Boosting Machines"
   ]
  },
  {
   "cell_type": "code",
   "execution_count": 66,
   "id": "54a9f766-dfad-43ce-93b7-a9014f99f3aa",
   "metadata": {},
   "outputs": [],
   "source": [
    "from sklearn.ensemble import GradientBoostingRegressor"
   ]
  },
  {
   "cell_type": "code",
   "execution_count": 67,
   "id": "a218898e-6985-48a4-adc2-60541112a8a2",
   "metadata": {},
   "outputs": [
    {
     "data": {
      "text/plain": [
       "GradientBoostingRegressor()"
      ]
     },
     "execution_count": 67,
     "metadata": {},
     "output_type": "execute_result"
    }
   ],
   "source": [
    "gbm_model = GradientBoostingRegressor()\n",
    "gbm_model.fit(X_train, y_train)"
   ]
  },
  {
   "cell_type": "markdown",
   "id": "81d169a0-41ae-4b26-9c66-67ff9e223af0",
   "metadata": {},
   "source": [
    "## Tahmin"
   ]
  },
  {
   "cell_type": "code",
   "execution_count": 68,
   "id": "d2f38356-bf77-4548-9354-07d6940870a6",
   "metadata": {},
   "outputs": [
    {
     "data": {
      "text/plain": [
       "356.4835256995504"
      ]
     },
     "execution_count": 68,
     "metadata": {},
     "output_type": "execute_result"
    }
   ],
   "source": [
    "y_pred = gbm_model.predict(X_test)\n",
    "np.sqrt(mean_squared_error(y_test, y_pred))"
   ]
  },
  {
   "cell_type": "markdown",
   "id": "4501b621-5761-4cdb-a678-a49e9b124510",
   "metadata": {},
   "source": [
    "## Model Tuning"
   ]
  },
  {
   "cell_type": "code",
   "execution_count": 69,
   "id": "867aa492-128a-4f01-8f16-926c65b71110",
   "metadata": {},
   "outputs": [],
   "source": [
    "gbm_params = {\n",
    "    'learning_rate': [0.001, 0.01, 0.1, 0.2],\n",
    "    'max_depth': [3, 5, 8,50,100],\n",
    "    'n_estimators': [200, 500, 1000, 2000],\n",
    "    'subsample': [1,0.5,0.75],\n",
    "}"
   ]
  },
  {
   "cell_type": "code",
   "execution_count": 70,
   "id": "407d0ea1-ed41-4846-bd9c-2f3bf96c4c4f",
   "metadata": {},
   "outputs": [
    {
     "name": "stdout",
     "output_type": "stream",
     "text": [
      "Fitting 10 folds for each of 240 candidates, totalling 2400 fits\n"
     ]
    },
    {
     "data": {
      "text/plain": [
       "GridSearchCV(cv=10, estimator=GradientBoostingRegressor(), n_jobs=-1,\n",
       "             param_grid={'learning_rate': [0.001, 0.01, 0.1, 0.2],\n",
       "                         'max_depth': [3, 5, 8, 50, 100],\n",
       "                         'n_estimators': [200, 500, 1000, 2000],\n",
       "                         'subsample': [1, 0.5, 0.75]},\n",
       "             verbose=2)"
      ]
     },
     "execution_count": 70,
     "metadata": {},
     "output_type": "execute_result"
    }
   ],
   "source": [
    "gbm = GradientBoostingRegressor()\n",
    "gbm_cv_model = GridSearchCV(gbm, gbm_params, cv = 10, n_jobs = -1, verbose = 2)\n",
    "gbm_cv_model.fit(X_train, y_train)"
   ]
  },
  {
   "cell_type": "code",
   "execution_count": 71,
   "id": "c89b6ff9-117e-4c2c-8843-7fff618fd6c0",
   "metadata": {},
   "outputs": [
    {
     "data": {
      "text/plain": [
       "{'learning_rate': 0.2, 'max_depth': 5, 'n_estimators': 2000, 'subsample': 0.5}"
      ]
     },
     "execution_count": 71,
     "metadata": {},
     "output_type": "execute_result"
    }
   ],
   "source": [
    "gbm_cv_model.best_params_"
   ]
  },
  {
   "cell_type": "code",
   "execution_count": 72,
   "id": "2d702840-ed29-4be7-a092-0b9e0056e0e1",
   "metadata": {},
   "outputs": [],
   "source": [
    "gbm_tuned = GradientBoostingRegressor(learning_rate = 0.2,  \n",
    "                                      max_depth = 5, \n",
    "                                      n_estimators = 2000, \n",
    "                                      subsample = 0.5)\n",
    "\n",
    "gbm_tuned = gbm_tuned.fit(X_train,y_train)"
   ]
  },
  {
   "cell_type": "code",
   "execution_count": 73,
   "id": "1ea6a4d9-4122-4285-b6fc-7101da4714d8",
   "metadata": {},
   "outputs": [
    {
     "data": {
      "text/plain": [
       "329.0017951713364"
      ]
     },
     "execution_count": 73,
     "metadata": {},
     "output_type": "execute_result"
    }
   ],
   "source": [
    "y_pred = gbm_tuned.predict(X_test)\n",
    "np.sqrt(mean_squared_error(y_test, y_pred))"
   ]
  },
  {
   "cell_type": "code",
   "execution_count": 74,
   "id": "4099010b-450f-4ec5-93a6-6fcdc601d6cd",
   "metadata": {},
   "outputs": [],
   "source": [
    "Importance = pd.DataFrame({\"Importance\": gbm_tuned.feature_importances_*100},\n",
    "                         index = X_train.columns)"
   ]
  },
  {
   "cell_type": "code",
   "execution_count": 75,
   "id": "c945ad77-a466-43ce-b148-935612b9f6aa",
   "metadata": {},
   "outputs": [
    {
     "data": {
      "text/plain": [
       "Text(0.5, 0, 'Değişken Önem Düzeyleri')"
      ]
     },
     "execution_count": 75,
     "metadata": {},
     "output_type": "execute_result"
    },
    {
     "data": {
      "image/png": "[encoded data removed]",
      "text/plain": [
       "<Figure size 432x288 with 1 Axes>"
      ]
     },
     "metadata": {
      "needs_background": "light"
     },
     "output_type": "display_data"
    }
   ],
   "source": [
    "Importance.sort_values(by = \"Importance\", \n",
    "                       axis = 0, \n",
    "                       ascending = True).plot(kind =\"barh\", color = \"r\")\n",
    "\n",
    "plt.xlabel(\"Değişken Önem Düzeyleri\")"
   ]
  },
  {
   "cell_type": "markdown",
   "id": "228e20da-fa78-4e81-a5d4-d958908f9eb5",
   "metadata": {},
   "source": [
    "# XGBoost"
   ]
  },
  {
   "cell_type": "code",
   "execution_count": 76,
   "id": "78456326-34ae-4504-8724-71b55e642751",
   "metadata": {},
   "outputs": [],
   "source": [
    "hit = pd.read_csv(\"Hitters.csv\")\n",
    "df = hit.copy()\n",
    "df = df.dropna()\n",
    "dms = pd.get_dummies(df[['League', 'Division', 'NewLeague']])\n",
    "y = df[\"Salary\"]\n",
    "X_ = df.drop(['Salary', 'League', 'Division', 'NewLeague'], axis=1).astype('float64')\n",
    "X = pd.concat([X_, dms[['League_N', 'Division_W', 'NewLeague_N']]], axis=1)\n",
    "X_train, X_test, y_train, y_test = train_test_split(X, y, \n",
    "                                                    test_size=0.25, \n",
    "                                                    random_state=42)\n"
   ]
  },
  {
   "cell_type": "code",
   "execution_count": 78,
   "id": "7ffc3476-1e3b-4745-956c-b5289431002d",
   "metadata": {},
   "outputs": [
    {
     "name": "stdout",
     "output_type": "stream",
     "text": [
      "Requirement already satisfied: xgboost in c:\\users\\enes\\anaconda3\\lib\\site-packages (1.4.2)\n",
      "Requirement already satisfied: numpy in c:\\users\\enes\\anaconda3\\lib\\site-packages (from xgboost) (1.20.2)\n",
      "Requirement already satisfied: scipy in c:\\users\\enes\\anaconda3\\lib\\site-packages (from xgboost) (1.6.2)\n"
     ]
    }
   ],
   "source": [
    "!pip install xgboost"
   ]
  },
  {
   "cell_type": "code",
   "execution_count": 79,
   "id": "e9b194d5-b11f-4388-a513-1b04cfbaa710",
   "metadata": {},
   "outputs": [],
   "source": [
    "import xgboost as xgb"
   ]
  },
  {
   "cell_type": "code",
   "execution_count": 80,
   "id": "60dfed82-5f1b-44b2-9874-db31840c4e69",
   "metadata": {},
   "outputs": [],
   "source": [
    "DM_train = xgb.DMatrix(data = X_train, label = y_train)\n",
    "DM_test = xgb.DMatrix(data = X_test, label = y_test)"
   ]
  },
  {
   "cell_type": "code",
   "execution_count": 81,
   "id": "42c1c892-cc1a-4fb1-b7a2-60b7e2467d8c",
   "metadata": {},
   "outputs": [],
   "source": [
    "from xgboost import XGBRegressor"
   ]
  },
  {
   "cell_type": "code",
   "execution_count": 82,
   "id": "5707afca-6735-44ea-a265-837f0e2e3f62",
   "metadata": {},
   "outputs": [],
   "source": [
    "xgb_model = XGBRegressor().fit(X_train, y_train)"
   ]
  },
  {
   "cell_type": "markdown",
   "id": "5969009b-c4c5-4c93-93b5-4852456de4d6",
   "metadata": {},
   "source": [
    "## Tahmin"
   ]
  },
  {
   "cell_type": "code",
   "execution_count": 83,
   "id": "1ba84133-60d9-4bd6-a6b0-eb6793c8d5bb",
   "metadata": {},
   "outputs": [
    {
     "data": {
      "text/plain": [
       "355.46515176059927"
      ]
     },
     "execution_count": 83,
     "metadata": {},
     "output_type": "execute_result"
    }
   ],
   "source": [
    "y_pred = xgb_model.predict(X_test)\n",
    "np.sqrt(mean_squared_error(y_test, y_pred))"
   ]
  },
  {
   "cell_type": "markdown",
   "id": "7283754b-3779-4269-a5fc-4810cc9390cc",
   "metadata": {},
   "source": [
    "## Model Tuning"
   ]
  },
  {
   "cell_type": "code",
   "execution_count": 84,
   "id": "a7e267b2-a099-4cdd-aeeb-4556523a6764",
   "metadata": {},
   "outputs": [
    {
     "data": {
      "text/plain": [
       "XGBRegressor(base_score=0.5, booster='gbtree', colsample_bylevel=1,\n",
       "             colsample_bynode=1, colsample_bytree=1, gamma=0, gpu_id=-1,\n",
       "             importance_type='gain', interaction_constraints='',\n",
       "             learning_rate=0.300000012, max_delta_step=0, max_depth=6,\n",
       "             min_child_weight=1, missing=nan, monotone_constraints='()',\n",
       "             n_estimators=100, n_jobs=4, num_parallel_tree=1, random_state=0,\n",
       "             reg_alpha=0, reg_lambda=1, scale_pos_weight=1, subsample=1,\n",
       "             tree_method='exact', validate_parameters=1, verbosity=None)"
      ]
     },
     "execution_count": 84,
     "metadata": {},
     "output_type": "execute_result"
    }
   ],
   "source": [
    "xgb_model"
   ]
  },
  {
   "cell_type": "code",
   "execution_count": 85,
   "id": "08dc8c35-dc1f-49df-bfbb-993db47ed2fd",
   "metadata": {},
   "outputs": [],
   "source": [
    "xgb_grid = {\n",
    "     'colsample_bytree': [0.4, 0.5,0.6,0.9,1], \n",
    "     'n_estimators':[100, 200, 500, 1000],\n",
    "     'max_depth': [2,3,4,5,6],\n",
    "     'learning_rate': [0.1, 0.01, 0.5]\n",
    "}\n"
   ]
  },
  {
   "cell_type": "code",
   "execution_count": 86,
   "id": "b22dc86c-5c4d-42ea-a2e2-91ed47616c32",
   "metadata": {},
   "outputs": [
    {
     "name": "stdout",
     "output_type": "stream",
     "text": [
      "Fitting 10 folds for each of 300 candidates, totalling 3000 fits\n"
     ]
    },
    {
     "data": {
      "text/plain": [
       "GridSearchCV(cv=10,\n",
       "             estimator=XGBRegressor(base_score=None, booster=None,\n",
       "                                    colsample_bylevel=None,\n",
       "                                    colsample_bynode=None,\n",
       "                                    colsample_bytree=None, gamma=None,\n",
       "                                    gpu_id=None, importance_type='gain',\n",
       "                                    interaction_constraints=None,\n",
       "                                    learning_rate=None, max_delta_step=None,\n",
       "                                    max_depth=None, min_child_weight=None,\n",
       "                                    missing=nan, monotone_constraints=None,\n",
       "                                    n_estimators=100, n_jobs=None,\n",
       "                                    num_parallel_tree=None, random_state=None,\n",
       "                                    reg_alpha=None, reg_lambda=None,\n",
       "                                    scale_pos_weight=None, subsample=None,\n",
       "                                    tree_method=None, validate_parameters=None,\n",
       "                                    verbosity=None),\n",
       "             n_jobs=-1,\n",
       "             param_grid={'colsample_bytree': [0.4, 0.5, 0.6, 0.9, 1],\n",
       "                         'learning_rate': [0.1, 0.01, 0.5],\n",
       "                         'max_depth': [2, 3, 4, 5, 6],\n",
       "                         'n_estimators': [100, 200, 500, 1000]},\n",
       "             verbose=2)"
      ]
     },
     "execution_count": 86,
     "metadata": {},
     "output_type": "execute_result"
    }
   ],
   "source": [
    "xgb = XGBRegressor()\n",
    "\n",
    "xgb_cv = GridSearchCV(xgb, \n",
    "                      param_grid = xgb_grid, \n",
    "                      cv = 10, \n",
    "                      n_jobs = -1,\n",
    "                      verbose = 2)\n",
    "\n",
    "\n",
    "xgb_cv.fit(X_train, y_train)"
   ]
  },
  {
   "cell_type": "code",
   "execution_count": 87,
   "id": "0cfff7bf-26da-4003-9ff0-92d984c88251",
   "metadata": {},
   "outputs": [
    {
     "data": {
      "text/plain": [
       "{'colsample_bytree': 0.5,\n",
       " 'learning_rate': 0.1,\n",
       " 'max_depth': 2,\n",
       " 'n_estimators': 500}"
      ]
     },
     "execution_count": 87,
     "metadata": {},
     "output_type": "execute_result"
    }
   ],
   "source": [
    "xgb_cv.best_params_"
   ]
  },
  {
   "cell_type": "code",
   "execution_count": 88,
   "id": "4161e687-a608-409e-8d7c-aa445a6f840a",
   "metadata": {},
   "outputs": [],
   "source": [
    "xgb_tuned = XGBRegressor(colsample_bytree = 0.5, \n",
    "                         learning_rate = 0.1, \n",
    "                         max_depth = 2, \n",
    "                         n_estimators = 500) \n",
    "\n",
    "xgb_tuned = xgb_tuned.fit(X_train,y_train)"
   ]
  },
  {
   "cell_type": "code",
   "execution_count": 89,
   "id": "a208f6ba-806d-4f1c-80d1-6c50f1188acf",
   "metadata": {},
   "outputs": [
    {
     "data": {
      "text/plain": [
       "346.0275204366939"
      ]
     },
     "execution_count": 89,
     "metadata": {},
     "output_type": "execute_result"
    }
   ],
   "source": [
    "y_pred = xgb_tuned.predict(X_test)\n",
    "np.sqrt(mean_squared_error(y_test, y_pred))"
   ]
  },
  {
   "cell_type": "markdown",
   "id": "556c4311-2c94-4c6a-99bc-21e9bc7b6f44",
   "metadata": {},
   "source": [
    "# Light GBM"
   ]
  },
  {
   "cell_type": "code",
   "execution_count": 90,
   "id": "b20a7f8e-be6b-4f1c-b88e-47161212ef63",
   "metadata": {},
   "outputs": [],
   "source": [
    "hit = pd.read_csv(\"Hitters.csv\")\n",
    "df = hit.copy()\n",
    "df = df.dropna()\n",
    "dms = pd.get_dummies(df[['League', 'Division', 'NewLeague']])\n",
    "y = df[\"Salary\"]\n",
    "X_ = df.drop(['Salary', 'League', 'Division', 'NewLeague'], axis=1).astype('float64')\n",
    "X = pd.concat([X_, dms[['League_N', 'Division_W', 'NewLeague_N']]], axis=1)\n",
    "X_train, X_test, y_train, y_test = train_test_split(X, y, \n",
    "                                                    test_size=0.25, \n",
    "                                                    random_state=42)\n"
   ]
  },
  {
   "cell_type": "code",
   "execution_count": 91,
   "id": "f7676042-ac1a-4524-a4c0-74550819f202",
   "metadata": {},
   "outputs": [
    {
     "name": "stdout",
     "output_type": "stream",
     "text": [
      "Collecting lightgbm\n",
      "  Downloading lightgbm-3.2.1-py3-none-win_amd64.whl (1.0 MB)\n",
      "Requirement already satisfied: numpy in c:\\users\\enes\\anaconda3\\lib\\site-packages (from lightgbm) (1.20.2)\n",
      "Requirement already satisfied: scipy in c:\\users\\enes\\anaconda3\\lib\\site-packages (from lightgbm) (1.6.2)\n",
      "Requirement already satisfied: wheel in c:\\users\\enes\\anaconda3\\lib\\site-packages (from lightgbm) (0.36.2)\n",
      "Requirement already satisfied: scikit-learn!=0.22.0 in c:\\users\\enes\\anaconda3\\lib\\site-packages (from lightgbm) (0.24.2)\n",
      "Requirement already satisfied: threadpoolctl>=2.0.0 in c:\\users\\enes\\anaconda3\\lib\\site-packages (from scikit-learn!=0.22.0->lightgbm) (2.1.0)\n",
      "Requirement already satisfied: joblib>=0.11 in c:\\users\\enes\\anaconda3\\lib\\site-packages (from scikit-learn!=0.22.0->lightgbm) (1.0.1)\n",
      "Installing collected packages: lightgbm\n",
      "Successfully installed lightgbm-3.2.1\n"
     ]
    }
   ],
   "source": [
    "!pip install lightgbm"
   ]
  },
  {
   "cell_type": "code",
   "execution_count": 92,
   "id": "31aea572-11f0-4f3a-9031-c2c1d7f6e7c4",
   "metadata": {},
   "outputs": [],
   "source": [
    "from lightgbm import LGBMRegressor"
   ]
  },
  {
   "cell_type": "code",
   "execution_count": 93,
   "id": "4dee5cd3-5fb1-4d9e-9f92-37b9c2db33dc",
   "metadata": {},
   "outputs": [],
   "source": [
    "lgbm = LGBMRegressor()\n",
    "lgbm_model = lgbm.fit(X_train, y_train)"
   ]
  },
  {
   "cell_type": "markdown",
   "id": "9fceac14-4c01-482f-b1f8-d47d1c2df749",
   "metadata": {},
   "source": [
    "## Predict"
   ]
  },
  {
   "cell_type": "code",
   "execution_count": 94,
   "id": "0774b6f4-ca41-4833-9f33-bef3cc56f37d",
   "metadata": {},
   "outputs": [],
   "source": [
    "y_pred = lgbm_model.predict(X_test, \n",
    "                            num_iteration = lgbm_model.best_iteration_)"
   ]
  },
  {
   "cell_type": "code",
   "execution_count": 95,
   "id": "d68cdb3f-a2a5-46ef-ab97-0a2d1cf31f1c",
   "metadata": {},
   "outputs": [
    {
     "data": {
      "text/plain": [
       "363.8712087611089"
      ]
     },
     "execution_count": 95,
     "metadata": {},
     "output_type": "execute_result"
    }
   ],
   "source": [
    "np.sqrt(mean_squared_error(y_test, y_pred))"
   ]
  },
  {
   "cell_type": "markdown",
   "id": "33c2171a-79f1-4ac2-8733-a41808b3089c",
   "metadata": {},
   "source": [
    "## Model Tuning"
   ]
  },
  {
   "cell_type": "code",
   "execution_count": 96,
   "id": "5d6f2e94-95dd-4657-862f-9db2ebb0379d",
   "metadata": {},
   "outputs": [
    {
     "data": {
      "text/plain": [
       "LGBMRegressor()"
      ]
     },
     "execution_count": 96,
     "metadata": {},
     "output_type": "execute_result"
    }
   ],
   "source": [
    "lgbm_model"
   ]
  },
  {
   "cell_type": "code",
   "execution_count": 97,
   "id": "4c257bb4-f9ae-48d9-ace9-b6556d2586aa",
   "metadata": {},
   "outputs": [],
   "source": [
    "lgbm_grid = {\n",
    "    'colsample_bytree': [0.4, 0.5,0.6,0.9,1],\n",
    "    'learning_rate': [0.01, 0.1, 0.5,1],\n",
    "    'n_estimators': [20, 40, 100, 200, 500,1000],\n",
    "    'max_depth': [1,2,3,4,5,6,7,8] }\n",
    "\n",
    "lgbm = LGBMRegressor()\n",
    "lgbm_cv_model = GridSearchCV(lgbm, lgbm_grid, cv=10, n_jobs = -1, verbose = 2)"
   ]
  },
  {
   "cell_type": "code",
   "execution_count": 98,
   "id": "342bf36b-8cd8-4426-a4b8-4362f26c672e",
   "metadata": {},
   "outputs": [
    {
     "name": "stdout",
     "output_type": "stream",
     "text": [
      "Fitting 10 folds for each of 960 candidates, totalling 9600 fits\n"
     ]
    },
    {
     "data": {
      "text/plain": [
       "GridSearchCV(cv=10, estimator=LGBMRegressor(), n_jobs=-1,\n",
       "             param_grid={'colsample_bytree': [0.4, 0.5, 0.6, 0.9, 1],\n",
       "                         'learning_rate': [0.01, 0.1, 0.5, 1],\n",
       "                         'max_depth': [1, 2, 3, 4, 5, 6, 7, 8],\n",
       "                         'n_estimators': [20, 40, 100, 200, 500, 1000]},\n",
       "             verbose=2)"
      ]
     },
     "execution_count": 98,
     "metadata": {},
     "output_type": "execute_result"
    }
   ],
   "source": [
    "lgbm_cv_model.fit(X_train, y_train)"
   ]
  },
  {
   "cell_type": "code",
   "execution_count": 99,
   "id": "ab802ac0-9cbc-4da7-b218-d676e414381f",
   "metadata": {},
   "outputs": [
    {
     "data": {
      "text/plain": [
       "{'colsample_bytree': 0.5,\n",
       " 'learning_rate': 0.1,\n",
       " 'max_depth': 6,\n",
       " 'n_estimators': 20}"
      ]
     },
     "execution_count": 99,
     "metadata": {},
     "output_type": "execute_result"
    }
   ],
   "source": [
    "lgbm_cv_model.best_params_"
   ]
  },
  {
   "cell_type": "code",
   "execution_count": 100,
   "id": "aececd6c-53ce-4c93-b153-c09ce329970e",
   "metadata": {},
   "outputs": [],
   "source": [
    "lgbm_tuned = LGBMRegressor(learning_rate = 0.1, \n",
    "                           max_depth = 6, \n",
    "                           n_estimators = 20,\n",
    "                          colsample_bytree = 0.5)\n",
    "\n",
    "lgbm_tuned = lgbm_tuned.fit(X_train,y_train)"
   ]
  },
  {
   "cell_type": "code",
   "execution_count": 101,
   "id": "4ce9eb18-8af3-4a41-8382-77c10622e2b6",
   "metadata": {},
   "outputs": [],
   "source": [
    "y_pred = lgbm_tuned.predict(X_test)"
   ]
  },
  {
   "cell_type": "code",
   "execution_count": 102,
   "id": "51dd2bba-842c-4f8c-ac91-0a7e6ffd9da0",
   "metadata": {},
   "outputs": [
    {
     "data": {
      "text/plain": [
       "375.6085209015434"
      ]
     },
     "execution_count": 102,
     "metadata": {},
     "output_type": "execute_result"
    }
   ],
   "source": [
    "np.sqrt(mean_squared_error(y_test, y_pred))"
   ]
  },
  {
   "cell_type": "markdown",
   "id": "a182e182-7e73-496f-bbfd-c5179a9b69ec",
   "metadata": {},
   "source": [
    "# CatBoost"
   ]
  },
  {
   "cell_type": "code",
   "execution_count": 103,
   "id": "40be0581-5f92-43f6-87af-f8bad8b73548",
   "metadata": {},
   "outputs": [],
   "source": [
    "hit = pd.read_csv(\"Hitters.csv\")\n",
    "df = hit.copy()\n",
    "df = df.dropna()\n",
    "dms = pd.get_dummies(df[['League', 'Division', 'NewLeague']])\n",
    "y = df[\"Salary\"]\n",
    "X_ = df.drop(['Salary', 'League', 'Division', 'NewLeague'], axis=1).astype('float64')\n",
    "X = pd.concat([X_, dms[['League_N', 'Division_W', 'NewLeague_N']]], axis=1)\n",
    "X_train, X_test, y_train, y_test = train_test_split(X, y, \n",
    "                                                    test_size=0.25, \n",
    "                                                    random_state=42)\n"
   ]
  },
  {
   "cell_type": "code",
   "execution_count": 104,
   "id": "49df1c31-c986-4db0-ac87-fa11e633b1a1",
   "metadata": {},
   "outputs": [
    {
     "name": "stdout",
     "output_type": "stream",
     "text": [
      "Collecting catboost\n",
      "  Downloading catboost-0.26.1-cp38-none-win_amd64.whl (68.0 MB)\n",
      "Requirement already satisfied: numpy>=1.16.0 in c:\\users\\enes\\anaconda3\\lib\\site-packages (from catboost) (1.20.2)\n",
      "Requirement already satisfied: scipy in c:\\users\\enes\\anaconda3\\lib\\site-packages (from catboost) (1.6.2)\n",
      "Requirement already satisfied: matplotlib in c:\\users\\enes\\anaconda3\\lib\\site-packages (from catboost) (3.3.4)\n",
      "Requirement already satisfied: pandas>=0.24.0 in c:\\users\\enes\\anaconda3\\lib\\site-packages (from catboost) (1.2.5)\n",
      "Collecting plotly\n",
      "  Downloading plotly-5.1.0-py2.py3-none-any.whl (20.6 MB)\n",
      "Requirement already satisfied: six in c:\\users\\enes\\anaconda3\\lib\\site-packages (from catboost) (1.16.0)\n",
      "Collecting graphviz\n",
      "  Downloading graphviz-0.17-py3-none-any.whl (18 kB)\n",
      "Requirement already satisfied: pytz>=2017.3 in c:\\users\\enes\\anaconda3\\lib\\site-packages (from pandas>=0.24.0->catboost) (2021.1)\n",
      "Requirement already satisfied: python-dateutil>=2.7.3 in c:\\users\\enes\\anaconda3\\lib\\site-packages (from pandas>=0.24.0->catboost) (2.8.1)\n",
      "Requirement already satisfied: kiwisolver>=1.0.1 in c:\\users\\enes\\anaconda3\\lib\\site-packages (from matplotlib->catboost) (1.3.1)\n",
      "Requirement already satisfied: cycler>=0.10 in c:\\users\\enes\\anaconda3\\lib\\site-packages (from matplotlib->catboost) (0.10.0)\n",
      "Requirement already satisfied: pillow>=6.2.0 in c:\\users\\enes\\anaconda3\\lib\\site-packages (from matplotlib->catboost) (8.2.0)\n",
      "Requirement already satisfied: pyparsing!=2.0.4,!=2.1.2,!=2.1.6,>=2.0.3 in c:\\users\\enes\\anaconda3\\lib\\site-packages (from matplotlib->catboost) (2.4.7)\n",
      "Collecting tenacity>=6.2.0\n",
      "  Downloading tenacity-8.0.1-py3-none-any.whl (24 kB)\n",
      "Installing collected packages: tenacity, plotly, graphviz, catboost\n",
      "Successfully installed catboost-0.26.1 graphviz-0.17 plotly-5.1.0 tenacity-8.0.1\n"
     ]
    }
   ],
   "source": [
    "!pip install catboost"
   ]
  },
  {
   "cell_type": "code",
   "execution_count": 105,
   "id": "499d94fc-63ea-4aa4-80d9-3db665fcedf8",
   "metadata": {},
   "outputs": [],
   "source": [
    "from catboost import CatBoostRegressor"
   ]
  },
  {
   "cell_type": "code",
   "execution_count": 106,
   "id": "b852a6d1-1fd5-4281-8349-dd2cf84d78a3",
   "metadata": {},
   "outputs": [
    {
     "name": "stdout",
     "output_type": "stream",
     "text": [
      "Learning rate set to 0.029229\n",
      "0:\tlearn: 438.1974206\ttotal: 134ms\tremaining: 2m 13s\n",
      "1:\tlearn: 432.4168868\ttotal: 136ms\tremaining: 1m 7s\n",
      "2:\tlearn: 426.3836690\ttotal: 138ms\tremaining: 45.8s\n",
      "3:\tlearn: 420.2261014\ttotal: 140ms\tremaining: 34.9s\n",
      "4:\tlearn: 414.9976675\ttotal: 142ms\tremaining: 28.3s\n",
      "5:\tlearn: 409.6125323\ttotal: 146ms\tremaining: 24.2s\n",
      "6:\tlearn: 403.9277911\ttotal: 149ms\tremaining: 21.1s\n",
      "7:\tlearn: 398.4395285\ttotal: 151ms\tremaining: 18.7s\n",
      "8:\tlearn: 392.4517081\ttotal: 153ms\tremaining: 16.8s\n",
      "9:\tlearn: 387.4871123\ttotal: 155ms\tremaining: 15.4s\n",
      "10:\tlearn: 382.6230510\ttotal: 158ms\tremaining: 14.2s\n",
      "11:\tlearn: 378.1012454\ttotal: 162ms\tremaining: 13.3s\n",
      "12:\tlearn: 372.6002306\ttotal: 167ms\tremaining: 12.7s\n",
      "13:\tlearn: 368.4682192\ttotal: 172ms\tremaining: 12.1s\n",
      "14:\tlearn: 364.0565766\ttotal: 174ms\tremaining: 11.4s\n",
      "15:\tlearn: 359.5683249\ttotal: 180ms\tremaining: 11.1s\n",
      "16:\tlearn: 355.1782794\ttotal: 182ms\tremaining: 10.6s\n",
      "17:\tlearn: 350.4689946\ttotal: 185ms\tremaining: 10.1s\n",
      "18:\tlearn: 346.2553348\ttotal: 187ms\tremaining: 9.66s\n",
      "19:\tlearn: 341.7051884\ttotal: 192ms\tremaining: 9.39s\n",
      "20:\tlearn: 337.8343606\ttotal: 194ms\tremaining: 9.05s\n",
      "21:\tlearn: 333.7956702\ttotal: 196ms\tremaining: 8.71s\n",
      "22:\tlearn: 329.8867930\ttotal: 199ms\tremaining: 8.43s\n",
      "23:\tlearn: 326.1844372\ttotal: 201ms\tremaining: 8.16s\n",
      "24:\tlearn: 323.1315580\ttotal: 203ms\tremaining: 7.91s\n",
      "25:\tlearn: 319.3322885\ttotal: 206ms\tremaining: 7.71s\n",
      "26:\tlearn: 316.2039164\ttotal: 208ms\tremaining: 7.49s\n",
      "27:\tlearn: 313.2598806\ttotal: 210ms\tremaining: 7.29s\n",
      "28:\tlearn: 310.1086898\ttotal: 212ms\tremaining: 7.1s\n",
      "29:\tlearn: 307.0508553\ttotal: 214ms\tremaining: 6.93s\n",
      "30:\tlearn: 304.5843401\ttotal: 217ms\tremaining: 6.78s\n",
      "31:\tlearn: 301.6708432\ttotal: 219ms\tremaining: 6.63s\n",
      "32:\tlearn: 298.9175443\ttotal: 222ms\tremaining: 6.51s\n",
      "33:\tlearn: 296.1231309\ttotal: 224ms\tremaining: 6.37s\n",
      "34:\tlearn: 293.2359275\ttotal: 227ms\tremaining: 6.25s\n",
      "35:\tlearn: 290.3999850\ttotal: 229ms\tremaining: 6.13s\n",
      "36:\tlearn: 287.8958674\ttotal: 234ms\tremaining: 6.09s\n",
      "37:\tlearn: 285.6692571\ttotal: 237ms\tremaining: 6s\n",
      "38:\tlearn: 282.9812904\ttotal: 241ms\tremaining: 5.94s\n",
      "39:\tlearn: 280.6302291\ttotal: 243ms\tremaining: 5.84s\n",
      "40:\tlearn: 278.2767119\ttotal: 245ms\tremaining: 5.74s\n",
      "41:\tlearn: 276.0589541\ttotal: 249ms\tremaining: 5.68s\n",
      "42:\tlearn: 273.6619286\ttotal: 252ms\tremaining: 5.6s\n",
      "43:\tlearn: 271.1128163\ttotal: 254ms\tremaining: 5.51s\n",
      "44:\tlearn: 268.9091716\ttotal: 256ms\tremaining: 5.43s\n",
      "45:\tlearn: 266.3675542\ttotal: 258ms\tremaining: 5.35s\n",
      "46:\tlearn: 263.7815611\ttotal: 260ms\tremaining: 5.27s\n",
      "47:\tlearn: 261.8160223\ttotal: 262ms\tremaining: 5.19s\n",
      "48:\tlearn: 259.7109561\ttotal: 264ms\tremaining: 5.12s\n",
      "49:\tlearn: 257.7200276\ttotal: 266ms\tremaining: 5.05s\n",
      "50:\tlearn: 255.7835524\ttotal: 268ms\tremaining: 4.98s\n",
      "51:\tlearn: 253.8406902\ttotal: 270ms\tremaining: 4.91s\n",
      "52:\tlearn: 251.6896611\ttotal: 272ms\tremaining: 4.86s\n",
      "53:\tlearn: 250.0830915\ttotal: 274ms\tremaining: 4.79s\n",
      "54:\tlearn: 248.3689069\ttotal: 276ms\tremaining: 4.73s\n",
      "55:\tlearn: 246.2718937\ttotal: 278ms\tremaining: 4.69s\n",
      "56:\tlearn: 244.3923224\ttotal: 280ms\tremaining: 4.63s\n",
      "57:\tlearn: 242.3040669\ttotal: 281ms\tremaining: 4.57s\n",
      "58:\tlearn: 240.5357981\ttotal: 283ms\tremaining: 4.51s\n",
      "59:\tlearn: 238.7009594\ttotal: 285ms\tremaining: 4.46s\n",
      "60:\tlearn: 237.2676945\ttotal: 286ms\tremaining: 4.41s\n",
      "61:\tlearn: 235.7252656\ttotal: 288ms\tremaining: 4.36s\n",
      "62:\tlearn: 234.1007596\ttotal: 290ms\tremaining: 4.31s\n",
      "63:\tlearn: 232.4179971\ttotal: 293ms\tremaining: 4.28s\n",
      "64:\tlearn: 231.1643497\ttotal: 295ms\tremaining: 4.24s\n",
      "65:\tlearn: 229.6810852\ttotal: 297ms\tremaining: 4.2s\n",
      "66:\tlearn: 228.1714231\ttotal: 299ms\tremaining: 4.16s\n",
      "67:\tlearn: 226.9338286\ttotal: 301ms\tremaining: 4.12s\n",
      "68:\tlearn: 226.0780127\ttotal: 302ms\tremaining: 4.08s\n",
      "69:\tlearn: 224.6598569\ttotal: 304ms\tremaining: 4.04s\n",
      "70:\tlearn: 223.1110463\ttotal: 306ms\tremaining: 4s\n",
      "71:\tlearn: 221.6545694\ttotal: 309ms\tremaining: 3.98s\n",
      "72:\tlearn: 220.2670639\ttotal: 311ms\tremaining: 3.95s\n",
      "73:\tlearn: 218.9738032\ttotal: 313ms\tremaining: 3.92s\n",
      "74:\tlearn: 217.9247112\ttotal: 315ms\tremaining: 3.88s\n",
      "75:\tlearn: 216.9202490\ttotal: 316ms\tremaining: 3.85s\n",
      "76:\tlearn: 215.5989131\ttotal: 318ms\tremaining: 3.81s\n",
      "77:\tlearn: 214.3540917\ttotal: 320ms\tremaining: 3.78s\n",
      "78:\tlearn: 213.4575339\ttotal: 322ms\tremaining: 3.75s\n",
      "79:\tlearn: 212.1036261\ttotal: 324ms\tremaining: 3.73s\n",
      "80:\tlearn: 210.8030392\ttotal: 326ms\tremaining: 3.69s\n",
      "81:\tlearn: 209.5290460\ttotal: 327ms\tremaining: 3.66s\n",
      "82:\tlearn: 208.0255508\ttotal: 329ms\tremaining: 3.64s\n",
      "83:\tlearn: 206.9124270\ttotal: 331ms\tremaining: 3.61s\n",
      "84:\tlearn: 205.5903017\ttotal: 333ms\tremaining: 3.58s\n",
      "85:\tlearn: 204.6057051\ttotal: 335ms\tremaining: 3.56s\n",
      "86:\tlearn: 203.7128429\ttotal: 336ms\tremaining: 3.53s\n",
      "87:\tlearn: 202.7663836\ttotal: 341ms\tremaining: 3.53s\n",
      "88:\tlearn: 201.9026542\ttotal: 345ms\tremaining: 3.53s\n",
      "89:\tlearn: 200.7729520\ttotal: 347ms\tremaining: 3.51s\n",
      "90:\tlearn: 199.6909954\ttotal: 349ms\tremaining: 3.48s\n",
      "91:\tlearn: 198.6341430\ttotal: 351ms\tremaining: 3.46s\n",
      "92:\tlearn: 197.6117675\ttotal: 352ms\tremaining: 3.44s\n",
      "93:\tlearn: 196.5198483\ttotal: 357ms\tremaining: 3.44s\n",
      "94:\tlearn: 195.5443940\ttotal: 359ms\tremaining: 3.42s\n",
      "95:\tlearn: 194.4203970\ttotal: 362ms\tremaining: 3.4s\n",
      "96:\tlearn: 193.2677508\ttotal: 364ms\tremaining: 3.39s\n",
      "97:\tlearn: 192.1768427\ttotal: 366ms\tremaining: 3.37s\n",
      "98:\tlearn: 191.2356955\ttotal: 369ms\tremaining: 3.36s\n",
      "99:\tlearn: 189.9934546\ttotal: 371ms\tremaining: 3.34s\n",
      "100:\tlearn: 189.2719006\ttotal: 373ms\tremaining: 3.32s\n",
      "101:\tlearn: 188.1079321\ttotal: 375ms\tremaining: 3.31s\n",
      "102:\tlearn: 187.1211517\ttotal: 378ms\tremaining: 3.29s\n",
      "103:\tlearn: 185.9059118\ttotal: 380ms\tremaining: 3.27s\n",
      "104:\tlearn: 185.2620919\ttotal: 382ms\tremaining: 3.25s\n",
      "105:\tlearn: 184.4349037\ttotal: 385ms\tremaining: 3.25s\n",
      "106:\tlearn: 183.1846237\ttotal: 387ms\tremaining: 3.23s\n",
      "107:\tlearn: 182.1448077\ttotal: 389ms\tremaining: 3.21s\n",
      "108:\tlearn: 181.4787170\ttotal: 392ms\tremaining: 3.2s\n",
      "109:\tlearn: 180.6789032\ttotal: 394ms\tremaining: 3.18s\n",
      "110:\tlearn: 179.9122461\ttotal: 396ms\tremaining: 3.17s\n",
      "111:\tlearn: 178.9952892\ttotal: 399ms\tremaining: 3.16s\n",
      "112:\tlearn: 178.6013107\ttotal: 401ms\tremaining: 3.15s\n",
      "113:\tlearn: 177.7090692\ttotal: 403ms\tremaining: 3.13s\n",
      "114:\tlearn: 176.7404828\ttotal: 405ms\tremaining: 3.12s\n",
      "115:\tlearn: 176.0415402\ttotal: 411ms\tremaining: 3.13s\n",
      "116:\tlearn: 175.5315148\ttotal: 415ms\tremaining: 3.13s\n",
      "117:\tlearn: 174.8976738\ttotal: 418ms\tremaining: 3.12s\n",
      "118:\tlearn: 174.0530870\ttotal: 421ms\tremaining: 3.11s\n",
      "119:\tlearn: 173.0700181\ttotal: 423ms\tremaining: 3.1s\n",
      "120:\tlearn: 172.2832739\ttotal: 425ms\tremaining: 3.09s\n",
      "121:\tlearn: 171.4960220\ttotal: 427ms\tremaining: 3.07s\n",
      "122:\tlearn: 171.0402978\ttotal: 447ms\tremaining: 3.19s\n",
      "123:\tlearn: 170.7119169\ttotal: 450ms\tremaining: 3.18s\n",
      "124:\tlearn: 169.6907823\ttotal: 452ms\tremaining: 3.17s\n",
      "125:\tlearn: 169.2063700\ttotal: 456ms\tremaining: 3.16s\n",
      "126:\tlearn: 168.1597529\ttotal: 458ms\tremaining: 3.15s\n",
      "127:\tlearn: 167.3156403\ttotal: 462ms\tremaining: 3.15s\n",
      "128:\tlearn: 166.3187281\ttotal: 464ms\tremaining: 3.13s\n",
      "129:\tlearn: 166.1101656\ttotal: 467ms\tremaining: 3.12s\n",
      "130:\tlearn: 165.5420012\ttotal: 469ms\tremaining: 3.11s\n",
      "131:\tlearn: 164.6237022\ttotal: 471ms\tremaining: 3.1s\n",
      "132:\tlearn: 163.7646814\ttotal: 474ms\tremaining: 3.09s\n",
      "133:\tlearn: 163.3971858\ttotal: 477ms\tremaining: 3.08s\n",
      "134:\tlearn: 162.8775666\ttotal: 480ms\tremaining: 3.07s\n",
      "135:\tlearn: 162.3591190\ttotal: 481ms\tremaining: 3.06s\n",
      "136:\tlearn: 161.8515150\ttotal: 483ms\tremaining: 3.04s\n",
      "137:\tlearn: 161.2542226\ttotal: 484ms\tremaining: 3.02s\n",
      "138:\tlearn: 160.5899334\ttotal: 486ms\tremaining: 3.01s\n",
      "139:\tlearn: 159.6307999\ttotal: 488ms\tremaining: 3s\n",
      "140:\tlearn: 159.0055431\ttotal: 489ms\tremaining: 2.98s\n",
      "141:\tlearn: 158.2566894\ttotal: 492ms\tremaining: 2.97s\n",
      "142:\tlearn: 157.6496356\ttotal: 493ms\tremaining: 2.96s\n",
      "143:\tlearn: 157.1590393\ttotal: 495ms\tremaining: 2.94s\n",
      "144:\tlearn: 156.5730455\ttotal: 497ms\tremaining: 2.93s\n",
      "145:\tlearn: 155.8450985\ttotal: 498ms\tremaining: 2.91s\n",
      "146:\tlearn: 155.2439210\ttotal: 500ms\tremaining: 2.9s\n",
      "147:\tlearn: 154.9417796\ttotal: 502ms\tremaining: 2.89s\n",
      "148:\tlearn: 154.3763613\ttotal: 503ms\tremaining: 2.88s\n",
      "149:\tlearn: 153.9438757\ttotal: 506ms\tremaining: 2.87s\n",
      "150:\tlearn: 153.1854046\ttotal: 509ms\tremaining: 2.86s\n",
      "151:\tlearn: 152.8631442\ttotal: 512ms\tremaining: 2.86s\n",
      "152:\tlearn: 152.3115428\ttotal: 516ms\tremaining: 2.86s\n",
      "153:\tlearn: 151.8957029\ttotal: 518ms\tremaining: 2.85s\n",
      "154:\tlearn: 151.1871329\ttotal: 521ms\tremaining: 2.84s\n",
      "155:\tlearn: 150.6828564\ttotal: 523ms\tremaining: 2.83s\n",
      "156:\tlearn: 150.2509622\ttotal: 525ms\tremaining: 2.82s\n",
      "157:\tlearn: 149.6497659\ttotal: 527ms\tremaining: 2.81s\n",
      "158:\tlearn: 148.9332067\ttotal: 531ms\tremaining: 2.81s\n",
      "159:\tlearn: 148.7156418\ttotal: 535ms\tremaining: 2.81s\n",
      "160:\tlearn: 148.2737189\ttotal: 540ms\tremaining: 2.81s\n",
      "161:\tlearn: 147.9625721\ttotal: 542ms\tremaining: 2.8s\n",
      "162:\tlearn: 147.4564915\ttotal: 544ms\tremaining: 2.79s\n",
      "163:\tlearn: 146.8606991\ttotal: 547ms\tremaining: 2.79s\n",
      "164:\tlearn: 146.2386459\ttotal: 549ms\tremaining: 2.78s\n",
      "165:\tlearn: 145.7642228\ttotal: 551ms\tremaining: 2.77s\n",
      "166:\tlearn: 145.3792204\ttotal: 555ms\tremaining: 2.77s\n",
      "167:\tlearn: 145.0935465\ttotal: 557ms\tremaining: 2.76s\n",
      "168:\tlearn: 144.6976165\ttotal: 560ms\tremaining: 2.75s\n",
      "169:\tlearn: 143.9724403\ttotal: 562ms\tremaining: 2.74s\n",
      "170:\tlearn: 143.6449839\ttotal: 564ms\tremaining: 2.73s\n",
      "171:\tlearn: 143.1999180\ttotal: 566ms\tremaining: 2.73s\n",
      "172:\tlearn: 142.9381183\ttotal: 569ms\tremaining: 2.72s\n",
      "173:\tlearn: 142.3304601\ttotal: 572ms\tremaining: 2.71s\n",
      "174:\tlearn: 141.9229624\ttotal: 575ms\tremaining: 2.71s\n",
      "175:\tlearn: 141.4043903\ttotal: 577ms\tremaining: 2.7s\n",
      "176:\tlearn: 141.0209642\ttotal: 579ms\tremaining: 2.69s\n",
      "177:\tlearn: 140.4510865\ttotal: 581ms\tremaining: 2.68s\n",
      "178:\tlearn: 140.3441522\ttotal: 582ms\tremaining: 2.67s\n",
      "179:\tlearn: 139.8478562\ttotal: 586ms\tremaining: 2.67s\n",
      "180:\tlearn: 139.7464932\ttotal: 586ms\tremaining: 2.65s\n",
      "181:\tlearn: 139.2514614\ttotal: 588ms\tremaining: 2.64s\n",
      "182:\tlearn: 139.0274540\ttotal: 590ms\tremaining: 2.63s\n",
      "183:\tlearn: 138.4584181\ttotal: 592ms\tremaining: 2.62s\n",
      "184:\tlearn: 138.2093063\ttotal: 594ms\tremaining: 2.62s\n",
      "185:\tlearn: 137.8406250\ttotal: 595ms\tremaining: 2.6s\n",
      "186:\tlearn: 137.7280816\ttotal: 599ms\tremaining: 2.6s\n",
      "187:\tlearn: 137.2465993\ttotal: 601ms\tremaining: 2.6s\n",
      "188:\tlearn: 136.7894765\ttotal: 603ms\tremaining: 2.59s\n",
      "189:\tlearn: 136.4857311\ttotal: 605ms\tremaining: 2.58s\n",
      "190:\tlearn: 136.0043713\ttotal: 606ms\tremaining: 2.57s\n",
      "191:\tlearn: 135.7523177\ttotal: 608ms\tremaining: 2.56s\n",
      "192:\tlearn: 135.3372675\ttotal: 609ms\tremaining: 2.55s\n",
      "193:\tlearn: 135.0202084\ttotal: 611ms\tremaining: 2.54s\n",
      "194:\tlearn: 134.7757422\ttotal: 612ms\tremaining: 2.53s\n",
      "195:\tlearn: 134.3546545\ttotal: 615ms\tremaining: 2.52s\n",
      "196:\tlearn: 133.9623627\ttotal: 616ms\tremaining: 2.51s\n",
      "197:\tlearn: 133.2648869\ttotal: 618ms\tremaining: 2.5s\n",
      "198:\tlearn: 132.9318972\ttotal: 619ms\tremaining: 2.49s\n",
      "199:\tlearn: 132.5119098\ttotal: 621ms\tremaining: 2.48s\n",
      "200:\tlearn: 131.8954412\ttotal: 622ms\tremaining: 2.47s\n",
      "201:\tlearn: 131.6115557\ttotal: 624ms\tremaining: 2.46s\n",
      "202:\tlearn: 131.2095441\ttotal: 625ms\tremaining: 2.46s\n",
      "203:\tlearn: 130.6658729\ttotal: 627ms\tremaining: 2.45s\n",
      "204:\tlearn: 130.3457517\ttotal: 630ms\tremaining: 2.44s\n",
      "205:\tlearn: 130.0833818\ttotal: 631ms\tremaining: 2.43s\n",
      "206:\tlearn: 129.7238048\ttotal: 633ms\tremaining: 2.43s\n",
      "207:\tlearn: 129.0671906\ttotal: 636ms\tremaining: 2.42s\n",
      "208:\tlearn: 128.7683402\ttotal: 638ms\tremaining: 2.41s\n",
      "209:\tlearn: 128.5832593\ttotal: 640ms\tremaining: 2.41s\n",
      "210:\tlearn: 128.3749444\ttotal: 642ms\tremaining: 2.4s\n",
      "211:\tlearn: 128.1143221\ttotal: 644ms\tremaining: 2.39s\n",
      "212:\tlearn: 127.9897497\ttotal: 646ms\tremaining: 2.39s\n",
      "213:\tlearn: 127.6815659\ttotal: 648ms\tremaining: 2.38s\n",
      "214:\tlearn: 127.2006697\ttotal: 649ms\tremaining: 2.37s\n",
      "215:\tlearn: 127.0352179\ttotal: 651ms\tremaining: 2.36s\n",
      "216:\tlearn: 126.9617234\ttotal: 652ms\tremaining: 2.35s\n",
      "217:\tlearn: 126.7776328\ttotal: 654ms\tremaining: 2.34s\n",
      "218:\tlearn: 126.3802524\ttotal: 655ms\tremaining: 2.34s\n",
      "219:\tlearn: 126.1995377\ttotal: 657ms\tremaining: 2.33s\n",
      "220:\tlearn: 126.1155383\ttotal: 658ms\tremaining: 2.32s\n",
      "221:\tlearn: 125.9832799\ttotal: 661ms\tremaining: 2.31s\n",
      "222:\tlearn: 125.7495770\ttotal: 662ms\tremaining: 2.31s\n",
      "223:\tlearn: 125.2409845\ttotal: 664ms\tremaining: 2.3s\n",
      "224:\tlearn: 124.9538099\ttotal: 665ms\tremaining: 2.29s\n",
      "225:\tlearn: 124.7089151\ttotal: 667ms\tremaining: 2.28s\n",
      "226:\tlearn: 124.3984858\ttotal: 668ms\tremaining: 2.27s\n",
      "227:\tlearn: 124.0014588\ttotal: 670ms\tremaining: 2.27s\n",
      "228:\tlearn: 123.7139174\ttotal: 671ms\tremaining: 2.26s\n",
      "229:\tlearn: 123.6555034\ttotal: 672ms\tremaining: 2.25s\n",
      "230:\tlearn: 123.3398368\ttotal: 673ms\tremaining: 2.24s\n",
      "231:\tlearn: 122.7561150\ttotal: 676ms\tremaining: 2.24s\n",
      "232:\tlearn: 122.5676806\ttotal: 677ms\tremaining: 2.23s\n",
      "233:\tlearn: 122.1759040\ttotal: 679ms\tremaining: 2.22s\n",
      "234:\tlearn: 121.5761316\ttotal: 680ms\tremaining: 2.21s\n",
      "235:\tlearn: 121.3308579\ttotal: 681ms\tremaining: 2.21s\n",
      "236:\tlearn: 120.6316918\ttotal: 682ms\tremaining: 2.2s\n",
      "237:\tlearn: 120.0241441\ttotal: 686ms\tremaining: 2.2s\n",
      "238:\tlearn: 119.6974692\ttotal: 690ms\tremaining: 2.2s\n",
      "239:\tlearn: 119.5295579\ttotal: 693ms\tremaining: 2.19s\n",
      "240:\tlearn: 118.8105516\ttotal: 695ms\tremaining: 2.19s\n",
      "241:\tlearn: 118.5001438\ttotal: 698ms\tremaining: 2.19s\n",
      "242:\tlearn: 118.1525333\ttotal: 701ms\tremaining: 2.18s\n",
      "243:\tlearn: 117.8294708\ttotal: 703ms\tremaining: 2.18s\n",
      "244:\tlearn: 117.4650856\ttotal: 708ms\tremaining: 2.18s\n",
      "245:\tlearn: 117.2329146\ttotal: 710ms\tremaining: 2.17s\n",
      "246:\tlearn: 116.6281150\ttotal: 712ms\tremaining: 2.17s\n",
      "247:\tlearn: 116.4382173\ttotal: 714ms\tremaining: 2.17s\n",
      "248:\tlearn: 115.7804838\ttotal: 717ms\tremaining: 2.16s\n",
      "249:\tlearn: 115.4468389\ttotal: 719ms\tremaining: 2.16s\n",
      "250:\tlearn: 115.2535858\ttotal: 723ms\tremaining: 2.16s\n",
      "251:\tlearn: 115.0959725\ttotal: 725ms\tremaining: 2.15s\n",
      "252:\tlearn: 114.5054098\ttotal: 727ms\tremaining: 2.15s\n",
      "253:\tlearn: 114.2196805\ttotal: 730ms\tremaining: 2.14s\n",
      "254:\tlearn: 113.9389493\ttotal: 733ms\tremaining: 2.14s\n",
      "255:\tlearn: 113.8318782\ttotal: 737ms\tremaining: 2.14s\n",
      "256:\tlearn: 113.7010766\ttotal: 742ms\tremaining: 2.14s\n",
      "257:\tlearn: 113.5349213\ttotal: 746ms\tremaining: 2.15s\n",
      "258:\tlearn: 113.2939692\ttotal: 750ms\tremaining: 2.15s\n",
      "259:\tlearn: 112.8734855\ttotal: 756ms\tremaining: 2.15s\n",
      "260:\tlearn: 112.2073904\ttotal: 763ms\tremaining: 2.16s\n",
      "261:\tlearn: 111.7098455\ttotal: 765ms\tremaining: 2.15s\n",
      "262:\tlearn: 111.4861643\ttotal: 768ms\tremaining: 2.15s\n",
      "263:\tlearn: 111.4065123\ttotal: 771ms\tremaining: 2.15s\n",
      "264:\tlearn: 110.9193214\ttotal: 773ms\tremaining: 2.14s\n",
      "265:\tlearn: 110.2486713\ttotal: 775ms\tremaining: 2.14s\n",
      "266:\tlearn: 110.1718829\ttotal: 778ms\tremaining: 2.13s\n",
      "267:\tlearn: 109.8233102\ttotal: 780ms\tremaining: 2.13s\n",
      "268:\tlearn: 109.2576068\ttotal: 784ms\tremaining: 2.13s\n",
      "269:\tlearn: 109.1038965\ttotal: 786ms\tremaining: 2.13s\n",
      "270:\tlearn: 108.5183523\ttotal: 788ms\tremaining: 2.12s\n",
      "271:\tlearn: 108.4470954\ttotal: 790ms\tremaining: 2.11s\n",
      "272:\tlearn: 108.0259628\ttotal: 791ms\tremaining: 2.11s\n",
      "273:\tlearn: 107.5793316\ttotal: 793ms\tremaining: 2.1s\n",
      "274:\tlearn: 107.4747562\ttotal: 794ms\tremaining: 2.09s\n",
      "275:\tlearn: 107.4015080\ttotal: 796ms\tremaining: 2.09s\n",
      "276:\tlearn: 106.7954512\ttotal: 799ms\tremaining: 2.08s\n",
      "277:\tlearn: 106.3607188\ttotal: 801ms\tremaining: 2.08s\n",
      "278:\tlearn: 106.2892222\ttotal: 803ms\tremaining: 2.07s\n",
      "279:\tlearn: 106.1701389\ttotal: 805ms\tremaining: 2.07s\n",
      "280:\tlearn: 106.0889424\ttotal: 806ms\tremaining: 2.06s\n",
      "281:\tlearn: 105.8903610\ttotal: 808ms\tremaining: 2.06s\n",
      "282:\tlearn: 105.6531794\ttotal: 810ms\tremaining: 2.05s\n",
      "283:\tlearn: 105.3489666\ttotal: 812ms\tremaining: 2.05s\n",
      "284:\tlearn: 105.2156952\ttotal: 814ms\tremaining: 2.04s\n",
      "285:\tlearn: 104.7489850\ttotal: 815ms\tremaining: 2.04s\n",
      "286:\tlearn: 104.4701409\ttotal: 818ms\tremaining: 2.03s\n",
      "287:\tlearn: 104.3778769\ttotal: 819ms\tremaining: 2.02s\n",
      "288:\tlearn: 103.8224679\ttotal: 821ms\tremaining: 2.02s\n",
      "289:\tlearn: 103.2728523\ttotal: 823ms\tremaining: 2.01s\n",
      "290:\tlearn: 102.7341369\ttotal: 824ms\tremaining: 2.01s\n",
      "291:\tlearn: 102.5732242\ttotal: 826ms\tremaining: 2s\n",
      "292:\tlearn: 102.4869595\ttotal: 827ms\tremaining: 2s\n",
      "293:\tlearn: 101.9743362\ttotal: 830ms\tremaining: 1.99s\n",
      "294:\tlearn: 101.8782948\ttotal: 832ms\tremaining: 1.99s\n",
      "295:\tlearn: 101.3571512\ttotal: 834ms\tremaining: 1.98s\n",
      "296:\tlearn: 100.8372462\ttotal: 836ms\tremaining: 1.98s\n",
      "297:\tlearn: 100.6707783\ttotal: 838ms\tremaining: 1.97s\n",
      "298:\tlearn: 100.3215940\ttotal: 839ms\tremaining: 1.97s\n",
      "299:\tlearn: 99.8162460\ttotal: 842ms\tremaining: 1.96s\n",
      "300:\tlearn: 99.7024172\ttotal: 844ms\tremaining: 1.96s\n",
      "301:\tlearn: 99.2308832\ttotal: 846ms\tremaining: 1.95s\n",
      "302:\tlearn: 98.7981083\ttotal: 848ms\tremaining: 1.95s\n",
      "303:\tlearn: 98.6418362\ttotal: 850ms\tremaining: 1.95s\n",
      "304:\tlearn: 98.1248564\ttotal: 852ms\tremaining: 1.94s\n",
      "305:\tlearn: 97.9442581\ttotal: 854ms\tremaining: 1.94s\n",
      "306:\tlearn: 97.5091297\ttotal: 856ms\tremaining: 1.93s\n",
      "307:\tlearn: 97.0381695\ttotal: 860ms\tremaining: 1.93s\n",
      "308:\tlearn: 96.5858904\ttotal: 863ms\tremaining: 1.93s\n",
      "309:\tlearn: 96.4466124\ttotal: 865ms\tremaining: 1.92s\n",
      "310:\tlearn: 95.9786304\ttotal: 867ms\tremaining: 1.92s\n",
      "311:\tlearn: 95.5390501\ttotal: 869ms\tremaining: 1.92s\n",
      "312:\tlearn: 95.3241323\ttotal: 873ms\tremaining: 1.92s\n",
      "313:\tlearn: 95.1166839\ttotal: 877ms\tremaining: 1.92s\n",
      "314:\tlearn: 94.6729021\ttotal: 879ms\tremaining: 1.91s\n",
      "315:\tlearn: 94.2571678\ttotal: 882ms\tremaining: 1.91s\n",
      "316:\tlearn: 93.9414786\ttotal: 884ms\tremaining: 1.9s\n",
      "317:\tlearn: 93.7804159\ttotal: 886ms\tremaining: 1.9s\n",
      "318:\tlearn: 93.5413306\ttotal: 889ms\tremaining: 1.9s\n",
      "319:\tlearn: 93.4280107\ttotal: 891ms\tremaining: 1.89s\n",
      "320:\tlearn: 92.9986302\ttotal: 893ms\tremaining: 1.89s\n",
      "321:\tlearn: 92.9421610\ttotal: 895ms\tremaining: 1.88s\n",
      "322:\tlearn: 92.4662692\ttotal: 897ms\tremaining: 1.88s\n",
      "323:\tlearn: 92.0455485\ttotal: 899ms\tremaining: 1.88s\n",
      "324:\tlearn: 91.6664667\ttotal: 906ms\tremaining: 1.88s\n",
      "325:\tlearn: 91.5600717\ttotal: 909ms\tremaining: 1.88s\n",
      "326:\tlearn: 91.5004974\ttotal: 911ms\tremaining: 1.88s\n",
      "327:\tlearn: 91.0716355\ttotal: 913ms\tremaining: 1.87s\n",
      "328:\tlearn: 90.6376777\ttotal: 916ms\tremaining: 1.87s\n",
      "329:\tlearn: 90.2132341\ttotal: 918ms\tremaining: 1.86s\n",
      "330:\tlearn: 90.1525801\ttotal: 922ms\tremaining: 1.86s\n",
      "331:\tlearn: 89.7879501\ttotal: 927ms\tremaining: 1.86s\n",
      "332:\tlearn: 89.3626218\ttotal: 931ms\tremaining: 1.86s\n",
      "333:\tlearn: 89.1274526\ttotal: 938ms\tremaining: 1.87s\n",
      "334:\tlearn: 88.7222011\ttotal: 942ms\tremaining: 1.87s\n",
      "335:\tlearn: 88.5311901\ttotal: 945ms\tremaining: 1.87s\n",
      "336:\tlearn: 88.0699983\ttotal: 949ms\tremaining: 1.87s\n",
      "337:\tlearn: 87.6737037\ttotal: 954ms\tremaining: 1.87s\n",
      "338:\tlearn: 87.3069085\ttotal: 958ms\tremaining: 1.87s\n",
      "339:\tlearn: 86.8639700\ttotal: 962ms\tremaining: 1.87s\n",
      "340:\tlearn: 86.7339532\ttotal: 967ms\tremaining: 1.87s\n",
      "341:\tlearn: 86.5677333\ttotal: 977ms\tremaining: 1.88s\n",
      "342:\tlearn: 86.4361752\ttotal: 981ms\tremaining: 1.88s\n",
      "343:\tlearn: 86.2469458\ttotal: 986ms\tremaining: 1.88s\n",
      "344:\tlearn: 86.1967306\ttotal: 991ms\tremaining: 1.88s\n",
      "345:\tlearn: 86.0709863\ttotal: 994ms\tremaining: 1.88s\n",
      "346:\tlearn: 85.6398833\ttotal: 996ms\tremaining: 1.87s\n",
      "347:\tlearn: 85.5979263\ttotal: 1000ms\tremaining: 1.87s\n",
      "348:\tlearn: 85.4437261\ttotal: 1s\tremaining: 1.87s\n",
      "349:\tlearn: 85.0669752\ttotal: 1s\tremaining: 1.86s\n",
      "350:\tlearn: 85.0164116\ttotal: 1.01s\tremaining: 1.86s\n",
      "351:\tlearn: 84.6350071\ttotal: 1.01s\tremaining: 1.86s\n",
      "352:\tlearn: 84.1473245\ttotal: 1.01s\tremaining: 1.85s\n",
      "353:\tlearn: 83.8115391\ttotal: 1.01s\tremaining: 1.85s\n",
      "354:\tlearn: 83.4823620\ttotal: 1.01s\tremaining: 1.84s\n",
      "355:\tlearn: 83.1595406\ttotal: 1.02s\tremaining: 1.84s\n",
      "356:\tlearn: 82.7280745\ttotal: 1.02s\tremaining: 1.84s\n",
      "357:\tlearn: 82.6210086\ttotal: 1.02s\tremaining: 1.83s\n",
      "358:\tlearn: 82.3077194\ttotal: 1.02s\tremaining: 1.83s\n",
      "359:\tlearn: 81.9112073\ttotal: 1.03s\tremaining: 1.82s\n",
      "360:\tlearn: 81.5518193\ttotal: 1.03s\tremaining: 1.82s\n",
      "361:\tlearn: 81.4267033\ttotal: 1.03s\tremaining: 1.82s\n",
      "362:\tlearn: 81.0255982\ttotal: 1.04s\tremaining: 1.82s\n",
      "363:\tlearn: 80.6891175\ttotal: 1.04s\tremaining: 1.82s\n",
      "364:\tlearn: 80.4390711\ttotal: 1.05s\tremaining: 1.82s\n",
      "365:\tlearn: 80.1232319\ttotal: 1.05s\tremaining: 1.82s\n",
      "366:\tlearn: 80.0808756\ttotal: 1.05s\tremaining: 1.82s\n",
      "367:\tlearn: 79.7090424\ttotal: 1.06s\tremaining: 1.82s\n",
      "368:\tlearn: 79.3969152\ttotal: 1.06s\tremaining: 1.82s\n",
      "369:\tlearn: 79.0731259\ttotal: 1.07s\tremaining: 1.82s\n",
      "370:\tlearn: 78.9862934\ttotal: 1.07s\tremaining: 1.82s\n",
      "371:\tlearn: 78.7730476\ttotal: 1.08s\tremaining: 1.82s\n",
      "372:\tlearn: 78.6302158\ttotal: 1.08s\tremaining: 1.82s\n",
      "373:\tlearn: 78.5184111\ttotal: 1.08s\tremaining: 1.81s\n",
      "374:\tlearn: 78.3814955\ttotal: 1.09s\tremaining: 1.81s\n",
      "375:\tlearn: 77.9622261\ttotal: 1.09s\tremaining: 1.81s\n",
      "376:\tlearn: 77.8601787\ttotal: 1.09s\tremaining: 1.8s\n",
      "377:\tlearn: 77.7650898\ttotal: 1.09s\tremaining: 1.8s\n",
      "378:\tlearn: 77.3945927\ttotal: 1.1s\tremaining: 1.8s\n",
      "379:\tlearn: 77.3348237\ttotal: 1.1s\tremaining: 1.79s\n",
      "380:\tlearn: 77.2431856\ttotal: 1.1s\tremaining: 1.79s\n",
      "381:\tlearn: 76.9192891\ttotal: 1.1s\tremaining: 1.79s\n",
      "382:\tlearn: 76.7949544\ttotal: 1.11s\tremaining: 1.78s\n",
      "383:\tlearn: 76.5217530\ttotal: 1.11s\tremaining: 1.78s\n",
      "384:\tlearn: 76.1648512\ttotal: 1.11s\tremaining: 1.78s\n",
      "385:\tlearn: 75.9867656\ttotal: 1.11s\tremaining: 1.77s\n",
      "386:\tlearn: 75.7293435\ttotal: 1.12s\tremaining: 1.77s\n",
      "387:\tlearn: 75.6419805\ttotal: 1.12s\tremaining: 1.76s\n",
      "388:\tlearn: 75.3138222\ttotal: 1.12s\tremaining: 1.76s\n",
      "389:\tlearn: 75.0125736\ttotal: 1.12s\tremaining: 1.75s\n",
      "390:\tlearn: 74.9803725\ttotal: 1.12s\tremaining: 1.75s\n",
      "391:\tlearn: 74.6113970\ttotal: 1.13s\tremaining: 1.75s\n",
      "392:\tlearn: 74.3668766\ttotal: 1.13s\tremaining: 1.74s\n",
      "393:\tlearn: 74.2752147\ttotal: 1.13s\tremaining: 1.74s\n",
      "394:\tlearn: 74.2172412\ttotal: 1.13s\tremaining: 1.73s\n",
      "395:\tlearn: 73.8652110\ttotal: 1.13s\tremaining: 1.73s\n",
      "396:\tlearn: 73.6963645\ttotal: 1.14s\tremaining: 1.73s\n",
      "397:\tlearn: 73.4075086\ttotal: 1.14s\tremaining: 1.72s\n",
      "398:\tlearn: 73.0346771\ttotal: 1.14s\tremaining: 1.72s\n",
      "399:\tlearn: 72.9971586\ttotal: 1.14s\tremaining: 1.72s\n",
      "400:\tlearn: 72.6755493\ttotal: 1.15s\tremaining: 1.71s\n",
      "401:\tlearn: 72.5972282\ttotal: 1.15s\tremaining: 1.71s\n",
      "402:\tlearn: 72.4345974\ttotal: 1.15s\tremaining: 1.7s\n",
      "403:\tlearn: 72.2185716\ttotal: 1.15s\tremaining: 1.7s\n",
      "404:\tlearn: 71.9251032\ttotal: 1.15s\tremaining: 1.69s\n",
      "405:\tlearn: 71.8901544\ttotal: 1.16s\tremaining: 1.69s\n",
      "406:\tlearn: 71.5338422\ttotal: 1.16s\tremaining: 1.69s\n",
      "407:\tlearn: 71.4477827\ttotal: 1.16s\tremaining: 1.68s\n",
      "408:\tlearn: 71.4127550\ttotal: 1.16s\tremaining: 1.68s\n",
      "409:\tlearn: 71.3322454\ttotal: 1.16s\tremaining: 1.67s\n",
      "410:\tlearn: 71.2981804\ttotal: 1.17s\tremaining: 1.67s\n",
      "411:\tlearn: 71.0089173\ttotal: 1.17s\tremaining: 1.67s\n",
      "412:\tlearn: 70.7854493\ttotal: 1.17s\tremaining: 1.66s\n",
      "413:\tlearn: 70.4930103\ttotal: 1.17s\tremaining: 1.66s\n",
      "414:\tlearn: 70.1976578\ttotal: 1.17s\tremaining: 1.65s\n",
      "415:\tlearn: 69.9565552\ttotal: 1.17s\tremaining: 1.65s\n",
      "416:\tlearn: 69.8912103\ttotal: 1.18s\tremaining: 1.64s\n",
      "417:\tlearn: 69.7356706\ttotal: 1.18s\tremaining: 1.64s\n",
      "418:\tlearn: 69.6634412\ttotal: 1.18s\tremaining: 1.64s\n",
      "419:\tlearn: 69.2943609\ttotal: 1.18s\tremaining: 1.63s\n",
      "420:\tlearn: 69.0269983\ttotal: 1.18s\tremaining: 1.63s\n",
      "421:\tlearn: 68.8653561\ttotal: 1.19s\tremaining: 1.62s\n",
      "422:\tlearn: 68.6555281\ttotal: 1.19s\tremaining: 1.62s\n",
      "423:\tlearn: 68.2338294\ttotal: 1.19s\tremaining: 1.61s\n",
      "424:\tlearn: 68.0909898\ttotal: 1.19s\tremaining: 1.61s\n",
      "425:\tlearn: 67.7905722\ttotal: 1.19s\tremaining: 1.61s\n",
      "426:\tlearn: 67.5586853\ttotal: 1.2s\tremaining: 1.6s\n",
      "427:\tlearn: 67.3518839\ttotal: 1.2s\tremaining: 1.6s\n",
      "428:\tlearn: 67.2029794\ttotal: 1.2s\tremaining: 1.6s\n",
      "429:\tlearn: 66.9467892\ttotal: 1.2s\tremaining: 1.59s\n",
      "430:\tlearn: 66.7821891\ttotal: 1.2s\tremaining: 1.59s\n",
      "431:\tlearn: 66.4955741\ttotal: 1.21s\tremaining: 1.58s\n",
      "432:\tlearn: 66.2240359\ttotal: 1.21s\tremaining: 1.58s\n",
      "433:\tlearn: 65.9832136\ttotal: 1.21s\tremaining: 1.58s\n",
      "434:\tlearn: 65.7761577\ttotal: 1.21s\tremaining: 1.57s\n",
      "435:\tlearn: 65.4845025\ttotal: 1.21s\tremaining: 1.57s\n",
      "436:\tlearn: 65.4215937\ttotal: 1.22s\tremaining: 1.57s\n",
      "437:\tlearn: 65.1768197\ttotal: 1.22s\tremaining: 1.56s\n",
      "438:\tlearn: 65.1071642\ttotal: 1.22s\tremaining: 1.56s\n",
      "439:\tlearn: 65.0705857\ttotal: 1.22s\tremaining: 1.56s\n",
      "440:\tlearn: 64.7782864\ttotal: 1.23s\tremaining: 1.55s\n",
      "441:\tlearn: 64.5284944\ttotal: 1.23s\tremaining: 1.55s\n",
      "442:\tlearn: 64.3504433\ttotal: 1.23s\tremaining: 1.55s\n",
      "443:\tlearn: 64.3001112\ttotal: 1.23s\tremaining: 1.54s\n",
      "444:\tlearn: 63.9063758\ttotal: 1.24s\tremaining: 1.54s\n",
      "445:\tlearn: 63.8746707\ttotal: 1.24s\tremaining: 1.54s\n",
      "446:\tlearn: 63.5487944\ttotal: 1.24s\tremaining: 1.53s\n",
      "447:\tlearn: 63.3406893\ttotal: 1.24s\tremaining: 1.53s\n",
      "448:\tlearn: 63.0992921\ttotal: 1.24s\tremaining: 1.53s\n",
      "449:\tlearn: 62.8676535\ttotal: 1.25s\tremaining: 1.52s\n",
      "450:\tlearn: 62.6978975\ttotal: 1.25s\tremaining: 1.52s\n",
      "451:\tlearn: 62.4888356\ttotal: 1.25s\tremaining: 1.52s\n",
      "452:\tlearn: 62.4591033\ttotal: 1.25s\tremaining: 1.51s\n",
      "453:\tlearn: 62.3981355\ttotal: 1.26s\tremaining: 1.51s\n",
      "454:\tlearn: 62.2755114\ttotal: 1.26s\tremaining: 1.51s\n",
      "455:\tlearn: 62.0286915\ttotal: 1.26s\tremaining: 1.5s\n",
      "456:\tlearn: 61.8101493\ttotal: 1.26s\tremaining: 1.5s\n",
      "457:\tlearn: 61.7125436\ttotal: 1.27s\tremaining: 1.5s\n",
      "458:\tlearn: 61.3464743\ttotal: 1.27s\tremaining: 1.5s\n",
      "459:\tlearn: 61.0777407\ttotal: 1.27s\tremaining: 1.5s\n",
      "460:\tlearn: 60.7354015\ttotal: 1.27s\tremaining: 1.49s\n",
      "461:\tlearn: 60.7070785\ttotal: 1.28s\tremaining: 1.49s\n",
      "462:\tlearn: 60.4380726\ttotal: 1.28s\tremaining: 1.49s\n",
      "463:\tlearn: 60.3794644\ttotal: 1.28s\tremaining: 1.48s\n",
      "464:\tlearn: 60.3096146\ttotal: 1.28s\tremaining: 1.48s\n",
      "465:\tlearn: 60.2803998\ttotal: 1.29s\tremaining: 1.47s\n",
      "466:\tlearn: 60.2489158\ttotal: 1.29s\tremaining: 1.47s\n",
      "467:\tlearn: 60.2187601\ttotal: 1.29s\tremaining: 1.47s\n",
      "468:\tlearn: 59.9901529\ttotal: 1.29s\tremaining: 1.46s\n",
      "469:\tlearn: 59.7821357\ttotal: 1.29s\tremaining: 1.46s\n",
      "470:\tlearn: 59.7334527\ttotal: 1.29s\tremaining: 1.45s\n",
      "471:\tlearn: 59.4989600\ttotal: 1.29s\tremaining: 1.45s\n",
      "472:\tlearn: 59.1865219\ttotal: 1.3s\tremaining: 1.45s\n",
      "473:\tlearn: 58.9478658\ttotal: 1.3s\tremaining: 1.44s\n",
      "474:\tlearn: 58.6836425\ttotal: 1.3s\tremaining: 1.44s\n",
      "475:\tlearn: 58.6522637\ttotal: 1.3s\tremaining: 1.44s\n",
      "476:\tlearn: 58.5963542\ttotal: 1.3s\tremaining: 1.43s\n",
      "477:\tlearn: 58.3648296\ttotal: 1.31s\tremaining: 1.43s\n",
      "478:\tlearn: 58.3188915\ttotal: 1.31s\tremaining: 1.42s\n",
      "479:\tlearn: 58.1813689\ttotal: 1.31s\tremaining: 1.42s\n",
      "480:\tlearn: 57.9437076\ttotal: 1.31s\tremaining: 1.42s\n",
      "481:\tlearn: 57.7694232\ttotal: 1.32s\tremaining: 1.42s\n",
      "482:\tlearn: 57.7437082\ttotal: 1.32s\tremaining: 1.41s\n",
      "483:\tlearn: 57.5081532\ttotal: 1.32s\tremaining: 1.41s\n",
      "484:\tlearn: 57.2134650\ttotal: 1.32s\tremaining: 1.4s\n",
      "485:\tlearn: 56.9733344\ttotal: 1.32s\tremaining: 1.4s\n",
      "486:\tlearn: 56.9412760\ttotal: 1.33s\tremaining: 1.4s\n",
      "487:\tlearn: 56.8640335\ttotal: 1.33s\tremaining: 1.4s\n",
      "488:\tlearn: 56.5624625\ttotal: 1.33s\tremaining: 1.39s\n",
      "489:\tlearn: 56.4986179\ttotal: 1.34s\tremaining: 1.39s\n",
      "490:\tlearn: 56.3527490\ttotal: 1.34s\tremaining: 1.39s\n",
      "491:\tlearn: 56.0961642\ttotal: 1.34s\tremaining: 1.38s\n",
      "492:\tlearn: 55.8256120\ttotal: 1.34s\tremaining: 1.38s\n",
      "493:\tlearn: 55.6150160\ttotal: 1.35s\tremaining: 1.38s\n",
      "494:\tlearn: 55.5631279\ttotal: 1.35s\tremaining: 1.38s\n",
      "495:\tlearn: 55.3736400\ttotal: 1.35s\tremaining: 1.37s\n",
      "496:\tlearn: 55.3441677\ttotal: 1.35s\tremaining: 1.37s\n",
      "497:\tlearn: 55.1995384\ttotal: 1.35s\tremaining: 1.36s\n",
      "498:\tlearn: 54.8980322\ttotal: 1.36s\tremaining: 1.36s\n",
      "499:\tlearn: 54.7119603\ttotal: 1.36s\tremaining: 1.36s\n",
      "500:\tlearn: 54.6236591\ttotal: 1.36s\tremaining: 1.36s\n",
      "501:\tlearn: 54.4131558\ttotal: 1.36s\tremaining: 1.35s\n",
      "502:\tlearn: 54.3901230\ttotal: 1.37s\tremaining: 1.35s\n",
      "503:\tlearn: 54.3662021\ttotal: 1.37s\tremaining: 1.35s\n",
      "504:\tlearn: 54.2068745\ttotal: 1.37s\tremaining: 1.34s\n",
      "505:\tlearn: 54.1800600\ttotal: 1.38s\tremaining: 1.34s\n",
      "506:\tlearn: 54.1376632\ttotal: 1.38s\tremaining: 1.34s\n",
      "507:\tlearn: 53.9788342\ttotal: 1.38s\tremaining: 1.33s\n",
      "508:\tlearn: 53.9294324\ttotal: 1.38s\tremaining: 1.33s\n",
      "509:\tlearn: 53.6786369\ttotal: 1.38s\tremaining: 1.33s\n",
      "510:\tlearn: 53.4578789\ttotal: 1.38s\tremaining: 1.32s\n",
      "511:\tlearn: 53.3261204\ttotal: 1.39s\tremaining: 1.32s\n",
      "512:\tlearn: 53.1331329\ttotal: 1.39s\tremaining: 1.32s\n",
      "513:\tlearn: 52.9261288\ttotal: 1.39s\tremaining: 1.31s\n",
      "514:\tlearn: 52.7447311\ttotal: 1.39s\tremaining: 1.31s\n",
      "515:\tlearn: 52.5966869\ttotal: 1.39s\tremaining: 1.31s\n",
      "516:\tlearn: 52.4130565\ttotal: 1.39s\tremaining: 1.3s\n",
      "517:\tlearn: 52.1948654\ttotal: 1.4s\tremaining: 1.3s\n",
      "518:\tlearn: 51.9463802\ttotal: 1.4s\tremaining: 1.29s\n",
      "519:\tlearn: 51.9178306\ttotal: 1.4s\tremaining: 1.29s\n",
      "520:\tlearn: 51.7246141\ttotal: 1.4s\tremaining: 1.29s\n",
      "521:\tlearn: 51.5669648\ttotal: 1.4s\tremaining: 1.28s\n",
      "522:\tlearn: 51.5221972\ttotal: 1.41s\tremaining: 1.28s\n",
      "523:\tlearn: 51.3293697\ttotal: 1.41s\tremaining: 1.28s\n",
      "524:\tlearn: 51.1767477\ttotal: 1.41s\tremaining: 1.27s\n",
      "525:\tlearn: 51.0961343\ttotal: 1.41s\tremaining: 1.27s\n",
      "526:\tlearn: 50.9995340\ttotal: 1.41s\tremaining: 1.27s\n",
      "527:\tlearn: 50.8846082\ttotal: 1.41s\tremaining: 1.26s\n",
      "528:\tlearn: 50.7478794\ttotal: 1.42s\tremaining: 1.26s\n",
      "529:\tlearn: 50.5116322\ttotal: 1.42s\tremaining: 1.26s\n",
      "530:\tlearn: 50.2760468\ttotal: 1.42s\tremaining: 1.25s\n",
      "531:\tlearn: 50.1040144\ttotal: 1.42s\tremaining: 1.25s\n",
      "532:\tlearn: 49.8827812\ttotal: 1.42s\tremaining: 1.25s\n",
      "533:\tlearn: 49.8255711\ttotal: 1.43s\tremaining: 1.24s\n",
      "534:\tlearn: 49.7890438\ttotal: 1.43s\tremaining: 1.24s\n",
      "535:\tlearn: 49.6290340\ttotal: 1.43s\tremaining: 1.24s\n",
      "536:\tlearn: 49.3965889\ttotal: 1.43s\tremaining: 1.24s\n",
      "537:\tlearn: 49.1641285\ttotal: 1.45s\tremaining: 1.24s\n",
      "538:\tlearn: 48.9654180\ttotal: 1.45s\tremaining: 1.24s\n",
      "539:\tlearn: 48.9278341\ttotal: 1.45s\tremaining: 1.24s\n",
      "540:\tlearn: 48.8457405\ttotal: 1.46s\tremaining: 1.24s\n",
      "541:\tlearn: 48.8041804\ttotal: 1.46s\tremaining: 1.23s\n",
      "542:\tlearn: 48.7179291\ttotal: 1.46s\tremaining: 1.23s\n",
      "543:\tlearn: 48.6759771\ttotal: 1.46s\tremaining: 1.23s\n",
      "544:\tlearn: 48.4792967\ttotal: 1.47s\tremaining: 1.22s\n",
      "545:\tlearn: 48.3843114\ttotal: 1.47s\tremaining: 1.22s\n",
      "546:\tlearn: 48.2453957\ttotal: 1.47s\tremaining: 1.22s\n",
      "547:\tlearn: 48.0231685\ttotal: 1.47s\tremaining: 1.22s\n",
      "548:\tlearn: 47.8612203\ttotal: 1.48s\tremaining: 1.21s\n",
      "549:\tlearn: 47.7590091\ttotal: 1.48s\tremaining: 1.21s\n",
      "550:\tlearn: 47.6561968\ttotal: 1.48s\tremaining: 1.21s\n",
      "551:\tlearn: 47.4106594\ttotal: 1.48s\tremaining: 1.2s\n",
      "552:\tlearn: 47.2194456\ttotal: 1.49s\tremaining: 1.2s\n",
      "553:\tlearn: 47.0783850\ttotal: 1.49s\tremaining: 1.2s\n",
      "554:\tlearn: 46.8215038\ttotal: 1.49s\tremaining: 1.19s\n",
      "555:\tlearn: 46.6674572\ttotal: 1.49s\tremaining: 1.19s\n",
      "556:\tlearn: 46.6418726\ttotal: 1.5s\tremaining: 1.19s\n",
      "557:\tlearn: 46.5248666\ttotal: 1.5s\tremaining: 1.19s\n",
      "558:\tlearn: 46.5061320\ttotal: 1.5s\tremaining: 1.18s\n",
      "559:\tlearn: 46.4397708\ttotal: 1.5s\tremaining: 1.18s\n",
      "560:\tlearn: 46.3904442\ttotal: 1.51s\tremaining: 1.18s\n",
      "561:\tlearn: 46.2576989\ttotal: 1.51s\tremaining: 1.18s\n",
      "562:\tlearn: 45.9568721\ttotal: 1.51s\tremaining: 1.17s\n",
      "563:\tlearn: 45.8482033\ttotal: 1.51s\tremaining: 1.17s\n",
      "564:\tlearn: 45.6689466\ttotal: 1.52s\tremaining: 1.17s\n",
      "565:\tlearn: 45.4222796\ttotal: 1.52s\tremaining: 1.17s\n",
      "566:\tlearn: 45.2404146\ttotal: 1.52s\tremaining: 1.16s\n",
      "567:\tlearn: 45.0903054\ttotal: 1.53s\tremaining: 1.16s\n",
      "568:\tlearn: 44.7991969\ttotal: 1.53s\tremaining: 1.16s\n",
      "569:\tlearn: 44.6413756\ttotal: 1.53s\tremaining: 1.16s\n",
      "570:\tlearn: 44.5799550\ttotal: 1.53s\tremaining: 1.15s\n",
      "571:\tlearn: 44.5651506\ttotal: 1.53s\tremaining: 1.15s\n",
      "572:\tlearn: 44.4233165\ttotal: 1.54s\tremaining: 1.15s\n",
      "573:\tlearn: 44.2369747\ttotal: 1.54s\tremaining: 1.15s\n",
      "574:\tlearn: 44.0545664\ttotal: 1.55s\tremaining: 1.15s\n",
      "575:\tlearn: 43.9004385\ttotal: 1.55s\tremaining: 1.14s\n",
      "576:\tlearn: 43.7138119\ttotal: 1.56s\tremaining: 1.14s\n",
      "577:\tlearn: 43.5755556\ttotal: 1.56s\tremaining: 1.14s\n",
      "578:\tlearn: 43.4934072\ttotal: 1.56s\tremaining: 1.14s\n",
      "579:\tlearn: 43.4629843\ttotal: 1.56s\tremaining: 1.13s\n",
      "580:\tlearn: 43.3825129\ttotal: 1.57s\tremaining: 1.13s\n",
      "581:\tlearn: 43.2549166\ttotal: 1.57s\tremaining: 1.13s\n",
      "582:\tlearn: 43.1514800\ttotal: 1.57s\tremaining: 1.12s\n",
      "583:\tlearn: 42.9846414\ttotal: 1.57s\tremaining: 1.12s\n",
      "584:\tlearn: 42.8538804\ttotal: 1.57s\tremaining: 1.12s\n",
      "585:\tlearn: 42.7710806\ttotal: 1.58s\tremaining: 1.11s\n",
      "586:\tlearn: 42.5351412\ttotal: 1.58s\tremaining: 1.11s\n",
      "587:\tlearn: 42.4784055\ttotal: 1.58s\tremaining: 1.11s\n",
      "588:\tlearn: 42.3174788\ttotal: 1.59s\tremaining: 1.11s\n",
      "589:\tlearn: 42.1761529\ttotal: 1.59s\tremaining: 1.11s\n",
      "590:\tlearn: 42.0486059\ttotal: 1.6s\tremaining: 1.1s\n",
      "591:\tlearn: 41.8689529\ttotal: 1.6s\tremaining: 1.1s\n",
      "592:\tlearn: 41.8306286\ttotal: 1.61s\tremaining: 1.1s\n",
      "593:\tlearn: 41.6966124\ttotal: 1.61s\tremaining: 1.1s\n",
      "594:\tlearn: 41.6647082\ttotal: 1.62s\tremaining: 1.1s\n",
      "595:\tlearn: 41.5609917\ttotal: 1.63s\tremaining: 1.1s\n",
      "596:\tlearn: 41.4632566\ttotal: 1.63s\tremaining: 1.1s\n",
      "597:\tlearn: 41.3899602\ttotal: 1.64s\tremaining: 1.1s\n",
      "598:\tlearn: 41.2152047\ttotal: 1.64s\tremaining: 1.1s\n",
      "599:\tlearn: 41.0959753\ttotal: 1.65s\tremaining: 1.1s\n",
      "600:\tlearn: 40.9815009\ttotal: 1.65s\tremaining: 1.1s\n",
      "601:\tlearn: 40.8912971\ttotal: 1.66s\tremaining: 1.1s\n",
      "602:\tlearn: 40.7881395\ttotal: 1.66s\tremaining: 1.09s\n",
      "603:\tlearn: 40.6325570\ttotal: 1.67s\tremaining: 1.09s\n",
      "604:\tlearn: 40.4083902\ttotal: 1.67s\tremaining: 1.09s\n",
      "605:\tlearn: 40.3292737\ttotal: 1.67s\tremaining: 1.09s\n",
      "606:\tlearn: 40.2629492\ttotal: 1.68s\tremaining: 1.09s\n",
      "607:\tlearn: 40.2448471\ttotal: 1.68s\tremaining: 1.08s\n",
      "608:\tlearn: 40.2293673\ttotal: 1.68s\tremaining: 1.08s\n",
      "609:\tlearn: 40.0978829\ttotal: 1.69s\tremaining: 1.08s\n",
      "610:\tlearn: 40.0512268\ttotal: 1.69s\tremaining: 1.08s\n",
      "611:\tlearn: 39.8920221\ttotal: 1.7s\tremaining: 1.07s\n",
      "612:\tlearn: 39.8591122\ttotal: 1.7s\tremaining: 1.07s\n",
      "613:\tlearn: 39.7261911\ttotal: 1.7s\tremaining: 1.07s\n",
      "614:\tlearn: 39.6986628\ttotal: 1.7s\tremaining: 1.07s\n",
      "615:\tlearn: 39.5659851\ttotal: 1.71s\tremaining: 1.06s\n",
      "616:\tlearn: 39.4815274\ttotal: 1.72s\tremaining: 1.06s\n",
      "617:\tlearn: 39.3682607\ttotal: 1.73s\tremaining: 1.07s\n",
      "618:\tlearn: 39.2643803\ttotal: 1.73s\tremaining: 1.07s\n",
      "619:\tlearn: 39.1307437\ttotal: 1.74s\tremaining: 1.07s\n",
      "620:\tlearn: 38.9596117\ttotal: 1.74s\tremaining: 1.06s\n",
      "621:\tlearn: 38.8456302\ttotal: 1.75s\tremaining: 1.06s\n",
      "622:\tlearn: 38.7810676\ttotal: 1.75s\tremaining: 1.06s\n",
      "623:\tlearn: 38.7450983\ttotal: 1.75s\tremaining: 1.06s\n",
      "624:\tlearn: 38.6788090\ttotal: 1.76s\tremaining: 1.05s\n",
      "625:\tlearn: 38.5788475\ttotal: 1.76s\tremaining: 1.05s\n",
      "626:\tlearn: 38.4675366\ttotal: 1.76s\tremaining: 1.05s\n",
      "627:\tlearn: 38.2350724\ttotal: 1.77s\tremaining: 1.05s\n",
      "628:\tlearn: 38.2074221\ttotal: 1.77s\tremaining: 1.05s\n",
      "629:\tlearn: 38.0622880\ttotal: 1.78s\tremaining: 1.04s\n",
      "630:\tlearn: 37.8520281\ttotal: 1.78s\tremaining: 1.04s\n",
      "631:\tlearn: 37.6631204\ttotal: 1.78s\tremaining: 1.04s\n",
      "632:\tlearn: 37.5153877\ttotal: 1.78s\tremaining: 1.03s\n",
      "633:\tlearn: 37.3834892\ttotal: 1.79s\tremaining: 1.03s\n",
      "634:\tlearn: 37.2552166\ttotal: 1.79s\tremaining: 1.03s\n",
      "635:\tlearn: 37.0779047\ttotal: 1.79s\tremaining: 1.02s\n",
      "636:\tlearn: 37.0329263\ttotal: 1.79s\tremaining: 1.02s\n",
      "637:\tlearn: 36.8927982\ttotal: 1.8s\tremaining: 1.02s\n",
      "638:\tlearn: 36.8105498\ttotal: 1.8s\tremaining: 1.02s\n",
      "639:\tlearn: 36.7512624\ttotal: 1.8s\tremaining: 1.01s\n",
      "640:\tlearn: 36.5891302\ttotal: 1.81s\tremaining: 1.01s\n",
      "641:\tlearn: 36.4551656\ttotal: 1.81s\tremaining: 1.01s\n",
      "642:\tlearn: 36.4318588\ttotal: 1.82s\tremaining: 1.01s\n",
      "643:\tlearn: 36.4074785\ttotal: 1.82s\tremaining: 1.01s\n",
      "644:\tlearn: 36.2579510\ttotal: 1.82s\tremaining: 1s\n",
      "645:\tlearn: 36.1413504\ttotal: 1.82s\tremaining: 1s\n",
      "646:\tlearn: 36.0078406\ttotal: 1.83s\tremaining: 999ms\n",
      "647:\tlearn: 35.8909828\ttotal: 1.83s\tremaining: 996ms\n",
      "648:\tlearn: 35.7426906\ttotal: 1.84s\tremaining: 993ms\n",
      "649:\tlearn: 35.5963108\ttotal: 1.84s\tremaining: 990ms\n",
      "650:\tlearn: 35.4623805\ttotal: 1.84s\tremaining: 988ms\n",
      "651:\tlearn: 35.4428004\ttotal: 1.85s\tremaining: 987ms\n",
      "652:\tlearn: 35.3007158\ttotal: 1.85s\tremaining: 984ms\n",
      "653:\tlearn: 35.1510309\ttotal: 1.85s\tremaining: 981ms\n",
      "654:\tlearn: 35.1258328\ttotal: 1.87s\tremaining: 986ms\n",
      "655:\tlearn: 35.0183795\ttotal: 1.87s\tremaining: 983ms\n",
      "656:\tlearn: 34.9003271\ttotal: 1.88s\tremaining: 981ms\n",
      "657:\tlearn: 34.7887445\ttotal: 1.88s\tremaining: 978ms\n",
      "658:\tlearn: 34.6253676\ttotal: 1.89s\tremaining: 976ms\n",
      "659:\tlearn: 34.5506116\ttotal: 1.89s\tremaining: 973ms\n",
      "660:\tlearn: 34.4197699\ttotal: 1.89s\tremaining: 970ms\n",
      "661:\tlearn: 34.3097495\ttotal: 1.9s\tremaining: 968ms\n",
      "662:\tlearn: 34.1572027\ttotal: 1.9s\tremaining: 965ms\n",
      "663:\tlearn: 34.1441284\ttotal: 1.9s\tremaining: 962ms\n",
      "664:\tlearn: 34.0600732\ttotal: 1.9s\tremaining: 959ms\n",
      "665:\tlearn: 34.0500587\ttotal: 1.91s\tremaining: 956ms\n",
      "666:\tlearn: 33.9193340\ttotal: 1.91s\tremaining: 954ms\n",
      "667:\tlearn: 33.7564013\ttotal: 1.91s\tremaining: 951ms\n",
      "668:\tlearn: 33.6528749\ttotal: 1.92s\tremaining: 948ms\n",
      "669:\tlearn: 33.5681199\ttotal: 1.92s\tremaining: 945ms\n",
      "670:\tlearn: 33.4451433\ttotal: 1.92s\tremaining: 941ms\n",
      "671:\tlearn: 33.3468901\ttotal: 1.93s\tremaining: 943ms\n",
      "672:\tlearn: 33.2486282\ttotal: 1.94s\tremaining: 940ms\n",
      "673:\tlearn: 33.2302888\ttotal: 1.94s\tremaining: 939ms\n",
      "674:\tlearn: 33.0558859\ttotal: 1.94s\tremaining: 935ms\n",
      "675:\tlearn: 32.9700344\ttotal: 1.94s\tremaining: 932ms\n",
      "676:\tlearn: 32.8501642\ttotal: 1.95s\tremaining: 930ms\n",
      "677:\tlearn: 32.7340426\ttotal: 1.96s\tremaining: 929ms\n",
      "678:\tlearn: 32.7121017\ttotal: 1.96s\tremaining: 926ms\n",
      "679:\tlearn: 32.6200569\ttotal: 1.96s\tremaining: 923ms\n",
      "680:\tlearn: 32.5052371\ttotal: 1.96s\tremaining: 920ms\n",
      "681:\tlearn: 32.3916969\ttotal: 1.97s\tremaining: 917ms\n",
      "682:\tlearn: 32.2925704\ttotal: 1.97s\tremaining: 915ms\n",
      "683:\tlearn: 32.1901836\ttotal: 1.97s\tremaining: 911ms\n",
      "684:\tlearn: 32.1810795\ttotal: 1.97s\tremaining: 908ms\n",
      "685:\tlearn: 32.0538798\ttotal: 1.98s\tremaining: 905ms\n",
      "686:\tlearn: 31.9695880\ttotal: 1.98s\tremaining: 902ms\n",
      "687:\tlearn: 31.8186240\ttotal: 1.98s\tremaining: 899ms\n",
      "688:\tlearn: 31.7717776\ttotal: 1.98s\tremaining: 896ms\n",
      "689:\tlearn: 31.6271069\ttotal: 1.99s\tremaining: 893ms\n",
      "690:\tlearn: 31.4257754\ttotal: 1.99s\tremaining: 890ms\n",
      "691:\tlearn: 31.3158018\ttotal: 1.99s\tremaining: 886ms\n",
      "692:\tlearn: 31.2062456\ttotal: 1.99s\tremaining: 883ms\n",
      "693:\tlearn: 31.1002943\ttotal: 2s\tremaining: 881ms\n",
      "694:\tlearn: 31.0204694\ttotal: 2s\tremaining: 878ms\n",
      "695:\tlearn: 30.8638326\ttotal: 2s\tremaining: 875ms\n",
      "696:\tlearn: 30.8558418\ttotal: 2s\tremaining: 872ms\n",
      "697:\tlearn: 30.7168233\ttotal: 2.01s\tremaining: 869ms\n",
      "698:\tlearn: 30.6741149\ttotal: 2.01s\tremaining: 866ms\n",
      "699:\tlearn: 30.5633505\ttotal: 2.01s\tremaining: 863ms\n",
      "700:\tlearn: 30.3980151\ttotal: 2.02s\tremaining: 860ms\n",
      "701:\tlearn: 30.3868882\ttotal: 2.02s\tremaining: 857ms\n",
      "702:\tlearn: 30.3095110\ttotal: 2.02s\tremaining: 854ms\n",
      "703:\tlearn: 30.2001626\ttotal: 2.02s\tremaining: 851ms\n",
      "704:\tlearn: 30.1086639\ttotal: 2.03s\tremaining: 848ms\n",
      "705:\tlearn: 30.0062050\ttotal: 2.03s\tremaining: 846ms\n",
      "706:\tlearn: 29.9366332\ttotal: 2.03s\tremaining: 843ms\n",
      "707:\tlearn: 29.8514157\ttotal: 2.04s\tremaining: 841ms\n",
      "708:\tlearn: 29.8410197\ttotal: 2.05s\tremaining: 840ms\n",
      "709:\tlearn: 29.7691296\ttotal: 2.05s\tremaining: 837ms\n",
      "710:\tlearn: 29.6347315\ttotal: 2.05s\tremaining: 834ms\n",
      "711:\tlearn: 29.5690771\ttotal: 2.05s\tremaining: 830ms\n",
      "712:\tlearn: 29.4717613\ttotal: 2.06s\tremaining: 828ms\n",
      "713:\tlearn: 29.3453955\ttotal: 2.06s\tremaining: 825ms\n",
      "714:\tlearn: 29.3183996\ttotal: 2.06s\tremaining: 822ms\n",
      "715:\tlearn: 29.2357029\ttotal: 2.06s\tremaining: 819ms\n",
      "716:\tlearn: 29.1493484\ttotal: 2.07s\tremaining: 816ms\n",
      "717:\tlearn: 29.1412750\ttotal: 2.07s\tremaining: 812ms\n",
      "718:\tlearn: 29.0633640\ttotal: 2.07s\tremaining: 809ms\n",
      "719:\tlearn: 29.0063752\ttotal: 2.07s\tremaining: 806ms\n",
      "720:\tlearn: 28.8895697\ttotal: 2.08s\tremaining: 803ms\n",
      "721:\tlearn: 28.8127439\ttotal: 2.08s\tremaining: 800ms\n",
      "722:\tlearn: 28.7979935\ttotal: 2.08s\tremaining: 798ms\n",
      "723:\tlearn: 28.7730564\ttotal: 2.08s\tremaining: 795ms\n",
      "724:\tlearn: 28.6841951\ttotal: 2.09s\tremaining: 791ms\n",
      "725:\tlearn: 28.6192690\ttotal: 2.09s\tremaining: 789ms\n",
      "726:\tlearn: 28.5382100\ttotal: 2.09s\tremaining: 786ms\n",
      "727:\tlearn: 28.4124604\ttotal: 2.1s\tremaining: 783ms\n",
      "728:\tlearn: 28.3992354\ttotal: 2.1s\tremaining: 780ms\n",
      "729:\tlearn: 28.2458739\ttotal: 2.1s\tremaining: 777ms\n",
      "730:\tlearn: 28.1698858\ttotal: 2.1s\tremaining: 774ms\n",
      "731:\tlearn: 28.0857240\ttotal: 2.11s\tremaining: 771ms\n",
      "732:\tlearn: 28.0631865\ttotal: 2.11s\tremaining: 768ms\n",
      "733:\tlearn: 27.9617138\ttotal: 2.11s\tremaining: 765ms\n",
      "734:\tlearn: 27.9296040\ttotal: 2.11s\tremaining: 762ms\n",
      "735:\tlearn: 27.8714544\ttotal: 2.12s\tremaining: 759ms\n",
      "736:\tlearn: 27.8468105\ttotal: 2.12s\tremaining: 755ms\n",
      "737:\tlearn: 27.7605180\ttotal: 2.12s\tremaining: 753ms\n",
      "738:\tlearn: 27.6731250\ttotal: 2.12s\tremaining: 750ms\n",
      "739:\tlearn: 27.6662586\ttotal: 2.12s\tremaining: 746ms\n",
      "740:\tlearn: 27.6319100\ttotal: 2.13s\tremaining: 743ms\n",
      "741:\tlearn: 27.5465757\ttotal: 2.13s\tremaining: 740ms\n",
      "742:\tlearn: 27.4710735\ttotal: 2.13s\tremaining: 737ms\n",
      "743:\tlearn: 27.4510659\ttotal: 2.13s\tremaining: 734ms\n",
      "744:\tlearn: 27.3748617\ttotal: 2.14s\tremaining: 731ms\n",
      "745:\tlearn: 27.3633452\ttotal: 2.14s\tremaining: 728ms\n",
      "746:\tlearn: 27.2959571\ttotal: 2.14s\tremaining: 725ms\n",
      "747:\tlearn: 27.1315947\ttotal: 2.14s\tremaining: 722ms\n",
      "748:\tlearn: 27.0550248\ttotal: 2.15s\tremaining: 719ms\n",
      "749:\tlearn: 27.0373435\ttotal: 2.15s\tremaining: 716ms\n",
      "750:\tlearn: 26.9726665\ttotal: 2.15s\tremaining: 713ms\n",
      "751:\tlearn: 26.9145554\ttotal: 2.15s\tremaining: 710ms\n",
      "752:\tlearn: 26.8976495\ttotal: 2.15s\tremaining: 707ms\n",
      "753:\tlearn: 26.8013163\ttotal: 2.16s\tremaining: 704ms\n",
      "754:\tlearn: 26.7203712\ttotal: 2.16s\tremaining: 701ms\n",
      "755:\tlearn: 26.5829005\ttotal: 2.16s\tremaining: 698ms\n",
      "756:\tlearn: 26.4324310\ttotal: 2.17s\tremaining: 696ms\n",
      "757:\tlearn: 26.2890218\ttotal: 2.17s\tremaining: 693ms\n",
      "758:\tlearn: 26.1965245\ttotal: 2.17s\tremaining: 690ms\n",
      "759:\tlearn: 26.1810870\ttotal: 2.17s\tremaining: 687ms\n",
      "760:\tlearn: 26.1187072\ttotal: 2.18s\tremaining: 684ms\n",
      "761:\tlearn: 26.0637705\ttotal: 2.18s\tremaining: 680ms\n",
      "762:\tlearn: 25.9562461\ttotal: 2.18s\tremaining: 678ms\n",
      "763:\tlearn: 25.8386943\ttotal: 2.19s\tremaining: 676ms\n",
      "764:\tlearn: 25.7790725\ttotal: 2.19s\tremaining: 673ms\n",
      "765:\tlearn: 25.6701106\ttotal: 2.19s\tremaining: 670ms\n",
      "766:\tlearn: 25.6362119\ttotal: 2.19s\tremaining: 667ms\n",
      "767:\tlearn: 25.6252040\ttotal: 2.2s\tremaining: 664ms\n",
      "768:\tlearn: 25.5249470\ttotal: 2.2s\tremaining: 660ms\n",
      "769:\tlearn: 25.4610308\ttotal: 2.2s\tremaining: 657ms\n",
      "770:\tlearn: 25.3338917\ttotal: 2.2s\tremaining: 655ms\n",
      "771:\tlearn: 25.2081591\ttotal: 2.21s\tremaining: 652ms\n",
      "772:\tlearn: 25.1976317\ttotal: 2.21s\tremaining: 649ms\n",
      "773:\tlearn: 25.1309682\ttotal: 2.21s\tremaining: 646ms\n",
      "774:\tlearn: 25.0198547\ttotal: 2.22s\tremaining: 643ms\n",
      "775:\tlearn: 24.9490229\ttotal: 2.22s\tremaining: 640ms\n",
      "776:\tlearn: 24.9028200\ttotal: 2.22s\tremaining: 638ms\n",
      "777:\tlearn: 24.8337886\ttotal: 2.23s\tremaining: 635ms\n",
      "778:\tlearn: 24.7433955\ttotal: 2.23s\tremaining: 633ms\n",
      "779:\tlearn: 24.6167855\ttotal: 2.23s\tremaining: 630ms\n",
      "780:\tlearn: 24.5516424\ttotal: 2.24s\tremaining: 628ms\n",
      "781:\tlearn: 24.3925316\ttotal: 2.24s\tremaining: 625ms\n",
      "782:\tlearn: 24.3473598\ttotal: 2.24s\tremaining: 622ms\n",
      "783:\tlearn: 24.2382596\ttotal: 2.25s\tremaining: 619ms\n",
      "784:\tlearn: 24.1741117\ttotal: 2.25s\tremaining: 616ms\n",
      "785:\tlearn: 24.1282632\ttotal: 2.25s\tremaining: 613ms\n",
      "786:\tlearn: 24.1150038\ttotal: 2.25s\tremaining: 610ms\n",
      "787:\tlearn: 24.0552315\ttotal: 2.26s\tremaining: 607ms\n",
      "788:\tlearn: 24.0020307\ttotal: 2.26s\tremaining: 604ms\n",
      "789:\tlearn: 23.9582172\ttotal: 2.26s\tremaining: 601ms\n",
      "790:\tlearn: 23.9466945\ttotal: 2.26s\tremaining: 598ms\n",
      "791:\tlearn: 23.9012494\ttotal: 2.27s\tremaining: 595ms\n",
      "792:\tlearn: 23.8902062\ttotal: 2.27s\tremaining: 592ms\n",
      "793:\tlearn: 23.8375677\ttotal: 2.27s\tremaining: 590ms\n",
      "794:\tlearn: 23.8275049\ttotal: 2.28s\tremaining: 587ms\n",
      "795:\tlearn: 23.7639978\ttotal: 2.28s\tremaining: 584ms\n",
      "796:\tlearn: 23.7210385\ttotal: 2.28s\tremaining: 581ms\n",
      "797:\tlearn: 23.7118867\ttotal: 2.29s\tremaining: 579ms\n",
      "798:\tlearn: 23.6210770\ttotal: 2.29s\tremaining: 576ms\n",
      "799:\tlearn: 23.5667973\ttotal: 2.29s\tremaining: 573ms\n",
      "800:\tlearn: 23.5093551\ttotal: 2.29s\tremaining: 570ms\n",
      "801:\tlearn: 23.4248240\ttotal: 2.3s\tremaining: 567ms\n",
      "802:\tlearn: 23.3851975\ttotal: 2.3s\tremaining: 564ms\n",
      "803:\tlearn: 23.2576151\ttotal: 2.3s\tremaining: 561ms\n",
      "804:\tlearn: 23.1403284\ttotal: 2.3s\tremaining: 558ms\n",
      "805:\tlearn: 23.0861220\ttotal: 2.31s\tremaining: 555ms\n",
      "806:\tlearn: 23.0179965\ttotal: 2.31s\tremaining: 552ms\n",
      "807:\tlearn: 22.9499510\ttotal: 2.31s\tremaining: 549ms\n",
      "808:\tlearn: 22.9093322\ttotal: 2.31s\tremaining: 546ms\n",
      "809:\tlearn: 22.8749288\ttotal: 2.32s\tremaining: 544ms\n",
      "810:\tlearn: 22.8082947\ttotal: 2.32s\tremaining: 541ms\n",
      "811:\tlearn: 22.7734708\ttotal: 2.32s\tremaining: 538ms\n",
      "812:\tlearn: 22.6526692\ttotal: 2.32s\tremaining: 535ms\n",
      "813:\tlearn: 22.5530242\ttotal: 2.33s\tremaining: 532ms\n",
      "814:\tlearn: 22.4717488\ttotal: 2.33s\tremaining: 528ms\n",
      "815:\tlearn: 22.4620780\ttotal: 2.33s\tremaining: 525ms\n",
      "816:\tlearn: 22.4023061\ttotal: 2.33s\tremaining: 523ms\n",
      "817:\tlearn: 22.3578971\ttotal: 2.33s\tremaining: 520ms\n",
      "818:\tlearn: 22.3087689\ttotal: 2.34s\tremaining: 517ms\n",
      "819:\tlearn: 22.3046658\ttotal: 2.34s\tremaining: 513ms\n",
      "820:\tlearn: 22.2330663\ttotal: 2.34s\tremaining: 510ms\n",
      "821:\tlearn: 22.1591095\ttotal: 2.34s\tremaining: 507ms\n",
      "822:\tlearn: 22.1550239\ttotal: 2.34s\tremaining: 504ms\n",
      "823:\tlearn: 22.1463899\ttotal: 2.34s\tremaining: 501ms\n",
      "824:\tlearn: 22.1315815\ttotal: 2.35s\tremaining: 498ms\n",
      "825:\tlearn: 22.0652590\ttotal: 2.35s\tremaining: 495ms\n",
      "826:\tlearn: 22.0221121\ttotal: 2.35s\tremaining: 492ms\n",
      "827:\tlearn: 21.9774501\ttotal: 2.35s\tremaining: 489ms\n",
      "828:\tlearn: 21.9395292\ttotal: 2.36s\tremaining: 486ms\n",
      "829:\tlearn: 21.8508549\ttotal: 2.36s\tremaining: 483ms\n",
      "830:\tlearn: 21.8190935\ttotal: 2.36s\tremaining: 481ms\n",
      "831:\tlearn: 21.8109670\ttotal: 2.37s\tremaining: 478ms\n",
      "832:\tlearn: 21.7578310\ttotal: 2.37s\tremaining: 475ms\n",
      "833:\tlearn: 21.6862934\ttotal: 2.37s\tremaining: 472ms\n",
      "834:\tlearn: 21.6036840\ttotal: 2.37s\tremaining: 469ms\n",
      "835:\tlearn: 21.5099448\ttotal: 2.38s\tremaining: 466ms\n",
      "836:\tlearn: 21.4677400\ttotal: 2.38s\tremaining: 463ms\n",
      "837:\tlearn: 21.4091690\ttotal: 2.38s\tremaining: 460ms\n",
      "838:\tlearn: 21.3466938\ttotal: 2.38s\tremaining: 457ms\n",
      "839:\tlearn: 21.2298144\ttotal: 2.38s\tremaining: 454ms\n",
      "840:\tlearn: 21.1270373\ttotal: 2.39s\tremaining: 452ms\n",
      "841:\tlearn: 21.0373314\ttotal: 2.39s\tremaining: 449ms\n",
      "842:\tlearn: 20.9835159\ttotal: 2.4s\tremaining: 446ms\n",
      "843:\tlearn: 20.8484600\ttotal: 2.4s\tremaining: 444ms\n",
      "844:\tlearn: 20.7891557\ttotal: 2.4s\tremaining: 441ms\n",
      "845:\tlearn: 20.7291399\ttotal: 2.4s\tremaining: 437ms\n",
      "846:\tlearn: 20.6849494\ttotal: 2.41s\tremaining: 435ms\n",
      "847:\tlearn: 20.6154963\ttotal: 2.41s\tremaining: 432ms\n",
      "848:\tlearn: 20.5405276\ttotal: 2.41s\tremaining: 429ms\n",
      "849:\tlearn: 20.5016669\ttotal: 2.41s\tremaining: 426ms\n",
      "850:\tlearn: 20.4700003\ttotal: 2.41s\tremaining: 422ms\n",
      "851:\tlearn: 20.4163286\ttotal: 2.42s\tremaining: 420ms\n",
      "852:\tlearn: 20.3832418\ttotal: 2.42s\tremaining: 417ms\n",
      "853:\tlearn: 20.3012184\ttotal: 2.42s\tremaining: 414ms\n",
      "854:\tlearn: 20.2920333\ttotal: 2.42s\tremaining: 411ms\n",
      "855:\tlearn: 20.2053869\ttotal: 2.43s\tremaining: 408ms\n",
      "856:\tlearn: 20.1658977\ttotal: 2.43s\tremaining: 405ms\n",
      "857:\tlearn: 20.1100216\ttotal: 2.43s\tremaining: 403ms\n",
      "858:\tlearn: 20.0083729\ttotal: 2.44s\tremaining: 400ms\n",
      "859:\tlearn: 19.9455311\ttotal: 2.44s\tremaining: 397ms\n",
      "860:\tlearn: 19.8796059\ttotal: 2.44s\tremaining: 394ms\n",
      "861:\tlearn: 19.8565398\ttotal: 2.44s\tremaining: 391ms\n",
      "862:\tlearn: 19.7320152\ttotal: 2.44s\tremaining: 388ms\n",
      "863:\tlearn: 19.6553629\ttotal: 2.45s\tremaining: 385ms\n",
      "864:\tlearn: 19.5653904\ttotal: 2.45s\tremaining: 382ms\n",
      "865:\tlearn: 19.5044019\ttotal: 2.45s\tremaining: 379ms\n",
      "866:\tlearn: 19.4952821\ttotal: 2.45s\tremaining: 376ms\n",
      "867:\tlearn: 19.4417196\ttotal: 2.46s\tremaining: 373ms\n",
      "868:\tlearn: 19.3928280\ttotal: 2.46s\tremaining: 370ms\n",
      "869:\tlearn: 19.3310543\ttotal: 2.46s\tremaining: 368ms\n",
      "870:\tlearn: 19.2860856\ttotal: 2.46s\tremaining: 365ms\n",
      "871:\tlearn: 19.1689820\ttotal: 2.46s\tremaining: 362ms\n",
      "872:\tlearn: 19.0656586\ttotal: 2.47s\tremaining: 359ms\n",
      "873:\tlearn: 19.0585347\ttotal: 2.47s\tremaining: 356ms\n",
      "874:\tlearn: 19.0124418\ttotal: 2.47s\tremaining: 353ms\n",
      "875:\tlearn: 18.9798186\ttotal: 2.47s\tremaining: 350ms\n",
      "876:\tlearn: 18.8896499\ttotal: 2.48s\tremaining: 347ms\n",
      "877:\tlearn: 18.8379639\ttotal: 2.48s\tremaining: 345ms\n",
      "878:\tlearn: 18.8312106\ttotal: 2.48s\tremaining: 342ms\n",
      "879:\tlearn: 18.7718969\ttotal: 2.48s\tremaining: 339ms\n",
      "880:\tlearn: 18.7453473\ttotal: 2.49s\tremaining: 336ms\n",
      "881:\tlearn: 18.6851317\ttotal: 2.49s\tremaining: 333ms\n",
      "882:\tlearn: 18.5988650\ttotal: 2.49s\tremaining: 330ms\n",
      "883:\tlearn: 18.5525116\ttotal: 2.49s\tremaining: 327ms\n",
      "884:\tlearn: 18.4964362\ttotal: 2.49s\tremaining: 324ms\n",
      "885:\tlearn: 18.4542378\ttotal: 2.5s\tremaining: 321ms\n",
      "886:\tlearn: 18.4053368\ttotal: 2.5s\tremaining: 318ms\n",
      "887:\tlearn: 18.3676513\ttotal: 2.5s\tremaining: 316ms\n",
      "888:\tlearn: 18.3048839\ttotal: 2.5s\tremaining: 313ms\n",
      "889:\tlearn: 18.2501678\ttotal: 2.5s\tremaining: 310ms\n",
      "890:\tlearn: 18.2421410\ttotal: 2.51s\tremaining: 307ms\n",
      "891:\tlearn: 18.1820355\ttotal: 2.51s\tremaining: 304ms\n",
      "892:\tlearn: 18.1045997\ttotal: 2.52s\tremaining: 301ms\n",
      "893:\tlearn: 18.0516539\ttotal: 2.52s\tremaining: 299ms\n",
      "894:\tlearn: 17.9507407\ttotal: 2.52s\tremaining: 296ms\n",
      "895:\tlearn: 17.8656394\ttotal: 2.52s\tremaining: 293ms\n",
      "896:\tlearn: 17.8130004\ttotal: 2.54s\tremaining: 291ms\n",
      "897:\tlearn: 17.8056685\ttotal: 2.54s\tremaining: 289ms\n",
      "898:\tlearn: 17.7479301\ttotal: 2.55s\tremaining: 286ms\n",
      "899:\tlearn: 17.6628775\ttotal: 2.55s\tremaining: 284ms\n",
      "900:\tlearn: 17.6036263\ttotal: 2.56s\tremaining: 281ms\n",
      "901:\tlearn: 17.5548725\ttotal: 2.57s\tremaining: 279ms\n",
      "902:\tlearn: 17.5112982\ttotal: 2.58s\tremaining: 277ms\n",
      "903:\tlearn: 17.4337097\ttotal: 2.58s\tremaining: 274ms\n",
      "904:\tlearn: 17.3438812\ttotal: 2.59s\tremaining: 272ms\n",
      "905:\tlearn: 17.2978952\ttotal: 2.59s\tremaining: 269ms\n",
      "906:\tlearn: 17.2705120\ttotal: 2.6s\tremaining: 266ms\n",
      "907:\tlearn: 17.2197843\ttotal: 2.6s\tremaining: 263ms\n",
      "908:\tlearn: 17.1672918\ttotal: 2.61s\tremaining: 261ms\n",
      "909:\tlearn: 17.0962813\ttotal: 2.61s\tremaining: 258ms\n",
      "910:\tlearn: 17.0367884\ttotal: 2.62s\tremaining: 256ms\n",
      "911:\tlearn: 16.9995434\ttotal: 2.62s\tremaining: 253ms\n",
      "912:\tlearn: 16.9503108\ttotal: 2.63s\tremaining: 250ms\n",
      "913:\tlearn: 16.8634821\ttotal: 2.63s\tremaining: 248ms\n",
      "914:\tlearn: 16.8562342\ttotal: 2.64s\tremaining: 245ms\n",
      "915:\tlearn: 16.8266675\ttotal: 2.65s\tremaining: 243ms\n",
      "916:\tlearn: 16.8202756\ttotal: 2.65s\tremaining: 240ms\n",
      "917:\tlearn: 16.8140117\ttotal: 2.66s\tremaining: 238ms\n",
      "918:\tlearn: 16.7657793\ttotal: 2.66s\tremaining: 235ms\n",
      "919:\tlearn: 16.7455489\ttotal: 2.67s\tremaining: 232ms\n",
      "920:\tlearn: 16.7350234\ttotal: 2.67s\tremaining: 229ms\n",
      "921:\tlearn: 16.6764784\ttotal: 2.68s\tremaining: 227ms\n",
      "922:\tlearn: 16.6413683\ttotal: 2.69s\tremaining: 224ms\n",
      "923:\tlearn: 16.6313216\ttotal: 2.69s\tremaining: 221ms\n",
      "924:\tlearn: 16.5737890\ttotal: 2.7s\tremaining: 219ms\n",
      "925:\tlearn: 16.5612564\ttotal: 2.7s\tremaining: 216ms\n",
      "926:\tlearn: 16.5194103\ttotal: 2.7s\tremaining: 213ms\n",
      "927:\tlearn: 16.4774875\ttotal: 2.71s\tremaining: 210ms\n",
      "928:\tlearn: 16.4716862\ttotal: 2.71s\tremaining: 207ms\n",
      "929:\tlearn: 16.4373752\ttotal: 2.72s\tremaining: 205ms\n",
      "930:\tlearn: 16.4285377\ttotal: 2.72s\tremaining: 202ms\n",
      "931:\tlearn: 16.3673869\ttotal: 2.73s\tremaining: 199ms\n",
      "932:\tlearn: 16.3185470\ttotal: 2.73s\tremaining: 196ms\n",
      "933:\tlearn: 16.2631467\ttotal: 2.73s\tremaining: 193ms\n",
      "934:\tlearn: 16.1934975\ttotal: 2.74s\tremaining: 190ms\n",
      "935:\tlearn: 16.1884481\ttotal: 2.75s\tremaining: 188ms\n",
      "936:\tlearn: 16.1500024\ttotal: 2.75s\tremaining: 185ms\n",
      "937:\tlearn: 16.1409804\ttotal: 2.75s\tremaining: 182ms\n",
      "938:\tlearn: 16.0683587\ttotal: 2.76s\tremaining: 179ms\n",
      "939:\tlearn: 15.9809030\ttotal: 2.76s\tremaining: 176ms\n",
      "940:\tlearn: 15.8978202\ttotal: 2.77s\tremaining: 174ms\n",
      "941:\tlearn: 15.8709900\ttotal: 2.77s\tremaining: 171ms\n",
      "942:\tlearn: 15.8344018\ttotal: 2.78s\tremaining: 168ms\n",
      "943:\tlearn: 15.8295482\ttotal: 2.78s\tremaining: 165ms\n",
      "944:\tlearn: 15.7744973\ttotal: 2.79s\tremaining: 162ms\n",
      "945:\tlearn: 15.7305450\ttotal: 2.79s\tremaining: 159ms\n",
      "946:\tlearn: 15.6857434\ttotal: 2.79s\tremaining: 156ms\n",
      "947:\tlearn: 15.6591016\ttotal: 2.8s\tremaining: 154ms\n",
      "948:\tlearn: 15.6314256\ttotal: 2.81s\tremaining: 151ms\n",
      "949:\tlearn: 15.5788777\ttotal: 2.81s\tremaining: 148ms\n",
      "950:\tlearn: 15.5325554\ttotal: 2.81s\tremaining: 145ms\n",
      "951:\tlearn: 15.4890930\ttotal: 2.82s\tremaining: 142ms\n",
      "952:\tlearn: 15.4263779\ttotal: 2.82s\tremaining: 139ms\n",
      "953:\tlearn: 15.3892307\ttotal: 2.82s\tremaining: 136ms\n",
      "954:\tlearn: 15.3531641\ttotal: 2.83s\tremaining: 133ms\n",
      "955:\tlearn: 15.3172544\ttotal: 2.83s\tremaining: 130ms\n",
      "956:\tlearn: 15.2722481\ttotal: 2.83s\tremaining: 127ms\n",
      "957:\tlearn: 15.2509946\ttotal: 2.84s\tremaining: 124ms\n",
      "958:\tlearn: 15.2106080\ttotal: 2.84s\tremaining: 121ms\n",
      "959:\tlearn: 15.1550705\ttotal: 2.84s\tremaining: 118ms\n",
      "960:\tlearn: 15.1198927\ttotal: 2.85s\tremaining: 115ms\n",
      "961:\tlearn: 15.0521121\ttotal: 2.85s\tremaining: 113ms\n",
      "962:\tlearn: 15.0138282\ttotal: 2.85s\tremaining: 110ms\n",
      "963:\tlearn: 14.9511473\ttotal: 2.86s\tremaining: 107ms\n",
      "964:\tlearn: 14.9013556\ttotal: 2.86s\tremaining: 104ms\n",
      "965:\tlearn: 14.8491591\ttotal: 2.86s\tremaining: 101ms\n",
      "966:\tlearn: 14.7846364\ttotal: 2.87s\tremaining: 97.9ms\n",
      "967:\tlearn: 14.7378076\ttotal: 2.87s\tremaining: 95ms\n",
      "968:\tlearn: 14.6963646\ttotal: 2.88s\tremaining: 92ms\n",
      "969:\tlearn: 14.6368320\ttotal: 2.88s\tremaining: 89ms\n",
      "970:\tlearn: 14.5641432\ttotal: 2.88s\tremaining: 86ms\n",
      "971:\tlearn: 14.5009366\ttotal: 2.89s\tremaining: 83.2ms\n",
      "972:\tlearn: 14.4934257\ttotal: 2.9s\tremaining: 80.3ms\n",
      "973:\tlearn: 14.4521224\ttotal: 2.9s\tremaining: 77.5ms\n",
      "974:\tlearn: 14.4111253\ttotal: 2.91s\tremaining: 74.5ms\n",
      "975:\tlearn: 14.3698632\ttotal: 2.91s\tremaining: 71.6ms\n",
      "976:\tlearn: 14.3591191\ttotal: 2.92s\tremaining: 68.6ms\n",
      "977:\tlearn: 14.3269189\ttotal: 2.92s\tremaining: 65.7ms\n",
      "978:\tlearn: 14.2789397\ttotal: 2.92s\tremaining: 62.7ms\n",
      "979:\tlearn: 14.2216384\ttotal: 2.93s\tremaining: 59.8ms\n",
      "980:\tlearn: 14.1751644\ttotal: 2.93s\tremaining: 56.8ms\n",
      "981:\tlearn: 14.1256092\ttotal: 2.94s\tremaining: 53.9ms\n",
      "982:\tlearn: 14.0731502\ttotal: 2.94s\tremaining: 50.9ms\n",
      "983:\tlearn: 14.0117995\ttotal: 2.95s\tremaining: 47.9ms\n",
      "984:\tlearn: 13.9841830\ttotal: 2.95s\tremaining: 45ms\n",
      "985:\tlearn: 13.9230955\ttotal: 2.96s\tremaining: 42ms\n",
      "986:\tlearn: 13.8746811\ttotal: 2.96s\tremaining: 39ms\n",
      "987:\tlearn: 13.8092980\ttotal: 2.97s\tremaining: 36ms\n",
      "988:\tlearn: 13.7921958\ttotal: 2.97s\tremaining: 33.1ms\n",
      "989:\tlearn: 13.7424480\ttotal: 2.98s\tremaining: 30.1ms\n",
      "990:\tlearn: 13.6967360\ttotal: 2.99s\tremaining: 27.1ms\n",
      "991:\tlearn: 13.6709582\ttotal: 2.99s\tremaining: 24.1ms\n",
      "992:\tlearn: 13.6094706\ttotal: 3s\tremaining: 21.1ms\n",
      "993:\tlearn: 13.5641205\ttotal: 3s\tremaining: 18.1ms\n",
      "994:\tlearn: 13.5192775\ttotal: 3.01s\tremaining: 15.1ms\n",
      "995:\tlearn: 13.4902451\ttotal: 3.01s\tremaining: 12.1ms\n",
      "996:\tlearn: 13.4806052\ttotal: 3.02s\tremaining: 9.08ms\n",
      "997:\tlearn: 13.4282445\ttotal: 3.02s\tremaining: 6.05ms\n",
      "998:\tlearn: 13.4020177\ttotal: 3.03s\tremaining: 3.03ms\n",
      "999:\tlearn: 13.3781902\ttotal: 3.03s\tremaining: 0us\n"
     ]
    }
   ],
   "source": [
    "catb = CatBoostRegressor()\n",
    "catb_model = catb.fit(X_train, y_train)"
   ]
  },
  {
   "cell_type": "markdown",
   "id": "074f2e2e-1fa3-470f-adb4-cff4144f2ef4",
   "metadata": {},
   "source": [
    "## Predict"
   ]
  },
  {
   "cell_type": "code",
   "execution_count": 107,
   "id": "584beca9-fef5-4cb1-8169-215aca36634b",
   "metadata": {},
   "outputs": [
    {
     "data": {
      "text/plain": [
       "350.2683163098795"
      ]
     },
     "execution_count": 107,
     "metadata": {},
     "output_type": "execute_result"
    }
   ],
   "source": [
    "y_pred = catb_model.predict(X_test)\n",
    "np.sqrt(mean_squared_error(y_test, y_pred))"
   ]
  },
  {
   "cell_type": "markdown",
   "id": "204c31ef-3751-4638-b7fa-ac4a44a1121c",
   "metadata": {},
   "source": [
    "## Model Tuning"
   ]
  },
  {
   "cell_type": "code",
   "execution_count": 108,
   "id": "9e59b482-5ef4-4705-a1b1-20a66118023e",
   "metadata": {},
   "outputs": [],
   "source": [
    "catb_grid = {\n",
    "    'iterations': [200,500,1000,2000],\n",
    "    'learning_rate': [0.01, 0.03, 0.05, 0.1],\n",
    "    'depth': [3,4,5,6,7,8] }"
   ]
  },
  {
   "cell_type": "code",
   "execution_count": 110,
   "id": "9f4ccea0-114b-4728-bd14-1f9962b46a89",
   "metadata": {},
   "outputs": [],
   "source": [
    "catb = CatBoostRegressor()\n",
    "catb_cv_model = GridSearchCV(catb, \n",
    "                             catb_grid, cv=5,\n",
    "                             n_jobs = -1,\n",
    "                             verbose = 2)"
   ]
  },
  {
   "cell_type": "code",
   "execution_count": null,
   "id": "a50425fa-4bfa-4635-af32-595fc4e3e9f8",
   "metadata": {},
   "outputs": [
    {
     "name": "stdout",
     "output_type": "stream",
     "text": [
      "Fitting 5 folds for each of 96 candidates, totalling 480 fits\n"
     ]
    }
   ],
   "source": [
    "catb_cv_model.fit(X_train, y_train)"
   ]
  },
  {
   "cell_type": "code",
   "execution_count": null,
   "id": "d191d27b-9581-4643-8d46-fd8fbad84946",
   "metadata": {},
   "outputs": [],
   "source": [
    "catb_cv_model.best_params_"
   ]
  },
  {
   "cell_type": "code",
   "execution_count": null,
   "id": "9027ed1c-a747-4b40-830b-a92bd60d559f",
   "metadata": {},
   "outputs": [],
   "source": [
    "catb_tuned = CatBoostRegressor(iterations = 200, \n",
    "                               learning_rate = 0.01, \n",
    "                               depth = 8)\n",
    "\n",
    "catb_tuned = catb_tuned.fit(X_train,y_train)"
   ]
  },
  {
   "cell_type": "code",
   "execution_count": null,
   "id": "8b33063e-3bfe-4c72-8412-fafb217dacc2",
   "metadata": {},
   "outputs": [],
   "source": [
    "y_pred = catb_tuned.predict(X_test)\n",
    "np.sqrt(mean_squared_error(y_test, y_pred))"
   ]
  },
  {
   "cell_type": "code",
   "execution_count": null,
   "id": "327e63b8-1d48-48c7-8c94-0d739946735f",
   "metadata": {},
   "outputs": [],
   "source": []
  }
 ],
 "metadata": {
  "kernelspec": {
   "display_name": "Python 3",
   "language": "python",
   "name": "python3"
  },
  "language_info": {
   "codemirror_mode": {
    "name": "ipython",
    "version": 3
   },
   "file_extension": ".py",
   "mimetype": "text/x-python",
   "name": "python",
   "nbconvert_exporter": "python",
   "pygments_lexer": "ipython3",
   "version": "3.8.8"
  }
 },
 "nbformat": 4,
 "nbformat_minor": 5
}
