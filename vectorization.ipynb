{
  "nbformat": 4,
  "nbformat_minor": 0,
  "metadata": {
    "colab": {
      "name": "vectorization.ipynb",
      "provenance": []
    },
    "kernelspec": {
      "name": "python3",
      "display_name": "Python 3"
    },
    "language_info": {
      "name": "python"
    }
  },
  "cells": [
    {
      "cell_type": "code",
      "metadata": {
        "id": "BJ3Bq4XFdMWN"
      },
      "source": [
        "import numpy as np"
      ],
      "execution_count": 1,
      "outputs": []
    },
    {
      "cell_type": "code",
      "metadata": {
        "colab": {
          "base_uri": "https://localhost:8080/"
        },
        "id": "ddpdLzTsdN_p",
        "outputId": "c14fc0cf-f8ef-4cf4-83ae-fbe7c6aad0f0"
      },
      "source": [
        "a = np.array([1,2,3,4])\n",
        "a"
      ],
      "execution_count": 2,
      "outputs": [
        {
          "output_type": "execute_result",
          "data": {
            "text/plain": [
              "array([1, 2, 3, 4])"
            ]
          },
          "metadata": {},
          "execution_count": 2
        }
      ]
    },
    {
      "cell_type": "code",
      "metadata": {
        "id": "fo8yyA5ldQqz"
      },
      "source": [
        "import time"
      ],
      "execution_count": 3,
      "outputs": []
    },
    {
      "cell_type": "code",
      "metadata": {
        "colab": {
          "base_uri": "https://localhost:8080/"
        },
        "id": "12rCSnoBdTOA",
        "outputId": "34fad5c0-5f7c-443b-c346-bea4e17bb6ce"
      },
      "source": [
        "a = np.random.rand(1000000)\n",
        "b = np.random.rand(1000000)\n",
        "\n",
        "tic = time.time()\n",
        "c = np.dot(a,b)\n",
        "toc = time.time()\n",
        "\n",
        "print(\"Vectorized version:\" + str(1000*(toc-tic)) + \"ms\")\n"
      ],
      "execution_count": 4,
      "outputs": [
        {
          "output_type": "stream",
          "name": "stdout",
          "text": [
            "Vectorized version:1.184225082397461ms\n"
          ]
        }
      ]
    },
    {
      "cell_type": "code",
      "metadata": {
        "colab": {
          "base_uri": "https://localhost:8080/"
        },
        "id": "CRoR0wnkdnLg",
        "outputId": "3ba9a34c-a95b-429a-94d2-6e586837cc88"
      },
      "source": [
        "a = np.random.rand(1000000)\n",
        "b = np.random.rand(1000000)\n",
        "\n",
        "tic = time.time()\n",
        "c = np.dot(a,b)\n",
        "toc = time.time()\n",
        "print(c)\n",
        "print(\"Vectorized version:\" + str(1000*(toc-tic)) + \"ms\")\n",
        "\n",
        "c = 0 \n",
        "tic = time.time()\n",
        "for i in range(1000000):\n",
        "  c += a[i]*b[i]\n",
        "toc = time.time()\n",
        "\n",
        "print(c)\n",
        "print(\"fOR loop:\" + str(1000*(toc-tic)) + \"ms\")"
      ],
      "execution_count": 11,
      "outputs": [
        {
          "output_type": "stream",
          "name": "stdout",
          "text": [
            "250364.23710468723\n",
            "Vectorized version:4.837274551391602ms\n",
            "250364.23710469747\n",
            "fOR loop:716.353178024292ms\n"
          ]
        }
      ]
    },
    {
      "cell_type": "markdown",
      "metadata": {
        "id": "wFSCd0Flm6r9"
      },
      "source": [
        "\n",
        "\n",
        "---\n",
        "\n",
        "\n",
        "**Broadcasting in Python**\n",
        "\n",
        "\n",
        "\n",
        "\n",
        "\n",
        "\n",
        "\n"
      ]
    },
    {
      "cell_type": "markdown",
      "metadata": {
        "id": "Lv1pKdfoyTCn"
      },
      "source": [
        "Calories from CarbsiProteins,Fats in 100g of differed foods:"
      ]
    },
    {
      "cell_type": "code",
      "metadata": {
        "colab": {
          "base_uri": "https://localhost:8080/"
        },
        "id": "_mVmWe9onBKb",
        "outputId": "d29b2b1e-2d64-4f35-9495-8335e8d60f4f"
      },
      "source": [
        "import numpy as np\n",
        "\n",
        "A = np.array([[56.0, 0.0, 4.4, 68.0],\n",
        "              [1.2,104.0,52.0,8.0],\n",
        "              [1.8,135.0,99.0,0.9]])\n",
        "print(A)"
      ],
      "execution_count": 12,
      "outputs": [
        {
          "output_type": "stream",
          "name": "stdout",
          "text": [
            "[[ 56.    0.    4.4  68. ]\n",
            " [  1.2 104.   52.    8. ]\n",
            " [  1.8 135.   99.    0.9]]\n"
          ]
        }
      ]
    },
    {
      "cell_type": "code",
      "metadata": {
        "colab": {
          "base_uri": "https://localhost:8080/"
        },
        "id": "VIzwDu-JxQcK",
        "outputId": "2b5e289a-e992-4242-ce29-07e7bfc871dd"
      },
      "source": [
        "cal = A.sum(axis=0)\n",
        "cal"
      ],
      "execution_count": 13,
      "outputs": [
        {
          "output_type": "execute_result",
          "data": {
            "text/plain": [
              "array([ 59. , 239. , 155.4,  76.9])"
            ]
          },
          "metadata": {},
          "execution_count": 13
        }
      ]
    },
    {
      "cell_type": "code",
      "metadata": {
        "colab": {
          "base_uri": "https://localhost:8080/"
        },
        "id": "9A6gdlnNxpie",
        "outputId": "bea6b42c-1efa-4629-dc23-40a1187ced37"
      },
      "source": [
        "percentage = 100*A/cal.reshape(1,4)\n",
        "percentage"
      ],
      "execution_count": 15,
      "outputs": [
        {
          "output_type": "execute_result",
          "data": {
            "text/plain": [
              "array([[94.91525424,  0.        ,  2.83140283, 88.42652796],\n",
              "       [ 2.03389831, 43.51464435, 33.46203346, 10.40312094],\n",
              "       [ 3.05084746, 56.48535565, 63.70656371,  1.17035111]])"
            ]
          },
          "metadata": {},
          "execution_count": 15
        }
      ]
    },
    {
      "cell_type": "markdown",
      "metadata": {
        "id": "LH9-b7l-0Xor"
      },
      "source": [
        "A Note on Python/Numpy Vectors"
      ]
    },
    {
      "cell_type": "code",
      "metadata": {
        "colab": {
          "base_uri": "https://localhost:8080/"
        },
        "id": "RCNRE4Ka0Sj-",
        "outputId": "398c93c7-9fce-4997-faac-dac66690b5b2"
      },
      "source": [
        "a = np.random.randn(5)\n",
        "a"
      ],
      "execution_count": 18,
      "outputs": [
        {
          "output_type": "execute_result",
          "data": {
            "text/plain": [
              "array([ 0.02311871, -0.54730493, -0.18109   , -0.21914135,  0.01425169])"
            ]
          },
          "metadata": {},
          "execution_count": 18
        }
      ]
    },
    {
      "cell_type": "code",
      "metadata": {
        "colab": {
          "base_uri": "https://localhost:8080/"
        },
        "id": "Ymaa_88S0c3N",
        "outputId": "4e5818e3-3542-4954-d4fb-aee22de75446"
      },
      "source": [
        "a.shape"
      ],
      "execution_count": 19,
      "outputs": [
        {
          "output_type": "execute_result",
          "data": {
            "text/plain": [
              "(5,)"
            ]
          },
          "metadata": {},
          "execution_count": 19
        }
      ]
    },
    {
      "cell_type": "code",
      "metadata": {
        "colab": {
          "base_uri": "https://localhost:8080/"
        },
        "id": "NQ6OShpN0gZd",
        "outputId": "cf621739-374e-4c5d-d62f-ae0a8b9296ec"
      },
      "source": [
        "a.T"
      ],
      "execution_count": 20,
      "outputs": [
        {
          "output_type": "execute_result",
          "data": {
            "text/plain": [
              "array([ 0.02311871, -0.54730493, -0.18109   , -0.21914135,  0.01425169])"
            ]
          },
          "metadata": {},
          "execution_count": 20
        }
      ]
    },
    {
      "cell_type": "code",
      "metadata": {
        "colab": {
          "base_uri": "https://localhost:8080/"
        },
        "id": "Y_J-8aZ10htW",
        "outputId": "9bda8545-0e90-4f77-f1d1-47446c4ab922"
      },
      "source": [
        "np.dot(a,a.T)"
      ],
      "execution_count": 21,
      "outputs": [
        {
          "output_type": "execute_result",
          "data": {
            "text/plain": [
              "0.38109679313215766"
            ]
          },
          "metadata": {},
          "execution_count": 21
        }
      ]
    },
    {
      "cell_type": "code",
      "metadata": {
        "colab": {
          "base_uri": "https://localhost:8080/"
        },
        "id": "NFzVtiZJ0mcH",
        "outputId": "c8fc79dd-da17-4864-958d-4c1d1326bcc3"
      },
      "source": [
        "a = np.random.randn(5,1)\n",
        "a"
      ],
      "execution_count": 22,
      "outputs": [
        {
          "output_type": "execute_result",
          "data": {
            "text/plain": [
              "array([[-1.74528167],\n",
              "       [-0.65670061],\n",
              "       [ 0.23395027],\n",
              "       [ 1.63651443],\n",
              "       [-2.03842855]])"
            ]
          },
          "metadata": {},
          "execution_count": 22
        }
      ]
    },
    {
      "cell_type": "code",
      "metadata": {
        "colab": {
          "base_uri": "https://localhost:8080/"
        },
        "id": "8XHe3pq10uW1",
        "outputId": "72d98f00-aa1b-4273-d169-4892c457dc3f"
      },
      "source": [
        "a.T"
      ],
      "execution_count": 23,
      "outputs": [
        {
          "output_type": "execute_result",
          "data": {
            "text/plain": [
              "array([[-1.74528167, -0.65670061,  0.23395027,  1.63651443, -2.03842855]])"
            ]
          },
          "metadata": {},
          "execution_count": 23
        }
      ]
    },
    {
      "cell_type": "code",
      "metadata": {
        "id": "MbbZMPS20v7e"
      },
      "source": [
        ""
      ],
      "execution_count": null,
      "outputs": []
    }
  ]
}